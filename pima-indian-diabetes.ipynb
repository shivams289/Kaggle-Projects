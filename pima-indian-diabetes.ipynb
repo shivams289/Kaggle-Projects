{
 "cells": [
  {
   "cell_type": "code",
   "execution_count": null,
   "id": "christian-protection",
   "metadata": {
    "papermill": {
     "duration": 0.014284,
     "end_time": "2021-05-24T10:59:29.976564",
     "exception": false,
     "start_time": "2021-05-24T10:59:29.962280",
     "status": "completed"
    },
    "tags": []
   },
   "outputs": [],
   "source": []
  },
  {
   "cell_type": "code",
   "execution_count": 1,
   "id": "worst-associate",
   "metadata": {
    "_cell_guid": "b1076dfc-b9ad-4769-8c92-a6c4dae69d19",
    "_uuid": "8f2839f25d086af736a60e9eeb907d3b93b6e0e5",
    "execution": {
     "iopub.execute_input": "2021-05-24T10:59:30.012211Z",
     "iopub.status.busy": "2021-05-24T10:59:30.011634Z",
     "iopub.status.idle": "2021-05-24T10:59:30.024169Z",
     "shell.execute_reply": "2021-05-24T10:59:30.023271Z"
    },
    "papermill": {
     "duration": 0.034575,
     "end_time": "2021-05-24T10:59:30.024322",
     "exception": false,
     "start_time": "2021-05-24T10:59:29.989747",
     "status": "completed"
    },
    "tags": []
   },
   "outputs": [
    {
     "name": "stdout",
     "output_type": "stream",
     "text": [
      "/kaggle/input/pima-indians-diabetes-database/diabetes.csv\n"
     ]
    }
   ],
   "source": [
    "# This Python 3 environment comes with many helpful analytics libraries installed\n",
    "# It is defined by the kaggle/python Docker image: https://github.com/kaggle/docker-python\n",
    "# For example, here's several helpful packages to load\n",
    "\n",
    "import numpy as np # linear algebra\n",
    "import pandas as pd # data processing, CSV file I/O (e.g. pd.read_csv)\n",
    "\n",
    "# Input data files are available in the read-only \"../input/\" directory\n",
    "# For example, running this (by clicking run or pressing Shift+Enter) will list all files under the input directory\n",
    "\n",
    "import os\n",
    "for dirname, _, filenames in os.walk('/kaggle/input'):\n",
    "    for filename in filenames:\n",
    "        print(os.path.join(dirname, filename))\n",
    "\n",
    "# You can write up to 20GB to the current directory (/kaggle/working/) that gets preserved as output when you create a version using \"Save & Run All\" \n",
    "# You can also write temporary files to /kaggle/temp/, but they won't be saved outside of the current session"
   ]
  },
  {
   "cell_type": "code",
   "execution_count": 2,
   "id": "instructional-detector",
   "metadata": {
    "execution": {
     "iopub.execute_input": "2021-05-24T10:59:30.055956Z",
     "iopub.status.busy": "2021-05-24T10:59:30.053799Z",
     "iopub.status.idle": "2021-05-24T10:59:30.069551Z",
     "shell.execute_reply": "2021-05-24T10:59:30.068914Z"
    },
    "papermill": {
     "duration": 0.031521,
     "end_time": "2021-05-24T10:59:30.069692",
     "exception": false,
     "start_time": "2021-05-24T10:59:30.038171",
     "status": "completed"
    },
    "tags": []
   },
   "outputs": [],
   "source": [
    "filepath=\"../input/pima-indians-diabetes-database/diabetes.csv\"\n",
    "diab_data=pd.read_csv(filepath)"
   ]
  },
  {
   "cell_type": "code",
   "execution_count": 3,
   "id": "second-morocco",
   "metadata": {
    "execution": {
     "iopub.execute_input": "2021-05-24T10:59:30.107551Z",
     "iopub.status.busy": "2021-05-24T10:59:30.106788Z",
     "iopub.status.idle": "2021-05-24T10:59:30.124702Z",
     "shell.execute_reply": "2021-05-24T10:59:30.125254Z"
    },
    "papermill": {
     "duration": 0.04195,
     "end_time": "2021-05-24T10:59:30.125413",
     "exception": false,
     "start_time": "2021-05-24T10:59:30.083463",
     "status": "completed"
    },
    "tags": []
   },
   "outputs": [
    {
     "data": {
      "text/html": [
       "<div>\n",
       "<style scoped>\n",
       "    .dataframe tbody tr th:only-of-type {\n",
       "        vertical-align: middle;\n",
       "    }\n",
       "\n",
       "    .dataframe tbody tr th {\n",
       "        vertical-align: top;\n",
       "    }\n",
       "\n",
       "    .dataframe thead th {\n",
       "        text-align: right;\n",
       "    }\n",
       "</style>\n",
       "<table border=\"1\" class=\"dataframe\">\n",
       "  <thead>\n",
       "    <tr style=\"text-align: right;\">\n",
       "      <th></th>\n",
       "      <th>Pregnancies</th>\n",
       "      <th>Glucose</th>\n",
       "      <th>BloodPressure</th>\n",
       "      <th>SkinThickness</th>\n",
       "      <th>Insulin</th>\n",
       "      <th>BMI</th>\n",
       "      <th>DiabetesPedigreeFunction</th>\n",
       "      <th>Age</th>\n",
       "      <th>Outcome</th>\n",
       "    </tr>\n",
       "  </thead>\n",
       "  <tbody>\n",
       "    <tr>\n",
       "      <th>0</th>\n",
       "      <td>6</td>\n",
       "      <td>148</td>\n",
       "      <td>72</td>\n",
       "      <td>35</td>\n",
       "      <td>0</td>\n",
       "      <td>33.6</td>\n",
       "      <td>0.627</td>\n",
       "      <td>50</td>\n",
       "      <td>1</td>\n",
       "    </tr>\n",
       "    <tr>\n",
       "      <th>1</th>\n",
       "      <td>1</td>\n",
       "      <td>85</td>\n",
       "      <td>66</td>\n",
       "      <td>29</td>\n",
       "      <td>0</td>\n",
       "      <td>26.6</td>\n",
       "      <td>0.351</td>\n",
       "      <td>31</td>\n",
       "      <td>0</td>\n",
       "    </tr>\n",
       "    <tr>\n",
       "      <th>2</th>\n",
       "      <td>8</td>\n",
       "      <td>183</td>\n",
       "      <td>64</td>\n",
       "      <td>0</td>\n",
       "      <td>0</td>\n",
       "      <td>23.3</td>\n",
       "      <td>0.672</td>\n",
       "      <td>32</td>\n",
       "      <td>1</td>\n",
       "    </tr>\n",
       "    <tr>\n",
       "      <th>3</th>\n",
       "      <td>1</td>\n",
       "      <td>89</td>\n",
       "      <td>66</td>\n",
       "      <td>23</td>\n",
       "      <td>94</td>\n",
       "      <td>28.1</td>\n",
       "      <td>0.167</td>\n",
       "      <td>21</td>\n",
       "      <td>0</td>\n",
       "    </tr>\n",
       "    <tr>\n",
       "      <th>4</th>\n",
       "      <td>0</td>\n",
       "      <td>137</td>\n",
       "      <td>40</td>\n",
       "      <td>35</td>\n",
       "      <td>168</td>\n",
       "      <td>43.1</td>\n",
       "      <td>2.288</td>\n",
       "      <td>33</td>\n",
       "      <td>1</td>\n",
       "    </tr>\n",
       "  </tbody>\n",
       "</table>\n",
       "</div>"
      ],
      "text/plain": [
       "   Pregnancies  Glucose  BloodPressure  SkinThickness  Insulin   BMI  \\\n",
       "0            6      148             72             35        0  33.6   \n",
       "1            1       85             66             29        0  26.6   \n",
       "2            8      183             64              0        0  23.3   \n",
       "3            1       89             66             23       94  28.1   \n",
       "4            0      137             40             35      168  43.1   \n",
       "\n",
       "   DiabetesPedigreeFunction  Age  Outcome  \n",
       "0                     0.627   50        1  \n",
       "1                     0.351   31        0  \n",
       "2                     0.672   32        1  \n",
       "3                     0.167   21        0  \n",
       "4                     2.288   33        1  "
      ]
     },
     "execution_count": 3,
     "metadata": {},
     "output_type": "execute_result"
    }
   ],
   "source": [
    "diab_data.head()"
   ]
  },
  {
   "cell_type": "code",
   "execution_count": 4,
   "id": "apparent-harvest",
   "metadata": {
    "execution": {
     "iopub.execute_input": "2021-05-24T10:59:30.156292Z",
     "iopub.status.busy": "2021-05-24T10:59:30.155728Z",
     "iopub.status.idle": "2021-05-24T10:59:30.161062Z",
     "shell.execute_reply": "2021-05-24T10:59:30.161536Z"
    },
    "papermill": {
     "duration": 0.022338,
     "end_time": "2021-05-24T10:59:30.161715",
     "exception": false,
     "start_time": "2021-05-24T10:59:30.139377",
     "status": "completed"
    },
    "tags": []
   },
   "outputs": [],
   "source": [
    "y = diab_data.Outcome #setting prediction target\n"
   ]
  },
  {
   "cell_type": "code",
   "execution_count": 5,
   "id": "engaging-junction",
   "metadata": {
    "execution": {
     "iopub.execute_input": "2021-05-24T10:59:30.192459Z",
     "iopub.status.busy": "2021-05-24T10:59:30.191947Z",
     "iopub.status.idle": "2021-05-24T10:59:30.198844Z",
     "shell.execute_reply": "2021-05-24T10:59:30.199274Z"
    },
    "papermill": {
     "duration": 0.023675,
     "end_time": "2021-05-24T10:59:30.199432",
     "exception": false,
     "start_time": "2021-05-24T10:59:30.175757",
     "status": "completed"
    },
    "tags": []
   },
   "outputs": [
    {
     "data": {
      "text/plain": [
       "Pregnancies                   int64\n",
       "Glucose                       int64\n",
       "BloodPressure                 int64\n",
       "SkinThickness                 int64\n",
       "Insulin                       int64\n",
       "BMI                         float64\n",
       "DiabetesPedigreeFunction    float64\n",
       "Age                           int64\n",
       "Outcome                       int64\n",
       "dtype: object"
      ]
     },
     "execution_count": 5,
     "metadata": {},
     "output_type": "execute_result"
    }
   ],
   "source": [
    "diab_data.dtypes"
   ]
  },
  {
   "cell_type": "code",
   "execution_count": 6,
   "id": "respective-superintendent",
   "metadata": {
    "execution": {
     "iopub.execute_input": "2021-05-24T10:59:30.233398Z",
     "iopub.status.busy": "2021-05-24T10:59:30.232844Z",
     "iopub.status.idle": "2021-05-24T10:59:30.250256Z",
     "shell.execute_reply": "2021-05-24T10:59:30.249705Z"
    },
    "papermill": {
     "duration": 0.036042,
     "end_time": "2021-05-24T10:59:30.250398",
     "exception": false,
     "start_time": "2021-05-24T10:59:30.214356",
     "status": "completed"
    },
    "tags": []
   },
   "outputs": [
    {
     "data": {
      "text/html": [
       "<div>\n",
       "<style scoped>\n",
       "    .dataframe tbody tr th:only-of-type {\n",
       "        vertical-align: middle;\n",
       "    }\n",
       "\n",
       "    .dataframe tbody tr th {\n",
       "        vertical-align: top;\n",
       "    }\n",
       "\n",
       "    .dataframe thead th {\n",
       "        text-align: right;\n",
       "    }\n",
       "</style>\n",
       "<table border=\"1\" class=\"dataframe\">\n",
       "  <thead>\n",
       "    <tr style=\"text-align: right;\">\n",
       "      <th></th>\n",
       "      <th>Pregnancies</th>\n",
       "      <th>Glucose</th>\n",
       "      <th>BloodPressure</th>\n",
       "      <th>SkinThickness</th>\n",
       "      <th>Insulin</th>\n",
       "      <th>BMI</th>\n",
       "      <th>DiabetesPedigreeFunction</th>\n",
       "      <th>Age</th>\n",
       "      <th>Outcome</th>\n",
       "    </tr>\n",
       "  </thead>\n",
       "  <tbody>\n",
       "    <tr>\n",
       "      <th>Pregnancies</th>\n",
       "      <td>1.000000</td>\n",
       "      <td>0.129459</td>\n",
       "      <td>0.141282</td>\n",
       "      <td>-0.081672</td>\n",
       "      <td>-0.073535</td>\n",
       "      <td>0.017683</td>\n",
       "      <td>-0.033523</td>\n",
       "      <td>0.544341</td>\n",
       "      <td>0.221898</td>\n",
       "    </tr>\n",
       "    <tr>\n",
       "      <th>Glucose</th>\n",
       "      <td>0.129459</td>\n",
       "      <td>1.000000</td>\n",
       "      <td>0.152590</td>\n",
       "      <td>0.057328</td>\n",
       "      <td>0.331357</td>\n",
       "      <td>0.221071</td>\n",
       "      <td>0.137337</td>\n",
       "      <td>0.263514</td>\n",
       "      <td>0.466581</td>\n",
       "    </tr>\n",
       "    <tr>\n",
       "      <th>BloodPressure</th>\n",
       "      <td>0.141282</td>\n",
       "      <td>0.152590</td>\n",
       "      <td>1.000000</td>\n",
       "      <td>0.207371</td>\n",
       "      <td>0.088933</td>\n",
       "      <td>0.281805</td>\n",
       "      <td>0.041265</td>\n",
       "      <td>0.239528</td>\n",
       "      <td>0.065068</td>\n",
       "    </tr>\n",
       "    <tr>\n",
       "      <th>SkinThickness</th>\n",
       "      <td>-0.081672</td>\n",
       "      <td>0.057328</td>\n",
       "      <td>0.207371</td>\n",
       "      <td>1.000000</td>\n",
       "      <td>0.436783</td>\n",
       "      <td>0.392573</td>\n",
       "      <td>0.183928</td>\n",
       "      <td>-0.113970</td>\n",
       "      <td>0.074752</td>\n",
       "    </tr>\n",
       "    <tr>\n",
       "      <th>Insulin</th>\n",
       "      <td>-0.073535</td>\n",
       "      <td>0.331357</td>\n",
       "      <td>0.088933</td>\n",
       "      <td>0.436783</td>\n",
       "      <td>1.000000</td>\n",
       "      <td>0.197859</td>\n",
       "      <td>0.185071</td>\n",
       "      <td>-0.042163</td>\n",
       "      <td>0.130548</td>\n",
       "    </tr>\n",
       "    <tr>\n",
       "      <th>BMI</th>\n",
       "      <td>0.017683</td>\n",
       "      <td>0.221071</td>\n",
       "      <td>0.281805</td>\n",
       "      <td>0.392573</td>\n",
       "      <td>0.197859</td>\n",
       "      <td>1.000000</td>\n",
       "      <td>0.140647</td>\n",
       "      <td>0.036242</td>\n",
       "      <td>0.292695</td>\n",
       "    </tr>\n",
       "    <tr>\n",
       "      <th>DiabetesPedigreeFunction</th>\n",
       "      <td>-0.033523</td>\n",
       "      <td>0.137337</td>\n",
       "      <td>0.041265</td>\n",
       "      <td>0.183928</td>\n",
       "      <td>0.185071</td>\n",
       "      <td>0.140647</td>\n",
       "      <td>1.000000</td>\n",
       "      <td>0.033561</td>\n",
       "      <td>0.173844</td>\n",
       "    </tr>\n",
       "    <tr>\n",
       "      <th>Age</th>\n",
       "      <td>0.544341</td>\n",
       "      <td>0.263514</td>\n",
       "      <td>0.239528</td>\n",
       "      <td>-0.113970</td>\n",
       "      <td>-0.042163</td>\n",
       "      <td>0.036242</td>\n",
       "      <td>0.033561</td>\n",
       "      <td>1.000000</td>\n",
       "      <td>0.238356</td>\n",
       "    </tr>\n",
       "    <tr>\n",
       "      <th>Outcome</th>\n",
       "      <td>0.221898</td>\n",
       "      <td>0.466581</td>\n",
       "      <td>0.065068</td>\n",
       "      <td>0.074752</td>\n",
       "      <td>0.130548</td>\n",
       "      <td>0.292695</td>\n",
       "      <td>0.173844</td>\n",
       "      <td>0.238356</td>\n",
       "      <td>1.000000</td>\n",
       "    </tr>\n",
       "  </tbody>\n",
       "</table>\n",
       "</div>"
      ],
      "text/plain": [
       "                          Pregnancies   Glucose  BloodPressure  SkinThickness  \\\n",
       "Pregnancies                  1.000000  0.129459       0.141282      -0.081672   \n",
       "Glucose                      0.129459  1.000000       0.152590       0.057328   \n",
       "BloodPressure                0.141282  0.152590       1.000000       0.207371   \n",
       "SkinThickness               -0.081672  0.057328       0.207371       1.000000   \n",
       "Insulin                     -0.073535  0.331357       0.088933       0.436783   \n",
       "BMI                          0.017683  0.221071       0.281805       0.392573   \n",
       "DiabetesPedigreeFunction    -0.033523  0.137337       0.041265       0.183928   \n",
       "Age                          0.544341  0.263514       0.239528      -0.113970   \n",
       "Outcome                      0.221898  0.466581       0.065068       0.074752   \n",
       "\n",
       "                           Insulin       BMI  DiabetesPedigreeFunction  \\\n",
       "Pregnancies              -0.073535  0.017683                 -0.033523   \n",
       "Glucose                   0.331357  0.221071                  0.137337   \n",
       "BloodPressure             0.088933  0.281805                  0.041265   \n",
       "SkinThickness             0.436783  0.392573                  0.183928   \n",
       "Insulin                   1.000000  0.197859                  0.185071   \n",
       "BMI                       0.197859  1.000000                  0.140647   \n",
       "DiabetesPedigreeFunction  0.185071  0.140647                  1.000000   \n",
       "Age                      -0.042163  0.036242                  0.033561   \n",
       "Outcome                   0.130548  0.292695                  0.173844   \n",
       "\n",
       "                               Age   Outcome  \n",
       "Pregnancies               0.544341  0.221898  \n",
       "Glucose                   0.263514  0.466581  \n",
       "BloodPressure             0.239528  0.065068  \n",
       "SkinThickness            -0.113970  0.074752  \n",
       "Insulin                  -0.042163  0.130548  \n",
       "BMI                       0.036242  0.292695  \n",
       "DiabetesPedigreeFunction  0.033561  0.173844  \n",
       "Age                       1.000000  0.238356  \n",
       "Outcome                   0.238356  1.000000  "
      ]
     },
     "execution_count": 6,
     "metadata": {},
     "output_type": "execute_result"
    }
   ],
   "source": [
    "diab_data.corr() #data seems to have 46% correlation with glucose level\n",
    "                 #did they take glucose level before or after knowing the diabetic condition?"
   ]
  },
  {
   "cell_type": "code",
   "execution_count": 7,
   "id": "listed-empty",
   "metadata": {
    "execution": {
     "iopub.execute_input": "2021-05-24T10:59:30.284924Z",
     "iopub.status.busy": "2021-05-24T10:59:30.284283Z",
     "iopub.status.idle": "2021-05-24T10:59:30.286740Z",
     "shell.execute_reply": "2021-05-24T10:59:30.287131Z"
    },
    "papermill": {
     "duration": 0.022163,
     "end_time": "2021-05-24T10:59:30.287306",
     "exception": false,
     "start_time": "2021-05-24T10:59:30.265143",
     "status": "completed"
    },
    "tags": []
   },
   "outputs": [],
   "source": [
    "#A Function to check for missing data\n",
    "def data_missing_percent(data):\n",
    "    total_cells            = data.size\n",
    "    missing_values_count   = data.isnull().sum()\n",
    "    total_missing_values   = missing_values_count.sum()\n",
    "    percent_missing_values = (total_missing_values/total_cells)*100\n",
    "    print(percent_missing_values,'%')"
   ]
  },
  {
   "cell_type": "code",
   "execution_count": 8,
   "id": "hollywood-dominican",
   "metadata": {
    "execution": {
     "iopub.execute_input": "2021-05-24T10:59:30.324332Z",
     "iopub.status.busy": "2021-05-24T10:59:30.323578Z",
     "iopub.status.idle": "2021-05-24T10:59:30.328558Z",
     "shell.execute_reply": "2021-05-24T10:59:30.327872Z"
    },
    "papermill": {
     "duration": 0.026409,
     "end_time": "2021-05-24T10:59:30.328749",
     "exception": false,
     "start_time": "2021-05-24T10:59:30.302340",
     "status": "completed"
    },
    "tags": []
   },
   "outputs": [
    {
     "name": "stdout",
     "output_type": "stream",
     "text": [
      "0.0 %\n"
     ]
    }
   ],
   "source": [
    "data_missing_percent(diab_data) #using above function to check missing data #if there was something missing , we should manupulate data to clean it"
   ]
  },
  {
   "cell_type": "code",
   "execution_count": 9,
   "id": "incident-hearing",
   "metadata": {
    "execution": {
     "iopub.execute_input": "2021-05-24T10:59:30.362675Z",
     "iopub.status.busy": "2021-05-24T10:59:30.362074Z",
     "iopub.status.idle": "2021-05-24T10:59:30.366373Z",
     "shell.execute_reply": "2021-05-24T10:59:30.366884Z"
    },
    "papermill": {
     "duration": 0.022298,
     "end_time": "2021-05-24T10:59:30.367058",
     "exception": false,
     "start_time": "2021-05-24T10:59:30.344760",
     "status": "completed"
    },
    "tags": []
   },
   "outputs": [],
   "source": [
    "feature_names= diab_data.drop(['Outcome'],axis=1) #saving features data, removing Outcome column\n",
    "x = feature_names\n",
    "\n",
    "  #looking at features\n",
    "\n",
    "\n",
    "\n"
   ]
  },
  {
   "cell_type": "code",
   "execution_count": 10,
   "id": "heated-scoop",
   "metadata": {
    "execution": {
     "iopub.execute_input": "2021-05-24T10:59:30.401162Z",
     "iopub.status.busy": "2021-05-24T10:59:30.400500Z",
     "iopub.status.idle": "2021-05-24T10:59:30.408155Z",
     "shell.execute_reply": "2021-05-24T10:59:30.407574Z"
    },
    "papermill": {
     "duration": 0.025924,
     "end_time": "2021-05-24T10:59:30.408289",
     "exception": false,
     "start_time": "2021-05-24T10:59:30.382365",
     "status": "completed"
    },
    "tags": []
   },
   "outputs": [
    {
     "data": {
      "text/plain": [
       "[]"
      ]
     },
     "execution_count": 10,
     "metadata": {},
     "output_type": "execute_result"
    }
   ],
   "source": [
    "#To find out columns having text or categorical values.\n",
    "object_cols= [ col  for col, dt in x.dtypes.items() if dt == object]\n",
    "object_cols"
   ]
  },
  {
   "cell_type": "code",
   "execution_count": 11,
   "id": "requested-aside",
   "metadata": {
    "execution": {
     "iopub.execute_input": "2021-05-24T10:59:30.442718Z",
     "iopub.status.busy": "2021-05-24T10:59:30.442050Z",
     "iopub.status.idle": "2021-05-24T10:59:31.613393Z",
     "shell.execute_reply": "2021-05-24T10:59:31.612902Z"
    },
    "papermill": {
     "duration": 1.189441,
     "end_time": "2021-05-24T10:59:31.613557",
     "exception": false,
     "start_time": "2021-05-24T10:59:30.424116",
     "status": "completed"
    },
    "tags": []
   },
   "outputs": [],
   "source": [
    "# We import decision tree regressor\n",
    "from sklearn.tree import DecisionTreeRegressor\n",
    "diab_model = DecisionTreeRegressor(random_state=1)\n",
    "#For model reproducibility, set a numeric value for random_state when specifying the model"
   ]
  },
  {
   "cell_type": "code",
   "execution_count": 12,
   "id": "proud-migration",
   "metadata": {
    "execution": {
     "iopub.execute_input": "2021-05-24T10:59:31.651590Z",
     "iopub.status.busy": "2021-05-24T10:59:31.650990Z",
     "iopub.status.idle": "2021-05-24T10:59:31.659623Z",
     "shell.execute_reply": "2021-05-24T10:59:31.660079Z"
    },
    "papermill": {
     "duration": 0.03084,
     "end_time": "2021-05-24T10:59:31.660240",
     "exception": false,
     "start_time": "2021-05-24T10:59:31.629400",
     "status": "completed"
    },
    "tags": []
   },
   "outputs": [
    {
     "data": {
      "text/plain": [
       "DecisionTreeRegressor(random_state=1)"
      ]
     },
     "execution_count": 12,
     "metadata": {},
     "output_type": "execute_result"
    }
   ],
   "source": [
    "# Fitting the model\n",
    "diab_model.fit(x, y)"
   ]
  },
  {
   "cell_type": "code",
   "execution_count": 13,
   "id": "russian-twist",
   "metadata": {
    "execution": {
     "iopub.execute_input": "2021-05-24T10:59:31.694922Z",
     "iopub.status.busy": "2021-05-24T10:59:31.694305Z",
     "iopub.status.idle": "2021-05-24T10:59:31.700531Z",
     "shell.execute_reply": "2021-05-24T10:59:31.700064Z"
    },
    "papermill": {
     "duration": 0.02442,
     "end_time": "2021-05-24T10:59:31.700667",
     "exception": false,
     "start_time": "2021-05-24T10:59:31.676247",
     "status": "completed"
    },
    "tags": []
   },
   "outputs": [],
   "source": [
    "#Predicting the values \n",
    "predictions = diab_model.predict(x)\n",
    "\n"
   ]
  },
  {
   "cell_type": "code",
   "execution_count": 14,
   "id": "mature-familiar",
   "metadata": {
    "execution": {
     "iopub.execute_input": "2021-05-24T10:59:31.739606Z",
     "iopub.status.busy": "2021-05-24T10:59:31.738989Z",
     "iopub.status.idle": "2021-05-24T10:59:31.742508Z",
     "shell.execute_reply": "2021-05-24T10:59:31.742942Z"
    },
    "papermill": {
     "duration": 0.026277,
     "end_time": "2021-05-24T10:59:31.743095",
     "exception": false,
     "start_time": "2021-05-24T10:59:31.716818",
     "status": "completed"
    },
    "tags": []
   },
   "outputs": [
    {
     "data": {
      "text/plain": [
       "0.0"
      ]
     },
     "execution_count": 14,
     "metadata": {},
     "output_type": "execute_result"
    }
   ],
   "source": [
    "#Validating our model(how accurate)\n",
    "#here we are using Mean Absolute error for starters\n",
    "\n",
    "from sklearn.metrics import mean_absolute_error\n",
    "\n",
    "mean_absolute_error(y, predictions) # wowww, our model has 0 error , how come?coz we use the training data (x) to predict (y)!!"
   ]
  },
  {
   "cell_type": "code",
   "execution_count": 15,
   "id": "rapid-optimum",
   "metadata": {
    "execution": {
     "iopub.execute_input": "2021-05-24T10:59:31.778749Z",
     "iopub.status.busy": "2021-05-24T10:59:31.778182Z",
     "iopub.status.idle": "2021-05-24T10:59:31.782060Z",
     "shell.execute_reply": "2021-05-24T10:59:31.781607Z"
    },
    "papermill": {
     "duration": 0.022616,
     "end_time": "2021-05-24T10:59:31.782199",
     "exception": false,
     "start_time": "2021-05-24T10:59:31.759583",
     "status": "completed"
    },
    "tags": []
   },
   "outputs": [],
   "source": [
    "#Now we will split the data into train data, test data\n",
    "\n",
    "from sklearn.model_selection import train_test_split  #import the library \n"
   ]
  },
  {
   "cell_type": "code",
   "execution_count": 16,
   "id": "medieval-feelings",
   "metadata": {
    "execution": {
     "iopub.execute_input": "2021-05-24T10:59:31.820729Z",
     "iopub.status.busy": "2021-05-24T10:59:31.820067Z",
     "iopub.status.idle": "2021-05-24T10:59:31.826170Z",
     "shell.execute_reply": "2021-05-24T10:59:31.825731Z"
    },
    "papermill": {
     "duration": 0.026454,
     "end_time": "2021-05-24T10:59:31.826299",
     "exception": false,
     "start_time": "2021-05-24T10:59:31.799845",
     "status": "completed"
    },
    "tags": []
   },
   "outputs": [],
   "source": [
    "#splitting the data, random_state =0 makes sure we get same split every time\n",
    "train_x, val_x, train_y, val_y = train_test_split(x, y, random_state = 0)"
   ]
  },
  {
   "cell_type": "code",
   "execution_count": 17,
   "id": "overall-spider",
   "metadata": {
    "execution": {
     "iopub.execute_input": "2021-05-24T10:59:31.872006Z",
     "iopub.status.busy": "2021-05-24T10:59:31.871401Z",
     "iopub.status.idle": "2021-05-24T10:59:31.882035Z",
     "shell.execute_reply": "2021-05-24T10:59:31.881461Z"
    },
    "papermill": {
     "duration": 0.039443,
     "end_time": "2021-05-24T10:59:31.882171",
     "exception": false,
     "start_time": "2021-05-24T10:59:31.842728",
     "status": "completed"
    },
    "tags": []
   },
   "outputs": [
    {
     "data": {
      "text/plain": [
       "DecisionTreeRegressor(random_state=1)"
      ]
     },
     "execution_count": 17,
     "metadata": {},
     "output_type": "execute_result"
    }
   ],
   "source": [
    "diab_model2 = DecisionTreeRegressor(random_state=1) #defining model again\n",
    "diab_model.fit(train_x, train_y)                    #fitting the model with training data split\n"
   ]
  },
  {
   "cell_type": "code",
   "execution_count": 18,
   "id": "governing-salad",
   "metadata": {
    "execution": {
     "iopub.execute_input": "2021-05-24T10:59:31.934540Z",
     "iopub.status.busy": "2021-05-24T10:59:31.933688Z",
     "iopub.status.idle": "2021-05-24T10:59:31.936753Z",
     "shell.execute_reply": "2021-05-24T10:59:31.935904Z"
    },
    "papermill": {
     "duration": 0.029855,
     "end_time": "2021-05-24T10:59:31.936947",
     "exception": false,
     "start_time": "2021-05-24T10:59:31.907092",
     "status": "completed"
    },
    "tags": []
   },
   "outputs": [],
   "source": [
    "#predicting the results using validation data split\n",
    "val_predictions = diab_model.predict(val_x)\n"
   ]
  },
  {
   "cell_type": "code",
   "execution_count": 19,
   "id": "taken-moldova",
   "metadata": {
    "execution": {
     "iopub.execute_input": "2021-05-24T10:59:31.980856Z",
     "iopub.status.busy": "2021-05-24T10:59:31.980257Z",
     "iopub.status.idle": "2021-05-24T10:59:31.983638Z",
     "shell.execute_reply": "2021-05-24T10:59:31.984050Z"
    },
    "papermill": {
     "duration": 0.02711,
     "end_time": "2021-05-24T10:59:31.984218",
     "exception": false,
     "start_time": "2021-05-24T10:59:31.957108",
     "status": "completed"
    },
    "tags": []
   },
   "outputs": [
    {
     "data": {
      "text/plain": [
       "0.2708333333333333"
      ]
     },
     "execution_count": 19,
     "metadata": {},
     "output_type": "execute_result"
    }
   ],
   "source": [
    "#Calculting error using validation outcome split, and validation split predictions\n",
    "mean_absolute_error(val_y, val_predictions)"
   ]
  },
  {
   "cell_type": "code",
   "execution_count": 20,
   "id": "every-belarus",
   "metadata": {
    "execution": {
     "iopub.execute_input": "2021-05-24T10:59:32.025329Z",
     "iopub.status.busy": "2021-05-24T10:59:32.024772Z",
     "iopub.status.idle": "2021-05-24T10:59:32.027422Z",
     "shell.execute_reply": "2021-05-24T10:59:32.026899Z"
    },
    "papermill": {
     "duration": 0.025649,
     "end_time": "2021-05-24T10:59:32.027570",
     "exception": false,
     "start_time": "2021-05-24T10:59:32.001921",
     "status": "completed"
    },
    "tags": []
   },
   "outputs": [],
   "source": [
    "#We use a utility function to help compare MAE scores from different values for max_leaf_nodes:\n",
    "\n",
    "def get_mae(max_leaf_nodes, train_X, val_X, train_y, val_y):\n",
    "    model = DecisionTreeRegressor(max_leaf_nodes=max_leaf_nodes, random_state=0)\n",
    "    model.fit(train_X, train_y)\n",
    "    preds_val = model.predict(val_X)\n",
    "    mae = mean_absolute_error(val_y, preds_val)\n",
    "    return(mae)"
   ]
  },
  {
   "cell_type": "code",
   "execution_count": 21,
   "id": "behavioral-smile",
   "metadata": {
    "execution": {
     "iopub.execute_input": "2021-05-24T10:59:32.065713Z",
     "iopub.status.busy": "2021-05-24T10:59:32.065111Z",
     "iopub.status.idle": "2021-05-24T10:59:32.093033Z",
     "shell.execute_reply": "2021-05-24T10:59:32.093439Z"
    },
    "papermill": {
     "duration": 0.048199,
     "end_time": "2021-05-24T10:59:32.093615",
     "exception": false,
     "start_time": "2021-05-24T10:59:32.045416",
     "status": "completed"
    },
    "tags": []
   },
   "outputs": [
    {
     "name": "stdout",
     "output_type": "stream",
     "text": [
      "Max leaf nodes: 5  \t\t Mean Absolute Error:  0\n",
      "Max leaf nodes: 50  \t\t Mean Absolute Error:  0\n",
      "Max leaf nodes: 500  \t\t Mean Absolute Error:  0\n",
      "Max leaf nodes: 5000  \t\t Mean Absolute Error:  0\n"
     ]
    }
   ],
   "source": [
    "# compare MAE with differing values of max_leaf_nodes using for loop\n",
    "for max_leaf_nodes in [5, 50, 500, 5000]:\n",
    "    my_mae = get_mae(max_leaf_nodes, train_x, val_x, train_y, val_y)\n",
    "    print(\"Max leaf nodes: %d  \\t\\t Mean Absolute Error:  %d\" %(max_leaf_nodes, my_mae))"
   ]
  },
  {
   "cell_type": "code",
   "execution_count": 22,
   "id": "caroline-lebanon",
   "metadata": {
    "execution": {
     "iopub.execute_input": "2021-05-24T10:59:32.134398Z",
     "iopub.status.busy": "2021-05-24T10:59:32.133777Z",
     "iopub.status.idle": "2021-05-24T10:59:32.400680Z",
     "shell.execute_reply": "2021-05-24T10:59:32.400068Z"
    },
    "papermill": {
     "duration": 0.289541,
     "end_time": "2021-05-24T10:59:32.400816",
     "exception": false,
     "start_time": "2021-05-24T10:59:32.111275",
     "status": "completed"
    },
    "tags": []
   },
   "outputs": [
    {
     "name": "stdout",
     "output_type": "stream",
     "text": [
      "0.2861458333333333\n"
     ]
    }
   ],
   "source": [
    "#Using a different model\n",
    "from sklearn.ensemble import RandomForestRegressor\n",
    "from sklearn.metrics import mean_absolute_error\n",
    "\n",
    "forest_model = RandomForestRegressor(random_state=1)  #Using Random forest model\n",
    "forest_model.fit(train_x, train_y)                    #fitting\n",
    "melb_preds = forest_model.predict(val_x)              #predicting\n",
    "print(mean_absolute_error(val_y, melb_preds))         #validating, finding MAE"
   ]
  },
  {
   "cell_type": "code",
   "execution_count": 23,
   "id": "interracial-furniture",
   "metadata": {
    "execution": {
     "iopub.execute_input": "2021-05-24T10:59:32.441425Z",
     "iopub.status.busy": "2021-05-24T10:59:32.440886Z",
     "iopub.status.idle": "2021-05-24T10:59:32.529476Z",
     "shell.execute_reply": "2021-05-24T10:59:32.529936Z"
    },
    "papermill": {
     "duration": 0.111412,
     "end_time": "2021-05-24T10:59:32.530112",
     "exception": false,
     "start_time": "2021-05-24T10:59:32.418700",
     "status": "completed"
    },
    "tags": []
   },
   "outputs": [],
   "source": [
    "#Using pipelines\n",
    "from xgboost import XGBRegressor\n",
    "from sklearn.compose import ColumnTransformer\n",
    "from sklearn.pipeline import Pipeline\n",
    "from sklearn.impute import SimpleImputer\n",
    "\n"
   ]
  },
  {
   "cell_type": "code",
   "execution_count": 24,
   "id": "yellow-resident",
   "metadata": {
    "execution": {
     "iopub.execute_input": "2021-05-24T10:59:32.569692Z",
     "iopub.status.busy": "2021-05-24T10:59:32.569124Z",
     "iopub.status.idle": "2021-05-24T10:59:33.881340Z",
     "shell.execute_reply": "2021-05-24T10:59:33.880770Z"
    },
    "papermill": {
     "duration": 1.332465,
     "end_time": "2021-05-24T10:59:33.881467",
     "exception": false,
     "start_time": "2021-05-24T10:59:32.549002",
     "status": "completed"
    },
    "tags": []
   },
   "outputs": [
    {
     "data": {
      "text/plain": [
       "XGBRegressor(base_score=0.5, booster='gbtree', colsample_bylevel=1,\n",
       "             colsample_bynode=1, colsample_bytree=1, gamma=0, gpu_id=-1,\n",
       "             importance_type='gain', interaction_constraints='',\n",
       "             learning_rate=0.09, max_delta_step=0, max_depth=6,\n",
       "             min_child_weight=1, missing=nan, monotone_constraints='()',\n",
       "             n_estimators=500, n_jobs=4, num_parallel_tree=1, random_state=0,\n",
       "             reg_alpha=0, reg_lambda=1, scale_pos_weight=1, subsample=1,\n",
       "             tree_method='exact', validate_parameters=1, verbosity=None)"
      ]
     },
     "execution_count": 24,
     "metadata": {},
     "output_type": "execute_result"
    }
   ],
   "source": [
    "model2= XGBRegressor(n_estimators=500, learning_rate=0.09)\n",
    "model2.fit(train_x, train_y, verbose=False)"
   ]
  },
  {
   "cell_type": "code",
   "execution_count": 25,
   "id": "plastic-privacy",
   "metadata": {
    "execution": {
     "iopub.execute_input": "2021-05-24T10:59:33.923580Z",
     "iopub.status.busy": "2021-05-24T10:59:33.922900Z",
     "iopub.status.idle": "2021-05-24T10:59:33.934422Z",
     "shell.execute_reply": "2021-05-24T10:59:33.934831Z"
    },
    "papermill": {
     "duration": 0.034988,
     "end_time": "2021-05-24T10:59:33.934996",
     "exception": false,
     "start_time": "2021-05-24T10:59:33.900008",
     "status": "completed"
    },
    "tags": []
   },
   "outputs": [
    {
     "name": "stdout",
     "output_type": "stream",
     "text": [
      "0.29944806668875873\n"
     ]
    },
    {
     "name": "stderr",
     "output_type": "stream",
     "text": [
      "/opt/conda/lib/python3.7/site-packages/xgboost/data.py:114: UserWarning: Use subset (sliced data) of np.ndarray is not recommended because it will generate extra copies and increase memory consumption\n",
      "  \"because it will generate extra copies and increase \" +\n"
     ]
    }
   ],
   "source": [
    "score= mean_absolute_error(model2.predict(val_x), val_y)\n",
    "print(score)"
   ]
  },
  {
   "cell_type": "code",
   "execution_count": null,
   "id": "sorted-hello",
   "metadata": {
    "papermill": {
     "duration": 0.018658,
     "end_time": "2021-05-24T10:59:33.973582",
     "exception": false,
     "start_time": "2021-05-24T10:59:33.954924",
     "status": "completed"
    },
    "tags": []
   },
   "outputs": [],
   "source": [
    "\n",
    "    "
   ]
  }
 ],
 "metadata": {
  "kernelspec": {
   "display_name": "Python 3",
   "language": "python",
   "name": "python3"
  },
  "language_info": {
   "codemirror_mode": {
    "name": "ipython",
    "version": 3
   },
   "file_extension": ".py",
   "mimetype": "text/x-python",
   "name": "python",
   "nbconvert_exporter": "python",
   "pygments_lexer": "ipython3",
   "version": "3.7.10"
  },
  "papermill": {
   "default_parameters": {},
   "duration": 11.762695,
   "end_time": "2021-05-24T10:59:34.702896",
   "environment_variables": {},
   "exception": null,
   "input_path": "__notebook__.ipynb",
   "output_path": "__notebook__.ipynb",
   "parameters": {},
   "start_time": "2021-05-24T10:59:22.940201",
   "version": "2.3.3"
  }
 },
 "nbformat": 4,
 "nbformat_minor": 5
}
