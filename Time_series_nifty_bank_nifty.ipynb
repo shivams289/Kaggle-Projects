{
 "cells": [
  {
   "cell_type": "code",
   "execution_count": 7,
   "id": "dd41f5a9",
   "metadata": {},
   "outputs": [],
   "source": [
    "import pandas as pd\n",
    "import numpy as np\n",
    "import seaborn as sns\n",
    "import matplotlib.pyplot as plt\n",
    "import datetime\n",
    "\n",
    "#datetime.date(2021, 4, 30)\n",
    "#datetime.time(15,30))"
   ]
  },
  {
   "cell_type": "code",
   "execution_count": 8,
   "id": "74ecdd0d",
   "metadata": {},
   "outputs": [],
   "source": [
    "plt.rcParams[\"figure.figsize\"] = (30,10)"
   ]
  },
  {
   "cell_type": "code",
   "execution_count": 9,
   "id": "273b7f20",
   "metadata": {},
   "outputs": [],
   "source": [
    "df = pd.read_csv('bank_nifty.csv')"
   ]
  },
  {
   "cell_type": "code",
   "execution_count": 10,
   "id": "15bce0b3",
   "metadata": {},
   "outputs": [],
   "source": [
    "df['date'] = pd.to_datetime(df.date, format = '%Y-%m-%d')\n",
    "\n",
    "df['time'] = pd.to_datetime(df.time).dt.time\n",
    "\n",
    "df['year'] = df.date.dt.year\n",
    "df['month'] = df.date.dt.month\n",
    "df['day']  = df.date.dt.day\n"
   ]
  },
  {
   "cell_type": "code",
   "execution_count": 15,
   "id": "5bed8711",
   "metadata": {},
   "outputs": [],
   "source": [
    "df['weekday'] = df.date.dt.day_name()"
   ]
  },
  {
   "cell_type": "code",
   "execution_count": 18,
   "id": "b44a4ce6",
   "metadata": {},
   "outputs": [],
   "source": [
    "df = df.drop(['name'], axis =1)"
   ]
  },
  {
   "cell_type": "code",
   "execution_count": 19,
   "id": "9fe2bc2c",
   "metadata": {},
   "outputs": [],
   "source": [
    "df = df.drop(df.loc[(df.time > datetime.time(15,30)) | (df.time < datetime.time(9,15))].index, axis = 0)"
   ]
  },
  {
   "cell_type": "code",
   "execution_count": 24,
   "id": "d5682bee",
   "metadata": {},
   "outputs": [],
   "source": [
    "df['close_fwd1'] = df.close.shift(1)"
   ]
  },
  {
   "cell_type": "code",
   "execution_count": 26,
   "id": "cdfe51c1",
   "metadata": {},
   "outputs": [],
   "source": [
    "df = df.dropna(axis=0)"
   ]
  },
  {
   "cell_type": "code",
   "execution_count": 28,
   "id": "7e14e81f",
   "metadata": {},
   "outputs": [
    {
     "name": "stderr",
     "output_type": "stream",
     "text": [
      "/var/folders/36/2w68f_916m5_4nk8vnz8j2yw0000gn/T/ipykernel_81542/604512541.py:1: SettingWithCopyWarning: \n",
      "A value is trying to be set on a copy of a slice from a DataFrame.\n",
      "Try using .loc[row_indexer,col_indexer] = value instead\n",
      "\n",
      "See the caveats in the documentation: https://pandas.pydata.org/pandas-docs/stable/user_guide/indexing.html#returning-a-view-versus-a-copy\n",
      "  df['close_open'] =( (df.open - df.close_fwd1)/df.close_fwd1)*100\n"
     ]
    }
   ],
   "source": [
    "df['close_open'] =( (df.open - df.close_fwd1)/df.close_fwd1)*100"
   ]
  },
  {
   "cell_type": "code",
   "execution_count": 29,
   "id": "c7f21562",
   "metadata": {},
   "outputs": [
    {
     "data": {
      "text/html": [
       "<div>\n",
       "<style scoped>\n",
       "    .dataframe tbody tr th:only-of-type {\n",
       "        vertical-align: middle;\n",
       "    }\n",
       "\n",
       "    .dataframe tbody tr th {\n",
       "        vertical-align: top;\n",
       "    }\n",
       "\n",
       "    .dataframe thead th {\n",
       "        text-align: right;\n",
       "    }\n",
       "</style>\n",
       "<table border=\"1\" class=\"dataframe\">\n",
       "  <thead>\n",
       "    <tr style=\"text-align: right;\">\n",
       "      <th></th>\n",
       "      <th>date</th>\n",
       "      <th>time</th>\n",
       "      <th>open</th>\n",
       "      <th>high</th>\n",
       "      <th>low</th>\n",
       "      <th>close</th>\n",
       "      <th>year</th>\n",
       "      <th>month</th>\n",
       "      <th>day</th>\n",
       "      <th>weekday</th>\n",
       "      <th>close_fwd1</th>\n",
       "      <th>close_open</th>\n",
       "    </tr>\n",
       "  </thead>\n",
       "  <tbody>\n",
       "    <tr>\n",
       "      <th>389</th>\n",
       "      <td>2010-03-02</td>\n",
       "      <td>15:30:00</td>\n",
       "      <td>8944.80</td>\n",
       "      <td>8944.95</td>\n",
       "      <td>8941.35</td>\n",
       "      <td>8943.45</td>\n",
       "      <td>2010</td>\n",
       "      <td>3</td>\n",
       "      <td>2</td>\n",
       "      <td>Tuesday</td>\n",
       "      <td>8945.60</td>\n",
       "      <td>-0.008943</td>\n",
       "    </tr>\n",
       "    <tr>\n",
       "      <th>404</th>\n",
       "      <td>2010-03-03</td>\n",
       "      <td>09:15:00</td>\n",
       "      <td>8990.75</td>\n",
       "      <td>8990.75</td>\n",
       "      <td>8986.65</td>\n",
       "      <td>8987.95</td>\n",
       "      <td>2010</td>\n",
       "      <td>3</td>\n",
       "      <td>3</td>\n",
       "      <td>Wednesday</td>\n",
       "      <td>8943.45</td>\n",
       "      <td>0.528879</td>\n",
       "    </tr>\n",
       "    <tr>\n",
       "      <th>779</th>\n",
       "      <td>2010-03-03</td>\n",
       "      <td>15:30:00</td>\n",
       "      <td>9042.55</td>\n",
       "      <td>9046.40</td>\n",
       "      <td>9042.50</td>\n",
       "      <td>9044.30</td>\n",
       "      <td>2010</td>\n",
       "      <td>3</td>\n",
       "      <td>3</td>\n",
       "      <td>Wednesday</td>\n",
       "      <td>9044.35</td>\n",
       "      <td>-0.019902</td>\n",
       "    </tr>\n",
       "    <tr>\n",
       "      <th>794</th>\n",
       "      <td>2010-03-04</td>\n",
       "      <td>09:15:00</td>\n",
       "      <td>9059.80</td>\n",
       "      <td>9065.10</td>\n",
       "      <td>9058.80</td>\n",
       "      <td>9061.15</td>\n",
       "      <td>2010</td>\n",
       "      <td>3</td>\n",
       "      <td>4</td>\n",
       "      <td>Thursday</td>\n",
       "      <td>9044.30</td>\n",
       "      <td>0.171379</td>\n",
       "    </tr>\n",
       "    <tr>\n",
       "      <th>1169</th>\n",
       "      <td>2010-03-04</td>\n",
       "      <td>15:30:00</td>\n",
       "      <td>9011.95</td>\n",
       "      <td>9017.35</td>\n",
       "      <td>9011.25</td>\n",
       "      <td>9014.45</td>\n",
       "      <td>2010</td>\n",
       "      <td>3</td>\n",
       "      <td>4</td>\n",
       "      <td>Thursday</td>\n",
       "      <td>9012.85</td>\n",
       "      <td>-0.009986</td>\n",
       "    </tr>\n",
       "    <tr>\n",
       "      <th>...</th>\n",
       "      <td>...</td>\n",
       "      <td>...</td>\n",
       "      <td>...</td>\n",
       "      <td>...</td>\n",
       "      <td>...</td>\n",
       "      <td>...</td>\n",
       "      <td>...</td>\n",
       "      <td>...</td>\n",
       "      <td>...</td>\n",
       "      <td>...</td>\n",
       "      <td>...</td>\n",
       "      <td>...</td>\n",
       "    </tr>\n",
       "    <tr>\n",
       "      <th>1035872</th>\n",
       "      <td>2021-04-26</td>\n",
       "      <td>15:30:00</td>\n",
       "      <td>32256.45</td>\n",
       "      <td>32276.20</td>\n",
       "      <td>32251.85</td>\n",
       "      <td>32271.20</td>\n",
       "      <td>2021</td>\n",
       "      <td>4</td>\n",
       "      <td>26</td>\n",
       "      <td>Monday</td>\n",
       "      <td>32253.05</td>\n",
       "      <td>0.010542</td>\n",
       "    </tr>\n",
       "    <tr>\n",
       "      <th>1036250</th>\n",
       "      <td>2021-04-27</td>\n",
       "      <td>15:30:00</td>\n",
       "      <td>32754.30</td>\n",
       "      <td>32768.40</td>\n",
       "      <td>32740.25</td>\n",
       "      <td>32760.25</td>\n",
       "      <td>2021</td>\n",
       "      <td>4</td>\n",
       "      <td>27</td>\n",
       "      <td>Tuesday</td>\n",
       "      <td>32755.85</td>\n",
       "      <td>-0.004732</td>\n",
       "    </tr>\n",
       "    <tr>\n",
       "      <th>1036628</th>\n",
       "      <td>2021-04-28</td>\n",
       "      <td>15:30:00</td>\n",
       "      <td>33657.15</td>\n",
       "      <td>33666.25</td>\n",
       "      <td>33648.85</td>\n",
       "      <td>33662.65</td>\n",
       "      <td>2021</td>\n",
       "      <td>4</td>\n",
       "      <td>28</td>\n",
       "      <td>Wednesday</td>\n",
       "      <td>33660.65</td>\n",
       "      <td>-0.010398</td>\n",
       "    </tr>\n",
       "    <tr>\n",
       "      <th>1037006</th>\n",
       "      <td>2021-04-29</td>\n",
       "      <td>15:30:00</td>\n",
       "      <td>33654.30</td>\n",
       "      <td>33671.30</td>\n",
       "      <td>33631.55</td>\n",
       "      <td>33664.20</td>\n",
       "      <td>2021</td>\n",
       "      <td>4</td>\n",
       "      <td>29</td>\n",
       "      <td>Thursday</td>\n",
       "      <td>33651.45</td>\n",
       "      <td>0.008469</td>\n",
       "    </tr>\n",
       "    <tr>\n",
       "      <th>1037384</th>\n",
       "      <td>2021-04-30</td>\n",
       "      <td>15:30:00</td>\n",
       "      <td>32715.90</td>\n",
       "      <td>32726.20</td>\n",
       "      <td>32706.25</td>\n",
       "      <td>32714.35</td>\n",
       "      <td>2021</td>\n",
       "      <td>4</td>\n",
       "      <td>30</td>\n",
       "      <td>Friday</td>\n",
       "      <td>32718.80</td>\n",
       "      <td>-0.008863</td>\n",
       "    </tr>\n",
       "  </tbody>\n",
       "</table>\n",
       "<p>2891 rows × 12 columns</p>\n",
       "</div>"
      ],
      "text/plain": [
       "              date      time      open      high       low     close  year  \\\n",
       "389     2010-03-02  15:30:00   8944.80   8944.95   8941.35   8943.45  2010   \n",
       "404     2010-03-03  09:15:00   8990.75   8990.75   8986.65   8987.95  2010   \n",
       "779     2010-03-03  15:30:00   9042.55   9046.40   9042.50   9044.30  2010   \n",
       "794     2010-03-04  09:15:00   9059.80   9065.10   9058.80   9061.15  2010   \n",
       "1169    2010-03-04  15:30:00   9011.95   9017.35   9011.25   9014.45  2010   \n",
       "...            ...       ...       ...       ...       ...       ...   ...   \n",
       "1035872 2021-04-26  15:30:00  32256.45  32276.20  32251.85  32271.20  2021   \n",
       "1036250 2021-04-27  15:30:00  32754.30  32768.40  32740.25  32760.25  2021   \n",
       "1036628 2021-04-28  15:30:00  33657.15  33666.25  33648.85  33662.65  2021   \n",
       "1037006 2021-04-29  15:30:00  33654.30  33671.30  33631.55  33664.20  2021   \n",
       "1037384 2021-04-30  15:30:00  32715.90  32726.20  32706.25  32714.35  2021   \n",
       "\n",
       "         month  day    weekday  close_fwd1  close_open  \n",
       "389          3    2    Tuesday     8945.60   -0.008943  \n",
       "404          3    3  Wednesday     8943.45    0.528879  \n",
       "779          3    3  Wednesday     9044.35   -0.019902  \n",
       "794          3    4   Thursday     9044.30    0.171379  \n",
       "1169         3    4   Thursday     9012.85   -0.009986  \n",
       "...        ...  ...        ...         ...         ...  \n",
       "1035872      4   26     Monday    32253.05    0.010542  \n",
       "1036250      4   27    Tuesday    32755.85   -0.004732  \n",
       "1036628      4   28  Wednesday    33660.65   -0.010398  \n",
       "1037006      4   29   Thursday    33651.45    0.008469  \n",
       "1037384      4   30     Friday    32718.80   -0.008863  \n",
       "\n",
       "[2891 rows x 12 columns]"
      ]
     },
     "execution_count": 29,
     "metadata": {},
     "output_type": "execute_result"
    }
   ],
   "source": [
    "df[(df.time == datetime.time(15,30)) |(df.time == datetime.time(9,15))]"
   ]
  },
  {
   "cell_type": "code",
   "execution_count": 33,
   "id": "5ae827b8",
   "metadata": {},
   "outputs": [],
   "source": [
    "new_df = df[['time', 'weekday', 'close_open']].groupby(['weekday', 'time']).agg(['mean', 'std'])"
   ]
  },
  {
   "cell_type": "code",
   "execution_count": 34,
   "id": "94dc81f8",
   "metadata": {},
   "outputs": [
    {
     "data": {
      "text/plain": [
       "MultiIndex([('close_open', 'mean'),\n",
       "            ('close_open',  'std')],\n",
       "           )"
      ]
     },
     "execution_count": 34,
     "metadata": {},
     "output_type": "execute_result"
    }
   ],
   "source": [
    "new_df.columns"
   ]
  },
  {
   "cell_type": "code",
   "execution_count": 38,
   "id": "55c3c571",
   "metadata": {},
   "outputs": [],
   "source": [
    "new_df = new_df.reset_index()"
   ]
  },
  {
   "cell_type": "code",
   "execution_count": 40,
   "id": "c8d0e98f",
   "metadata": {},
   "outputs": [
    {
     "data": {
      "text/plain": [
       "MultiIndex([(   'weekday',     ''),\n",
       "            (      'time',     ''),\n",
       "            ('close_open', 'mean'),\n",
       "            ('close_open',  'std')],\n",
       "           )"
      ]
     },
     "execution_count": 40,
     "metadata": {},
     "output_type": "execute_result"
    }
   ],
   "source": [
    "new_df.columns"
   ]
  },
  {
   "cell_type": "code",
   "execution_count": 46,
   "id": "7bf6b0b2",
   "metadata": {},
   "outputs": [],
   "source": [
    "new_df.columns = ['weekday', 'time', 'meanof_open_close', 'std_open_close']"
   ]
  },
  {
   "cell_type": "code",
   "execution_count": 49,
   "id": "cb313412",
   "metadata": {},
   "outputs": [
    {
     "data": {
      "text/html": [
       "<div>\n",
       "<style scoped>\n",
       "    .dataframe tbody tr th:only-of-type {\n",
       "        vertical-align: middle;\n",
       "    }\n",
       "\n",
       "    .dataframe tbody tr th {\n",
       "        vertical-align: top;\n",
       "    }\n",
       "\n",
       "    .dataframe thead th {\n",
       "        text-align: right;\n",
       "    }\n",
       "</style>\n",
       "<table border=\"1\" class=\"dataframe\">\n",
       "  <thead>\n",
       "    <tr style=\"text-align: right;\">\n",
       "      <th></th>\n",
       "      <th>weekday</th>\n",
       "      <th>time</th>\n",
       "      <th>meanof_open_close</th>\n",
       "      <th>std_open_close</th>\n",
       "    </tr>\n",
       "  </thead>\n",
       "  <tbody>\n",
       "    <tr>\n",
       "      <th>0</th>\n",
       "      <td>Friday</td>\n",
       "      <td>09:15:00</td>\n",
       "      <td>0.063246</td>\n",
       "      <td>0.767857</td>\n",
       "    </tr>\n",
       "    <tr>\n",
       "      <th>376</th>\n",
       "      <td>Monday</td>\n",
       "      <td>09:15:00</td>\n",
       "      <td>0.200054</td>\n",
       "      <td>0.964068</td>\n",
       "    </tr>\n",
       "    <tr>\n",
       "      <th>1127</th>\n",
       "      <td>Thursday</td>\n",
       "      <td>09:15:00</td>\n",
       "      <td>0.128882</td>\n",
       "      <td>0.525558</td>\n",
       "    </tr>\n",
       "    <tr>\n",
       "      <th>1503</th>\n",
       "      <td>Tuesday</td>\n",
       "      <td>09:15:00</td>\n",
       "      <td>-0.002995</td>\n",
       "      <td>0.444783</td>\n",
       "    </tr>\n",
       "    <tr>\n",
       "      <th>1879</th>\n",
       "      <td>Wednesday</td>\n",
       "      <td>09:15:00</td>\n",
       "      <td>0.159676</td>\n",
       "      <td>0.643953</td>\n",
       "    </tr>\n",
       "  </tbody>\n",
       "</table>\n",
       "</div>"
      ],
      "text/plain": [
       "        weekday      time  meanof_open_close  std_open_close\n",
       "0        Friday  09:15:00           0.063246        0.767857\n",
       "376      Monday  09:15:00           0.200054        0.964068\n",
       "1127   Thursday  09:15:00           0.128882        0.525558\n",
       "1503    Tuesday  09:15:00          -0.002995        0.444783\n",
       "1879  Wednesday  09:15:00           0.159676        0.643953"
      ]
     },
     "execution_count": 49,
     "metadata": {},
     "output_type": "execute_result"
    }
   ],
   "source": [
    "new_df[new_df.time == datetime.time(9,15)]"
   ]
  },
  {
   "cell_type": "code",
   "execution_count": 44,
   "id": "af5aa454",
   "metadata": {},
   "outputs": [
    {
     "ename": "KeyError",
     "evalue": "('close_open', 'std')",
     "output_type": "error",
     "traceback": [
      "\u001b[0;31m---------------------------------------------------------------------------\u001b[0m",
      "\u001b[0;31mKeyError\u001b[0m                                  Traceback (most recent call last)",
      "\u001b[0;32m~/miniconda3/lib/python3.9/site-packages/pandas/core/indexes/base.py\u001b[0m in \u001b[0;36mget_loc\u001b[0;34m(self, key, method, tolerance)\u001b[0m\n\u001b[1;32m   3360\u001b[0m             \u001b[0;32mtry\u001b[0m\u001b[0;34m:\u001b[0m\u001b[0;34m\u001b[0m\u001b[0;34m\u001b[0m\u001b[0m\n\u001b[0;32m-> 3361\u001b[0;31m                 \u001b[0;32mreturn\u001b[0m \u001b[0mself\u001b[0m\u001b[0;34m.\u001b[0m\u001b[0m_engine\u001b[0m\u001b[0;34m.\u001b[0m\u001b[0mget_loc\u001b[0m\u001b[0;34m(\u001b[0m\u001b[0mcasted_key\u001b[0m\u001b[0;34m)\u001b[0m\u001b[0;34m\u001b[0m\u001b[0;34m\u001b[0m\u001b[0m\n\u001b[0m\u001b[1;32m   3362\u001b[0m             \u001b[0;32mexcept\u001b[0m \u001b[0mKeyError\u001b[0m \u001b[0;32mas\u001b[0m \u001b[0merr\u001b[0m\u001b[0;34m:\u001b[0m\u001b[0;34m\u001b[0m\u001b[0;34m\u001b[0m\u001b[0m\n",
      "\u001b[0;32m~/miniconda3/lib/python3.9/site-packages/pandas/_libs/index.pyx\u001b[0m in \u001b[0;36mpandas._libs.index.IndexEngine.get_loc\u001b[0;34m()\u001b[0m\n",
      "\u001b[0;32m~/miniconda3/lib/python3.9/site-packages/pandas/_libs/index.pyx\u001b[0m in \u001b[0;36mpandas._libs.index.IndexEngine.get_loc\u001b[0;34m()\u001b[0m\n",
      "\u001b[0;32mpandas/_libs/hashtable_class_helper.pxi\u001b[0m in \u001b[0;36mpandas._libs.hashtable.PyObjectHashTable.get_item\u001b[0;34m()\u001b[0m\n",
      "\u001b[0;32mpandas/_libs/hashtable_class_helper.pxi\u001b[0m in \u001b[0;36mpandas._libs.hashtable.PyObjectHashTable.get_item\u001b[0;34m()\u001b[0m\n",
      "\u001b[0;31mKeyError\u001b[0m: ('close_open', 'std')",
      "\nThe above exception was the direct cause of the following exception:\n",
      "\u001b[0;31mKeyError\u001b[0m                                  Traceback (most recent call last)",
      "\u001b[0;32m/var/folders/36/2w68f_916m5_4nk8vnz8j2yw0000gn/T/ipykernel_81542/1586630359.py\u001b[0m in \u001b[0;36m<module>\u001b[0;34m\u001b[0m\n\u001b[0;32m----> 1\u001b[0;31m \u001b[0mnew_df\u001b[0m\u001b[0;34m[\u001b[0m\u001b[0mnew_df\u001b[0m\u001b[0;34m[\u001b[0m\u001b[0;34m(\u001b[0m\u001b[0;34m'close_open'\u001b[0m\u001b[0;34m,\u001b[0m  \u001b[0;34m'std'\u001b[0m\u001b[0;34m)\u001b[0m\u001b[0;34m]\u001b[0m\u001b[0;34m>\u001b[0m\u001b[0;36m2\u001b[0m\u001b[0;34m*\u001b[0m\u001b[0mnew_df\u001b[0m\u001b[0;34m[\u001b[0m\u001b[0;34m(\u001b[0m\u001b[0;34m'close_open'\u001b[0m\u001b[0;34m,\u001b[0m  \u001b[0;34m'std'\u001b[0m\u001b[0;34m)\u001b[0m\u001b[0;34m]\u001b[0m\u001b[0;34m.\u001b[0m\u001b[0mstd\u001b[0m\u001b[0;34m(\u001b[0m\u001b[0;34m)\u001b[0m\u001b[0;34m]\u001b[0m\u001b[0;34m\u001b[0m\u001b[0;34m\u001b[0m\u001b[0m\n\u001b[0m",
      "\u001b[0;32m~/miniconda3/lib/python3.9/site-packages/pandas/core/frame.py\u001b[0m in \u001b[0;36m__getitem__\u001b[0;34m(self, key)\u001b[0m\n\u001b[1;32m   3456\u001b[0m             \u001b[0;32mif\u001b[0m \u001b[0mself\u001b[0m\u001b[0;34m.\u001b[0m\u001b[0mcolumns\u001b[0m\u001b[0;34m.\u001b[0m\u001b[0mnlevels\u001b[0m \u001b[0;34m>\u001b[0m \u001b[0;36m1\u001b[0m\u001b[0;34m:\u001b[0m\u001b[0;34m\u001b[0m\u001b[0;34m\u001b[0m\u001b[0m\n\u001b[1;32m   3457\u001b[0m                 \u001b[0;32mreturn\u001b[0m \u001b[0mself\u001b[0m\u001b[0;34m.\u001b[0m\u001b[0m_getitem_multilevel\u001b[0m\u001b[0;34m(\u001b[0m\u001b[0mkey\u001b[0m\u001b[0;34m)\u001b[0m\u001b[0;34m\u001b[0m\u001b[0;34m\u001b[0m\u001b[0m\n\u001b[0;32m-> 3458\u001b[0;31m             \u001b[0mindexer\u001b[0m \u001b[0;34m=\u001b[0m \u001b[0mself\u001b[0m\u001b[0;34m.\u001b[0m\u001b[0mcolumns\u001b[0m\u001b[0;34m.\u001b[0m\u001b[0mget_loc\u001b[0m\u001b[0;34m(\u001b[0m\u001b[0mkey\u001b[0m\u001b[0;34m)\u001b[0m\u001b[0;34m\u001b[0m\u001b[0;34m\u001b[0m\u001b[0m\n\u001b[0m\u001b[1;32m   3459\u001b[0m             \u001b[0;32mif\u001b[0m \u001b[0mis_integer\u001b[0m\u001b[0;34m(\u001b[0m\u001b[0mindexer\u001b[0m\u001b[0;34m)\u001b[0m\u001b[0;34m:\u001b[0m\u001b[0;34m\u001b[0m\u001b[0;34m\u001b[0m\u001b[0m\n\u001b[1;32m   3460\u001b[0m                 \u001b[0mindexer\u001b[0m \u001b[0;34m=\u001b[0m \u001b[0;34m[\u001b[0m\u001b[0mindexer\u001b[0m\u001b[0;34m]\u001b[0m\u001b[0;34m\u001b[0m\u001b[0;34m\u001b[0m\u001b[0m\n",
      "\u001b[0;32m~/miniconda3/lib/python3.9/site-packages/pandas/core/indexes/base.py\u001b[0m in \u001b[0;36mget_loc\u001b[0;34m(self, key, method, tolerance)\u001b[0m\n\u001b[1;32m   3361\u001b[0m                 \u001b[0;32mreturn\u001b[0m \u001b[0mself\u001b[0m\u001b[0;34m.\u001b[0m\u001b[0m_engine\u001b[0m\u001b[0;34m.\u001b[0m\u001b[0mget_loc\u001b[0m\u001b[0;34m(\u001b[0m\u001b[0mcasted_key\u001b[0m\u001b[0;34m)\u001b[0m\u001b[0;34m\u001b[0m\u001b[0;34m\u001b[0m\u001b[0m\n\u001b[1;32m   3362\u001b[0m             \u001b[0;32mexcept\u001b[0m \u001b[0mKeyError\u001b[0m \u001b[0;32mas\u001b[0m \u001b[0merr\u001b[0m\u001b[0;34m:\u001b[0m\u001b[0;34m\u001b[0m\u001b[0;34m\u001b[0m\u001b[0m\n\u001b[0;32m-> 3363\u001b[0;31m                 \u001b[0;32mraise\u001b[0m \u001b[0mKeyError\u001b[0m\u001b[0;34m(\u001b[0m\u001b[0mkey\u001b[0m\u001b[0;34m)\u001b[0m \u001b[0;32mfrom\u001b[0m \u001b[0merr\u001b[0m\u001b[0;34m\u001b[0m\u001b[0;34m\u001b[0m\u001b[0m\n\u001b[0m\u001b[1;32m   3364\u001b[0m \u001b[0;34m\u001b[0m\u001b[0m\n\u001b[1;32m   3365\u001b[0m         \u001b[0;32mif\u001b[0m \u001b[0mis_scalar\u001b[0m\u001b[0;34m(\u001b[0m\u001b[0mkey\u001b[0m\u001b[0;34m)\u001b[0m \u001b[0;32mand\u001b[0m \u001b[0misna\u001b[0m\u001b[0;34m(\u001b[0m\u001b[0mkey\u001b[0m\u001b[0;34m)\u001b[0m \u001b[0;32mand\u001b[0m \u001b[0;32mnot\u001b[0m \u001b[0mself\u001b[0m\u001b[0;34m.\u001b[0m\u001b[0mhasnans\u001b[0m\u001b[0;34m:\u001b[0m\u001b[0;34m\u001b[0m\u001b[0;34m\u001b[0m\u001b[0m\n",
      "\u001b[0;31mKeyError\u001b[0m: ('close_open', 'std')"
     ]
    }
   ],
   "source": [
    "new_df[new_df[('close_open',  'std')]>2*new_df[('close_open',  'std')].std()]"
   ]
  },
  {
   "cell_type": "code",
   "execution_count": 20,
   "id": "d162b0f3",
   "metadata": {},
   "outputs": [
    {
     "data": {
      "text/plain": [
       "<matplotlib.collections.PathCollection at 0x7fd2ab769490>"
      ]
     },
     "execution_count": 20,
     "metadata": {},
     "output_type": "execute_result"
    },
    {
     "data": {
      "image/png": "[encoded data removed]",
      "text/plain": [
       "<Figure size 2160x720 with 1 Axes>"
      ]
     },
     "metadata": {
      "needs_background": "light"
     },
     "output_type": "display_data"
    }
   ],
   "source": [
    "fig, ax = plt.subplots() \n",
    "ax.scatter(df.year, df.low)\n"
   ]
  },
  {
   "cell_type": "code",
   "execution_count": null,
   "id": "a277b5af",
   "metadata": {},
   "outputs": [],
   "source": []
  },
  {
   "cell_type": "code",
   "execution_count": 9,
   "id": "b7f566c6",
   "metadata": {},
   "outputs": [
    {
     "data": {
      "text/plain": [
       "<matplotlib.collections.PathCollection at 0x7fcd2d50bd90>"
      ]
     },
     "execution_count": 9,
     "metadata": {},
     "output_type": "execute_result"
    },
    {
     "data": {
      "image/png": "[encoded data removed]",
      "text/plain": [
       "<Figure size 2160x720 with 1 Axes>"
      ]
     },
     "metadata": {
      "needs_background": "light"
     },
     "output_type": "display_data"
    }
   ],
   "source": [
    "\n",
    "fig, ax = plt.subplots() \n",
    "ax.scatter(df.year, df.high)\n"
   ]
  },
  {
   "cell_type": "code",
   "execution_count": 10,
   "id": "ae1bebf9",
   "metadata": {},
   "outputs": [],
   "source": [
    "df['prev_close'] = df.close.shift(1)"
   ]
  },
  {
   "cell_type": "code",
   "execution_count": 11,
   "id": "c3d6ab2f",
   "metadata": {},
   "outputs": [],
   "source": [
    "df['prev_open'] = df['open'].shift(1)\n",
    "df['prev_open2'] = df['open'].shift(2)"
   ]
  },
  {
   "cell_type": "code",
   "execution_count": 12,
   "id": "dd4df7ae",
   "metadata": {},
   "outputs": [],
   "source": [
    "df['ma30'] = df['close'].rolling(3000).mean()\n",
    "df['ma100'] = df['close'].rolling(10000).mean()"
   ]
  },
  {
   "cell_type": "code",
   "execution_count": 13,
   "id": "2e9a2623",
   "metadata": {},
   "outputs": [],
   "source": [
    "df = df.dropna(axis=0)"
   ]
  },
  {
   "cell_type": "code",
   "execution_count": 14,
   "id": "461f3f81",
   "metadata": {},
   "outputs": [
    {
     "data": {
      "text/plain": [
       "<matplotlib.legend.Legend at 0x7fcd3f296670>"
      ]
     },
     "execution_count": 14,
     "metadata": {},
     "output_type": "execute_result"
    },
    {
     "data": {
      "image/png": "[encoded data removed]",
      "text/plain": [
       "<Figure size 2160x720 with 1 Axes>"
      ]
     },
     "metadata": {
      "needs_background": "light"
     },
     "output_type": "display_data"
    }
   ],
   "source": [
    "fig, ax = plt.subplots()\n",
    "ax.plot(df.ma30, label = 'Short_term_ma')\n",
    "ax.plot(df.close, label = 'actual close')\n",
    "ax.plot(df.ma100, label = 'long_term_ma')\n",
    "ax.legend(fontsize = 20)"
   ]
  },
  {
   "cell_type": "code",
   "execution_count": 15,
   "id": "334b70ba",
   "metadata": {},
   "outputs": [
    {
     "data": {
      "text/html": [
       "<div>\n",
       "<style scoped>\n",
       "    .dataframe tbody tr th:only-of-type {\n",
       "        vertical-align: middle;\n",
       "    }\n",
       "\n",
       "    .dataframe tbody tr th {\n",
       "        vertical-align: top;\n",
       "    }\n",
       "\n",
       "    .dataframe thead th {\n",
       "        text-align: right;\n",
       "    }\n",
       "</style>\n",
       "<table border=\"1\" class=\"dataframe\">\n",
       "  <thead>\n",
       "    <tr style=\"text-align: right;\">\n",
       "      <th></th>\n",
       "      <th>open</th>\n",
       "      <th>high</th>\n",
       "      <th>low</th>\n",
       "      <th>close</th>\n",
       "      <th>year</th>\n",
       "      <th>month</th>\n",
       "      <th>day</th>\n",
       "      <th>prev_close</th>\n",
       "      <th>prev_open</th>\n",
       "      <th>prev_open2</th>\n",
       "      <th>ma30</th>\n",
       "      <th>ma100</th>\n",
       "    </tr>\n",
       "  </thead>\n",
       "  <tbody>\n",
       "    <tr>\n",
       "      <th>open</th>\n",
       "      <td>1.000000</td>\n",
       "      <td>1.000000</td>\n",
       "      <td>0.999999</td>\n",
       "      <td>0.999999</td>\n",
       "      <td>0.943933</td>\n",
       "      <td>0.001091</td>\n",
       "      <td>-0.003104</td>\n",
       "      <td>0.999999</td>\n",
       "      <td>0.999999</td>\n",
       "      <td>0.999997</td>\n",
       "      <td>0.998401</td>\n",
       "      <td>0.994130</td>\n",
       "    </tr>\n",
       "    <tr>\n",
       "      <th>high</th>\n",
       "      <td>1.000000</td>\n",
       "      <td>1.000000</td>\n",
       "      <td>0.999999</td>\n",
       "      <td>1.000000</td>\n",
       "      <td>0.943954</td>\n",
       "      <td>0.001071</td>\n",
       "      <td>-0.003104</td>\n",
       "      <td>0.999999</td>\n",
       "      <td>0.999998</td>\n",
       "      <td>0.999997</td>\n",
       "      <td>0.998407</td>\n",
       "      <td>0.994146</td>\n",
       "    </tr>\n",
       "    <tr>\n",
       "      <th>low</th>\n",
       "      <td>0.999999</td>\n",
       "      <td>0.999999</td>\n",
       "      <td>1.000000</td>\n",
       "      <td>1.000000</td>\n",
       "      <td>0.943911</td>\n",
       "      <td>0.001113</td>\n",
       "      <td>-0.003102</td>\n",
       "      <td>0.999999</td>\n",
       "      <td>0.999998</td>\n",
       "      <td>0.999996</td>\n",
       "      <td>0.998393</td>\n",
       "      <td>0.994111</td>\n",
       "    </tr>\n",
       "    <tr>\n",
       "      <th>close</th>\n",
       "      <td>0.999999</td>\n",
       "      <td>1.000000</td>\n",
       "      <td>1.000000</td>\n",
       "      <td>1.000000</td>\n",
       "      <td>0.943933</td>\n",
       "      <td>0.001092</td>\n",
       "      <td>-0.003104</td>\n",
       "      <td>0.999999</td>\n",
       "      <td>0.999998</td>\n",
       "      <td>0.999996</td>\n",
       "      <td>0.998400</td>\n",
       "      <td>0.994129</td>\n",
       "    </tr>\n",
       "    <tr>\n",
       "      <th>year</th>\n",
       "      <td>0.943933</td>\n",
       "      <td>0.943954</td>\n",
       "      <td>0.943911</td>\n",
       "      <td>0.943933</td>\n",
       "      <td>1.000000</td>\n",
       "      <td>-0.066648</td>\n",
       "      <td>-0.007677</td>\n",
       "      <td>0.943933</td>\n",
       "      <td>0.943933</td>\n",
       "      <td>0.943933</td>\n",
       "      <td>0.944589</td>\n",
       "      <td>0.945792</td>\n",
       "    </tr>\n",
       "    <tr>\n",
       "      <th>month</th>\n",
       "      <td>0.001091</td>\n",
       "      <td>0.001071</td>\n",
       "      <td>0.001113</td>\n",
       "      <td>0.001092</td>\n",
       "      <td>-0.066648</td>\n",
       "      <td>1.000000</td>\n",
       "      <td>0.013079</td>\n",
       "      <td>0.001090</td>\n",
       "      <td>0.001090</td>\n",
       "      <td>0.001089</td>\n",
       "      <td>-0.000525</td>\n",
       "      <td>-0.002237</td>\n",
       "    </tr>\n",
       "    <tr>\n",
       "      <th>day</th>\n",
       "      <td>-0.003104</td>\n",
       "      <td>-0.003104</td>\n",
       "      <td>-0.003102</td>\n",
       "      <td>-0.003104</td>\n",
       "      <td>-0.007677</td>\n",
       "      <td>0.013079</td>\n",
       "      <td>1.000000</td>\n",
       "      <td>-0.003104</td>\n",
       "      <td>-0.003104</td>\n",
       "      <td>-0.003104</td>\n",
       "      <td>-0.001195</td>\n",
       "      <td>-0.000216</td>\n",
       "    </tr>\n",
       "    <tr>\n",
       "      <th>prev_close</th>\n",
       "      <td>0.999999</td>\n",
       "      <td>0.999999</td>\n",
       "      <td>0.999999</td>\n",
       "      <td>0.999999</td>\n",
       "      <td>0.943933</td>\n",
       "      <td>0.001090</td>\n",
       "      <td>-0.003104</td>\n",
       "      <td>1.000000</td>\n",
       "      <td>0.999999</td>\n",
       "      <td>0.999998</td>\n",
       "      <td>0.998401</td>\n",
       "      <td>0.994130</td>\n",
       "    </tr>\n",
       "    <tr>\n",
       "      <th>prev_open</th>\n",
       "      <td>0.999999</td>\n",
       "      <td>0.999998</td>\n",
       "      <td>0.999998</td>\n",
       "      <td>0.999998</td>\n",
       "      <td>0.943933</td>\n",
       "      <td>0.001090</td>\n",
       "      <td>-0.003104</td>\n",
       "      <td>0.999999</td>\n",
       "      <td>1.000000</td>\n",
       "      <td>0.999999</td>\n",
       "      <td>0.998402</td>\n",
       "      <td>0.994132</td>\n",
       "    </tr>\n",
       "    <tr>\n",
       "      <th>prev_open2</th>\n",
       "      <td>0.999997</td>\n",
       "      <td>0.999997</td>\n",
       "      <td>0.999996</td>\n",
       "      <td>0.999996</td>\n",
       "      <td>0.943933</td>\n",
       "      <td>0.001089</td>\n",
       "      <td>-0.003104</td>\n",
       "      <td>0.999998</td>\n",
       "      <td>0.999999</td>\n",
       "      <td>1.000000</td>\n",
       "      <td>0.998404</td>\n",
       "      <td>0.994133</td>\n",
       "    </tr>\n",
       "    <tr>\n",
       "      <th>ma30</th>\n",
       "      <td>0.998401</td>\n",
       "      <td>0.998407</td>\n",
       "      <td>0.998393</td>\n",
       "      <td>0.998400</td>\n",
       "      <td>0.944589</td>\n",
       "      <td>-0.000525</td>\n",
       "      <td>-0.001195</td>\n",
       "      <td>0.998401</td>\n",
       "      <td>0.998402</td>\n",
       "      <td>0.998404</td>\n",
       "      <td>1.000000</td>\n",
       "      <td>0.997082</td>\n",
       "    </tr>\n",
       "    <tr>\n",
       "      <th>ma100</th>\n",
       "      <td>0.994130</td>\n",
       "      <td>0.994146</td>\n",
       "      <td>0.994111</td>\n",
       "      <td>0.994129</td>\n",
       "      <td>0.945792</td>\n",
       "      <td>-0.002237</td>\n",
       "      <td>-0.000216</td>\n",
       "      <td>0.994130</td>\n",
       "      <td>0.994132</td>\n",
       "      <td>0.994133</td>\n",
       "      <td>0.997082</td>\n",
       "      <td>1.000000</td>\n",
       "    </tr>\n",
       "  </tbody>\n",
       "</table>\n",
       "</div>"
      ],
      "text/plain": [
       "                open      high       low     close      year     month  \\\n",
       "open        1.000000  1.000000  0.999999  0.999999  0.943933  0.001091   \n",
       "high        1.000000  1.000000  0.999999  1.000000  0.943954  0.001071   \n",
       "low         0.999999  0.999999  1.000000  1.000000  0.943911  0.001113   \n",
       "close       0.999999  1.000000  1.000000  1.000000  0.943933  0.001092   \n",
       "year        0.943933  0.943954  0.943911  0.943933  1.000000 -0.066648   \n",
       "month       0.001091  0.001071  0.001113  0.001092 -0.066648  1.000000   \n",
       "day        -0.003104 -0.003104 -0.003102 -0.003104 -0.007677  0.013079   \n",
       "prev_close  0.999999  0.999999  0.999999  0.999999  0.943933  0.001090   \n",
       "prev_open   0.999999  0.999998  0.999998  0.999998  0.943933  0.001090   \n",
       "prev_open2  0.999997  0.999997  0.999996  0.999996  0.943933  0.001089   \n",
       "ma30        0.998401  0.998407  0.998393  0.998400  0.944589 -0.000525   \n",
       "ma100       0.994130  0.994146  0.994111  0.994129  0.945792 -0.002237   \n",
       "\n",
       "                 day  prev_close  prev_open  prev_open2      ma30     ma100  \n",
       "open       -0.003104    0.999999   0.999999    0.999997  0.998401  0.994130  \n",
       "high       -0.003104    0.999999   0.999998    0.999997  0.998407  0.994146  \n",
       "low        -0.003102    0.999999   0.999998    0.999996  0.998393  0.994111  \n",
       "close      -0.003104    0.999999   0.999998    0.999996  0.998400  0.994129  \n",
       "year       -0.007677    0.943933   0.943933    0.943933  0.944589  0.945792  \n",
       "month       0.013079    0.001090   0.001090    0.001089 -0.000525 -0.002237  \n",
       "day         1.000000   -0.003104  -0.003104   -0.003104 -0.001195 -0.000216  \n",
       "prev_close -0.003104    1.000000   0.999999    0.999998  0.998401  0.994130  \n",
       "prev_open  -0.003104    0.999999   1.000000    0.999999  0.998402  0.994132  \n",
       "prev_open2 -0.003104    0.999998   0.999999    1.000000  0.998404  0.994133  \n",
       "ma30       -0.001195    0.998401   0.998402    0.998404  1.000000  0.997082  \n",
       "ma100      -0.000216    0.994130   0.994132    0.994133  0.997082  1.000000  "
      ]
     },
     "execution_count": 15,
     "metadata": {},
     "output_type": "execute_result"
    }
   ],
   "source": [
    "df.corr()"
   ]
  },
  {
   "cell_type": "code",
   "execution_count": 16,
   "id": "1d06d3c2",
   "metadata": {},
   "outputs": [],
   "source": [
    "def buysell(df):\n",
    "    buy = []\n",
    "    sell = []\n",
    "    position = False\n",
    "    for i in range(len(df)):\n",
    "        if df['ma30'][i]>df['ma100'][i]:\n",
    "            if position == False:\n",
    "                buy.append(df['close'][i])\n",
    "                sell.append(np.nan)\n",
    "                position = True\n",
    "            else:\n",
    "                buy.append(np.nan)\n",
    "                sell.append(np.nan)\n",
    "\n",
    "        elif df['ma30'][i]<df['ma100'][i]:\n",
    "            if position == True:\n",
    "                sell.append(df['close'][i])\n",
    "                buy.append(np.nan)\n",
    "                position = False\n",
    "            else:\n",
    "                sell.append(np.nan)\n",
    "                buy.append(np.nan)\n",
    "\n",
    "        else:\n",
    "            buy.append(np.nan)\n",
    "            sell.append(np.nan)\n",
    "        \n",
    "    return buy, sell\n",
    "        "
   ]
  },
  {
   "cell_type": "code",
   "execution_count": 17,
   "id": "0d16faaa",
   "metadata": {},
   "outputs": [],
   "source": [
    "df.reset_index(inplace = True , drop = True)"
   ]
  },
  {
   "cell_type": "code",
   "execution_count": 18,
   "id": "07ab0a33",
   "metadata": {},
   "outputs": [],
   "source": [
    "buy, sell = buysell(df)"
   ]
  },
  {
   "cell_type": "code",
   "execution_count": 19,
   "id": "6ca9e3e7",
   "metadata": {},
   "outputs": [
    {
     "name": "stdout",
     "output_type": "stream",
     "text": [
      "1192107\n",
      "1192107\n",
      "1192107\n"
     ]
    }
   ],
   "source": [
    "print(len(buy))\n",
    "print(len(sell))\n",
    "print(len(df))"
   ]
  },
  {
   "cell_type": "code",
   "execution_count": 20,
   "id": "9840c9ed",
   "metadata": {},
   "outputs": [
    {
     "data": {
      "text/html": [
       "<div>\n",
       "<style scoped>\n",
       "    .dataframe tbody tr th:only-of-type {\n",
       "        vertical-align: middle;\n",
       "    }\n",
       "\n",
       "    .dataframe tbody tr th {\n",
       "        vertical-align: top;\n",
       "    }\n",
       "\n",
       "    .dataframe thead th {\n",
       "        text-align: right;\n",
       "    }\n",
       "</style>\n",
       "<table border=\"1\" class=\"dataframe\">\n",
       "  <thead>\n",
       "    <tr style=\"text-align: right;\">\n",
       "      <th></th>\n",
       "      <th>buy</th>\n",
       "      <th>sell</th>\n",
       "    </tr>\n",
       "  </thead>\n",
       "  <tbody>\n",
       "    <tr>\n",
       "      <th>0</th>\n",
       "      <td>NaN</td>\n",
       "      <td>NaN</td>\n",
       "    </tr>\n",
       "    <tr>\n",
       "      <th>1</th>\n",
       "      <td>NaN</td>\n",
       "      <td>NaN</td>\n",
       "    </tr>\n",
       "    <tr>\n",
       "      <th>2</th>\n",
       "      <td>NaN</td>\n",
       "      <td>NaN</td>\n",
       "    </tr>\n",
       "    <tr>\n",
       "      <th>3</th>\n",
       "      <td>NaN</td>\n",
       "      <td>NaN</td>\n",
       "    </tr>\n",
       "    <tr>\n",
       "      <th>4</th>\n",
       "      <td>NaN</td>\n",
       "      <td>NaN</td>\n",
       "    </tr>\n",
       "    <tr>\n",
       "      <th>...</th>\n",
       "      <td>...</td>\n",
       "      <td>...</td>\n",
       "    </tr>\n",
       "    <tr>\n",
       "      <th>1192102</th>\n",
       "      <td>NaN</td>\n",
       "      <td>NaN</td>\n",
       "    </tr>\n",
       "    <tr>\n",
       "      <th>1192103</th>\n",
       "      <td>NaN</td>\n",
       "      <td>NaN</td>\n",
       "    </tr>\n",
       "    <tr>\n",
       "      <th>1192104</th>\n",
       "      <td>NaN</td>\n",
       "      <td>NaN</td>\n",
       "    </tr>\n",
       "    <tr>\n",
       "      <th>1192105</th>\n",
       "      <td>NaN</td>\n",
       "      <td>NaN</td>\n",
       "    </tr>\n",
       "    <tr>\n",
       "      <th>1192106</th>\n",
       "      <td>NaN</td>\n",
       "      <td>NaN</td>\n",
       "    </tr>\n",
       "  </tbody>\n",
       "</table>\n",
       "<p>1192107 rows × 2 columns</p>\n",
       "</div>"
      ],
      "text/plain": [
       "         buy  sell\n",
       "0        NaN   NaN\n",
       "1        NaN   NaN\n",
       "2        NaN   NaN\n",
       "3        NaN   NaN\n",
       "4        NaN   NaN\n",
       "...      ...   ...\n",
       "1192102  NaN   NaN\n",
       "1192103  NaN   NaN\n",
       "1192104  NaN   NaN\n",
       "1192105  NaN   NaN\n",
       "1192106  NaN   NaN\n",
       "\n",
       "[1192107 rows x 2 columns]"
      ]
     },
     "execution_count": 20,
     "metadata": {},
     "output_type": "execute_result"
    }
   ],
   "source": [
    "buydf = pd.DataFrame({'buy':buy, 'sell':sell})\n",
    "buydf"
   ]
  },
  {
   "cell_type": "code",
   "execution_count": 26,
   "id": "d1c7fd20",
   "metadata": {},
   "outputs": [
    {
     "ename": "ValueError",
     "evalue": "The truth value of a DataFrame is ambiguous. Use a.empty, a.bool(), a.item(), a.any() or a.all().",
     "output_type": "error",
     "traceback": [
      "\u001b[0;31m---------------------------------------------------------------------------\u001b[0m",
      "\u001b[0;31mValueError\u001b[0m                                Traceback (most recent call last)",
      "\u001b[0;32m/var/folders/36/2w68f_916m5_4nk8vnz8j2yw0000gn/T/ipykernel_76957/443154605.py\u001b[0m in \u001b[0;36m<module>\u001b[0;34m\u001b[0m\n\u001b[0;32m----> 1\u001b[0;31m \u001b[0mbuydf\u001b[0m\u001b[0;34m[\u001b[0m\u001b[0;32mnot\u001b[0m \u001b[0mbuydf\u001b[0m\u001b[0;34m.\u001b[0m\u001b[0misna\u001b[0m\u001b[0;34m(\u001b[0m\u001b[0;34m)\u001b[0m\u001b[0;34m]\u001b[0m\u001b[0;34m\u001b[0m\u001b[0;34m\u001b[0m\u001b[0m\n\u001b[0m",
      "\u001b[0;32m~/miniconda3/lib/python3.9/site-packages/pandas/core/generic.py\u001b[0m in \u001b[0;36m__nonzero__\u001b[0;34m(self)\u001b[0m\n\u001b[1;32m   1535\u001b[0m     \u001b[0;34m@\u001b[0m\u001b[0mfinal\u001b[0m\u001b[0;34m\u001b[0m\u001b[0;34m\u001b[0m\u001b[0m\n\u001b[1;32m   1536\u001b[0m     \u001b[0;32mdef\u001b[0m \u001b[0m__nonzero__\u001b[0m\u001b[0;34m(\u001b[0m\u001b[0mself\u001b[0m\u001b[0;34m)\u001b[0m\u001b[0;34m:\u001b[0m\u001b[0;34m\u001b[0m\u001b[0;34m\u001b[0m\u001b[0m\n\u001b[0;32m-> 1537\u001b[0;31m         raise ValueError(\n\u001b[0m\u001b[1;32m   1538\u001b[0m             \u001b[0;34mf\"The truth value of a {type(self).__name__} is ambiguous. \"\u001b[0m\u001b[0;34m\u001b[0m\u001b[0;34m\u001b[0m\u001b[0m\n\u001b[1;32m   1539\u001b[0m             \u001b[0;34m\"Use a.empty, a.bool(), a.item(), a.any() or a.all().\"\u001b[0m\u001b[0;34m\u001b[0m\u001b[0;34m\u001b[0m\u001b[0m\n",
      "\u001b[0;31mValueError\u001b[0m: The truth value of a DataFrame is ambiguous. Use a.empty, a.bool(), a.item(), a.any() or a.all()."
     ]
    }
   ],
   "source": [
    "buydf[not buydf.isna()]"
   ]
  },
  {
   "cell_type": "code",
   "execution_count": null,
   "id": "854cfe25",
   "metadata": {},
   "outputs": [],
   "source": []
  }
 ],
 "metadata": {
  "kernelspec": {
   "display_name": "Python 3 (ipykernel)",
   "language": "python",
   "name": "python3"
  },
  "language_info": {
   "codemirror_mode": {
    "name": "ipython",
    "version": 3
   },
   "file_extension": ".py",
   "mimetype": "text/x-python",
   "name": "python",
   "nbconvert_exporter": "python",
   "pygments_lexer": "ipython3",
   "version": "3.9.5"
  }
 },
 "nbformat": 4,
 "nbformat_minor": 5
}
