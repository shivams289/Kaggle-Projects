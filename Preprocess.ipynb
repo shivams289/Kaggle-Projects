{
  "nbformat": 4,
  "nbformat_minor": 0,
  "metadata": {
    "colab": {
      "name": "Preprocess.ipynb",
      "provenance": [],
      "collapsed_sections": []
    },
    "kernelspec": {
      "name": "python3",
      "display_name": "Python 3"
    },
    "language_info": {
      "name": "python"
    }
  },
  "cells": [
    {
      "cell_type": "code",
      "metadata": {
        "id": "A9SSMMlZsWzl"
      },
      "source": [
        "#Pre - processing goals:\n",
        "\n",
        "#1.Remove all company names showed in the article \n",
        "#2.Regular Expression/Normalization — lowercase the words, remove punctuation and remove numbers\n",
        "#3.Stemming and lemmatization\n",
        "#4.Remove stop words\n",
        "#5.Tokenization\n",
        " \n"
      ],
      "execution_count": 86,
      "outputs": []
    },
    {
      "cell_type": "code",
      "metadata": {
        "id": "TuWmCYkevi59"
      },
      "source": [
        "import pandas as pd\n",
        "import numpy as np\n"
      ],
      "execution_count": 87,
      "outputs": []
    },
    {
      "cell_type": "code",
      "metadata": {
        "colab": {
          "base_uri": "https://localhost:8080/"
        },
        "id": "fEdFsSGfLx3a",
        "outputId": "d7379fa9-7edd-4a39-888b-f8d8bab13e9a"
      },
      "source": [
        "#preprocessing libraries for nlp\n",
        "import re\n",
        "import nltk\n",
        "nltk.download('stopwords')\n",
        "from nltk.corpus import stopwords\n",
        "from nltk.stem import WordNetLemmatizer\n",
        "nltk.download('wordnet')\n",
        "from nltk.stem.porter import PorterStemmer"
      ],
      "execution_count": 88,
      "outputs": [
        {
          "output_type": "stream",
          "name": "stdout",
          "text": [
            "[nltk_data] Downloading package stopwords to /root/nltk_data...\n",
            "[nltk_data]   Package stopwords is already up-to-date!\n",
            "[nltk_data] Downloading package wordnet to /root/nltk_data...\n",
            "[nltk_data]   Package wordnet is already up-to-date!\n"
          ]
        }
      ]
    },
    {
      "cell_type": "code",
      "metadata": {
        "id": "Jar640EbkOOW"
      },
      "source": [
        "# We will use this for identifying company names and their spans\n",
        "\n",
        "import spacy\n",
        "nlp = spacy.load('en_core_web_sm')"
      ],
      "execution_count": 89,
      "outputs": []
    },
    {
      "cell_type": "code",
      "metadata": {
        "id": "mX73KVZNvu2B",
        "colab": {
          "base_uri": "https://localhost:8080/"
        },
        "outputId": "d55e807d-f5d4-4636-86af-8392e195a22c"
      },
      "source": [
        "df = pd.read_csv('/content/drive/MyDrive/sharmadata.csv')\n",
        "df.columns\n"
      ],
      "execution_count": 90,
      "outputs": [
        {
          "output_type": "execute_result",
          "data": {
            "text/plain": [
              "Index(['News_content', 'Link', 'Title'], dtype='object')"
            ]
          },
          "metadata": {},
          "execution_count": 90
        }
      ]
    },
    {
      "cell_type": "code",
      "metadata": {
        "colab": {
          "base_uri": "https://localhost:8080/"
        },
        "id": "GlHo04Csv7I5",
        "outputId": "88f1d1a9-dbbf-449b-b3d2-7c706e188d68"
      },
      "source": [
        "#checking of our all article DataFrame contains any NUll values\n",
        "df.isnull().sum()"
      ],
      "execution_count": 91,
      "outputs": [
        {
          "output_type": "execute_result",
          "data": {
            "text/plain": [
              "News_content    0\n",
              "Link            0\n",
              "Title           0\n",
              "dtype: int64"
            ]
          },
          "metadata": {},
          "execution_count": 91
        }
      ]
    },
    {
      "cell_type": "code",
      "metadata": {
        "id": "yhixBLz_xMvM"
      },
      "source": [
        "wordnet = WordNetLemmatizer()\n",
        "ps      = PorterStemmer()"
      ],
      "execution_count": 92,
      "outputs": []
    },
    {
      "cell_type": "code",
      "metadata": {
        "id": "GKw36I64jU9F"
      },
      "source": [
        "#Removing Company names using NER model in spacy\n",
        "\n",
        "def Remove_company_names(article):\n",
        "  doc  = nlp(article)\n",
        "  aft_comp_remov_art = article # we will save this functions output in this variable \n",
        "  for ent in doc.ents:\n",
        "    if ent.label_ == 'ORG' :\n",
        "      aft_comp_remov_art = re.sub(ent.text, ' ', aft_comp_remov_art)\n",
        "\n",
        "  return aft_comp_remov_art #Returning a string having company names removed\n"
      ],
      "execution_count": 93,
      "outputs": []
    },
    {
      "cell_type": "code",
      "metadata": {
        "id": "udtB-LE0wS7b"
      },
      "source": [
        "def All_other_pre_processing(article):\n",
        "  corpus = []\n",
        "  review = re.sub('[^a-zA-Z]', ' ', article) #Remove everything(Punctuations, Numbers, etc... except the alphabetical words)\n",
        "  review = review.lower()                     #lowercasing the words\n",
        "  review = review.split()\n",
        "  review = [wordnet.lemmatize(word) for word in review if not word in stopwords.words('english')] #removing stopwords and lemmatizing\n",
        "  review = [ps.stem(word) for word in review] #stemming\n",
        "  review = ' '.join(review)\n",
        "  corpus.append(review)\n",
        "\n",
        "  return corpus[0] #Returning final preprocessed article string"
      ],
      "execution_count": 94,
      "outputs": []
    },
    {
      "cell_type": "code",
      "metadata": {
        "id": "AoYYO6TxrO49"
      },
      "source": [
        "def tokenizing(article):\n",
        "#tokenization\n",
        "#we can also use tokenizers library\n",
        "  tokens = [word for word in article.split()]\n",
        "  return tokens"
      ],
      "execution_count": 95,
      "outputs": []
    },
    {
      "cell_type": "code",
      "metadata": {
        "id": "BHXlQDXOm9G1"
      },
      "source": [
        "un_processed_article = df['News_content'][0]\n",
        "\n",
        "comp_names_remov_article = Remove_company_names(un_processed_article)\n",
        "\n",
        "final_article = All_other_pre_processing(comp_names_remov_article)\n",
        "\n",
        "final_article_tokens = tokenizing(final_article)"
      ],
      "execution_count": 97,
      "outputs": []
    },
    {
      "cell_type": "code",
      "metadata": {
        "colab": {
          "base_uri": "https://localhost:8080/"
        },
        "id": "-xWGsZhIqbSz",
        "outputId": "1699b464-4d57-4d9f-f273-7337edf7d7ed"
      },
      "source": [
        "print(len(un_processed_article))\n",
        "print(len(comp_names_remov_article))\n",
        "print(len(final_article))"
      ],
      "execution_count": 98,
      "outputs": [
        {
          "output_type": "stream",
          "name": "stdout",
          "text": [
            "2217\n",
            "2102\n",
            "1322\n"
          ]
        }
      ]
    },
    {
      "cell_type": "code",
      "metadata": {
        "id": "j8yfqgsAyKBl",
        "colab": {
          "base_uri": "https://localhost:8080/",
          "height": 276
        },
        "outputId": "cbc0ad1a-e41b-40b5-bfc1-39ec44777274"
      },
      "source": [
        "un_processed_article"
      ],
      "execution_count": 99,
      "outputs": [
        {
          "output_type": "execute_result",
          "data": {
            "application/vnd.google.colaboratory.intrinsic+json": {
              "type": "string"
            },
            "text/plain": [
              "\" China's visa and international travel restrictions have helped to keep Covid-19 in check yet become ... [+] a source of frustration for American companies in the country. (Photo by NOEL CELIS/AFP via Getty Images) A survey by the American Chamber of Commerce in China released Friday found that nearly two-thirds of respondents want the U.S. and the Chinese governments to restore visa services and travel channels for business executives and their dependents as their top priority this year.  “As the pandemic continues well into its second year, the priorities for our member companies remain consistent, with the resumption of business travel at the top of the list,” said AmCham China Chairman Greg Gilligan in a statement.  Other top priorities for member companies this year include regularized government-to-government\\xa0communication, and the removal of bilateral tariffs, the flash survey found.  “The state of the overall U.S.-China relationship is as important as ever to the business community, with members prioritizing concrete results and actions as a way to restore trust between the two countries,” Gilligan said.  The survey by Beijing-based Amcham China was conducted from August 23-25 to better understand how member companies perceive priorities for\\xa0U.S.-China relations, Phase One Agreement implementation, and the current situation with respect to\\xa0bilateral tariffs. Some 125 companies – of a total of nearly 1,000 members — submitted responses. The organization didn’t say which companies participated in the survey. Amcham China board members include include executives from Intel, Boeing, Microsoft and Goldman Sachs.  Other top issues include the removal of bilateral tariffs, restarting people-to-people exchanges, and a meeting between U.S. President Joe Biden and China President Xi Jinping before year’s end.\\xa0The two spoke by phone on Thursday, the White House said (see statement here). Click here for the full Amcham survey results.  See related posts here:  Seven Months In, Biden’s China Policy Uncertainty Is Hurting American Businesses\\\\ It’s Time To Talk About Easing Trump’s China Tariffs China Poised To Play Larger Role In Global Entertainment Industry: IMAX CEO  @rflannerchina\""
            ]
          },
          "metadata": {},
          "execution_count": 99
        }
      ]
    },
    {
      "cell_type": "code",
      "metadata": {
        "id": "L7CpSHFByQZ8",
        "colab": {
          "base_uri": "https://localhost:8080/",
          "height": 174
        },
        "outputId": "51712897-d2d8-44c2-9b43-491cf7f2dff1"
      },
      "source": [
        "final_article"
      ],
      "execution_count": 100,
      "outputs": [
        {
          "output_type": "execute_result",
          "data": {
            "application/vnd.google.colaboratory.intrinsic+json": {
              "type": "string"
            },
            "text/plain": [
              "'china visa intern travel restrict help keep covid check yet becom sourc frustrat american compani countri photo noel celi afp via survey china releas friday found nearli two third respond want u chines govern restor visa servic travel channel busi execut depend top prioriti year pandem continu well second year prioriti member compani remain consist resumpt busi travel top list said amcham china chairman greg gilligan statement top prioriti member compani year includ regular govern govern commun remov bilater tariff flash survey found state overal u china relationship import ever busi commun member priorit concret result action way restor trust two countri gilligan said survey beij base conduct august better understand member compani perceiv prioriti u china relat phase one agreement implement current situat respect bilater tariff compani total nearli member submit respons organ say compani particip survey board member includ includ execut top issu includ remov bilater tariff restart peopl peopl exchang meet u presid joe biden china presid xi jinp year end two spoke phone thursday said see statement click full survey result see relat post seven month biden china polici uncertainti hurt american busi time talk eas trump china tariff china pois play larger role global entertain industri ceo rflannerchina'"
            ]
          },
          "metadata": {},
          "execution_count": 100
        }
      ]
    },
    {
      "cell_type": "code",
      "metadata": {
        "id": "poFB85UZz2F-"
      },
      "source": [
        "final_article_tokens"
      ],
      "execution_count": null,
      "outputs": []
    },
    {
      "cell_type": "code",
      "metadata": {
        "id": "RBVakkyWPIbU"
      },
      "source": [
        "#confirming if there is a number in our article!?\n",
        "pattern = re.compile(r'\\d+')\n",
        "matches = pattern.finditer(final_article)\n",
        "for match in matches:\n",
        "  print(match)"
      ],
      "execution_count": null,
      "outputs": []
    },
    {
      "cell_type": "code",
      "metadata": {
        "colab": {
          "base_uri": "https://localhost:8080/"
        },
        "id": "JYF_IH-Xxl23",
        "outputId": "4d4d7586-520c-49f6-bd8c-295f432c27d2"
      },
      "source": [
        "#Checking if we had company names(Yes! We had..)\n",
        "doc  = nlp(un_processed_article )  \n",
        "for ent in doc.ents:\n",
        "  if ent.label_ == 'ORG' :\n",
        "    print(ent.text)"
      ],
      "execution_count": 102,
      "outputs": [
        {
          "output_type": "stream",
          "name": "stdout",
          "text": [
            "Getty Images\n",
            "the American Chamber of Commerce\n",
            "Amcham China\n",
            "Amcham China board\n",
            "Intel\n",
            "Boeing\n",
            "Microsoft\n",
            "Goldman Sachs\n",
            "the White House\n",
            "Amcham\n",
            "IMAX\n"
          ]
        }
      ]
    },
    {
      "cell_type": "code",
      "metadata": {
        "id": "w91UL_EfFIKo"
      },
      "source": [
        "#Checking if we removed company names(Yes! We did..)\n",
        "doc  = nlp(comp_names_remov_article )  \n",
        "for ent in doc.ents:\n",
        "  if ent.label_ == 'ORG' :\n",
        "    print(ent.text)"
      ],
      "execution_count": 104,
      "outputs": []
    },
    {
      "cell_type": "code",
      "metadata": {
        "id": "V7Ud8YhRYAbD"
      },
      "source": [
        "#Method 2 to remove company names without using re\n",
        "#Here We are using Named entity recognition function of spacy\n",
        "\n",
        "def Method2_comp_name_remov(article):\n",
        "  doc  = nlp(article)\n",
        "  start = 0\n",
        "  aft_remov_comp = '' #Here we will store the final article\n",
        "  for ent in doc.ents:\n",
        "    if ent.label_ == 'ORG' :\n",
        "      aft_remov_comp = aft_remov_comp + article[start:ent.start_char]  \n",
        "      start = ent.end_char+1\n",
        "\n",
        "  aft_remov_comp = aft_remov_comp + text[start:len(text)]\n",
        "\n",
        "  return aft_remov_comp\n"
      ],
      "execution_count": null,
      "outputs": []
    }
  ]
}