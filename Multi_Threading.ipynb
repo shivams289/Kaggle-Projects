{
  "cells": [
    {
      "cell_type": "markdown",
      "metadata": {
        "id": "view-in-github",
        "colab_type": "text"
      },
      "source": [
        "<a href=\"https://colab.research.google.com/github/shivams289/Projects/blob/main/Multi_Threading.ipynb\" target=\"_parent\"><img src=\"https://colab.research.google.com/assets/colab-badge.svg\" alt=\"Open In Colab\"/></a>"
      ]
    },
    {
      "cell_type": "code",
      "execution_count": null,
      "id": "380ed8d7",
      "metadata": {
        "id": "380ed8d7"
      },
      "outputs": [],
      "source": [
        "import time"
      ]
    },
    {
      "cell_type": "code",
      "execution_count": null,
      "id": "d6838983",
      "metadata": {
        "id": "d6838983",
        "outputId": "34ca6d32-7d0f-4c55-c8cc-8cd60cfc26f7"
      },
      "outputs": [
        {
          "name": "stdout",
          "output_type": "stream",
          "text": [
            "sleeping 1 sec...\n",
            "Done sleeping...\n",
            "sleeping 1 sec...\n",
            "Done sleeping...\n",
            "CPU times: user 5.21 ms, sys: 3.6 ms, total: 8.8 ms\n",
            "Wall time: 2.01 s\n"
          ]
        }
      ],
      "source": [
        "%%time\n",
        "start = time.perf_counter()\n",
        "def do_something():\n",
        "    print('sleeping 1 sec...')\n",
        "    time.sleep(1)\n",
        "    print('Done sleeping...')\n",
        "do_something()\n",
        "do_something()\n",
        "\n",
        "finish = time.perf_counter()"
      ]
    },
    {
      "cell_type": "code",
      "execution_count": null,
      "id": "8475abe8",
      "metadata": {
        "id": "8475abe8",
        "outputId": "cfbff175-1731-4c5b-de07-fc7c9187bda7"
      },
      "outputs": [
        {
          "data": {
            "text/plain": [
              "2.0075615380000045"
            ]
          },
          "execution_count": 7,
          "metadata": {},
          "output_type": "execute_result"
        }
      ],
      "source": [
        "finish-start\n",
        "\n"
      ]
    },
    {
      "cell_type": "code",
      "execution_count": null,
      "id": "11e7690a",
      "metadata": {
        "id": "11e7690a"
      },
      "outputs": [],
      "source": [
        "#CPU bound tasks -- data crunching--no benefit from threading--parallelism benefit\n",
        "#I/O bound tasks--reading writing /downloading"
      ]
    },
    {
      "cell_type": "code",
      "execution_count": null,
      "id": "63ad4523",
      "metadata": {
        "id": "63ad4523"
      },
      "outputs": [],
      "source": [
        "import threading"
      ]
    },
    {
      "cell_type": "code",
      "execution_count": null,
      "id": "698bfc0c",
      "metadata": {
        "id": "698bfc0c",
        "outputId": "35742eb0-c6d0-45d0-aaeb-51e5b501ab83"
      },
      "outputs": [
        {
          "name": "stdout",
          "output_type": "stream",
          "text": [
            "sleeping 1 sec...\n",
            "sleeping 1 sec...\n",
            "Done sleeping...\n",
            "Done sleeping...\n"
          ]
        }
      ],
      "source": [
        "start = time.perf_counter()\n",
        "t1 = threading.Thread(target=do_something)\n",
        "t2 = threading.Thread(target=do_something)\n",
        "t1.start()\n",
        "t2.start()\n",
        "t1.join()\n",
        "t2.join()\n",
        "finish = time.perf_counter()\n"
      ]
    },
    {
      "cell_type": "code",
      "execution_count": null,
      "id": "b5567b71",
      "metadata": {
        "id": "b5567b71",
        "outputId": "51dd6d79-5bb7-4bcd-fa6a-e96c28bbe292"
      },
      "outputs": [
        {
          "name": "stdout",
          "output_type": "stream",
          "text": [
            "1.0103974180001387\n"
          ]
        }
      ],
      "source": [
        "print(finish-start)"
      ]
    },
    {
      "cell_type": "code",
      "execution_count": null,
      "id": "4e22090a",
      "metadata": {
        "id": "4e22090a",
        "outputId": "d9b3714b-5500-420c-cc2b-322e4710ecb6"
      },
      "outputs": [
        {
          "name": "stdout",
          "output_type": "stream",
          "text": [
            "sleeping 1 sec...\n",
            "sleeping 1 sec...\n",
            "sleeping 1 sec...sleeping 1 sec...\n",
            "\n",
            "sleeping 1 sec...sleeping 1 sec...\n",
            "\n",
            "sleeping 1 sec...sleeping 1 sec...\n",
            "\n",
            "sleeping 1 sec...\n",
            "sleeping 1 sec...\n",
            "Done sleeping...\n",
            "Done sleeping...\n",
            "Done sleeping...Done sleeping...\n",
            "\n",
            "Done sleeping...Done sleeping...\n",
            "\n",
            "Done sleeping...Done sleeping...Done sleeping...\n",
            "Done sleeping...\n",
            "\n",
            "\n",
            "1.0268043759997454\n"
          ]
        }
      ],
      "source": [
        "start = time.perf_counter()\n",
        "threads = []\n",
        "for i in range(10):\n",
        "    t = threading.Thread(target = do_something)\n",
        "    t.start()\n",
        "    threads.append(t)\n",
        "    \n",
        "for thread in threads:\n",
        "    thread.join()\n",
        "    \n",
        "finish = time.perf_counter()\n",
        "\n",
        "print(finish-start)"
      ]
    },
    {
      "cell_type": "code",
      "execution_count": null,
      "id": "613e3038",
      "metadata": {
        "id": "613e3038"
      },
      "outputs": [],
      "source": [
        "def do_something(seconds):\n",
        "    print(f'sleeping {seconds} seconds....')\n",
        "    time.sleep(seconds)\n",
        "    print('Done sleeping...')"
      ]
    },
    {
      "cell_type": "code",
      "execution_count": null,
      "id": "ab162691",
      "metadata": {
        "id": "ab162691",
        "outputId": "3675d455-7250-49d3-d12e-a0d0fa7b5c48"
      },
      "outputs": [
        {
          "name": "stdout",
          "output_type": "stream",
          "text": [
            "sleeping 1.5 seconds....sleeping 1.5 seconds....sleeping 1.5 seconds....\n",
            "\n",
            "sleeping 1.5 seconds....\n",
            "\n",
            "sleeping 1.5 seconds....\n",
            "sleeping 1.5 seconds....\n",
            "sleeping 1.5 seconds....sleeping 1.5 seconds....\n",
            "\n",
            "sleeping 1.5 seconds....sleeping 1.5 seconds....\n",
            "\n",
            "Done sleeping...Done sleeping...Done sleeping...Done sleeping...Done sleeping...Done sleeping...\n",
            "\n",
            "\n",
            "\n",
            "\n",
            "\n",
            "Done sleeping...\n",
            "Done sleeping...\n",
            "Done sleeping...\n",
            "Done sleeping...\n",
            "---------------------------------------------\n",
            "finished in 1.52 seconds\n"
          ]
        }
      ],
      "source": [
        "start = time.perf_counter()\n",
        "threads = []\n",
        "for i in range(10):\n",
        "    t = threading.Thread(target = do_something, args = [1.5])\n",
        "    t.start()\n",
        "    threads.append(t)\n",
        "    \n",
        "for thread in threads:\n",
        "    thread.join()\n",
        "    \n",
        "finish = time.perf_counter()\n",
        "print('---------------------------------------------')\n",
        "print(f'finished in {round(finish-start, 2)} seconds')"
      ]
    },
    {
      "cell_type": "code",
      "execution_count": null,
      "id": "65d3b5cc",
      "metadata": {
        "id": "65d3b5cc"
      },
      "outputs": [],
      "source": [
        "def do_something(seconds):\n",
        "    print(f'sleeping {seconds} seconds....')\n",
        "    time.sleep(seconds)\n",
        "    return f'Done sleeping...{seconds}'"
      ]
    },
    {
      "cell_type": "code",
      "execution_count": null,
      "id": "cfc16424",
      "metadata": {
        "id": "cfc16424"
      },
      "outputs": [],
      "source": [
        "import concurrent.futures"
      ]
    },
    {
      "cell_type": "code",
      "execution_count": null,
      "id": "71f58644",
      "metadata": {
        "id": "71f58644",
        "outputId": "f5962633-aed4-4cdb-fe14-6a4ce288f68a"
      },
      "outputs": [
        {
          "name": "stdout",
          "output_type": "stream",
          "text": [
            "sleeping 1 seconds....\n",
            "Done sleeping...\n",
            "---------------------------------------------\n",
            "finished in 1.02 seconds\n"
          ]
        }
      ],
      "source": [
        "start = time.perf_counter()\n",
        "with concurrent.futures.ThreadPoolExecutor() as executor:\n",
        "    f1 = executor.submit(do_something, 1)\n",
        "    print(f1.result())\n",
        "    \n",
        "finish = time.perf_counter()\n",
        "print('---------------------------------------------')\n",
        "print(f'finished in {round(finish-start, 2)} seconds')"
      ]
    },
    {
      "cell_type": "code",
      "execution_count": null,
      "id": "1fe7885b",
      "metadata": {
        "id": "1fe7885b",
        "outputId": "4506ded3-b84b-44e6-e427-05d9ba0b25d2"
      },
      "outputs": [
        {
          "name": "stdout",
          "output_type": "stream",
          "text": [
            "sleeping 5 seconds....\n",
            "sleeping 4 seconds....\n",
            "sleeping 3 seconds....\n",
            "sleeping 2 seconds....\n",
            "sleeping 1 seconds....\n",
            "Done sleeping...1\n",
            "Done sleeping...2\n",
            "Done sleeping...3\n",
            "Done sleeping...4\n",
            "Done sleeping...5\n",
            "---------------------------------------------\n",
            "finished in 5.01 seconds\n"
          ]
        }
      ],
      "source": [
        "start = time.perf_counter()\n",
        "with concurrent.futures.ThreadPoolExecutor() as executor:\n",
        "    secs = [5,4,3,2,1]\n",
        "    results = [executor.submit(do_something, sec) for sec in secs]\n",
        "    \n",
        "    for f in concurrent.futures.as_completed(results):\n",
        "        print(f.result())\n",
        "    \n",
        "finish = time.perf_counter()\n",
        "print('---------------------------------------------')\n",
        "print(f'finished in {round(finish-start, 2)} seconds')"
      ]
    },
    {
      "cell_type": "code",
      "execution_count": null,
      "id": "bcfcbb38",
      "metadata": {
        "id": "bcfcbb38",
        "outputId": "312b84b6-7773-4a52-e4c9-d86ce2952fe2"
      },
      "outputs": [
        {
          "name": "stdout",
          "output_type": "stream",
          "text": [
            "sleeping 5 seconds....sleeping 4 seconds....\n",
            "\n",
            "sleeping 3 seconds....sleeping 2 seconds....\n",
            "\n",
            "sleeping 1 seconds....\n",
            "Done sleeping...5\n",
            "Done sleeping...4\n",
            "Done sleeping...3\n",
            "Done sleeping...2\n",
            "Done sleeping...1\n",
            "---------------------------------------------\n",
            "finished in 5.01 seconds\n"
          ]
        }
      ],
      "source": [
        "start = time.perf_counter()\n",
        "with concurrent.futures.ThreadPoolExecutor() as executor:\n",
        "    secs = [5,4,3,2,1]\n",
        "    results = executor.map(do_something, secs)\n",
        "    \n",
        "    for result in results:\n",
        "        print(result)\n",
        "    \n",
        "finish = time.perf_counter()\n",
        "print('---------------------------------------------')\n",
        "print(f'finished in {round(finish-start, 2)} seconds')"
      ]
    },
    {
      "cell_type": "code",
      "execution_count": null,
      "id": "b2b73cfd",
      "metadata": {
        "id": "b2b73cfd"
      },
      "outputs": [],
      "source": [
        ""
      ]
    },
    {
      "cell_type": "code",
      "execution_count": null,
      "id": "53d568bd",
      "metadata": {
        "id": "53d568bd"
      },
      "outputs": [],
      "source": [
        "#For example to download 25 images one by one takes 25 seconds\n",
        "#but if we do that using multiple threads , it would be completed a lot faster"
      ]
    },
    {
      "cell_type": "code",
      "execution_count": null,
      "id": "6f7e3288",
      "metadata": {
        "id": "6f7e3288"
      },
      "outputs": [],
      "source": [
        ""
      ]
    },
    {
      "cell_type": "code",
      "execution_count": null,
      "id": "7fc0782c",
      "metadata": {
        "id": "7fc0782c"
      },
      "outputs": [],
      "source": [
        ""
      ]
    }
  ],
  "metadata": {
    "kernelspec": {
      "display_name": "Python 3 (ipykernel)",
      "language": "python",
      "name": "python3"
    },
    "language_info": {
      "codemirror_mode": {
        "name": "ipython",
        "version": 3
      },
      "file_extension": ".py",
      "mimetype": "text/x-python",
      "name": "python",
      "nbconvert_exporter": "python",
      "pygments_lexer": "ipython3",
      "version": "3.9.5"
    },
    "colab": {
      "name": "Multi_Threading.ipynb",
      "provenance": [],
      "include_colab_link": true
    }
  },
  "nbformat": 4,
  "nbformat_minor": 5
}