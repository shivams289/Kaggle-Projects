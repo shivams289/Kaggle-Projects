{
 "cells": [
  {
   "cell_type": "code",
   "execution_count": 1,
   "id": "80f499dc",
   "metadata": {},
   "outputs": [],
   "source": [
    "import pandas as pd\n",
    "import numpy as np\n",
    "import matplotlib.pyplot as plt\n",
    "import datetime\n",
    "import seaborn as sns"
   ]
  },
  {
   "cell_type": "code",
   "execution_count": 2,
   "id": "990538df",
   "metadata": {},
   "outputs": [],
   "source": [
    "#0-monday"
   ]
  },
  {
   "cell_type": "code",
   "execution_count": 3,
   "id": "82280b03",
   "metadata": {},
   "outputs": [],
   "source": [
    "df = pd.read_csv('bank_nifty.csv')"
   ]
  },
  {
   "cell_type": "code",
   "execution_count": 4,
   "id": "5871aca4",
   "metadata": {},
   "outputs": [],
   "source": [
    "nifty = pd.read_csv('bank_nifty.csv')"
   ]
  },
  {
   "cell_type": "code",
   "execution_count": 5,
   "id": "67e1a92a",
   "metadata": {},
   "outputs": [
    {
     "data": {
      "text/html": [
       "<div>\n",
       "<style scoped>\n",
       "    .dataframe tbody tr th:only-of-type {\n",
       "        vertical-align: middle;\n",
       "    }\n",
       "\n",
       "    .dataframe tbody tr th {\n",
       "        vertical-align: top;\n",
       "    }\n",
       "\n",
       "    .dataframe thead th {\n",
       "        text-align: right;\n",
       "    }\n",
       "</style>\n",
       "<table border=\"1\" class=\"dataframe\">\n",
       "  <thead>\n",
       "    <tr style=\"text-align: right;\">\n",
       "      <th></th>\n",
       "      <th>name</th>\n",
       "      <th>date</th>\n",
       "      <th>time</th>\n",
       "      <th>open</th>\n",
       "      <th>high</th>\n",
       "      <th>low</th>\n",
       "      <th>close</th>\n",
       "    </tr>\n",
       "  </thead>\n",
       "  <tbody>\n",
       "    <tr>\n",
       "      <th>0</th>\n",
       "      <td>BANKNIFTY</td>\n",
       "      <td>2010-03-02</td>\n",
       "      <td>09:01:00</td>\n",
       "      <td>8826.90</td>\n",
       "      <td>8856.95</td>\n",
       "      <td>8826.90</td>\n",
       "      <td>8839.80</td>\n",
       "    </tr>\n",
       "    <tr>\n",
       "      <th>1</th>\n",
       "      <td>BANKNIFTY</td>\n",
       "      <td>2010-03-02</td>\n",
       "      <td>09:02:00</td>\n",
       "      <td>8840.75</td>\n",
       "      <td>8853.90</td>\n",
       "      <td>8832.80</td>\n",
       "      <td>8852.30</td>\n",
       "    </tr>\n",
       "    <tr>\n",
       "      <th>2</th>\n",
       "      <td>BANKNIFTY</td>\n",
       "      <td>2010-03-02</td>\n",
       "      <td>09:03:00</td>\n",
       "      <td>8855.70</td>\n",
       "      <td>8855.70</td>\n",
       "      <td>8844.65</td>\n",
       "      <td>8846.65</td>\n",
       "    </tr>\n",
       "    <tr>\n",
       "      <th>3</th>\n",
       "      <td>BANKNIFTY</td>\n",
       "      <td>2010-03-02</td>\n",
       "      <td>09:04:00</td>\n",
       "      <td>8843.85</td>\n",
       "      <td>8850.70</td>\n",
       "      <td>8843.75</td>\n",
       "      <td>8846.70</td>\n",
       "    </tr>\n",
       "    <tr>\n",
       "      <th>4</th>\n",
       "      <td>BANKNIFTY</td>\n",
       "      <td>2010-03-02</td>\n",
       "      <td>09:05:00</td>\n",
       "      <td>8846.40</td>\n",
       "      <td>8846.40</td>\n",
       "      <td>8837.75</td>\n",
       "      <td>8841.60</td>\n",
       "    </tr>\n",
       "    <tr>\n",
       "      <th>...</th>\n",
       "      <td>...</td>\n",
       "      <td>...</td>\n",
       "      <td>...</td>\n",
       "      <td>...</td>\n",
       "      <td>...</td>\n",
       "      <td>...</td>\n",
       "      <td>...</td>\n",
       "    </tr>\n",
       "    <tr>\n",
       "      <th>1037382</th>\n",
       "      <td>BANKNIFTY</td>\n",
       "      <td>2021-04-30</td>\n",
       "      <td>15:28:00</td>\n",
       "      <td>32737.45</td>\n",
       "      <td>32741.95</td>\n",
       "      <td>32722.90</td>\n",
       "      <td>32725.95</td>\n",
       "    </tr>\n",
       "    <tr>\n",
       "      <th>1037383</th>\n",
       "      <td>BANKNIFTY</td>\n",
       "      <td>2021-04-30</td>\n",
       "      <td>15:29:00</td>\n",
       "      <td>32730.90</td>\n",
       "      <td>32733.65</td>\n",
       "      <td>32713.35</td>\n",
       "      <td>32718.80</td>\n",
       "    </tr>\n",
       "    <tr>\n",
       "      <th>1037384</th>\n",
       "      <td>BANKNIFTY</td>\n",
       "      <td>2021-04-30</td>\n",
       "      <td>15:30:00</td>\n",
       "      <td>32715.90</td>\n",
       "      <td>32726.20</td>\n",
       "      <td>32706.25</td>\n",
       "      <td>32714.35</td>\n",
       "    </tr>\n",
       "    <tr>\n",
       "      <th>1037385</th>\n",
       "      <td>BANKNIFTY</td>\n",
       "      <td>2021-04-30</td>\n",
       "      <td>15:31:00</td>\n",
       "      <td>32724.90</td>\n",
       "      <td>32724.90</td>\n",
       "      <td>32724.90</td>\n",
       "      <td>32724.90</td>\n",
       "    </tr>\n",
       "    <tr>\n",
       "      <th>1037386</th>\n",
       "      <td>BANKNIFTY</td>\n",
       "      <td>2021-04-30</td>\n",
       "      <td>15:32:00</td>\n",
       "      <td>32781.80</td>\n",
       "      <td>32781.80</td>\n",
       "      <td>32781.80</td>\n",
       "      <td>32781.80</td>\n",
       "    </tr>\n",
       "  </tbody>\n",
       "</table>\n",
       "<p>1037387 rows × 7 columns</p>\n",
       "</div>"
      ],
      "text/plain": [
       "              name        date      time      open      high       low  \\\n",
       "0        BANKNIFTY  2010-03-02  09:01:00   8826.90   8856.95   8826.90   \n",
       "1        BANKNIFTY  2010-03-02  09:02:00   8840.75   8853.90   8832.80   \n",
       "2        BANKNIFTY  2010-03-02  09:03:00   8855.70   8855.70   8844.65   \n",
       "3        BANKNIFTY  2010-03-02  09:04:00   8843.85   8850.70   8843.75   \n",
       "4        BANKNIFTY  2010-03-02  09:05:00   8846.40   8846.40   8837.75   \n",
       "...            ...         ...       ...       ...       ...       ...   \n",
       "1037382  BANKNIFTY  2021-04-30  15:28:00  32737.45  32741.95  32722.90   \n",
       "1037383  BANKNIFTY  2021-04-30  15:29:00  32730.90  32733.65  32713.35   \n",
       "1037384  BANKNIFTY  2021-04-30  15:30:00  32715.90  32726.20  32706.25   \n",
       "1037385  BANKNIFTY  2021-04-30  15:31:00  32724.90  32724.90  32724.90   \n",
       "1037386  BANKNIFTY  2021-04-30  15:32:00  32781.80  32781.80  32781.80   \n",
       "\n",
       "            close  \n",
       "0         8839.80  \n",
       "1         8852.30  \n",
       "2         8846.65  \n",
       "3         8846.70  \n",
       "4         8841.60  \n",
       "...           ...  \n",
       "1037382  32725.95  \n",
       "1037383  32718.80  \n",
       "1037384  32714.35  \n",
       "1037385  32724.90  \n",
       "1037386  32781.80  \n",
       "\n",
       "[1037387 rows x 7 columns]"
      ]
     },
     "execution_count": 5,
     "metadata": {},
     "output_type": "execute_result"
    }
   ],
   "source": [
    "nifty\n"
   ]
  },
  {
   "cell_type": "code",
   "execution_count": 6,
   "id": "847d1363",
   "metadata": {},
   "outputs": [],
   "source": [
    "nifty.date = pd.to_datetime(nifty.date)"
   ]
  },
  {
   "cell_type": "code",
   "execution_count": 7,
   "id": "4e7f0244",
   "metadata": {},
   "outputs": [],
   "source": [
    "nifty.time = pd.to_datetime(nifty.time).dt.time"
   ]
  },
  {
   "cell_type": "code",
   "execution_count": 8,
   "id": "8f2dfab4",
   "metadata": {},
   "outputs": [],
   "source": [
    "nifty['year'] = nifty.date.dt.year\n",
    "nifty['month'] = nifty.date.dt.month\n",
    "nifty['day'] = nifty.date.dt.day\n",
    "nifty['dayofweek'] = nifty.date.dt.dayofweek"
   ]
  },
  {
   "cell_type": "code",
   "execution_count": 9,
   "id": "2461cf41",
   "metadata": {},
   "outputs": [],
   "source": [
    "nifty['lag'] = nifty.close.shift(1)"
   ]
  },
  {
   "cell_type": "code",
   "execution_count": 10,
   "id": "1827db3b",
   "metadata": {},
   "outputs": [],
   "source": [
    "nifty.dropna(axis=0, inplace =True)"
   ]
  },
  {
   "cell_type": "code",
   "execution_count": 11,
   "id": "dc949a34",
   "metadata": {},
   "outputs": [],
   "source": [
    "nifty['r'] = (nifty.close/nifty.lag - 1)*100"
   ]
  },
  {
   "cell_type": "code",
   "execution_count": 12,
   "id": "63f89857",
   "metadata": {},
   "outputs": [
    {
     "data": {
      "text/plain": [
       "1          0.141406\n",
       "2         -0.063825\n",
       "3          0.000565\n",
       "4         -0.057649\n",
       "5         -0.053158\n",
       "             ...   \n",
       "1037382   -0.033296\n",
       "1037383   -0.021848\n",
       "1037384   -0.013601\n",
       "1037385    0.032249\n",
       "1037386    0.173874\n",
       "Name: r, Length: 1037386, dtype: float64"
      ]
     },
     "execution_count": 12,
     "metadata": {},
     "output_type": "execute_result"
    }
   ],
   "source": [
    "nifty.r"
   ]
  },
  {
   "cell_type": "code",
   "execution_count": 13,
   "id": "8d450722",
   "metadata": {},
   "outputs": [],
   "source": [
    "#Filter thurday 3:15 data points\n",
    "new = nifty[(nifty.dayofweek == 3) & (nifty.time == datetime.time(15,15))]"
   ]
  },
  {
   "cell_type": "code",
   "execution_count": 14,
   "id": "a77c95df",
   "metadata": {},
   "outputs": [
    {
     "name": "stderr",
     "output_type": "stream",
     "text": [
      "/var/folders/36/2w68f_916m5_4nk8vnz8j2yw0000gn/T/ipykernel_2401/2312379241.py:1: SettingWithCopyWarning: \n",
      "A value is trying to be set on a copy of a slice from a DataFrame.\n",
      "Try using .loc[row_indexer,col_indexer] = value instead\n",
      "\n",
      "See the caveats in the documentation: https://pandas.pydata.org/pandas-docs/stable/user_guide/indexing.html#returning-a-view-versus-a-copy\n",
      "  new['ret'] = (new.close/new.close.shift(1) - 1)*100\n"
     ]
    }
   ],
   "source": [
    "#calculate returns i.e one thurday from 3:15 PM to next thurday 3:15 PM\n",
    "new['ret'] = (new.close/new.close.shift(1) - 1)*100"
   ]
  },
  {
   "cell_type": "code",
   "execution_count": 15,
   "id": "ba65e1ea",
   "metadata": {},
   "outputs": [
    {
     "name": "stderr",
     "output_type": "stream",
     "text": [
      "/Users/shivams/miniconda3/lib/python3.9/site-packages/pandas/util/_decorators.py:311: SettingWithCopyWarning: \n",
      "A value is trying to be set on a copy of a slice from a DataFrame\n",
      "\n",
      "See the caveats in the documentation: https://pandas.pydata.org/pandas-docs/stable/user_guide/indexing.html#returning-a-view-versus-a-copy\n",
      "  return func(*args, **kwargs)\n"
     ]
    }
   ],
   "source": [
    "new.dropna(axis = 0, inplace =True)"
   ]
  },
  {
   "cell_type": "code",
   "execution_count": 64,
   "id": "8d2dbde3",
   "metadata": {},
   "outputs": [
    {
     "data": {
      "text/plain": [
       "0.1259124087591241"
      ]
     },
     "execution_count": 64,
     "metadata": {},
     "output_type": "execute_result"
    }
   ],
   "source": [
    "#Data which is beyond 1 stdv from mean on positive side of distribution = 12.59%\n",
    "new[(new.ret >= new.ret.mean()+1*new.ret.std())].shape[0]/new.shape[0]"
   ]
  },
  {
   "cell_type": "code",
   "execution_count": 20,
   "id": "f0472a50",
   "metadata": {},
   "outputs": [
    {
     "data": {
      "text/plain": [
       "<seaborn.axisgrid.FacetGrid at 0x7fdb543edb20>"
      ]
     },
     "execution_count": 20,
     "metadata": {},
     "output_type": "execute_result"
    },
    {
     "data": {
      "image/png": "[encoded data removed]",
      "text/plain": [
       "<Figure size 360x360 with 1 Axes>"
      ]
     },
     "metadata": {
      "needs_background": "light"
     },
     "output_type": "display_data"
    }
   ],
   "source": [
    "sns.displot(new.ret)"
   ]
  },
  {
   "cell_type": "code",
   "execution_count": 66,
   "id": "8dbf40d1",
   "metadata": {},
   "outputs": [
    {
     "name": "stdout",
     "output_type": "stream",
     "text": [
      "Mean->0.3080266047442923\n",
      "Standarad deviation->3.6543515670217723\n",
      "Skewness->-0.077971161422943\n",
      "Kurtosis->2.312016767768807\n"
     ]
    }
   ],
   "source": [
    "#A bit Negatively skewed\n",
    "#Kurtosis approximately equal to normal which is 3\n",
    "print(f'Mean->{new.ret.mean()}\\nStandarad deviation->{new.ret.std()}\\nSkewness->{new.ret.skew()}\\nKurtosis->{new.ret.kurt()}')"
   ]
  },
  {
   "cell_type": "code",
   "execution_count": 23,
   "id": "7751ca26",
   "metadata": {},
   "outputs": [],
   "source": [
    "import random\n",
    "import scipy\n",
    "from scipy.stats import ttest_1samp"
   ]
  },
  {
   "cell_type": "code",
   "execution_count": 52,
   "id": "8777856e",
   "metadata": {},
   "outputs": [],
   "source": [
    "ps = []\n",
    "for i in range(100, 548, 10):\n",
    "    ret_sample = np.random.choice(new['ret'], i)\n",
    "    ttest, pvalue = ttest_1samp(ret_sample, 0.3080)\n",
    "    ps.append(pvalue)\n",
    "    "
   ]
  },
  {
   "cell_type": "code",
   "execution_count": 54,
   "id": "139f3ce4",
   "metadata": {},
   "outputs": [
    {
     "data": {
      "text/plain": [
       "[<matplotlib.lines.Line2D at 0x7fdb558b7190>]"
      ]
     },
     "execution_count": 54,
     "metadata": {},
     "output_type": "execute_result"
    },
    {
     "data": {
      "image/png": "[encoded data removed]",
      "text/plain": [
       "<Figure size 432x288 with 1 Axes>"
      ]
     },
     "metadata": {
      "needs_background": "light"
     },
     "output_type": "display_data"
    }
   ],
   "source": [
    "#Why the p value goes down sometimes?\n",
    "plt.plot(ps)"
   ]
  },
  {
   "cell_type": "code",
   "execution_count": 58,
   "id": "e08a9d1c",
   "metadata": {},
   "outputs": [
    {
     "data": {
      "text/plain": [
       "0.45532618093980404"
      ]
     },
     "execution_count": 58,
     "metadata": {},
     "output_type": "execute_result"
    }
   ],
   "source": [
    "#Avergae p value comes out to be 45% for different sizes of random samples which suggest that our null \n",
    "#hypothesis that our mean is 0.3080 is not rejected\n",
    "sum(ps)/len(ps)"
   ]
  },
  {
   "cell_type": "code",
   "execution_count": 67,
   "id": "3367059c",
   "metadata": {},
   "outputs": [
    {
     "data": {
      "text/plain": [
       "3.530204615487306"
      ]
     },
     "execution_count": 67,
     "metadata": {},
     "output_type": "execute_result"
    }
   ],
   "source": [
    "#Sample stdv is almost similar\n",
    "ret_sample.std()"
   ]
  },
  {
   "cell_type": "code",
   "execution_count": null,
   "id": "beb76847",
   "metadata": {},
   "outputs": [],
   "source": []
  },
  {
   "cell_type": "code",
   "execution_count": 60,
   "id": "a9a7b866",
   "metadata": {},
   "outputs": [
    {
     "data": {
      "text/plain": [
       "0.7445255474452555"
      ]
     },
     "execution_count": 60,
     "metadata": {},
     "output_type": "execute_result"
    }
   ],
   "source": [
    "#74.45% of data is in between 1 stdv from the mean i.e (mean-stdv,  mean+stdv)\n",
    "new[(new.ret <= new.ret.mean() + new.ret.std()) & (new.ret >= new.ret.mean() - new.ret.std()) ].shape[0]/new.shape[0]"
   ]
  },
  {
   "cell_type": "code",
   "execution_count": 61,
   "id": "be4151dd",
   "metadata": {},
   "outputs": [
    {
     "data": {
      "text/plain": [
       "0.9452554744525548"
      ]
     },
     "execution_count": 61,
     "metadata": {},
     "output_type": "execute_result"
    }
   ],
   "source": [
    "#94.52% of data is in between 2 stdv from the mean i.e (mean - 2*stdv,  mean + 2*stdv)\n",
    "new[(new.ret <= new.ret.mean() + 2*new.ret.std()) & (new.ret >= new.ret.mean() - 2*new.ret.std()) ].shape[0]/new.shape[0]"
   ]
  },
  {
   "cell_type": "code",
   "execution_count": 62,
   "id": "85e003b0",
   "metadata": {},
   "outputs": [
    {
     "data": {
      "text/plain": [
       "0.9890510948905109"
      ]
     },
     "execution_count": 62,
     "metadata": {},
     "output_type": "execute_result"
    }
   ],
   "source": [
    "#98.90% of data is in between 3 stdv from the mean\n",
    "new[(new.ret <= new.ret.mean() + 3*new.ret.std()) & (new.ret >= new.ret.mean() - 3*new.ret.std()) ].shape[0]/new.shape[0]"
   ]
  },
  {
   "cell_type": "code",
   "execution_count": 63,
   "id": "6691eb86",
   "metadata": {},
   "outputs": [
    {
     "data": {
      "text/plain": [
       "0.9945255474452555"
      ]
     },
     "execution_count": 63,
     "metadata": {},
     "output_type": "execute_result"
    }
   ],
   "source": [
    "#99.45% of data is in between 4 stdv from the mean\n",
    "new[(new.ret <= new.ret.mean() + 4*new.ret.std()) & (new.ret >= new.ret.mean() - 4*new.ret.std()) ].shape[0]/new.shape[0]"
   ]
  },
  {
   "cell_type": "code",
   "execution_count": 69,
   "id": "58033eaa",
   "metadata": {},
   "outputs": [
    {
     "data": {
      "text/plain": [
       "(16518.470954456236, 17881.52904554376)"
      ]
     },
     "execution_count": 69,
     "metadata": {},
     "output_type": "execute_result"
    }
   ],
   "source": [
    "current_spot = 17200 #for nifty\n",
    "#74.45% chances that spot will remain in this range over next week thurday 3:15\n",
    "(17200*(1 - (new.ret.mean() + new.ret.std())/100), 17200*(1 + (new.ret.mean() + new.ret.std())/100))"
   ]
  },
  {
   "cell_type": "code",
   "execution_count": 70,
   "id": "3c8c4ed4",
   "metadata": {},
   "outputs": [
    {
     "data": {
      "text/plain": [
       "(15889.922484928491, 18510.07751507151)"
      ]
     },
     "execution_count": 70,
     "metadata": {},
     "output_type": "execute_result"
    }
   ],
   "source": [
    "\n",
    "#94.52% chances that spot will remain in this range over next week thurday 3:15\n",
    "(17200*(1 - (new.ret.mean() + 2*new.ret.std())/100), 17200*(1 + (new.ret.mean() + 2*new.ret.std())/100))"
   ]
  }
 ],
 "metadata": {
  "kernelspec": {
   "display_name": "Python 3 (ipykernel)",
   "language": "python",
   "name": "python3"
  },
  "language_info": {
   "codemirror_mode": {
    "name": "ipython",
    "version": 3
   },
   "file_extension": ".py",
   "mimetype": "text/x-python",
   "name": "python",
   "nbconvert_exporter": "python",
   "pygments_lexer": "ipython3",
   "version": "3.9.5"
  }
 },
 "nbformat": 4,
 "nbformat_minor": 5
}
