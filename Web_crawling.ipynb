{
  "nbformat": 4,
  "nbformat_minor": 0,
  "metadata": {
    "colab": {
      "name": "Web_crawling.ipynb",
      "provenance": [],
      "collapsed_sections": [],
      "include_colab_link": true
    },
    "kernelspec": {
      "name": "python3",
      "display_name": "Python 3"
    },
    "language_info": {
      "name": "python"
    }
  },
  "cells": [
    {
      "cell_type": "markdown",
      "metadata": {
        "id": "view-in-github",
        "colab_type": "text"
      },
      "source": [
        "<a href=\"https://colab.research.google.com/github/shivams289/Projects/blob/main/Web_crawling.ipynb\" target=\"_parent\"><img src=\"https://colab.research.google.com/assets/colab-badge.svg\" alt=\"Open In Colab\"/></a>"
      ]
    },
    {
      "cell_type": "code",
      "metadata": {
        "id": "ly3FlZNEQG6P"
      },
      "source": [
        "from bs4 import BeautifulSoup\n",
        "import requests\n",
        "import urllib\n",
        "import pandas as pd\n",
        "import numpy as np"
      ],
      "execution_count": null,
      "outputs": []
    },
    {
      "cell_type": "code",
      "metadata": {
        "id": "X6GEIeR3vrOL"
      },
      "source": [
        "source = requests.get('https://www.forbes.com/business').content"
      ],
      "execution_count": null,
      "outputs": []
    },
    {
      "cell_type": "code",
      "metadata": {
        "id": "cTuf-8acv69W"
      },
      "source": [
        "soup = BeautifulSoup(source, 'html5lib')"
      ],
      "execution_count": null,
      "outputs": []
    },
    {
      "cell_type": "code",
      "metadata": {
        "id": "di8vVhj-wKGz"
      },
      "source": [
        "print(soup.prettify())"
      ],
      "execution_count": null,
      "outputs": []
    },
    {
      "cell_type": "code",
      "metadata": {
        "id": "iD9PDPMtwKMj"
      },
      "source": [
        "\n",
        "\n",
        "articles = soup.find_all(\"h3\")\n"
      ],
      "execution_count": null,
      "outputs": []
    },
    {
      "cell_type": "code",
      "metadata": {
        "colab": {
          "base_uri": "https://localhost:8080/"
        },
        "id": "lWaQ5rlL3cDr",
        "outputId": "e914078e-08c3-4bc4-b3ae-db757b02c182"
      },
      "source": [
        "len(articles)"
      ],
      "execution_count": null,
      "outputs": [
        {
          "output_type": "execute_result",
          "data": {
            "text/plain": [
              "26"
            ]
          },
          "metadata": {},
          "execution_count": 7
        }
      ]
    },
    {
      "cell_type": "code",
      "metadata": {
        "id": "vsESxxlmwKY2"
      },
      "source": [
        "#For fetching The 1st page articles before pressing \"More Articles\"\n",
        "\n",
        "news_dict = {'News_content':[],'Link':[], 'Title':[]}\n",
        "\n",
        "for i in range(len(articles)):\n",
        "    \n",
        "  # Getting the link of the article\n",
        "  if articles[i].find('a') is not None:\n",
        "    link = articles[i].find('a')['href']\n",
        "    news_dict['Link'].append(link)\n",
        "    \n",
        "    # Getting the title\n",
        "    title = articles[i].find('a').get_text()\n",
        "    news_dict['Title'].append(title)\n",
        "    \n",
        "    # Reading the content of the article using the link that we featched(it is divided in paragraphs)\n",
        "    news_article = requests.get(link)\n",
        "    article_content = news_article.content\n",
        "    soup_article = BeautifulSoup(article_content, 'html5lib')\n",
        "    body = soup_article.find_all('div', class_='article-body')\n",
        "    \n",
        "    if len(body)!=0:\n",
        "      x = body[0].find_all('p')\n",
        "      \n",
        "      # Unifying the paragraphs\n",
        "      list_paragraphs = []\n",
        "      for p in range(len(x)):\n",
        "          paragraph = x[p].get_text()\n",
        "          list_paragraphs.append(paragraph)\n",
        "          final_article = \" \".join(list_paragraphs)\n",
        "          \n",
        "      news_dict['News_content'].append(final_article)"
      ],
      "execution_count": null,
      "outputs": []
    },
    {
      "cell_type": "code",
      "metadata": {
        "id": "xSe-XdBkte6n"
      },
      "source": [
        "#len(data['blocks']['items'])"
      ],
      "execution_count": null,
      "outputs": []
    },
    {
      "cell_type": "code",
      "metadata": {
        "id": "wo_ylRFjwkcR"
      },
      "source": [
        "# new_link = data['blocks']['items'][-1]['url']\n",
        "# new_id = data['blocks']['items'][-1]['id']\n",
        "# new_date = data['blocks']['items'][-1]['date']\n",
        "# print(new_link)\n",
        "# print(new_id)\n",
        "# print(new_date)"
      ],
      "execution_count": null,
      "outputs": []
    },
    {
      "cell_type": "code",
      "metadata": {
        "id": "W5AhVoGv4yFA",
        "colab": {
          "base_uri": "https://localhost:8080/"
        },
        "outputId": "9c982398-5490-41ff-e12d-3ac5f3391110"
      },
      "source": [
        "import time\n",
        "import random\n",
        "\n",
        "uas = ['Mozilla/5.0 (Windows NT 10.0; Win64; x64) AppleWebKit/537.36 (KHTML, like Gecko) Chrome/42.0.2311.135 Safari/537.36 Edge/12.246',\n",
        "       'Mozilla/5.0 (X11; CrOS x86_64 8172.45.0) AppleWebKit/537.36 (KHTML, like Gecko) Chrome/51.0.2704.64 Safari/537.36',\n",
        "       'Mozilla/5.0 (Macintosh; Intel Mac OS X 10_11_2) AppleWebKit/601.3.9 (KHTML, like Gecko) Version/9.0.2 Safari/601.3.9',\n",
        "       'Mozilla/5.0 (Windows NT 6.1; WOW64) AppleWebKit/537.36 (KHTML, like Gecko) Chrome/47.0.2526.111 Safari/537.36',\n",
        "       'Mozilla/5.0 (X11; Ubuntu; Linux x86_64; rv:15.0) Gecko/20100101 Firefox/15.0.1',\n",
        "       'Mozilla/5.0 (X11; Linux x86_64) AppleWebKit/537.36 (KHTML, like Gecko) Chrome/92.0.4515.131 Safari/537.36',\n",
        "       'Mozilla/5.0 (Windows NT 10.0; Win64; x64; rv:92.0) Gecko/20100101 Firefox/92.0',\n",
        "       'Mozilla/5.0 (Macintosh; Intel Mac OS X 10_15_7) AppleWebKit/605.1.15 (KHTML, like Gecko) Version/14.1.2 Safari/605.1.15']\n",
        "\n",
        "#Fetching the content id of last article on first page\n",
        "last_id = soup.find_all(\"article\", class_='stream-item et-promoblock-removeable-item et-promoblock-star-item')[-1]['data-et-id']\n",
        "\n",
        "##Fetching the date id of last article on first page\n",
        "date = soup.find_all(\"div\", class_='stream-item__date')[-1]['data-date']\n",
        "\n",
        "#First page contains 26 articles\n",
        "start = 26\n",
        "\n",
        "ids = last_id\n",
        "#Below is the URL which changes after we press \"More Articles\" button, 3 fields changes values, which we will be updating to make more calls\n",
        "url_to_fetch_more_articls = 'https://www.forbes.com/simple-data/chansec/stream/?date='+ str(date) + '&start='+str(start)+'&ids='+str(ids)+'&limit=25&sourceValue=channel_1&swimLane=&specialSlot=&streamSourceType=channelsection'\n",
        "\n",
        "fetch = requests.get(url_to_fetch_more_articls)\n",
        "data = fetch.json()\n",
        "\n",
        "set_of_ids = set()\n",
        "\n",
        "count = 1\n",
        "while len(data['blocks']['items'])==10:\n",
        "\n",
        "  for i in range(len(data['blocks']['items'])):\n",
        "\n",
        "\n",
        "    new_link = data['blocks']['items'][i]['url']\n",
        "    new_title = data['blocks']['items'][i]['title']\n",
        "\n",
        "    new_news_article = requests.get(new_link)\n",
        "    new_article_content = new_news_article.content\n",
        "    new_soup_article = BeautifulSoup(new_article_content, 'html5lib')\n",
        "    new_body = new_soup_article.find_all('div', class_='article-body')\n",
        "\n",
        "    if len(new_body)!=0:\n",
        "      count = count +1\n",
        "      news_dict['Link'].append(new_link)\n",
        "      news_dict['Title'].append(new_title)\n",
        "\n",
        "      y = new_body[0].find_all('p')\n",
        "\n",
        "      new_list_paragraphs = []\n",
        "      for p in range(len(y)):\n",
        "        paragraph = y[p].get_text()\n",
        "        new_list_paragraphs.append(paragraph)\n",
        "        final_article = \" \".join(new_list_paragraphs)\n",
        "\n",
        "      news_dict['News_content'].append(final_article)\n",
        "  if count%100 == 0:\n",
        "    print(count)\n",
        "  \n",
        "  start = start + 10 # Every \"More Article\" button press adds 10 more articles\n",
        "  ids = data['blocks']['items'][-1]['id'] #updating content id\n",
        "  new_date = data['blocks']['items'][-1]['date'] #update date fetched from last article after pressing \"More Articles button\"\n",
        "  if ids in set_of_ids:\n",
        "    print(\"Error!! trying to fetch same page again\")\n",
        "    break\n",
        "  set_of_ids.add(ids)\n",
        "  url_to_fetch_more_articls = 'https://www.forbes.com/simple-data/chansec/stream/?date=' + str(new_date) + '&start='+str(start)+'&ids='+str(ids)+'&limit=25&sourceValue=channel_1&swimLane=&specialSlot=&streamSourceType=channelsection'\n",
        "\n",
        "  #Taking random time between API calls to avoid getting blocked, consecutive and fast calls can get us blocked too soon.\n",
        "  time.sleep(random.randint(1, 4))\n",
        "\n",
        "#generating new request using updated url using last element of previous fetched data list\n",
        "  fetch = requests.get(url_to_fetch_more_articls, headers={\"User-Agent\": random.choice(uas)})\n",
        "  data = fetch.json()  \n"
      ],
      "execution_count": 9,
      "outputs": [
        {
          "output_type": "stream",
          "name": "stdout",
          "text": [
            "Error!! trying to fetch same page again\n"
          ]
        }
      ]
    },
    {
      "cell_type": "code",
      "metadata": {
        "id": "NTPbMf9LNE6K"
      },
      "source": [
        "df = pd.DataFrame(news_dict)"
      ],
      "execution_count": 10,
      "outputs": []
    },
    {
      "cell_type": "code",
      "metadata": {
        "colab": {
          "base_uri": "https://localhost:8080/"
        },
        "id": "frpXGgsp0d5Y",
        "outputId": "27d54e50-c599-4b6f-f740-2ac516995ac8"
      },
      "source": [
        "df.shape"
      ],
      "execution_count": 11,
      "outputs": [
        {
          "output_type": "execute_result",
          "data": {
            "text/plain": [
              "(733, 3)"
            ]
          },
          "metadata": {},
          "execution_count": 11
        }
      ]
    },
    {
      "cell_type": "code",
      "metadata": {
        "colab": {
          "base_uri": "https://localhost:8080/"
        },
        "id": "bqI3KGi-0Lgc",
        "outputId": "551ba327-f20d-4b66-88d8-b9c1602e3961"
      },
      "source": [
        "len(set(df['Title']))"
      ],
      "execution_count": 12,
      "outputs": [
        {
          "output_type": "execute_result",
          "data": {
            "text/plain": [
              "706"
            ]
          },
          "metadata": {},
          "execution_count": 12
        }
      ]
    },
    {
      "cell_type": "code",
      "metadata": {
        "colab": {
          "base_uri": "https://localhost:8080/"
        },
        "id": "cZclLNLe2j6w",
        "outputId": "f8135a1f-bd81-4812-d1c6-3b1cc6011ca9"
      },
      "source": [
        "len(set(df['Link']))\n"
      ],
      "execution_count": 13,
      "outputs": [
        {
          "output_type": "execute_result",
          "data": {
            "text/plain": [
              "706"
            ]
          },
          "metadata": {},
          "execution_count": 13
        }
      ]
    },
    {
      "cell_type": "code",
      "metadata": {
        "colab": {
          "base_uri": "https://localhost:8080/"
        },
        "id": "nSHMdOWK3JVv",
        "outputId": "28f10eaa-f381-4195-e8bd-637ffadb1442"
      },
      "source": [
        "df = df.drop_duplicates()\n",
        "print(len(df))"
      ],
      "execution_count": 14,
      "outputs": [
        {
          "output_type": "stream",
          "name": "stdout",
          "text": [
            "706\n"
          ]
        }
      ]
    },
    {
      "cell_type": "code",
      "metadata": {
        "colab": {
          "base_uri": "https://localhost:8080/",
          "height": 204
        },
        "id": "0anpjWjBYfrZ",
        "outputId": "789dd777-d4dc-4d20-b560-08661e5bebd3"
      },
      "source": [
        "df.head()"
      ],
      "execution_count": 15,
      "outputs": [
        {
          "output_type": "execute_result",
          "data": {
            "text/html": [
              "<div>\n",
              "<style scoped>\n",
              "    .dataframe tbody tr th:only-of-type {\n",
              "        vertical-align: middle;\n",
              "    }\n",
              "\n",
              "    .dataframe tbody tr th {\n",
              "        vertical-align: top;\n",
              "    }\n",
              "\n",
              "    .dataframe thead th {\n",
              "        text-align: right;\n",
              "    }\n",
              "</style>\n",
              "<table border=\"1\" class=\"dataframe\">\n",
              "  <thead>\n",
              "    <tr style=\"text-align: right;\">\n",
              "      <th></th>\n",
              "      <th>News_content</th>\n",
              "      <th>Link</th>\n",
              "      <th>Title</th>\n",
              "    </tr>\n",
              "  </thead>\n",
              "  <tbody>\n",
              "    <tr>\n",
              "      <th>0</th>\n",
              "      <td>China's visa and international travel restric...</td>\n",
              "      <td>https://www.forbes.com/sites/russellflannery/2...</td>\n",
              "      <td>Resumption Of Business Travel Tops Amcham Chin...</td>\n",
              "    </tr>\n",
              "    <tr>\n",
              "      <th>1</th>\n",
              "      <td>Katy (Awkwafina) and Shang-Chi (Simu Liu) in M...</td>\n",
              "      <td>https://www.forbes.com/sites/scottmendelson/20...</td>\n",
              "      <td>Box Office: ‘Shang-Chi’ Continues To Superhero...</td>\n",
              "    </tr>\n",
              "    <tr>\n",
              "      <th>2</th>\n",
              "      <td>Former President Donald Trump waves to cheerin...</td>\n",
              "      <td>https://www.forbes.com/sites/markjoyella/2021/...</td>\n",
              "      <td>Fox News Cuts Away From Trump’s 9/11 Visit Aft...</td>\n",
              "    </tr>\n",
              "    <tr>\n",
              "      <th>3</th>\n",
              "      <td>U.S. Supreme Court Justice Stephen Breyer dow...</td>\n",
              "      <td>https://www.forbes.com/sites/alisondurkee/2021...</td>\n",
              "      <td>Supreme Court Justice Stephen Breyer Dismisses...</td>\n",
              "    </tr>\n",
              "    <tr>\n",
              "      <th>4</th>\n",
              "      <td>Sen. Joe Manchin (D-W.Va.) on Sunday tore int...</td>\n",
              "      <td>https://www.forbes.com/sites/andrewsolender/20...</td>\n",
              "      <td>Tensions Erupt As Manchin Slams AOC, Warns ‘Am...</td>\n",
              "    </tr>\n",
              "  </tbody>\n",
              "</table>\n",
              "</div>"
            ],
            "text/plain": [
              "                                        News_content  ...                                              Title\n",
              "0   China's visa and international travel restric...  ...  Resumption Of Business Travel Tops Amcham Chin...\n",
              "1  Katy (Awkwafina) and Shang-Chi (Simu Liu) in M...  ...  Box Office: ‘Shang-Chi’ Continues To Superhero...\n",
              "2  Former President Donald Trump waves to cheerin...  ...  Fox News Cuts Away From Trump’s 9/11 Visit Aft...\n",
              "3   U.S. Supreme Court Justice Stephen Breyer dow...  ...  Supreme Court Justice Stephen Breyer Dismisses...\n",
              "4   Sen. Joe Manchin (D-W.Va.) on Sunday tore int...  ...  Tensions Erupt As Manchin Slams AOC, Warns ‘Am...\n",
              "\n",
              "[5 rows x 3 columns]"
            ]
          },
          "metadata": {},
          "execution_count": 15
        }
      ]
    },
    {
      "cell_type": "code",
      "metadata": {
        "id": "g2cBNyXLhSrg"
      },
      "source": [
        "df.to_csv('sharmadata.csv', index=False)"
      ],
      "execution_count": 16,
      "outputs": []
    }
  ]
}