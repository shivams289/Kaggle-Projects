{
  "nbformat": 4,
  "nbformat_minor": 0,
  "metadata": {
    "colab": {
      "name": "Web_crawling.ipynb",
      "provenance": [],
      "collapsed_sections": [],
      "include_colab_link": true
    },
    "kernelspec": {
      "name": "python3",
      "display_name": "Python 3"
    },
    "language_info": {
      "name": "python"
    }
  },
  "cells": [
    {
      "cell_type": "markdown",
      "metadata": {
        "id": "view-in-github",
        "colab_type": "text"
      },
      "source": [
        "<a href=\"https://colab.research.google.com/github/shivams289/Projects/blob/main/Web_crawling.ipynb\" target=\"_parent\"><img src=\"https://colab.research.google.com/assets/colab-badge.svg\" alt=\"Open In Colab\"/></a>"
      ]
    },
    {
      "cell_type": "code",
      "metadata": {
        "id": "ly3FlZNEQG6P"
      },
      "source": [
        "from bs4 import BeautifulSoup"
      ],
      "execution_count": null,
      "outputs": []
    },
    {
      "cell_type": "code",
      "metadata": {
        "id": "E5LF5TOeQT63"
      },
      "source": [
        "import requests\n",
        "import urllib"
      ],
      "execution_count": null,
      "outputs": []
    },
    {
      "cell_type": "code",
      "metadata": {
        "id": "QylnLRhnP_TD"
      },
      "source": [
        "import pandas as pd\n",
        "import numpy as np"
      ],
      "execution_count": null,
      "outputs": []
    },
    {
      "cell_type": "code",
      "metadata": {
        "id": "X6GEIeR3vrOL"
      },
      "source": [
        "source = requests.get('https://www.forbes.com/business').content"
      ],
      "execution_count": null,
      "outputs": []
    },
    {
      "cell_type": "code",
      "metadata": {
        "id": "cTuf-8acv69W"
      },
      "source": [
        "soup = BeautifulSoup(source, 'html5lib')"
      ],
      "execution_count": null,
      "outputs": []
    },
    {
      "cell_type": "code",
      "metadata": {
        "id": "di8vVhj-wKGz"
      },
      "source": [
        "#print(soup.prettify())"
      ],
      "execution_count": null,
      "outputs": []
    },
    {
      "cell_type": "code",
      "metadata": {
        "id": "iD9PDPMtwKMj"
      },
      "source": [
        "#articles1 = soup.find_all(\"div\", class_='card__text')\n",
        "\n",
        "articles2 = soup.find_all(\"h3\")\n",
        "\n",
        "#articles3 = soup.find_all(\"div\", class_='card card--small')\n",
        "\n",
        "#articles4 = soup.find_all(\"div\", class_='chansec-special-feature__text')\n",
        "\n",
        "#articles5 = soup.find_all(\"h2\", class_='card--large__title')\n",
        "\n",
        "#articles6 = soup.find_all(\"div\", class_='chansec-special-feature__card')"
      ],
      "execution_count": null,
      "outputs": []
    },
    {
      "cell_type": "code",
      "metadata": {
        "colab": {
          "base_uri": "https://localhost:8080/"
        },
        "id": "lWaQ5rlL3cDr",
        "outputId": "cae43bf1-68b7-4103-bd5d-812754c47c0c"
      },
      "source": [
        "len(articles2)"
      ],
      "execution_count": null,
      "outputs": [
        {
          "output_type": "execute_result",
          "data": {
            "text/plain": [
              "26"
            ]
          },
          "metadata": {},
          "execution_count": 11
        }
      ]
    },
    {
      "cell_type": "code",
      "metadata": {
        "colab": {
          "base_uri": "https://localhost:8080/",
          "height": 37
        },
        "id": "JToMNgiu0Ctx",
        "outputId": "2e122f31-c231-4291-e4e1-e5dc26aab97f"
      },
      "source": [
        "articles2[1].find('a')['href'] "
      ],
      "execution_count": null,
      "outputs": [
        {
          "output_type": "execute_result",
          "data": {
            "application/vnd.google.colaboratory.intrinsic+json": {
              "type": "string"
            },
            "text/plain": [
              "'https://www.forbes.com/sites/scottmendelson/2021/09/11/movies-box-office-malignant-card-counter-oscar-isaac-james-wan/'"
            ]
          },
          "metadata": {},
          "execution_count": 26
        }
      ]
    },
    {
      "cell_type": "code",
      "metadata": {
        "id": "eyaKpAv25wy6"
      },
      "source": [
        "links = []\n",
        "for i in range(0, len(articles2)):\n",
        "  if articles2[i].find('a') is not None:\n",
        "\n",
        "    link = articles2[i].find('a')['href']\n",
        "    links.append(link)\n"
      ],
      "execution_count": null,
      "outputs": []
    },
    {
      "cell_type": "code",
      "metadata": {
        "id": "vsESxxlmwKY2"
      },
      "source": [
        "#For fetching The 1st page articles\n",
        "news_dict = {'News_content':[],'Link':[], 'Title':[]}\n",
        "\n",
        "for i in range(len(articles2)):\n",
        "    \n",
        "  # Getting the link of the article\n",
        "  if articles2[i].find('a') is not None:\n",
        "    link = articles2[i].find('a')['href']\n",
        "    news_dict['Link'].append(link)\n",
        "    \n",
        "    # Getting the title\n",
        "    title = articles2[i].find('a').get_text()\n",
        "    news_dict['Title'].append(title)\n",
        "    \n",
        "    # Reading the content (it is divided in paragraphs)\n",
        "    news_article = requests.get(link)\n",
        "    article_content = news_article.content\n",
        "    soup_article = BeautifulSoup(article_content, 'html5lib')\n",
        "    body = soup_article.find_all('div', class_='article-body')\n",
        "    \n",
        "    x = body[0].find_all('p')\n",
        "    \n",
        "    # Unifying the paragraphs\n",
        "    list_paragraphs = []\n",
        "    for p in range(len(x)):\n",
        "        paragraph = x[p].get_text()\n",
        "        list_paragraphs.append(paragraph)\n",
        "        final_article = \" \".join(list_paragraphs)\n",
        "        \n",
        "    news_dict['News_content'].append(final_article)"
      ],
      "execution_count": null,
      "outputs": []
    },
    {
      "cell_type": "code",
      "metadata": {
        "id": "YQWVjM0yw243"
      },
      "source": [
        "df = pd.DataFrame(news_dict)"
      ],
      "execution_count": null,
      "outputs": []
    },
    {
      "cell_type": "code",
      "metadata": {
        "id": "nwiIpAEUw3BI",
        "colab": {
          "base_uri": "https://localhost:8080/",
          "height": 37
        },
        "outputId": "ec9e9dc8-05bc-4c8d-f604-05ae6a9b49b9"
      },
      "source": [
        "last_id = soup.find_all(\"article\", class_='stream-item et-promoblock-removeable-item et-promoblock-star-item')[-1]['data-et-id']\n",
        "last_id"
      ],
      "execution_count": null,
      "outputs": [
        {
          "output_type": "execute_result",
          "data": {
            "application/vnd.google.colaboratory.intrinsic+json": {
              "type": "string"
            },
            "text/plain": [
              "'content_613bde098967410006f99fb4'"
            ]
          },
          "metadata": {},
          "execution_count": 39
        }
      ]
    },
    {
      "cell_type": "code",
      "metadata": {
        "id": "YwWyvgKb3w8z"
      },
      "source": [
        "start = 26\n",
        "ids = last_id\n",
        "url_to_fetch_more_articls = 'https://www.forbes.com/simple-data/chansec/stream/?date=1631303058769&start='+str(start)+'&ids='+str(ids)+'&limit=25&sourceValue=channel_1&streamSourceType=channelsection'"
      ],
      "execution_count": null,
      "outputs": []
    },
    {
      "cell_type": "code",
      "metadata": {
        "id": "wsxxYWXM6p9I"
      },
      "source": [
        "fetch = requests.get(url_to_fetch_more_articls)\n",
        "data = fetch.json()"
      ],
      "execution_count": null,
      "outputs": []
    },
    {
      "cell_type": "code",
      "metadata": {
        "colab": {
          "base_uri": "https://localhost:8080/"
        },
        "id": "xSe-XdBkte6n",
        "outputId": "63c31ca1-999d-4e6f-f173-3cc788388bed"
      },
      "source": [
        "len(data['blocks']['items'])"
      ],
      "execution_count": null,
      "outputs": [
        {
          "output_type": "execute_result",
          "data": {
            "text/plain": [
              "10"
            ]
          },
          "metadata": {},
          "execution_count": 50
        }
      ]
    },
    {
      "cell_type": "code",
      "metadata": {
        "colab": {
          "base_uri": "https://localhost:8080/",
          "height": 37
        },
        "id": "wo_ylRFjwkcR",
        "outputId": "e3b87e21-372d-40af-b5b0-a683db8398a4"
      },
      "source": [
        "new_link = data['blocks']['items'][-1]['id']\n",
        "new_link"
      ],
      "execution_count": null,
      "outputs": [
        {
          "output_type": "execute_result",
          "data": {
            "application/vnd.google.colaboratory.intrinsic+json": {
              "type": "string"
            },
            "text/plain": [
              "'content_613b9eb9bbf74b0006153612'"
            ]
          },
          "metadata": {},
          "execution_count": 94
        }
      ]
    },
    {
      "cell_type": "code",
      "metadata": {
        "id": "ZdRSptT27WHb"
      },
      "source": [
        "fin_art_list = []\n",
        "for i in range(len(data['blocks']['items'])):\n",
        "\n",
        "  \n",
        "  new_link = data['blocks']['items'][i]['url']\n",
        "  new_title = data['blocks']['items'][i]['title']\n",
        "  new_news_article = requests.get(new_link)\n",
        "  new_article_content = new_news_article.content\n",
        "  new_soup_article = BeautifulSoup(new_article_content, 'html5lib')\n",
        "  new_body = new_soup_article.find_all('div', class_='article-body')\n",
        "\n",
        "  if len(new_body)!=0:\n",
        "\n",
        "    y = new_body[0].find_all('p')\n",
        "    \n",
        "    new_list_paragraphs = []\n",
        "    for p in range(len(y)):\n",
        "      paragraph = y[p].get_text()\n",
        "      new_list_paragraphs.append(paragraph)\n",
        "      final_article = \" \".join(new_list_paragraphs)\n",
        "\n",
        "    fin_art_list.append(final_article)\n"
      ],
      "execution_count": null,
      "outputs": []
    },
    {
      "cell_type": "code",
      "metadata": {
        "id": "zk0vg3yS1SjN"
      },
      "source": [
        "fin_art_list[0]"
      ],
      "execution_count": null,
      "outputs": []
    },
    {
      "cell_type": "code",
      "metadata": {
        "id": "W5AhVoGv4yFA",
        "colab": {
          "base_uri": "https://localhost:8080/",
          "height": 375
        },
        "outputId": "bfb118e8-9192-48c6-f8b4-feaa7924ae53"
      },
      "source": [
        "last_id = soup.find_all(\"article\", class_='stream-item et-promoblock-removeable-item et-promoblock-star-item')[-1]['data-et-id']\n",
        "\n",
        "start = 26\n",
        "ids = last_id\n",
        "url_to_fetch_more_articls = 'https://www.forbes.com/simple-data/chansec/stream/?date=1631303058769&start='+str(start)+'&ids='+str(ids)+'&limit=25&sourceValue=channel_1&streamSourceType=channelsection'\n",
        "\n",
        "fetch = requests.get(url_to_fetch_more_articls)\n",
        "data = fetch.json()\n",
        "fin_art_list = []\n",
        "while len(data['blocks']['items'])==10:\n",
        "  \n",
        "  for i in range(len(data['blocks']['items'])):\n",
        "\n",
        "    \n",
        "    new_link = data['blocks']['items'][i]['url']\n",
        "    new_title = data['blocks']['items'][i]['title']\n",
        "    new_news_article = requests.get(new_link)\n",
        "    new_article_content = new_news_article.content\n",
        "    new_soup_article = BeautifulSoup(new_article_content, 'html5lib')\n",
        "    new_body = new_soup_article.find_all('div', class_='article-body')\n",
        "\n",
        "    if len(new_body)!=0:\n",
        "\n",
        "      y = new_body[0].find_all('p')\n",
        "      \n",
        "      new_list_paragraphs = []\n",
        "      for p in range(len(y)):\n",
        "        paragraph = y[p].get_text()\n",
        "        new_list_paragraphs.append(paragraph)\n",
        "        final_article = \" \".join(new_list_paragraphs)\n",
        "\n",
        "      fin_art_list.append(final_article)\n",
        "\n",
        "  last_id = data['blocks']['items'][-1]['id']\n",
        "\n",
        "  start = start + 10\n",
        "  ids = last_id\n",
        "  url_to_fetch_more_articls = 'https://www.forbes.com/simple-data/chansec/stream/?date=1631303058769&start='+str(start)+'&ids='+str(ids)+'&limit=25&sourceValue=channel_1&streamSourceType=channelsection'\n",
        "\n",
        "  fetch = requests.get(url_to_fetch_more_articls)\n",
        "  data = fetch.json()  \n"
      ],
      "execution_count": 95,
      "outputs": [
        {
          "output_type": "error",
          "ename": "KeyboardInterrupt",
          "evalue": "ignored",
          "traceback": [
            "\u001b[0;31m---------------------------------------------------------------------------\u001b[0m",
            "\u001b[0;31mKeyboardInterrupt\u001b[0m                         Traceback (most recent call last)",
            "\u001b[0;32m<ipython-input-95-0466a0add10e>\u001b[0m in \u001b[0;36m<module>\u001b[0;34m()\u001b[0m\n\u001b[1;32m     17\u001b[0m     \u001b[0mnew_news_article\u001b[0m \u001b[0;34m=\u001b[0m \u001b[0mrequests\u001b[0m\u001b[0;34m.\u001b[0m\u001b[0mget\u001b[0m\u001b[0;34m(\u001b[0m\u001b[0mnew_link\u001b[0m\u001b[0;34m)\u001b[0m\u001b[0;34m\u001b[0m\u001b[0;34m\u001b[0m\u001b[0m\n\u001b[1;32m     18\u001b[0m     \u001b[0mnew_article_content\u001b[0m \u001b[0;34m=\u001b[0m \u001b[0mnew_news_article\u001b[0m\u001b[0;34m.\u001b[0m\u001b[0mcontent\u001b[0m\u001b[0;34m\u001b[0m\u001b[0;34m\u001b[0m\u001b[0m\n\u001b[0;32m---> 19\u001b[0;31m     \u001b[0mnew_soup_article\u001b[0m \u001b[0;34m=\u001b[0m \u001b[0mBeautifulSoup\u001b[0m\u001b[0;34m(\u001b[0m\u001b[0mnew_article_content\u001b[0m\u001b[0;34m,\u001b[0m \u001b[0;34m'html5lib'\u001b[0m\u001b[0;34m)\u001b[0m\u001b[0;34m\u001b[0m\u001b[0;34m\u001b[0m\u001b[0m\n\u001b[0m\u001b[1;32m     20\u001b[0m     \u001b[0mnew_body\u001b[0m \u001b[0;34m=\u001b[0m \u001b[0mnew_soup_article\u001b[0m\u001b[0;34m.\u001b[0m\u001b[0mfind_all\u001b[0m\u001b[0;34m(\u001b[0m\u001b[0;34m'div'\u001b[0m\u001b[0;34m,\u001b[0m \u001b[0mclass_\u001b[0m\u001b[0;34m=\u001b[0m\u001b[0;34m'article-body'\u001b[0m\u001b[0;34m)\u001b[0m\u001b[0;34m\u001b[0m\u001b[0;34m\u001b[0m\u001b[0m\n\u001b[1;32m     21\u001b[0m \u001b[0;34m\u001b[0m\u001b[0m\n",
            "\u001b[0;32m/usr/local/lib/python3.7/dist-packages/bs4/__init__.py\u001b[0m in \u001b[0;36m__init__\u001b[0;34m(self, markup, features, builder, parse_only, from_encoding, exclude_encodings, **kwargs)\u001b[0m\n\u001b[1;32m    280\u001b[0m             \u001b[0mself\u001b[0m\u001b[0;34m.\u001b[0m\u001b[0mreset\u001b[0m\u001b[0;34m(\u001b[0m\u001b[0;34m)\u001b[0m\u001b[0;34m\u001b[0m\u001b[0;34m\u001b[0m\u001b[0m\n\u001b[1;32m    281\u001b[0m             \u001b[0;32mtry\u001b[0m\u001b[0;34m:\u001b[0m\u001b[0;34m\u001b[0m\u001b[0;34m\u001b[0m\u001b[0m\n\u001b[0;32m--> 282\u001b[0;31m                 \u001b[0mself\u001b[0m\u001b[0;34m.\u001b[0m\u001b[0m_feed\u001b[0m\u001b[0;34m(\u001b[0m\u001b[0;34m)\u001b[0m\u001b[0;34m\u001b[0m\u001b[0;34m\u001b[0m\u001b[0m\n\u001b[0m\u001b[1;32m    283\u001b[0m                 \u001b[0;32mbreak\u001b[0m\u001b[0;34m\u001b[0m\u001b[0;34m\u001b[0m\u001b[0m\n\u001b[1;32m    284\u001b[0m             \u001b[0;32mexcept\u001b[0m \u001b[0mParserRejectedMarkup\u001b[0m\u001b[0;34m:\u001b[0m\u001b[0;34m\u001b[0m\u001b[0;34m\u001b[0m\u001b[0m\n",
            "\u001b[0;32m/usr/local/lib/python3.7/dist-packages/bs4/__init__.py\u001b[0m in \u001b[0;36m_feed\u001b[0;34m(self)\u001b[0m\n\u001b[1;32m    341\u001b[0m         \u001b[0mself\u001b[0m\u001b[0;34m.\u001b[0m\u001b[0mbuilder\u001b[0m\u001b[0;34m.\u001b[0m\u001b[0mreset\u001b[0m\u001b[0;34m(\u001b[0m\u001b[0;34m)\u001b[0m\u001b[0;34m\u001b[0m\u001b[0;34m\u001b[0m\u001b[0m\n\u001b[1;32m    342\u001b[0m \u001b[0;34m\u001b[0m\u001b[0m\n\u001b[0;32m--> 343\u001b[0;31m         \u001b[0mself\u001b[0m\u001b[0;34m.\u001b[0m\u001b[0mbuilder\u001b[0m\u001b[0;34m.\u001b[0m\u001b[0mfeed\u001b[0m\u001b[0;34m(\u001b[0m\u001b[0mself\u001b[0m\u001b[0;34m.\u001b[0m\u001b[0mmarkup\u001b[0m\u001b[0;34m)\u001b[0m\u001b[0;34m\u001b[0m\u001b[0;34m\u001b[0m\u001b[0m\n\u001b[0m\u001b[1;32m    344\u001b[0m         \u001b[0;31m# Close out any unfinished strings and close all the open tags.\u001b[0m\u001b[0;34m\u001b[0m\u001b[0;34m\u001b[0m\u001b[0;34m\u001b[0m\u001b[0m\n\u001b[1;32m    345\u001b[0m         \u001b[0mself\u001b[0m\u001b[0;34m.\u001b[0m\u001b[0mendData\u001b[0m\u001b[0;34m(\u001b[0m\u001b[0;34m)\u001b[0m\u001b[0;34m\u001b[0m\u001b[0;34m\u001b[0m\u001b[0m\n",
            "\u001b[0;32m/usr/local/lib/python3.7/dist-packages/bs4/builder/_html5lib.py\u001b[0m in \u001b[0;36mfeed\u001b[0;34m(self, markup)\u001b[0m\n\u001b[1;32m     70\u001b[0m             \u001b[0;32melse\u001b[0m\u001b[0;34m:\u001b[0m\u001b[0;34m\u001b[0m\u001b[0;34m\u001b[0m\u001b[0m\n\u001b[1;32m     71\u001b[0m                 \u001b[0mextra_kwargs\u001b[0m\u001b[0;34m[\u001b[0m\u001b[0;34m'encoding'\u001b[0m\u001b[0;34m]\u001b[0m \u001b[0;34m=\u001b[0m \u001b[0mself\u001b[0m\u001b[0;34m.\u001b[0m\u001b[0muser_specified_encoding\u001b[0m\u001b[0;34m\u001b[0m\u001b[0;34m\u001b[0m\u001b[0m\n\u001b[0;32m---> 72\u001b[0;31m         \u001b[0mdoc\u001b[0m \u001b[0;34m=\u001b[0m \u001b[0mparser\u001b[0m\u001b[0;34m.\u001b[0m\u001b[0mparse\u001b[0m\u001b[0;34m(\u001b[0m\u001b[0mmarkup\u001b[0m\u001b[0;34m,\u001b[0m \u001b[0;34m**\u001b[0m\u001b[0mextra_kwargs\u001b[0m\u001b[0;34m)\u001b[0m\u001b[0;34m\u001b[0m\u001b[0;34m\u001b[0m\u001b[0m\n\u001b[0m\u001b[1;32m     73\u001b[0m \u001b[0;34m\u001b[0m\u001b[0m\n\u001b[1;32m     74\u001b[0m         \u001b[0;31m# Set the character encoding detected by the tokenizer.\u001b[0m\u001b[0;34m\u001b[0m\u001b[0;34m\u001b[0m\u001b[0;34m\u001b[0m\u001b[0m\n",
            "\u001b[0;32m/usr/local/lib/python3.7/dist-packages/html5lib/html5parser.py\u001b[0m in \u001b[0;36mparse\u001b[0;34m(self, stream, *args, **kwargs)\u001b[0m\n\u001b[1;32m    287\u001b[0m \u001b[0;34m\u001b[0m\u001b[0m\n\u001b[1;32m    288\u001b[0m         \"\"\"\n\u001b[0;32m--> 289\u001b[0;31m         \u001b[0mself\u001b[0m\u001b[0;34m.\u001b[0m\u001b[0m_parse\u001b[0m\u001b[0;34m(\u001b[0m\u001b[0mstream\u001b[0m\u001b[0;34m,\u001b[0m \u001b[0;32mFalse\u001b[0m\u001b[0;34m,\u001b[0m \u001b[0;32mNone\u001b[0m\u001b[0;34m,\u001b[0m \u001b[0;34m*\u001b[0m\u001b[0margs\u001b[0m\u001b[0;34m,\u001b[0m \u001b[0;34m**\u001b[0m\u001b[0mkwargs\u001b[0m\u001b[0;34m)\u001b[0m\u001b[0;34m\u001b[0m\u001b[0;34m\u001b[0m\u001b[0m\n\u001b[0m\u001b[1;32m    290\u001b[0m         \u001b[0;32mreturn\u001b[0m \u001b[0mself\u001b[0m\u001b[0;34m.\u001b[0m\u001b[0mtree\u001b[0m\u001b[0;34m.\u001b[0m\u001b[0mgetDocument\u001b[0m\u001b[0;34m(\u001b[0m\u001b[0;34m)\u001b[0m\u001b[0;34m\u001b[0m\u001b[0;34m\u001b[0m\u001b[0m\n\u001b[1;32m    291\u001b[0m \u001b[0;34m\u001b[0m\u001b[0m\n",
            "\u001b[0;32m/usr/local/lib/python3.7/dist-packages/html5lib/html5parser.py\u001b[0m in \u001b[0;36m_parse\u001b[0;34m(self, stream, innerHTML, container, scripting, **kwargs)\u001b[0m\n\u001b[1;32m    132\u001b[0m \u001b[0;34m\u001b[0m\u001b[0m\n\u001b[1;32m    133\u001b[0m         \u001b[0;32mtry\u001b[0m\u001b[0;34m:\u001b[0m\u001b[0;34m\u001b[0m\u001b[0;34m\u001b[0m\u001b[0m\n\u001b[0;32m--> 134\u001b[0;31m             \u001b[0mself\u001b[0m\u001b[0;34m.\u001b[0m\u001b[0mmainLoop\u001b[0m\u001b[0;34m(\u001b[0m\u001b[0;34m)\u001b[0m\u001b[0;34m\u001b[0m\u001b[0;34m\u001b[0m\u001b[0m\n\u001b[0m\u001b[1;32m    135\u001b[0m         \u001b[0;32mexcept\u001b[0m \u001b[0m_ReparseException\u001b[0m\u001b[0;34m:\u001b[0m\u001b[0;34m\u001b[0m\u001b[0;34m\u001b[0m\u001b[0m\n\u001b[1;32m    136\u001b[0m             \u001b[0mself\u001b[0m\u001b[0;34m.\u001b[0m\u001b[0mreset\u001b[0m\u001b[0;34m(\u001b[0m\u001b[0;34m)\u001b[0m\u001b[0;34m\u001b[0m\u001b[0;34m\u001b[0m\u001b[0m\n",
            "\u001b[0;32m/usr/local/lib/python3.7/dist-packages/html5lib/html5parser.py\u001b[0m in \u001b[0;36mmainLoop\u001b[0;34m(self)\u001b[0m\n\u001b[1;32m    239\u001b[0m                         \u001b[0mnew_token\u001b[0m \u001b[0;34m=\u001b[0m \u001b[0mphase\u001b[0m\u001b[0;34m.\u001b[0m\u001b[0mprocessSpaceCharacters\u001b[0m\u001b[0;34m(\u001b[0m\u001b[0mnew_token\u001b[0m\u001b[0;34m)\u001b[0m\u001b[0;34m\u001b[0m\u001b[0;34m\u001b[0m\u001b[0m\n\u001b[1;32m    240\u001b[0m                     \u001b[0;32melif\u001b[0m \u001b[0mtype\u001b[0m \u001b[0;34m==\u001b[0m \u001b[0mStartTagToken\u001b[0m\u001b[0;34m:\u001b[0m\u001b[0;34m\u001b[0m\u001b[0;34m\u001b[0m\u001b[0m\n\u001b[0;32m--> 241\u001b[0;31m                         \u001b[0mnew_token\u001b[0m \u001b[0;34m=\u001b[0m \u001b[0mphase\u001b[0m\u001b[0;34m.\u001b[0m\u001b[0mprocessStartTag\u001b[0m\u001b[0;34m(\u001b[0m\u001b[0mnew_token\u001b[0m\u001b[0;34m)\u001b[0m\u001b[0;34m\u001b[0m\u001b[0;34m\u001b[0m\u001b[0m\n\u001b[0m\u001b[1;32m    242\u001b[0m                     \u001b[0;32melif\u001b[0m \u001b[0mtype\u001b[0m \u001b[0;34m==\u001b[0m \u001b[0mEndTagToken\u001b[0m\u001b[0;34m:\u001b[0m\u001b[0;34m\u001b[0m\u001b[0;34m\u001b[0m\u001b[0m\n\u001b[1;32m    243\u001b[0m                         \u001b[0mnew_token\u001b[0m \u001b[0;34m=\u001b[0m \u001b[0mphase\u001b[0m\u001b[0;34m.\u001b[0m\u001b[0mprocessEndTag\u001b[0m\u001b[0;34m(\u001b[0m\u001b[0mnew_token\u001b[0m\u001b[0;34m)\u001b[0m\u001b[0;34m\u001b[0m\u001b[0;34m\u001b[0m\u001b[0m\n",
            "\u001b[0;32m/usr/local/lib/python3.7/dist-packages/html5lib/html5parser.py\u001b[0m in \u001b[0;36mprocessStartTag\u001b[0;34m(self, token)\u001b[0m\n\u001b[1;32m    470\u001b[0m \u001b[0;34m\u001b[0m\u001b[0m\n\u001b[1;32m    471\u001b[0m         \u001b[0;32mdef\u001b[0m \u001b[0mprocessStartTag\u001b[0m\u001b[0;34m(\u001b[0m\u001b[0mself\u001b[0m\u001b[0;34m,\u001b[0m \u001b[0mtoken\u001b[0m\u001b[0;34m)\u001b[0m\u001b[0;34m:\u001b[0m\u001b[0;34m\u001b[0m\u001b[0;34m\u001b[0m\u001b[0m\n\u001b[0;32m--> 472\u001b[0;31m             \u001b[0;32mreturn\u001b[0m \u001b[0mself\u001b[0m\u001b[0;34m.\u001b[0m\u001b[0mstartTagHandler\u001b[0m\u001b[0;34m[\u001b[0m\u001b[0mtoken\u001b[0m\u001b[0;34m[\u001b[0m\u001b[0;34m\"name\"\u001b[0m\u001b[0;34m]\u001b[0m\u001b[0;34m]\u001b[0m\u001b[0;34m(\u001b[0m\u001b[0mtoken\u001b[0m\u001b[0;34m)\u001b[0m\u001b[0;34m\u001b[0m\u001b[0;34m\u001b[0m\u001b[0m\n\u001b[0m\u001b[1;32m    473\u001b[0m \u001b[0;34m\u001b[0m\u001b[0m\n\u001b[1;32m    474\u001b[0m         \u001b[0;32mdef\u001b[0m \u001b[0mstartTagHtml\u001b[0m\u001b[0;34m(\u001b[0m\u001b[0mself\u001b[0m\u001b[0;34m,\u001b[0m \u001b[0mtoken\u001b[0m\u001b[0;34m)\u001b[0m\u001b[0;34m:\u001b[0m\u001b[0;34m\u001b[0m\u001b[0;34m\u001b[0m\u001b[0m\n",
            "\u001b[0;32m/usr/local/lib/python3.7/dist-packages/html5lib/html5parser.py\u001b[0m in \u001b[0;36mstartTagListItem\u001b[0;34m(self, token)\u001b[0m\n\u001b[1;32m   1133\u001b[0m                     impliedTagToken(\"p\", \"EndTag\"))\n\u001b[1;32m   1134\u001b[0m \u001b[0;34m\u001b[0m\u001b[0m\n\u001b[0;32m-> 1135\u001b[0;31m             \u001b[0mself\u001b[0m\u001b[0;34m.\u001b[0m\u001b[0mtree\u001b[0m\u001b[0;34m.\u001b[0m\u001b[0minsertElement\u001b[0m\u001b[0;34m(\u001b[0m\u001b[0mtoken\u001b[0m\u001b[0;34m)\u001b[0m\u001b[0;34m\u001b[0m\u001b[0;34m\u001b[0m\u001b[0m\n\u001b[0m\u001b[1;32m   1136\u001b[0m \u001b[0;34m\u001b[0m\u001b[0m\n\u001b[1;32m   1137\u001b[0m         \u001b[0;32mdef\u001b[0m \u001b[0mstartTagPlaintext\u001b[0m\u001b[0;34m(\u001b[0m\u001b[0mself\u001b[0m\u001b[0;34m,\u001b[0m \u001b[0mtoken\u001b[0m\u001b[0;34m)\u001b[0m\u001b[0;34m:\u001b[0m\u001b[0;34m\u001b[0m\u001b[0;34m\u001b[0m\u001b[0m\n",
            "\u001b[0;32m/usr/local/lib/python3.7/dist-packages/html5lib/treebuilders/base.py\u001b[0m in \u001b[0;36minsertElementNormal\u001b[0;34m(self, token)\u001b[0m\n\u001b[1;32m    327\u001b[0m         \u001b[0melement\u001b[0m \u001b[0;34m=\u001b[0m \u001b[0mself\u001b[0m\u001b[0;34m.\u001b[0m\u001b[0melementClass\u001b[0m\u001b[0;34m(\u001b[0m\u001b[0mname\u001b[0m\u001b[0;34m,\u001b[0m \u001b[0mnamespace\u001b[0m\u001b[0;34m)\u001b[0m\u001b[0;34m\u001b[0m\u001b[0;34m\u001b[0m\u001b[0m\n\u001b[1;32m    328\u001b[0m         \u001b[0melement\u001b[0m\u001b[0;34m.\u001b[0m\u001b[0mattributes\u001b[0m \u001b[0;34m=\u001b[0m \u001b[0mtoken\u001b[0m\u001b[0;34m[\u001b[0m\u001b[0;34m\"data\"\u001b[0m\u001b[0;34m]\u001b[0m\u001b[0;34m\u001b[0m\u001b[0;34m\u001b[0m\u001b[0m\n\u001b[0;32m--> 329\u001b[0;31m         \u001b[0mself\u001b[0m\u001b[0;34m.\u001b[0m\u001b[0mopenElements\u001b[0m\u001b[0;34m[\u001b[0m\u001b[0;34m-\u001b[0m\u001b[0;36m1\u001b[0m\u001b[0;34m]\u001b[0m\u001b[0;34m.\u001b[0m\u001b[0mappendChild\u001b[0m\u001b[0;34m(\u001b[0m\u001b[0melement\u001b[0m\u001b[0;34m)\u001b[0m\u001b[0;34m\u001b[0m\u001b[0;34m\u001b[0m\u001b[0m\n\u001b[0m\u001b[1;32m    330\u001b[0m         \u001b[0mself\u001b[0m\u001b[0;34m.\u001b[0m\u001b[0mopenElements\u001b[0m\u001b[0;34m.\u001b[0m\u001b[0mappend\u001b[0m\u001b[0;34m(\u001b[0m\u001b[0melement\u001b[0m\u001b[0;34m)\u001b[0m\u001b[0;34m\u001b[0m\u001b[0;34m\u001b[0m\u001b[0m\n\u001b[1;32m    331\u001b[0m         \u001b[0;32mreturn\u001b[0m \u001b[0melement\u001b[0m\u001b[0;34m\u001b[0m\u001b[0;34m\u001b[0m\u001b[0m\n",
            "\u001b[0;32m/usr/local/lib/python3.7/dist-packages/bs4/builder/_html5lib.py\u001b[0m in \u001b[0;36mappendChild\u001b[0;34m(self, node)\u001b[0m\n\u001b[1;32m    280\u001b[0m             self.soup.object_was_parsed(\n\u001b[1;32m    281\u001b[0m                 \u001b[0mchild\u001b[0m\u001b[0;34m,\u001b[0m \u001b[0mparent\u001b[0m\u001b[0;34m=\u001b[0m\u001b[0mself\u001b[0m\u001b[0;34m.\u001b[0m\u001b[0melement\u001b[0m\u001b[0;34m,\u001b[0m\u001b[0;34m\u001b[0m\u001b[0;34m\u001b[0m\u001b[0m\n\u001b[0;32m--> 282\u001b[0;31m                 most_recent_element=most_recent_element)\n\u001b[0m\u001b[1;32m    283\u001b[0m \u001b[0;34m\u001b[0m\u001b[0m\n\u001b[1;32m    284\u001b[0m     \u001b[0;32mdef\u001b[0m \u001b[0mgetAttributes\u001b[0m\u001b[0;34m(\u001b[0m\u001b[0mself\u001b[0m\u001b[0;34m)\u001b[0m\u001b[0;34m:\u001b[0m\u001b[0;34m\u001b[0m\u001b[0;34m\u001b[0m\u001b[0m\n",
            "\u001b[0;32m/usr/local/lib/python3.7/dist-packages/bs4/__init__.py\u001b[0m in \u001b[0;36mobject_was_parsed\u001b[0;34m(self, o, parent, most_recent_element)\u001b[0m\n\u001b[1;32m    433\u001b[0m                 \u001b[0mprevious_element\u001b[0m \u001b[0;34m=\u001b[0m \u001b[0mo\u001b[0m\u001b[0;34m.\u001b[0m\u001b[0mprevious_element\u001b[0m\u001b[0;34m\u001b[0m\u001b[0;34m\u001b[0m\u001b[0m\n\u001b[1;32m    434\u001b[0m \u001b[0;34m\u001b[0m\u001b[0m\n\u001b[0;32m--> 435\u001b[0;31m         \u001b[0mo\u001b[0m\u001b[0;34m.\u001b[0m\u001b[0msetup\u001b[0m\u001b[0;34m(\u001b[0m\u001b[0mparent\u001b[0m\u001b[0;34m,\u001b[0m \u001b[0mprevious_element\u001b[0m\u001b[0;34m,\u001b[0m \u001b[0mnext_element\u001b[0m\u001b[0;34m,\u001b[0m \u001b[0mprevious_sibling\u001b[0m\u001b[0;34m,\u001b[0m \u001b[0mnext_sibling\u001b[0m\u001b[0;34m)\u001b[0m\u001b[0;34m\u001b[0m\u001b[0;34m\u001b[0m\u001b[0m\n\u001b[0m\u001b[1;32m    436\u001b[0m \u001b[0;34m\u001b[0m\u001b[0m\n\u001b[1;32m    437\u001b[0m         \u001b[0mself\u001b[0m\u001b[0;34m.\u001b[0m\u001b[0m_most_recent_element\u001b[0m \u001b[0;34m=\u001b[0m \u001b[0mo\u001b[0m\u001b[0;34m\u001b[0m\u001b[0;34m\u001b[0m\u001b[0m\n",
            "\u001b[0;32m/usr/local/lib/python3.7/dist-packages/bs4/element.py\u001b[0m in \u001b[0;36msetup\u001b[0;34m(self, parent, previous_element, next_element, previous_sibling, next_sibling)\u001b[0m\n\u001b[1;32m    246\u001b[0m             \u001b[0;32mreturn\u001b[0m \u001b[0mself\u001b[0m\u001b[0;34m.\u001b[0m\u001b[0mHTML_FORMATTERS\u001b[0m\u001b[0;34m.\u001b[0m\u001b[0mget\u001b[0m\u001b[0;34m(\u001b[0m\u001b[0mname\u001b[0m\u001b[0;34m,\u001b[0m \u001b[0mHTMLFormatter\u001b[0m\u001b[0;34m(\u001b[0m\u001b[0;34m)\u001b[0m\u001b[0;34m)\u001b[0m\u001b[0;34m\u001b[0m\u001b[0;34m\u001b[0m\u001b[0m\n\u001b[1;32m    247\u001b[0m \u001b[0;34m\u001b[0m\u001b[0m\n\u001b[0;32m--> 248\u001b[0;31m     def setup(self, parent=None, previous_element=None, next_element=None,\n\u001b[0m\u001b[1;32m    249\u001b[0m               previous_sibling=None, next_sibling=None):\n\u001b[1;32m    250\u001b[0m         \"\"\"Sets up the initial relations between this element and\n",
            "\u001b[0;31mKeyboardInterrupt\u001b[0m: "
          ]
        }
      ]
    },
    {
      "cell_type": "code",
      "metadata": {
        "colab": {
          "base_uri": "https://localhost:8080/",
          "height": 701
        },
        "id": "O2WmjrQvDLD8",
        "outputId": "81617b5a-cece-4123-a0de-f3c135a64dbe"
      },
      "source": [
        "fin_art_list[1]"
      ],
      "execution_count": 99,
      "outputs": [
        {
          "output_type": "execute_result",
          "data": {
            "application/vnd.google.colaboratory.intrinsic+json": {
              "type": "string"
            },
            "text/plain": [
              "\"Leylah Fernandez, of Canada, reacts after defeating Aryna Sabalenka,of Belarus, during the ... [+] semifinals of the US Open tennis championships, Thursday, Sept. 9, 2021, in New York. (AP Photo/Seth Wenig) Leylah Annie Fernandez will play for the biggest title of her life on Saturday in the U.S. Open final — and for a purse of $2.5 million. But her father and coach, Jorge Fernandez, won’t be at the match because he’s “extremely superstitious.” The last time he showed up for one of his daughter’s finals was the 2020 Acapulco final, and she lost to Britain’s Heather Watson. The elder Fernandez made the trip to New York from Florida but will watch the Open final between his 19-year-old daughter and 18-year-old Emma Raducanu of Britain on TV (4 p.m., ESPN).  “No, I am not going to be there tomorrow,” Jorge Fernandez said via Zoom call with reporters Friday. “Yes, I'm extremely superstitious. My daughter is as well.” He added: “Look, I've been using the same shampoo on game day, kind of using the same jeans on game day, I think the same socks and underwear. It's taken to a completely different level. “It's always been that way. It's nothing new. You do your shoelaces a certain way, you do this a certain way. Leylah and I have always kind of, when we figured out what's working, we don't mess with it. That's to a fault, right? Because sometimes you end up messing about with things that you shouldn't mess about with. “It's working, so let's not ruin it. The last time I showed up to a finals it was Acapulco when she made it to the finals and she lost it. I was hating myself for a good two months afterwards. I didn't really want to talk about it. I didn't want to talk to anybody.” The elder Fernandez watched from Florida as his daughter mowed down four-time major champion Naomi Osaka, three-time major winner Angelique Kerber and No. 5 Elina Svitolina to get to the semifinals. He was in New York on Thursday night when Fernandez took out a third top-5 player in No. 2 Aryna Sabalenka in three tough sets. The final will mark the the first time since 1999 that two teenagers are vying for the title. That year, 17-year-old Serena Williams beat Martina Hingis in the final after taking out Monica Seles and Lindsay Davenport to get there. NEW YORK, NEW YORK - SEPTEMBER 04: Emma Raducanu of the United Kingdom celebrates after defeating ... [+] Sara Sorribes Tormo of Spain during her Women's Singles third round match on Day Six of the 2021 US Open at the USTA Billie Jean King National Tennis Center on September 04, 2021 in the Flushing neighborhood of the Queens borough of New York City. (Photo by Elsa/Getty Images) Both Fernandez and Raducanu play with a poise and power that belies their age, and both have smartly played to the New York night crowds that have quickly bonded with them like they did Jimmy Connors, John McEnroe, Andy Roddick and other firey American stars. Raducanu enters the match as the slight favorite, as she’s yet to drop a set through her nine matches played in New York, which includes three rounds of qualifying. The two teenagers know one another from the juniors, where Raducanu won 6-4, 6-4 in the Wimbledon juniors a few years back. “Emma made the finals because she earned her right to be in the finals,” Jorge said. “Nobody gave it to her, right? What she did was absolutely fantastic, as well. I mean, c'mon, [beating Maria] Sakkari, this is not just a regular player.” Jorge goes over the game plan with his daughter before each of Leylah’s matches but had yet to do that as of Friday afternoon. “I've yet to finalize any little details to the match plan,” he said. “But so far she's been following the match plan very well. In key moments she's been executing very well. “That's what the focus is going to be as opposed to it's a junior player, she's higher ranked. That just creates more pressure, right? That just creates an expectation of, well, honest, if she was 150... No, unfortunately for me that's a very junior mentality.” Leylah Fernandez, of Canada, reacts after defeating Aryna Sabalenka,of Belarus, during the ... [+] semifinals of the US Open tennis championships, Thursday, Sept. 9, 2021, in New York. (AP Photo/Seth Wenig) Both players have Canadian and Asian ties. Fernandez was born in Montreal. Jorge is a former soccer player from Ecuador and her mother Irene is Filipino. Raducanu’s father, Ian, is Romanian and her mother, Renee, Chinese. Raducanu’s parents moved from Canada to the United Kingdom when she was just 2. “I'm glad that they're touching the Asian community,” Jorge said. “I think that's a huge opportunity in the women's game just to be able to expand and have a new style. Like tomorrow's matchup is 2002, that's their year [when they were born]. You might as well call it the 2002 US Open final. It's silly. “I think it's just positive for the game. Obviously I want Leylah to win. That goes without saying. But I just think that the matchup and what we're seeing, those two ladies are touching a lot of young girls. They're touching a lot of young people. I'm getting messages about, you know, Please pass this to Leylah, little girls saying, You're making us believe. This can only be good for the tennis game and the WTA altogether.” Coming into the Open, there was much speculation about how much interest there would be in the tennis with stars like Serena and Venus Williams, Roger Federer and Rafael Nadal all sidelined by injury. Meantime, no American man or woman reached the quarterfinals for the first time ever, while two Canadians reached at least the semifinals (Felix Auger-Aliassime on the men’s side). Yet the tournament has been deemed an overwhelming success — with Novak Djokovic still alive for the first Grand Slam in men’s tennis since 1969 and two teenagers storming their way to the ladies final. “We have to look at the big picture here, right?” Jorge said. “We have to look at something as simple as changing of the guard, right? Who's going to be the next generation that's going to come in? What type of play are they going to bring? I see they're both bringing a type of game that is not common right now on the circuit. It's not as common as we think it is.”\""
            ]
          },
          "metadata": {},
          "execution_count": 99
        }
      ]
    }
  ]
}