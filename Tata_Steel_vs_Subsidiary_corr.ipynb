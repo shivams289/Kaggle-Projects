{
  "nbformat": 4,
  "nbformat_minor": 0,
  "metadata": {
    "colab": {
      "name": "Tata_Steel_vs_Subsidiary_corr.ipynb",
      "provenance": [],
      "mount_file_id": "1mV9IwA765uUy5-HJLB5JJGNVFBZKabM2",
      "authorship_tag": "ABX9TyPGr6GeIXlwSmCfRdNXNMxY",
      "include_colab_link": true
    },
    "kernelspec": {
      "name": "python3",
      "display_name": "Python 3"
    },
    "language_info": {
      "name": "python"
    }
  },
  "cells": [
    {
      "cell_type": "markdown",
      "metadata": {
        "id": "view-in-github",
        "colab_type": "text"
      },
      "source": [
        "<a href=\"https://colab.research.google.com/github/shivams289/Kaggle-Projects/blob/main/Tata_Steel_vs_Subsidiary_corr.ipynb\" target=\"_parent\"><img src=\"https://colab.research.google.com/assets/colab-badge.svg\" alt=\"Open In Colab\"/></a>"
      ]
    },
    {
      "cell_type": "code",
      "metadata": {
        "id": "OU1zPqvty-QR"
      },
      "source": [
        "path1 = '/content/drive/MyDrive/stl.csv'\n",
        "path3 = '/content/drive/MyDrive/bsl.csv'\n"
      ],
      "execution_count": 1,
      "outputs": []
    },
    {
      "cell_type": "code",
      "metadata": {
        "id": "XsTi18Si0ICD"
      },
      "source": [
        "import pandas as pd\n",
        "import numpy as np\n",
        "import matplotlib.pyplot as plt\n",
        "import seaborn as sns"
      ],
      "execution_count": 2,
      "outputs": []
    },
    {
      "cell_type": "code",
      "metadata": {
        "id": "6NRS1ZJQz5gd"
      },
      "source": [
        "bsl = pd.read_csv(path3)\n",
        "stl = pd.read_csv(path1)"
      ],
      "execution_count": 3,
      "outputs": []
    },
    {
      "cell_type": "code",
      "metadata": {
        "colab": {
          "base_uri": "https://localhost:8080/"
        },
        "id": "y9PvPKOl0fYV",
        "outputId": "c9523dd0-c0a2-4e6d-ea4e-bd1557bd2a98"
      },
      "source": [
        "bsl.columns"
      ],
      "execution_count": 4,
      "outputs": [
        {
          "output_type": "execute_result",
          "data": {
            "text/plain": [
              "Index(['Date ', 'series ', 'OPEN ', 'HIGH ', 'LOW ', 'PREV. CLOSE ', 'ltp ',\n",
              "       'close ', 'vwap ', '52W H ', '52W L ', 'VOLUME ', 'VALUE ',\n",
              "       'No of trades '],\n",
              "      dtype='object')"
            ]
          },
          "metadata": {
            "tags": []
          },
          "execution_count": 4
        }
      ]
    },
    {
      "cell_type": "code",
      "metadata": {
        "id": "_2e0wjk30z_M"
      },
      "source": [
        "bsl = bsl[['OPEN ', 'close ', 'HIGH ', 'LOW ', 'VOLUME ', 'PREV. CLOSE ']]\n",
        "stl = stl[['OPEN ', 'close ', 'HIGH ', 'LOW ', 'VOLUME ', 'PREV. CLOSE ']]"
      ],
      "execution_count": 5,
      "outputs": []
    },
    {
      "cell_type": "code",
      "metadata": {
        "id": "Lpuv0kVBJpQF"
      },
      "source": [
        "stl.replace(',','', regex=True, inplace=True)"
      ],
      "execution_count": 6,
      "outputs": []
    },
    {
      "cell_type": "code",
      "metadata": {
        "id": "p6OAbkFCIwAC"
      },
      "source": [
        "bsl = bsl.astype(float)\n",
        "\n"
      ],
      "execution_count": 7,
      "outputs": []
    },
    {
      "cell_type": "code",
      "metadata": {
        "colab": {
          "base_uri": "https://localhost:8080/"
        },
        "id": "L3sNrT1LYKZm",
        "outputId": "abe5d7c9-5ba4-477c-c308-ed270f4dd986"
      },
      "source": [
        "bsl['close '].dtype"
      ],
      "execution_count": 8,
      "outputs": [
        {
          "output_type": "execute_result",
          "data": {
            "text/plain": [
              "dtype('float64')"
            ]
          },
          "metadata": {
            "tags": []
          },
          "execution_count": 8
        }
      ]
    },
    {
      "cell_type": "code",
      "metadata": {
        "id": "ac3L8m4-YRqv"
      },
      "source": [
        "stl = stl.astype(float)"
      ],
      "execution_count": 9,
      "outputs": []
    },
    {
      "cell_type": "code",
      "metadata": {
        "colab": {
          "base_uri": "https://localhost:8080/"
        },
        "id": "L4bkw-ueYXUY",
        "outputId": "a7bb0ed3-2ed9-48ef-e4b8-326c04c0e92e"
      },
      "source": [
        "stl['close '].dtype"
      ],
      "execution_count": 10,
      "outputs": [
        {
          "output_type": "execute_result",
          "data": {
            "text/plain": [
              "dtype('float64')"
            ]
          },
          "metadata": {
            "tags": []
          },
          "execution_count": 10
        }
      ]
    },
    {
      "cell_type": "code",
      "metadata": {
        "colab": {
          "base_uri": "https://localhost:8080/"
        },
        "id": "tbn89-jJj0OK",
        "outputId": "99718306-5d42-4cc3-cbe3-1510d0fea711"
      },
      "source": [
        "print(bsl.isnull().sum())\n",
        "print(stl.isnull().sum())"
      ],
      "execution_count": 11,
      "outputs": [
        {
          "output_type": "stream",
          "text": [
            "OPEN            0\n",
            "close           0\n",
            "HIGH            0\n",
            "LOW             0\n",
            "VOLUME          0\n",
            "PREV. CLOSE     0\n",
            "dtype: int64\n",
            "OPEN            0\n",
            "close           0\n",
            "HIGH            0\n",
            "LOW             0\n",
            "VOLUME          0\n",
            "PREV. CLOSE     0\n",
            "dtype: int64\n"
          ],
          "name": "stdout"
        }
      ]
    },
    {
      "cell_type": "code",
      "metadata": {
        "colab": {
          "base_uri": "https://localhost:8080/"
        },
        "id": "_yN7ePaVkMlU",
        "outputId": "d134b0c6-d314-4a8d-c5c6-8a3a403cc4a3"
      },
      "source": [
        "print(bsl.corr(), '\\n')\n",
        "print(stl.corr(), '\\n')"
      ],
      "execution_count": 12,
      "outputs": [
        {
          "output_type": "stream",
          "text": [
            "                 OPEN     close      HIGH       LOW    VOLUME   PREV. CLOSE \n",
            "OPEN          1.000000  0.993037  0.994973  0.997179  0.079066      0.997906\n",
            "close         0.993037  1.000000  0.997298  0.995703  0.133890      0.991868\n",
            "HIGH          0.994973  0.997298  1.000000  0.993565  0.158063      0.993496\n",
            "LOW           0.997179  0.995703  0.993565  1.000000  0.066827      0.996310\n",
            "VOLUME        0.079066  0.133890  0.158063  0.066827  1.000000      0.063468\n",
            "PREV. CLOSE   0.997906  0.991868  0.993496  0.996310  0.063468      1.000000 \n",
            "\n",
            "                 OPEN     close      HIGH       LOW    VOLUME   PREV. CLOSE \n",
            "OPEN          1.000000  0.994483  0.997034  0.998170 -0.319638      0.998774\n",
            "close         0.994483  1.000000  0.998596  0.997361 -0.285361      0.992951\n",
            "HIGH          0.997034  0.998596  1.000000  0.997598 -0.277080      0.995854\n",
            "LOW           0.998170  0.997361  0.997598  1.000000 -0.325421      0.996637\n",
            "VOLUME       -0.319638 -0.285361 -0.277080 -0.325421  1.000000     -0.320942\n",
            "PREV. CLOSE   0.998774  0.992951  0.995854  0.996637 -0.320942      1.000000 \n",
            "\n"
          ],
          "name": "stdout"
        }
      ]
    },
    {
      "cell_type": "code",
      "metadata": {
        "colab": {
          "base_uri": "https://localhost:8080/"
        },
        "id": "3F_AiFZ800Kh",
        "outputId": "5c59ca45-f659-4cd1-ae33-824367fb735f"
      },
      "source": [
        "print(bsl.tail())\n",
        "print(stl.tail())"
      ],
      "execution_count": 13,
      "outputs": [
        {
          "output_type": "stream",
          "text": [
            "     OPEN   close   HIGH    LOW      VOLUME   PREV. CLOSE \n",
            "117  43.40   44.05  44.30  43.00   7604924.0         43.40\n",
            "118  45.00   43.40  45.25  42.80   5969500.0         43.85\n",
            "119  44.55   43.85  45.10  43.30  10186334.0         44.30\n",
            "120  43.75   44.30  44.45  43.00   6424652.0         43.10\n",
            "121  41.45   43.10  43.50  40.95   7243841.0         41.35\n",
            "     OPEN   close    HIGH     LOW      VOLUME   PREV. CLOSE \n",
            "117  687.6  694.70  704.60  682.85  16340705.0        690.25\n",
            "118  710.0  690.25  724.50  680.05  57397919.0        699.20\n",
            "119  706.5  699.20  716.45  691.60  29337028.0        702.95\n",
            "120  694.0  702.95  704.90  682.70  21462169.0        685.05\n",
            "121  656.9  685.05  690.60  651.40  29100888.0        655.95\n"
          ],
          "name": "stdout"
        }
      ]
    },
    {
      "cell_type": "code",
      "metadata": {
        "colab": {
          "base_uri": "https://localhost:8080/"
        },
        "id": "xSpZVZBlLNCf",
        "outputId": "e2239751-adf4-4dd9-8b30-01310be58722"
      },
      "source": [
        "print(bsl.shape)\n",
        "print(stl.shape)"
      ],
      "execution_count": 14,
      "outputs": [
        {
          "output_type": "stream",
          "text": [
            "(122, 6)\n",
            "(122, 6)\n"
          ],
          "name": "stdout"
        }
      ]
    },
    {
      "cell_type": "code",
      "metadata": {
        "colab": {
          "base_uri": "https://localhost:8080/"
        },
        "id": "e45aW-GQ00jr",
        "outputId": "7632cb1a-d7db-4ab7-feac-743ad34e553a"
      },
      "source": [
        "stl.corrwith(bsl, axis = 0)"
      ],
      "execution_count": 15,
      "outputs": [
        {
          "output_type": "execute_result",
          "data": {
            "text/plain": [
              "OPEN            0.930967\n",
              "close           0.930457\n",
              "HIGH            0.923933\n",
              "LOW             0.935435\n",
              "VOLUME          0.532291\n",
              "PREV. CLOSE     0.933057\n",
              "dtype: float64"
            ]
          },
          "metadata": {
            "tags": []
          },
          "execution_count": 15
        }
      ]
    },
    {
      "cell_type": "code",
      "metadata": {
        "id": "kqo-inxk00m3"
      },
      "source": [
        "from sklearn.preprocessing import MinMaxScaler\n",
        "\n",
        "scaler = MinMaxScaler()"
      ],
      "execution_count": 16,
      "outputs": []
    },
    {
      "cell_type": "code",
      "metadata": {
        "id": "yHE13CZDllcf"
      },
      "source": [
        "data1 = scaler.fit_transform(stl)\n",
        "data2 = scaler.fit_transform(bsl)\n"
      ],
      "execution_count": 17,
      "outputs": []
    },
    {
      "cell_type": "code",
      "metadata": {
        "id": "PExw12zZmIyn"
      },
      "source": [
        "data1 = pd.DataFrame(data1)\n",
        "data2 = pd.DataFrame(data2)"
      ],
      "execution_count": 20,
      "outputs": []
    },
    {
      "cell_type": "code",
      "metadata": {
        "id": "hfQzKbi8mWIh"
      },
      "source": [
        "data1.columns = [ 'OPEN ', 'close ', 'HIGH ', 'LOW ', 'VOLUME ','PREV. CLOSE ']\n",
        "data2.columns = [ 'OPEN ', 'close ', 'HIGH ', 'LOW ', 'VOLUME ','PREV. CLOSE ']"
      ],
      "execution_count": 21,
      "outputs": []
    },
    {
      "cell_type": "code",
      "metadata": {
        "colab": {
          "base_uri": "https://localhost:8080/"
        },
        "id": "kD3TQGdslxkC",
        "outputId": "a9882662-829e-43e4-a713-b5c5481ded98"
      },
      "source": [
        "data1.corrwith(data2, axis = 0 )"
      ],
      "execution_count": 22,
      "outputs": [
        {
          "output_type": "execute_result",
          "data": {
            "text/plain": [
              "OPEN            0.930967\n",
              "close           0.930457\n",
              "HIGH            0.923933\n",
              "LOW             0.935435\n",
              "VOLUME          0.532291\n",
              "PREV. CLOSE     0.933057\n",
              "dtype: float64"
            ]
          },
          "metadata": {
            "tags": []
          },
          "execution_count": 22
        }
      ]
    },
    {
      "cell_type": "code",
      "metadata": {
        "colab": {
          "base_uri": "https://localhost:8080/",
          "height": 235
        },
        "id": "giqxDDz4rXu7",
        "outputId": "77a2e411-dfec-4cc3-e549-75b293311876"
      },
      "source": [
        "stl.corr()"
      ],
      "execution_count": 23,
      "outputs": [
        {
          "output_type": "execute_result",
          "data": {
            "text/html": [
              "<div>\n",
              "<style scoped>\n",
              "    .dataframe tbody tr th:only-of-type {\n",
              "        vertical-align: middle;\n",
              "    }\n",
              "\n",
              "    .dataframe tbody tr th {\n",
              "        vertical-align: top;\n",
              "    }\n",
              "\n",
              "    .dataframe thead th {\n",
              "        text-align: right;\n",
              "    }\n",
              "</style>\n",
              "<table border=\"1\" class=\"dataframe\">\n",
              "  <thead>\n",
              "    <tr style=\"text-align: right;\">\n",
              "      <th></th>\n",
              "      <th>OPEN</th>\n",
              "      <th>close</th>\n",
              "      <th>HIGH</th>\n",
              "      <th>LOW</th>\n",
              "      <th>VOLUME</th>\n",
              "      <th>PREV. CLOSE</th>\n",
              "    </tr>\n",
              "  </thead>\n",
              "  <tbody>\n",
              "    <tr>\n",
              "      <th>OPEN</th>\n",
              "      <td>1.000000</td>\n",
              "      <td>0.994483</td>\n",
              "      <td>0.997034</td>\n",
              "      <td>0.998170</td>\n",
              "      <td>-0.319638</td>\n",
              "      <td>0.998774</td>\n",
              "    </tr>\n",
              "    <tr>\n",
              "      <th>close</th>\n",
              "      <td>0.994483</td>\n",
              "      <td>1.000000</td>\n",
              "      <td>0.998596</td>\n",
              "      <td>0.997361</td>\n",
              "      <td>-0.285361</td>\n",
              "      <td>0.992951</td>\n",
              "    </tr>\n",
              "    <tr>\n",
              "      <th>HIGH</th>\n",
              "      <td>0.997034</td>\n",
              "      <td>0.998596</td>\n",
              "      <td>1.000000</td>\n",
              "      <td>0.997598</td>\n",
              "      <td>-0.277080</td>\n",
              "      <td>0.995854</td>\n",
              "    </tr>\n",
              "    <tr>\n",
              "      <th>LOW</th>\n",
              "      <td>0.998170</td>\n",
              "      <td>0.997361</td>\n",
              "      <td>0.997598</td>\n",
              "      <td>1.000000</td>\n",
              "      <td>-0.325421</td>\n",
              "      <td>0.996637</td>\n",
              "    </tr>\n",
              "    <tr>\n",
              "      <th>VOLUME</th>\n",
              "      <td>-0.319638</td>\n",
              "      <td>-0.285361</td>\n",
              "      <td>-0.277080</td>\n",
              "      <td>-0.325421</td>\n",
              "      <td>1.000000</td>\n",
              "      <td>-0.320942</td>\n",
              "    </tr>\n",
              "    <tr>\n",
              "      <th>PREV. CLOSE</th>\n",
              "      <td>0.998774</td>\n",
              "      <td>0.992951</td>\n",
              "      <td>0.995854</td>\n",
              "      <td>0.996637</td>\n",
              "      <td>-0.320942</td>\n",
              "      <td>1.000000</td>\n",
              "    </tr>\n",
              "  </tbody>\n",
              "</table>\n",
              "</div>"
            ],
            "text/plain": [
              "                 OPEN     close      HIGH       LOW    VOLUME   PREV. CLOSE \n",
              "OPEN          1.000000  0.994483  0.997034  0.998170 -0.319638      0.998774\n",
              "close         0.994483  1.000000  0.998596  0.997361 -0.285361      0.992951\n",
              "HIGH          0.997034  0.998596  1.000000  0.997598 -0.277080      0.995854\n",
              "LOW           0.998170  0.997361  0.997598  1.000000 -0.325421      0.996637\n",
              "VOLUME       -0.319638 -0.285361 -0.277080 -0.325421  1.000000     -0.320942\n",
              "PREV. CLOSE   0.998774  0.992951  0.995854  0.996637 -0.320942      1.000000"
            ]
          },
          "metadata": {
            "tags": []
          },
          "execution_count": 23
        }
      ]
    },
    {
      "cell_type": "code",
      "metadata": {
        "colab": {
          "base_uri": "https://localhost:8080/",
          "height": 364
        },
        "id": "zvyquP-Ir-ms",
        "outputId": "5d335d34-58c3-4823-ef60-07b980588fcd"
      },
      "source": [
        "plt.style.use('seaborn')\n",
        "plt.plot(data1['close '], label = ' TATA STL')\n",
        "plt.plot(data2['close '], label = 'TATA STL BSL')\n",
        "plt.legend()"
      ],
      "execution_count": 24,
      "outputs": [
        {
          "output_type": "execute_result",
          "data": {
            "text/plain": [
              "<matplotlib.legend.Legend at 0x7fba146c4550>"
            ]
          },
          "metadata": {
            "tags": []
          },
          "execution_count": 24
        },
        {
          "output_type": "display_data",
          "data": {
            "image/png": "[encoded data removed]",
            "text/plain": [
              "<Figure size 576x396 with 1 Axes>"
            ]
          },
          "metadata": {
            "tags": []
          }
        }
      ]
    }
  ]
}