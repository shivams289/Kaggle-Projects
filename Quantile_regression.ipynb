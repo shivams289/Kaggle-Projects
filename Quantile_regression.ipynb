{
  "nbformat": 4,
  "nbformat_minor": 0,
  "metadata": {
    "colab": {
      "name": "Quantile_regression.ipynb",
      "provenance": [],
      "collapsed_sections": [],
      "mount_file_id": "1BoPRoEG4WwAT0s1f19c-920iU-5QOpG1",
      "authorship_tag": "ABX9TyMXdE1pwwoE7nV3LLWvrVzV",
      "include_colab_link": true
    },
    "kernelspec": {
      "name": "python3",
      "display_name": "Python 3"
    },
    "language_info": {
      "name": "python"
    }
  },
  "cells": [
    {
      "cell_type": "markdown",
      "metadata": {
        "id": "view-in-github",
        "colab_type": "text"
      },
      "source": [
        "<a href=\"https://colab.research.google.com/github/shivams289/Projects/blob/main/Quantile_regression.ipynb\" target=\"_parent\"><img src=\"https://colab.research.google.com/assets/colab-badge.svg\" alt=\"Open In Colab\"/></a>"
      ]
    },
    {
      "cell_type": "code",
      "metadata": {
        "id": "mOFyFPlBmtKB"
      },
      "source": [
        "#Paper:http://www.economics-ejournal.org/economics/journalarticles/2019-26/\n",
        "#he dataset for the same is available at - http://dx.doi.org/10.7910/DVN/MCOVPQ"
      ],
      "execution_count": null,
      "outputs": []
    },
    {
      "cell_type": "code",
      "metadata": {
        "id": "-sBI3gC_tSRt"
      },
      "source": [
        "import pandas as pd\n",
        "import numpy as np\n",
        "import seaborn as sns\n",
        "import matplotlib.pyplot as plt\n",
        "import datetime as dt\n"
      ],
      "execution_count": null,
      "outputs": []
    },
    {
      "cell_type": "code",
      "metadata": {
        "id": "oM1sTXXqq5uP"
      },
      "source": [
        "plt.rcParams[\"figure.figsize\"] = (12,8)"
      ],
      "execution_count": null,
      "outputs": []
    },
    {
      "cell_type": "code",
      "metadata": {
        "id": "xpdEfQn0thFt"
      },
      "source": [
        "df = pd.read_csv('/content/drive/MyDrive/dataverse_files/quantile_raw.csv')"
      ],
      "execution_count": null,
      "outputs": []
    },
    {
      "cell_type": "code",
      "metadata": {
        "colab": {
          "base_uri": "https://localhost:8080/"
        },
        "id": "7fZL-PwiNtd6",
        "outputId": "9befb2c1-1cff-4138-8821-b4a3a962889e"
      },
      "source": [
        "#The shape is different than used in research paper for visualising the summar statistics\n",
        "df.shape"
      ],
      "execution_count": null,
      "outputs": [
        {
          "output_type": "execute_result",
          "data": {
            "text/plain": [
              "(821788, 21)"
            ]
          },
          "metadata": {},
          "execution_count": 5
        }
      ]
    },
    {
      "cell_type": "code",
      "metadata": {
        "colab": {
          "base_uri": "https://localhost:8080/"
        },
        "id": "nEKSIBO1tutX",
        "outputId": "abac091c-8302-4033-bf30-278a37e8bd36"
      },
      "source": [
        "df.dtypes"
      ],
      "execution_count": null,
      "outputs": [
        {
          "output_type": "execute_result",
          "data": {
            "text/plain": [
              "t              object\n",
              "k200          float64\n",
              "k200volume    float64\n",
              "k200_wn       float64\n",
              "fprc          float64\n",
              "fvolume       float64\n",
              "f_wn          float64\n",
              "vkospi        float64\n",
              "iv1           float64\n",
              "iv2           float64\n",
              "iv2_Call      float64\n",
              "iv2_put       float64\n",
              "iv2_itm       float64\n",
              "iv2_atm       float64\n",
              "iv2_otm       float64\n",
              "iv3           float64\n",
              "iv3_Call      float64\n",
              "iv3_put       float64\n",
              "iv3_itm       float64\n",
              "iv3_atm       float64\n",
              "iv3_otm       float64\n",
              "dtype: object"
            ]
          },
          "metadata": {},
          "execution_count": 6
        }
      ]
    },
    {
      "cell_type": "code",
      "metadata": {
        "colab": {
          "base_uri": "https://localhost:8080/",
          "height": 394
        },
        "id": "BSWcB-Q9t9XP",
        "outputId": "062d68c4-373f-41bc-e7c4-8e07747383ac"
      },
      "source": [
        "df.head()"
      ],
      "execution_count": null,
      "outputs": [
        {
          "output_type": "execute_result",
          "data": {
            "text/html": [
              "<div>\n",
              "<style scoped>\n",
              "    .dataframe tbody tr th:only-of-type {\n",
              "        vertical-align: middle;\n",
              "    }\n",
              "\n",
              "    .dataframe tbody tr th {\n",
              "        vertical-align: top;\n",
              "    }\n",
              "\n",
              "    .dataframe thead th {\n",
              "        text-align: right;\n",
              "    }\n",
              "</style>\n",
              "<table border=\"1\" class=\"dataframe\">\n",
              "  <thead>\n",
              "    <tr style=\"text-align: right;\">\n",
              "      <th></th>\n",
              "      <th>t</th>\n",
              "      <th>k200</th>\n",
              "      <th>k200volume</th>\n",
              "      <th>k200_wn</th>\n",
              "      <th>fprc</th>\n",
              "      <th>fvolume</th>\n",
              "      <th>f_wn</th>\n",
              "      <th>vkospi</th>\n",
              "      <th>iv1</th>\n",
              "      <th>iv2</th>\n",
              "      <th>iv2_Call</th>\n",
              "      <th>iv2_put</th>\n",
              "      <th>iv2_itm</th>\n",
              "      <th>iv2_atm</th>\n",
              "      <th>iv2_otm</th>\n",
              "      <th>iv3</th>\n",
              "      <th>iv3_Call</th>\n",
              "      <th>iv3_put</th>\n",
              "      <th>iv3_itm</th>\n",
              "      <th>iv3_atm</th>\n",
              "      <th>iv3_otm</th>\n",
              "    </tr>\n",
              "  </thead>\n",
              "  <tbody>\n",
              "    <tr>\n",
              "      <th>0</th>\n",
              "      <td>2005-01-03 10:01</td>\n",
              "      <td>115.65</td>\n",
              "      <td>6971224.0</td>\n",
              "      <td>8.813920e+10</td>\n",
              "      <td>116.00</td>\n",
              "      <td>2658.0</td>\n",
              "      <td>1.540000e+11</td>\n",
              "      <td>NaN</td>\n",
              "      <td>20.879310</td>\n",
              "      <td>28.419010</td>\n",
              "      <td>20.265149</td>\n",
              "      <td>35.895286</td>\n",
              "      <td>19.621235</td>\n",
              "      <td>19.726609</td>\n",
              "      <td>29.636174</td>\n",
              "      <td>24.784842</td>\n",
              "      <td>19.833360</td>\n",
              "      <td>28.415928</td>\n",
              "      <td>21.272830</td>\n",
              "      <td>20.700473</td>\n",
              "      <td>26.536521</td>\n",
              "    </tr>\n",
              "    <tr>\n",
              "      <th>1</th>\n",
              "      <td>2005-01-03 10:02</td>\n",
              "      <td>115.54</td>\n",
              "      <td>915131.0</td>\n",
              "      <td>9.772912e+09</td>\n",
              "      <td>116.00</td>\n",
              "      <td>1486.0</td>\n",
              "      <td>8.618300e+10</td>\n",
              "      <td>NaN</td>\n",
              "      <td>21.112680</td>\n",
              "      <td>23.072276</td>\n",
              "      <td>21.082338</td>\n",
              "      <td>28.444816</td>\n",
              "      <td>21.072528</td>\n",
              "      <td>20.301699</td>\n",
              "      <td>23.799501</td>\n",
              "      <td>24.683726</td>\n",
              "      <td>20.555183</td>\n",
              "      <td>27.986560</td>\n",
              "      <td>21.365015</td>\n",
              "      <td>20.928948</td>\n",
              "      <td>26.464211</td>\n",
              "    </tr>\n",
              "    <tr>\n",
              "      <th>2</th>\n",
              "      <td>2005-01-03 10:03</td>\n",
              "      <td>115.42</td>\n",
              "      <td>771750.0</td>\n",
              "      <td>9.474952e+09</td>\n",
              "      <td>116.00</td>\n",
              "      <td>1214.0</td>\n",
              "      <td>7.039850e+10</td>\n",
              "      <td>NaN</td>\n",
              "      <td>21.336045</td>\n",
              "      <td>22.517448</td>\n",
              "      <td>21.587777</td>\n",
              "      <td>25.139568</td>\n",
              "      <td>22.057481</td>\n",
              "      <td>21.043458</td>\n",
              "      <td>22.964765</td>\n",
              "      <td>23.515884</td>\n",
              "      <td>21.098337</td>\n",
              "      <td>26.537817</td>\n",
              "      <td>21.543264</td>\n",
              "      <td>21.079843</td>\n",
              "      <td>25.045842</td>\n",
              "    </tr>\n",
              "    <tr>\n",
              "      <th>3</th>\n",
              "      <td>2005-01-03 10:04</td>\n",
              "      <td>115.55</td>\n",
              "      <td>991206.0</td>\n",
              "      <td>9.716512e+09</td>\n",
              "      <td>116.05</td>\n",
              "      <td>1876.0</td>\n",
              "      <td>1.090000e+11</td>\n",
              "      <td>NaN</td>\n",
              "      <td>20.977045</td>\n",
              "      <td>21.688313</td>\n",
              "      <td>20.468253</td>\n",
              "      <td>24.008019</td>\n",
              "      <td>20.709042</td>\n",
              "      <td>20.463135</td>\n",
              "      <td>22.800739</td>\n",
              "      <td>24.261755</td>\n",
              "      <td>20.575309</td>\n",
              "      <td>27.640997</td>\n",
              "      <td>21.749790</td>\n",
              "      <td>20.930062</td>\n",
              "      <td>25.341208</td>\n",
              "    </tr>\n",
              "    <tr>\n",
              "      <th>4</th>\n",
              "      <td>2005-01-03 10:05</td>\n",
              "      <td>115.60</td>\n",
              "      <td>1053666.0</td>\n",
              "      <td>1.272223e+10</td>\n",
              "      <td>115.80</td>\n",
              "      <td>2064.0</td>\n",
              "      <td>1.200000e+11</td>\n",
              "      <td>NaN</td>\n",
              "      <td>20.863665</td>\n",
              "      <td>22.366039</td>\n",
              "      <td>19.995091</td>\n",
              "      <td>26.196032</td>\n",
              "      <td>17.096130</td>\n",
              "      <td>19.634384</td>\n",
              "      <td>23.386053</td>\n",
              "      <td>24.308382</td>\n",
              "      <td>19.610685</td>\n",
              "      <td>27.538049</td>\n",
              "      <td>21.211115</td>\n",
              "      <td>21.128049</td>\n",
              "      <td>25.889319</td>\n",
              "    </tr>\n",
              "  </tbody>\n",
              "</table>\n",
              "</div>"
            ],
            "text/plain": [
              "                  t    k200  k200volume  ...    iv3_itm    iv3_atm    iv3_otm\n",
              "0  2005-01-03 10:01  115.65   6971224.0  ...  21.272830  20.700473  26.536521\n",
              "1  2005-01-03 10:02  115.54    915131.0  ...  21.365015  20.928948  26.464211\n",
              "2  2005-01-03 10:03  115.42    771750.0  ...  21.543264  21.079843  25.045842\n",
              "3  2005-01-03 10:04  115.55    991206.0  ...  21.749790  20.930062  25.341208\n",
              "4  2005-01-03 10:05  115.60   1053666.0  ...  21.211115  21.128049  25.889319\n",
              "\n",
              "[5 rows x 21 columns]"
            ]
          },
          "metadata": {},
          "execution_count": 7
        }
      ]
    },
    {
      "cell_type": "code",
      "metadata": {
        "id": "CJJvudneHvAD"
      },
      "source": [
        "df['Dates'] = pd.to_datetime(df['t']).dt.date\n",
        "df['Time'] = pd.to_datetime(df['t']).dt.time"
      ],
      "execution_count": null,
      "outputs": []
    },
    {
      "cell_type": "code",
      "metadata": {
        "id": "-iuemefuI5VD"
      },
      "source": [
        "#set(df['Time'])"
      ],
      "execution_count": null,
      "outputs": []
    },
    {
      "cell_type": "code",
      "metadata": {
        "colab": {
          "base_uri": "https://localhost:8080/"
        },
        "id": "QOF0RQINt9lY",
        "outputId": "6c9c8cc4-cd32-42d2-a06c-994782dc6f2a"
      },
      "source": [
        "#Lets check if we have null values\n",
        "df.isnull().sum()\n"
      ],
      "execution_count": null,
      "outputs": [
        {
          "output_type": "execute_result",
          "data": {
            "text/plain": [
              "t                  0\n",
              "k200             289\n",
              "k200volume       289\n",
              "k200_wn          289\n",
              "fprc             289\n",
              "fvolume          289\n",
              "f_wn             289\n",
              "vkospi        391461\n",
              "iv1                0\n",
              "iv2                0\n",
              "iv2_Call           0\n",
              "iv2_put            0\n",
              "iv2_itm        78801\n",
              "iv2_atm           26\n",
              "iv2_otm            1\n",
              "iv3                0\n",
              "iv3_Call           0\n",
              "iv3_put            0\n",
              "iv3_itm        78801\n",
              "iv3_atm           26\n",
              "iv3_otm            1\n",
              "Dates              0\n",
              "Time               0\n",
              "dtype: int64"
            ]
          },
          "metadata": {},
          "execution_count": 10
        }
      ]
    },
    {
      "cell_type": "code",
      "metadata": {
        "id": "ltpWONcKRuX7"
      },
      "source": [
        "#df"
      ],
      "execution_count": null,
      "outputs": []
    },
    {
      "cell_type": "code",
      "metadata": {
        "id": "FNuJLT_4DSIn"
      },
      "source": [
        "plt.style.use('fivethirtyeight')"
      ],
      "execution_count": null,
      "outputs": []
    },
    {
      "cell_type": "code",
      "metadata": {
        "id": "qbZm1oeqt9xC"
      },
      "source": [
        "#Here we are extracting data which is needed, although paper says 'KOSPI Volume' but after checking summary statics it came out that the summary \n",
        "#statistics didn't match volumne rather matched when using weight avg. of price*vol\n",
        "\n",
        "dff = df[['Dates','Time', 'k200', 'k200_wn','f_wn', 'iv2' ]]"
      ],
      "execution_count": null,
      "outputs": []
    },
    {
      "cell_type": "code",
      "metadata": {
        "id": "df-6HAC2dKES"
      },
      "source": [
        "t_T = [i/len(dff) for i in range(1,len(dff)+1)]"
      ],
      "execution_count": null,
      "outputs": []
    },
    {
      "cell_type": "code",
      "metadata": {
        "colab": {
          "base_uri": "https://localhost:8080/"
        },
        "id": "mtUQ-nb1dXk3",
        "outputId": "f31ab986-be1d-4b4a-f0a9-eaa4b46c99b8"
      },
      "source": [
        "#We will need this to control time trend\n",
        "print(len(t_T))\n",
        "\n",
        "print(len(dff))"
      ],
      "execution_count": null,
      "outputs": [
        {
          "output_type": "stream",
          "name": "stdout",
          "text": [
            "821788\n",
            "821788\n"
          ]
        }
      ]
    },
    {
      "cell_type": "code",
      "metadata": {
        "colab": {
          "base_uri": "https://localhost:8080/"
        },
        "id": "kxUP5CmIdka8",
        "outputId": "742be640-c13e-4b4e-db99-b3e361a783ed"
      },
      "source": [
        "dff['t_T'] = t_T"
      ],
      "execution_count": null,
      "outputs": [
        {
          "output_type": "stream",
          "name": "stderr",
          "text": [
            "/usr/local/lib/python3.7/dist-packages/ipykernel_launcher.py:1: SettingWithCopyWarning: \n",
            "A value is trying to be set on a copy of a slice from a DataFrame.\n",
            "Try using .loc[row_indexer,col_indexer] = value instead\n",
            "\n",
            "See the caveats in the documentation: https://pandas.pydata.org/pandas-docs/stable/user_guide/indexing.html#returning-a-view-versus-a-copy\n",
            "  \"\"\"Entry point for launching an IPython kernel.\n"
          ]
        }
      ]
    },
    {
      "cell_type": "code",
      "metadata": {
        "colab": {
          "base_uri": "https://localhost:8080/"
        },
        "id": "sTtqnKonKkOW",
        "outputId": "c17bd1d6-fffe-4061-a1e2-396f244dfae7"
      },
      "source": [
        "dff.isnull().sum()"
      ],
      "execution_count": null,
      "outputs": [
        {
          "output_type": "execute_result",
          "data": {
            "text/plain": [
              "Dates        0\n",
              "Time         0\n",
              "k200       289\n",
              "k200_wn    289\n",
              "f_wn       289\n",
              "iv2          0\n",
              "t_T          0\n",
              "dtype: int64"
            ]
          },
          "metadata": {},
          "execution_count": 17
        }
      ]
    },
    {
      "cell_type": "code",
      "metadata": {
        "colab": {
          "base_uri": "https://localhost:8080/"
        },
        "id": "fuMbIKuYTIEs",
        "outputId": "f61a41ef-d829-46e9-f3e2-3925ff69f448"
      },
      "source": [
        "#Drop the Nan's\n",
        "dff.dropna(axis=0, inplace=True)"
      ],
      "execution_count": null,
      "outputs": [
        {
          "output_type": "stream",
          "name": "stderr",
          "text": [
            "/usr/local/lib/python3.7/dist-packages/ipykernel_launcher.py:2: SettingWithCopyWarning: \n",
            "A value is trying to be set on a copy of a slice from a DataFrame\n",
            "\n",
            "See the caveats in the documentation: https://pandas.pydata.org/pandas-docs/stable/user_guide/indexing.html#returning-a-view-versus-a-copy\n",
            "  \n"
          ]
        }
      ]
    },
    {
      "cell_type": "code",
      "metadata": {
        "colab": {
          "base_uri": "https://localhost:8080/"
        },
        "id": "KGZ3c-81lmFf",
        "outputId": "a966d257-e621-45dc-ef70-d2f5a9ce59eb"
      },
      "source": [
        "dff.isnull().sum()"
      ],
      "execution_count": null,
      "outputs": [
        {
          "output_type": "execute_result",
          "data": {
            "text/plain": [
              "Dates      0\n",
              "Time       0\n",
              "k200       0\n",
              "k200_wn    0\n",
              "f_wn       0\n",
              "iv2        0\n",
              "t_T        0\n",
              "dtype: int64"
            ]
          },
          "metadata": {},
          "execution_count": 19
        }
      ]
    },
    {
      "cell_type": "code",
      "metadata": {
        "colab": {
          "base_uri": "https://localhost:8080/",
          "height": 419
        },
        "id": "BdhiMRSsd21R",
        "outputId": "7899d11b-7a5a-4fe1-c5bb-24840b6384b2"
      },
      "source": [
        "dff"
      ],
      "execution_count": null,
      "outputs": [
        {
          "output_type": "execute_result",
          "data": {
            "text/html": [
              "<div>\n",
              "<style scoped>\n",
              "    .dataframe tbody tr th:only-of-type {\n",
              "        vertical-align: middle;\n",
              "    }\n",
              "\n",
              "    .dataframe tbody tr th {\n",
              "        vertical-align: top;\n",
              "    }\n",
              "\n",
              "    .dataframe thead th {\n",
              "        text-align: right;\n",
              "    }\n",
              "</style>\n",
              "<table border=\"1\" class=\"dataframe\">\n",
              "  <thead>\n",
              "    <tr style=\"text-align: right;\">\n",
              "      <th></th>\n",
              "      <th>Dates</th>\n",
              "      <th>Time</th>\n",
              "      <th>k200</th>\n",
              "      <th>k200_wn</th>\n",
              "      <th>f_wn</th>\n",
              "      <th>iv2</th>\n",
              "      <th>t_T</th>\n",
              "    </tr>\n",
              "  </thead>\n",
              "  <tbody>\n",
              "    <tr>\n",
              "      <th>0</th>\n",
              "      <td>2005-01-03</td>\n",
              "      <td>10:01:00</td>\n",
              "      <td>115.65</td>\n",
              "      <td>8.813920e+10</td>\n",
              "      <td>1.540000e+11</td>\n",
              "      <td>28.419010</td>\n",
              "      <td>0.000001</td>\n",
              "    </tr>\n",
              "    <tr>\n",
              "      <th>1</th>\n",
              "      <td>2005-01-03</td>\n",
              "      <td>10:02:00</td>\n",
              "      <td>115.54</td>\n",
              "      <td>9.772912e+09</td>\n",
              "      <td>8.618300e+10</td>\n",
              "      <td>23.072276</td>\n",
              "      <td>0.000002</td>\n",
              "    </tr>\n",
              "    <tr>\n",
              "      <th>2</th>\n",
              "      <td>2005-01-03</td>\n",
              "      <td>10:03:00</td>\n",
              "      <td>115.42</td>\n",
              "      <td>9.474952e+09</td>\n",
              "      <td>7.039850e+10</td>\n",
              "      <td>22.517448</td>\n",
              "      <td>0.000004</td>\n",
              "    </tr>\n",
              "    <tr>\n",
              "      <th>3</th>\n",
              "      <td>2005-01-03</td>\n",
              "      <td>10:04:00</td>\n",
              "      <td>115.55</td>\n",
              "      <td>9.716512e+09</td>\n",
              "      <td>1.090000e+11</td>\n",
              "      <td>21.688313</td>\n",
              "      <td>0.000005</td>\n",
              "    </tr>\n",
              "    <tr>\n",
              "      <th>4</th>\n",
              "      <td>2005-01-03</td>\n",
              "      <td>10:05:00</td>\n",
              "      <td>115.60</td>\n",
              "      <td>1.272223e+10</td>\n",
              "      <td>1.200000e+11</td>\n",
              "      <td>22.366039</td>\n",
              "      <td>0.000006</td>\n",
              "    </tr>\n",
              "    <tr>\n",
              "      <th>...</th>\n",
              "      <td>...</td>\n",
              "      <td>...</td>\n",
              "      <td>...</td>\n",
              "      <td>...</td>\n",
              "      <td>...</td>\n",
              "      <td>...</td>\n",
              "      <td>...</td>\n",
              "    </tr>\n",
              "    <tr>\n",
              "      <th>821783</th>\n",
              "      <td>2014-06-30</td>\n",
              "      <td>14:45:00</td>\n",
              "      <td>259.74</td>\n",
              "      <td>1.211954e+10</td>\n",
              "      <td>4.592970e+10</td>\n",
              "      <td>12.104030</td>\n",
              "      <td>0.999995</td>\n",
              "    </tr>\n",
              "    <tr>\n",
              "      <th>821784</th>\n",
              "      <td>2014-06-30</td>\n",
              "      <td>14:46:00</td>\n",
              "      <td>259.80</td>\n",
              "      <td>1.332567e+10</td>\n",
              "      <td>5.259748e+10</td>\n",
              "      <td>12.797122</td>\n",
              "      <td>0.999996</td>\n",
              "    </tr>\n",
              "    <tr>\n",
              "      <th>821785</th>\n",
              "      <td>2014-06-30</td>\n",
              "      <td>14:47:00</td>\n",
              "      <td>259.84</td>\n",
              "      <td>1.073104e+10</td>\n",
              "      <td>1.161628e+10</td>\n",
              "      <td>11.988567</td>\n",
              "      <td>0.999998</td>\n",
              "    </tr>\n",
              "    <tr>\n",
              "      <th>821786</th>\n",
              "      <td>2014-06-30</td>\n",
              "      <td>14:48:00</td>\n",
              "      <td>259.79</td>\n",
              "      <td>1.404962e+10</td>\n",
              "      <td>3.184825e+10</td>\n",
              "      <td>11.674133</td>\n",
              "      <td>0.999999</td>\n",
              "    </tr>\n",
              "    <tr>\n",
              "      <th>821787</th>\n",
              "      <td>2014-06-30</td>\n",
              "      <td>14:49:00</td>\n",
              "      <td>259.84</td>\n",
              "      <td>1.153990e+10</td>\n",
              "      <td>7.310375e+09</td>\n",
              "      <td>13.425511</td>\n",
              "      <td>1.000000</td>\n",
              "    </tr>\n",
              "  </tbody>\n",
              "</table>\n",
              "<p>821499 rows × 7 columns</p>\n",
              "</div>"
            ],
            "text/plain": [
              "             Dates      Time    k200  ...          f_wn        iv2       t_T\n",
              "0       2005-01-03  10:01:00  115.65  ...  1.540000e+11  28.419010  0.000001\n",
              "1       2005-01-03  10:02:00  115.54  ...  8.618300e+10  23.072276  0.000002\n",
              "2       2005-01-03  10:03:00  115.42  ...  7.039850e+10  22.517448  0.000004\n",
              "3       2005-01-03  10:04:00  115.55  ...  1.090000e+11  21.688313  0.000005\n",
              "4       2005-01-03  10:05:00  115.60  ...  1.200000e+11  22.366039  0.000006\n",
              "...            ...       ...     ...  ...           ...        ...       ...\n",
              "821783  2014-06-30  14:45:00  259.74  ...  4.592970e+10  12.104030  0.999995\n",
              "821784  2014-06-30  14:46:00  259.80  ...  5.259748e+10  12.797122  0.999996\n",
              "821785  2014-06-30  14:47:00  259.84  ...  1.161628e+10  11.988567  0.999998\n",
              "821786  2014-06-30  14:48:00  259.79  ...  3.184825e+10  11.674133  0.999999\n",
              "821787  2014-06-30  14:49:00  259.84  ...  7.310375e+09  13.425511  1.000000\n",
              "\n",
              "[821499 rows x 7 columns]"
            ]
          },
          "metadata": {},
          "execution_count": 20
        }
      ]
    },
    {
      "cell_type": "code",
      "metadata": {
        "id": "mO8Rnu2CLmeo",
        "colab": {
          "base_uri": "https://localhost:8080/",
          "height": 546
        },
        "outputId": "29b8ced9-d67f-4f5b-f982-a31668e9e7b8"
      },
      "source": [
        "plt.plot(dff['Dates'], dff['f_wn'])"
      ],
      "execution_count": null,
      "outputs": [
        {
          "output_type": "execute_result",
          "data": {
            "text/plain": [
              "[<matplotlib.lines.Line2D at 0x7f374cf17c10>]"
            ]
          },
          "metadata": {},
          "execution_count": 21
        },
        {
          "output_type": "display_data",
          "data": {
            "image/png": "[encoded data removed]",
            "text/plain": [
              "<Figure size 864x576 with 1 Axes>"
            ]
          },
          "metadata": {}
        }
      ]
    },
    {
      "cell_type": "code",
      "metadata": {
        "colab": {
          "base_uri": "https://localhost:8080/"
        },
        "id": "v5jUaoAtMRr6",
        "outputId": "3948c109-d735-4f2b-d732-5bf533c0ea9e"
      },
      "source": [
        "#Creating the independent variables as described in the paper\n",
        "\n",
        "dff['r'] = (dff['k200'].shift(-1) - dff['k200'])/dff['k200'] *100 #Percentage return\n",
        "\n",
        "dff['lsv'] = np.log(dff['k200_wn']) #natural log of ..\n",
        "dff['lfv'] = np.log(dff['f_wn'])    #natural log of...\n",
        "\n",
        "dff['div'] = (dff['iv2'].shift(-1) - dff['iv2']) #1st difference of implied volatality"
      ],
      "execution_count": null,
      "outputs": [
        {
          "output_type": "stream",
          "name": "stderr",
          "text": [
            "/usr/local/lib/python3.7/dist-packages/ipykernel_launcher.py:3: SettingWithCopyWarning: \n",
            "A value is trying to be set on a copy of a slice from a DataFrame.\n",
            "Try using .loc[row_indexer,col_indexer] = value instead\n",
            "\n",
            "See the caveats in the documentation: https://pandas.pydata.org/pandas-docs/stable/user_guide/indexing.html#returning-a-view-versus-a-copy\n",
            "  This is separate from the ipykernel package so we can avoid doing imports until\n",
            "/usr/local/lib/python3.7/dist-packages/pandas/core/series.py:726: RuntimeWarning: divide by zero encountered in log\n",
            "  result = getattr(ufunc, method)(*inputs, **kwargs)\n",
            "/usr/local/lib/python3.7/dist-packages/ipykernel_launcher.py:5: SettingWithCopyWarning: \n",
            "A value is trying to be set on a copy of a slice from a DataFrame.\n",
            "Try using .loc[row_indexer,col_indexer] = value instead\n",
            "\n",
            "See the caveats in the documentation: https://pandas.pydata.org/pandas-docs/stable/user_guide/indexing.html#returning-a-view-versus-a-copy\n",
            "  \"\"\"\n",
            "/usr/local/lib/python3.7/dist-packages/ipykernel_launcher.py:6: SettingWithCopyWarning: \n",
            "A value is trying to be set on a copy of a slice from a DataFrame.\n",
            "Try using .loc[row_indexer,col_indexer] = value instead\n",
            "\n",
            "See the caveats in the documentation: https://pandas.pydata.org/pandas-docs/stable/user_guide/indexing.html#returning-a-view-versus-a-copy\n",
            "  \n",
            "/usr/local/lib/python3.7/dist-packages/ipykernel_launcher.py:8: SettingWithCopyWarning: \n",
            "A value is trying to be set on a copy of a slice from a DataFrame.\n",
            "Try using .loc[row_indexer,col_indexer] = value instead\n",
            "\n",
            "See the caveats in the documentation: https://pandas.pydata.org/pandas-docs/stable/user_guide/indexing.html#returning-a-view-versus-a-copy\n",
            "  \n"
          ]
        }
      ]
    },
    {
      "cell_type": "code",
      "metadata": {
        "colab": {
          "base_uri": "https://localhost:8080/"
        },
        "id": "dPulUvXKRmnh",
        "outputId": "71501f23-f7be-42fd-aa90-99f34c180486"
      },
      "source": [
        "#Make infinite values Nan and remove it finally\n",
        "\n",
        "dff.replace([np.inf, -np.inf], np.nan, inplace=True)"
      ],
      "execution_count": null,
      "outputs": [
        {
          "output_type": "stream",
          "name": "stderr",
          "text": [
            "/usr/local/lib/python3.7/dist-packages/pandas/core/frame.py:4389: SettingWithCopyWarning: \n",
            "A value is trying to be set on a copy of a slice from a DataFrame\n",
            "\n",
            "See the caveats in the documentation: https://pandas.pydata.org/pandas-docs/stable/user_guide/indexing.html#returning-a-view-versus-a-copy\n",
            "  method=method,\n"
          ]
        }
      ]
    },
    {
      "cell_type": "code",
      "metadata": {
        "colab": {
          "base_uri": "https://localhost:8080/",
          "height": 419
        },
        "id": "4dHN8v73m-9z",
        "outputId": "a417fffe-90c4-4308-eab4-ecc8e756b214"
      },
      "source": [
        "dff_check = dff.dropna(axis = 0)\n",
        "dff_check"
      ],
      "execution_count": null,
      "outputs": [
        {
          "output_type": "execute_result",
          "data": {
            "text/html": [
              "<div>\n",
              "<style scoped>\n",
              "    .dataframe tbody tr th:only-of-type {\n",
              "        vertical-align: middle;\n",
              "    }\n",
              "\n",
              "    .dataframe tbody tr th {\n",
              "        vertical-align: top;\n",
              "    }\n",
              "\n",
              "    .dataframe thead th {\n",
              "        text-align: right;\n",
              "    }\n",
              "</style>\n",
              "<table border=\"1\" class=\"dataframe\">\n",
              "  <thead>\n",
              "    <tr style=\"text-align: right;\">\n",
              "      <th></th>\n",
              "      <th>Dates</th>\n",
              "      <th>Time</th>\n",
              "      <th>k200</th>\n",
              "      <th>k200_wn</th>\n",
              "      <th>f_wn</th>\n",
              "      <th>iv2</th>\n",
              "      <th>t_T</th>\n",
              "      <th>r</th>\n",
              "      <th>lsv</th>\n",
              "      <th>lfv</th>\n",
              "      <th>div</th>\n",
              "    </tr>\n",
              "  </thead>\n",
              "  <tbody>\n",
              "    <tr>\n",
              "      <th>0</th>\n",
              "      <td>2005-01-03</td>\n",
              "      <td>10:01:00</td>\n",
              "      <td>115.65</td>\n",
              "      <td>8.813920e+10</td>\n",
              "      <td>1.540000e+11</td>\n",
              "      <td>28.419010</td>\n",
              "      <td>0.000001</td>\n",
              "      <td>-0.095115</td>\n",
              "      <td>25.202183</td>\n",
              "      <td>25.760218</td>\n",
              "      <td>-5.346735</td>\n",
              "    </tr>\n",
              "    <tr>\n",
              "      <th>1</th>\n",
              "      <td>2005-01-03</td>\n",
              "      <td>10:02:00</td>\n",
              "      <td>115.54</td>\n",
              "      <td>9.772912e+09</td>\n",
              "      <td>8.618300e+10</td>\n",
              "      <td>23.072276</td>\n",
              "      <td>0.000002</td>\n",
              "      <td>-0.103860</td>\n",
              "      <td>23.002880</td>\n",
              "      <td>25.179739</td>\n",
              "      <td>-0.554828</td>\n",
              "    </tr>\n",
              "    <tr>\n",
              "      <th>2</th>\n",
              "      <td>2005-01-03</td>\n",
              "      <td>10:03:00</td>\n",
              "      <td>115.42</td>\n",
              "      <td>9.474952e+09</td>\n",
              "      <td>7.039850e+10</td>\n",
              "      <td>22.517448</td>\n",
              "      <td>0.000004</td>\n",
              "      <td>0.112632</td>\n",
              "      <td>22.971918</td>\n",
              "      <td>24.977438</td>\n",
              "      <td>-0.829135</td>\n",
              "    </tr>\n",
              "    <tr>\n",
              "      <th>3</th>\n",
              "      <td>2005-01-03</td>\n",
              "      <td>10:04:00</td>\n",
              "      <td>115.55</td>\n",
              "      <td>9.716512e+09</td>\n",
              "      <td>1.090000e+11</td>\n",
              "      <td>21.688313</td>\n",
              "      <td>0.000005</td>\n",
              "      <td>0.043271</td>\n",
              "      <td>22.997093</td>\n",
              "      <td>25.414614</td>\n",
              "      <td>0.677726</td>\n",
              "    </tr>\n",
              "    <tr>\n",
              "      <th>4</th>\n",
              "      <td>2005-01-03</td>\n",
              "      <td>10:05:00</td>\n",
              "      <td>115.60</td>\n",
              "      <td>1.272223e+10</td>\n",
              "      <td>1.200000e+11</td>\n",
              "      <td>22.366039</td>\n",
              "      <td>0.000006</td>\n",
              "      <td>-0.242215</td>\n",
              "      <td>23.266617</td>\n",
              "      <td>25.510758</td>\n",
              "      <td>0.328027</td>\n",
              "    </tr>\n",
              "    <tr>\n",
              "      <th>...</th>\n",
              "      <td>...</td>\n",
              "      <td>...</td>\n",
              "      <td>...</td>\n",
              "      <td>...</td>\n",
              "      <td>...</td>\n",
              "      <td>...</td>\n",
              "      <td>...</td>\n",
              "      <td>...</td>\n",
              "      <td>...</td>\n",
              "      <td>...</td>\n",
              "      <td>...</td>\n",
              "    </tr>\n",
              "    <tr>\n",
              "      <th>821782</th>\n",
              "      <td>2014-06-30</td>\n",
              "      <td>14:44:00</td>\n",
              "      <td>259.63</td>\n",
              "      <td>1.235064e+10</td>\n",
              "      <td>7.961225e+09</td>\n",
              "      <td>12.020005</td>\n",
              "      <td>0.999994</td>\n",
              "      <td>0.042368</td>\n",
              "      <td>23.236974</td>\n",
              "      <td>22.797849</td>\n",
              "      <td>0.084025</td>\n",
              "    </tr>\n",
              "    <tr>\n",
              "      <th>821783</th>\n",
              "      <td>2014-06-30</td>\n",
              "      <td>14:45:00</td>\n",
              "      <td>259.74</td>\n",
              "      <td>1.211954e+10</td>\n",
              "      <td>4.592970e+10</td>\n",
              "      <td>12.104030</td>\n",
              "      <td>0.999995</td>\n",
              "      <td>0.023100</td>\n",
              "      <td>23.218085</td>\n",
              "      <td>24.550378</td>\n",
              "      <td>0.693092</td>\n",
              "    </tr>\n",
              "    <tr>\n",
              "      <th>821784</th>\n",
              "      <td>2014-06-30</td>\n",
              "      <td>14:46:00</td>\n",
              "      <td>259.80</td>\n",
              "      <td>1.332567e+10</td>\n",
              "      <td>5.259748e+10</td>\n",
              "      <td>12.797122</td>\n",
              "      <td>0.999996</td>\n",
              "      <td>0.015396</td>\n",
              "      <td>23.312958</td>\n",
              "      <td>24.685934</td>\n",
              "      <td>-0.808555</td>\n",
              "    </tr>\n",
              "    <tr>\n",
              "      <th>821785</th>\n",
              "      <td>2014-06-30</td>\n",
              "      <td>14:47:00</td>\n",
              "      <td>259.84</td>\n",
              "      <td>1.073104e+10</td>\n",
              "      <td>1.161628e+10</td>\n",
              "      <td>11.988567</td>\n",
              "      <td>0.999998</td>\n",
              "      <td>-0.019243</td>\n",
              "      <td>23.096407</td>\n",
              "      <td>23.175673</td>\n",
              "      <td>-0.314433</td>\n",
              "    </tr>\n",
              "    <tr>\n",
              "      <th>821786</th>\n",
              "      <td>2014-06-30</td>\n",
              "      <td>14:48:00</td>\n",
              "      <td>259.79</td>\n",
              "      <td>1.404962e+10</td>\n",
              "      <td>3.184825e+10</td>\n",
              "      <td>11.674133</td>\n",
              "      <td>0.999999</td>\n",
              "      <td>0.019246</td>\n",
              "      <td>23.365862</td>\n",
              "      <td>24.184248</td>\n",
              "      <td>1.751378</td>\n",
              "    </tr>\n",
              "  </tbody>\n",
              "</table>\n",
              "<p>821496 rows × 11 columns</p>\n",
              "</div>"
            ],
            "text/plain": [
              "             Dates      Time    k200  ...        lsv        lfv       div\n",
              "0       2005-01-03  10:01:00  115.65  ...  25.202183  25.760218 -5.346735\n",
              "1       2005-01-03  10:02:00  115.54  ...  23.002880  25.179739 -0.554828\n",
              "2       2005-01-03  10:03:00  115.42  ...  22.971918  24.977438 -0.829135\n",
              "3       2005-01-03  10:04:00  115.55  ...  22.997093  25.414614  0.677726\n",
              "4       2005-01-03  10:05:00  115.60  ...  23.266617  25.510758  0.328027\n",
              "...            ...       ...     ...  ...        ...        ...       ...\n",
              "821782  2014-06-30  14:44:00  259.63  ...  23.236974  22.797849  0.084025\n",
              "821783  2014-06-30  14:45:00  259.74  ...  23.218085  24.550378  0.693092\n",
              "821784  2014-06-30  14:46:00  259.80  ...  23.312958  24.685934 -0.808555\n",
              "821785  2014-06-30  14:47:00  259.84  ...  23.096407  23.175673 -0.314433\n",
              "821786  2014-06-30  14:48:00  259.79  ...  23.365862  24.184248  1.751378\n",
              "\n",
              "[821496 rows x 11 columns]"
            ]
          },
          "metadata": {},
          "execution_count": 24
        }
      ]
    },
    {
      "cell_type": "code",
      "metadata": {
        "id": "VUIfDplPtWvr"
      },
      "source": [
        "\n",
        "df_final = dff_check[['r', 'lsv', 'lfv', 'div', 't_T']]"
      ],
      "execution_count": null,
      "outputs": []
    },
    {
      "cell_type": "code",
      "metadata": {
        "id": "rc8H4eNayvTw"
      },
      "source": [
        "quantiles = [0.01, 0.05, 0.1, 0.25, 0.5, 0.75, 0.95, 0.9, 0.99]"
      ],
      "execution_count": null,
      "outputs": []
    },
    {
      "cell_type": "code",
      "metadata": {
        "colab": {
          "base_uri": "https://localhost:8080/",
          "height": 483
        },
        "id": "gVKbosuEvIwC",
        "outputId": "5970ae39-54f5-4468-aff1-25761c329e8c"
      },
      "source": [
        "#Summary Statistics\n",
        "\n",
        "df_final.describe(percentiles=quantiles)"
      ],
      "execution_count": null,
      "outputs": [
        {
          "output_type": "execute_result",
          "data": {
            "text/html": [
              "<div>\n",
              "<style scoped>\n",
              "    .dataframe tbody tr th:only-of-type {\n",
              "        vertical-align: middle;\n",
              "    }\n",
              "\n",
              "    .dataframe tbody tr th {\n",
              "        vertical-align: top;\n",
              "    }\n",
              "\n",
              "    .dataframe thead th {\n",
              "        text-align: right;\n",
              "    }\n",
              "</style>\n",
              "<table border=\"1\" class=\"dataframe\">\n",
              "  <thead>\n",
              "    <tr style=\"text-align: right;\">\n",
              "      <th></th>\n",
              "      <th>r</th>\n",
              "      <th>lsv</th>\n",
              "      <th>lfv</th>\n",
              "      <th>div</th>\n",
              "      <th>t_T</th>\n",
              "    </tr>\n",
              "  </thead>\n",
              "  <tbody>\n",
              "    <tr>\n",
              "      <th>count</th>\n",
              "      <td>821496.000000</td>\n",
              "      <td>821496.000000</td>\n",
              "      <td>821496.000000</td>\n",
              "      <td>821496.000000</td>\n",
              "      <td>821496.000000</td>\n",
              "    </tr>\n",
              "    <tr>\n",
              "      <th>mean</th>\n",
              "      <td>0.000127</td>\n",
              "      <td>22.837721</td>\n",
              "      <td>24.444221</td>\n",
              "      <td>-0.000026</td>\n",
              "      <td>0.500060</td>\n",
              "    </tr>\n",
              "    <tr>\n",
              "      <th>std</th>\n",
              "      <td>0.075222</td>\n",
              "      <td>0.599241</td>\n",
              "      <td>1.150049</td>\n",
              "      <td>1.633906</td>\n",
              "      <td>0.288655</td>\n",
              "    </tr>\n",
              "    <tr>\n",
              "      <th>min</th>\n",
              "      <td>-6.522082</td>\n",
              "      <td>19.940613</td>\n",
              "      <td>17.854607</td>\n",
              "      <td>-34.178617</td>\n",
              "      <td>0.000001</td>\n",
              "    </tr>\n",
              "    <tr>\n",
              "      <th>1%</th>\n",
              "      <td>-0.159263</td>\n",
              "      <td>21.424481</td>\n",
              "      <td>20.760871</td>\n",
              "      <td>-4.684548</td>\n",
              "      <td>0.010007</td>\n",
              "    </tr>\n",
              "    <tr>\n",
              "      <th>5%</th>\n",
              "      <td>-0.074765</td>\n",
              "      <td>21.886018</td>\n",
              "      <td>22.293440</td>\n",
              "      <td>-2.372332</td>\n",
              "      <td>0.050054</td>\n",
              "    </tr>\n",
              "    <tr>\n",
              "      <th>10%</th>\n",
              "      <td>-0.051925</td>\n",
              "      <td>22.099649</td>\n",
              "      <td>23.032647</td>\n",
              "      <td>-1.569083</td>\n",
              "      <td>0.100067</td>\n",
              "    </tr>\n",
              "    <tr>\n",
              "      <th>25%</th>\n",
              "      <td>-0.024831</td>\n",
              "      <td>22.436200</td>\n",
              "      <td>23.870779</td>\n",
              "      <td>-0.651497</td>\n",
              "      <td>0.250091</td>\n",
              "    </tr>\n",
              "    <tr>\n",
              "      <th>50%</th>\n",
              "      <td>0.000000</td>\n",
              "      <td>22.825376</td>\n",
              "      <td>24.587061</td>\n",
              "      <td>-0.006164</td>\n",
              "      <td>0.500126</td>\n",
              "    </tr>\n",
              "    <tr>\n",
              "      <th>75%</th>\n",
              "      <td>0.024709</td>\n",
              "      <td>23.234009</td>\n",
              "      <td>25.203068</td>\n",
              "      <td>0.643788</td>\n",
              "      <td>0.750038</td>\n",
              "    </tr>\n",
              "    <tr>\n",
              "      <th>90%</th>\n",
              "      <td>0.052411</td>\n",
              "      <td>23.601916</td>\n",
              "      <td>25.727212</td>\n",
              "      <td>1.567659</td>\n",
              "      <td>0.899988</td>\n",
              "    </tr>\n",
              "    <tr>\n",
              "      <th>95%</th>\n",
              "      <td>0.075755</td>\n",
              "      <td>23.819710</td>\n",
              "      <td>26.031534</td>\n",
              "      <td>2.383261</td>\n",
              "      <td>0.949980</td>\n",
              "    </tr>\n",
              "    <tr>\n",
              "      <th>99%</th>\n",
              "      <td>0.158864</td>\n",
              "      <td>24.241456</td>\n",
              "      <td>26.598197</td>\n",
              "      <td>4.753990</td>\n",
              "      <td>0.989991</td>\n",
              "    </tr>\n",
              "    <tr>\n",
              "      <th>max</th>\n",
              "      <td>6.500617</td>\n",
              "      <td>27.052987</td>\n",
              "      <td>28.571028</td>\n",
              "      <td>36.488550</td>\n",
              "      <td>0.999999</td>\n",
              "    </tr>\n",
              "  </tbody>\n",
              "</table>\n",
              "</div>"
            ],
            "text/plain": [
              "                   r            lsv  ...            div            t_T\n",
              "count  821496.000000  821496.000000  ...  821496.000000  821496.000000\n",
              "mean        0.000127      22.837721  ...      -0.000026       0.500060\n",
              "std         0.075222       0.599241  ...       1.633906       0.288655\n",
              "min        -6.522082      19.940613  ...     -34.178617       0.000001\n",
              "1%         -0.159263      21.424481  ...      -4.684548       0.010007\n",
              "5%         -0.074765      21.886018  ...      -2.372332       0.050054\n",
              "10%        -0.051925      22.099649  ...      -1.569083       0.100067\n",
              "25%        -0.024831      22.436200  ...      -0.651497       0.250091\n",
              "50%         0.000000      22.825376  ...      -0.006164       0.500126\n",
              "75%         0.024709      23.234009  ...       0.643788       0.750038\n",
              "90%         0.052411      23.601916  ...       1.567659       0.899988\n",
              "95%         0.075755      23.819710  ...       2.383261       0.949980\n",
              "99%         0.158864      24.241456  ...       4.753990       0.989991\n",
              "max         6.500617      27.052987  ...      36.488550       0.999999\n",
              "\n",
              "[14 rows x 5 columns]"
            ]
          },
          "metadata": {},
          "execution_count": 27
        }
      ]
    },
    {
      "cell_type": "code",
      "metadata": {
        "id": "lxRaH0yfnazV",
        "colab": {
          "base_uri": "https://localhost:8080/",
          "height": 378
        },
        "outputId": "96be3e76-a33f-42da-f028-4706496e796a"
      },
      "source": [
        "#Distribution of lsv\n",
        "sns.displot(data = df_final['lsv'])"
      ],
      "execution_count": null,
      "outputs": [
        {
          "output_type": "execute_result",
          "data": {
            "text/plain": [
              "<seaborn.axisgrid.FacetGrid at 0x7f374c6d7ed0>"
            ]
          },
          "metadata": {},
          "execution_count": 28
        },
        {
          "output_type": "display_data",
          "data": {
            "image/png": "[encoded data removed]",
            "text/plain": [
              "<Figure size 360x360 with 1 Axes>"
            ]
          },
          "metadata": {}
        }
      ]
    },
    {
      "cell_type": "code",
      "metadata": {
        "id": "TUkNV5emEgCF",
        "colab": {
          "base_uri": "https://localhost:8080/",
          "height": 378
        },
        "outputId": "5c4cbc89-6d22-48b2-c048-562ace9d6dc1"
      },
      "source": [
        "#Distribution suggesting negative skewness even after using log transformation\n",
        "sns.displot(data= df_final['lfv'])"
      ],
      "execution_count": null,
      "outputs": [
        {
          "output_type": "execute_result",
          "data": {
            "text/plain": [
              "<seaborn.axisgrid.FacetGrid at 0x7f374c385090>"
            ]
          },
          "metadata": {},
          "execution_count": 29
        },
        {
          "output_type": "display_data",
          "data": {
            "image/png": "[encoded data removed]",
            "text/plain": [
              "<Figure size 360x360 with 1 Axes>"
            ]
          },
          "metadata": {}
        }
      ]
    },
    {
      "cell_type": "code",
      "metadata": {
        "colab": {
          "base_uri": "https://localhost:8080/",
          "height": 532
        },
        "id": "T_dgG0zwEgL1",
        "outputId": "72b33a75-6f5c-4eaf-cdc6-22e84e7db12c"
      },
      "source": [
        "plt.scatter(x= dff_check['Dates'], y= df_final['r'])\n"
      ],
      "execution_count": null,
      "outputs": [
        {
          "output_type": "execute_result",
          "data": {
            "text/plain": [
              "<matplotlib.collections.PathCollection at 0x7f374c4eec10>"
            ]
          },
          "metadata": {},
          "execution_count": 30
        },
        {
          "output_type": "display_data",
          "data": {
            "image/png": "[encoded data removed]",
            "text/plain": [
              "<Figure size 864x576 with 1 Axes>"
            ]
          },
          "metadata": {}
        }
      ]
    },
    {
      "cell_type": "code",
      "metadata": {
        "id": "7xhUhtp-Jr7S"
      },
      "source": [
        "# Timings of peak morning and afternoon sessions\n",
        "from datetime import time\n",
        "start1 = time(9,0) \n",
        "end1 = time(10,0) \n",
        "start2 = time(13,50) \n",
        "end2 = time(14,50)"
      ],
      "execution_count": null,
      "outputs": []
    },
    {
      "cell_type": "code",
      "metadata": {
        "id": "q8P2wGNYKBJv"
      },
      "source": [
        "#Dummy var to induce effect of morning and afternoon peak timing\n",
        "\n",
        "DOP_t = dff_check['Time'].apply(lambda x:1 if x>=start1 and x<end1 else 0) \n",
        "DCL_t = dff_check['Time'].apply(lambda x:1 if x>=start2 and x<end2 else 0)\n"
      ],
      "execution_count": null,
      "outputs": []
    },
    {
      "cell_type": "code",
      "metadata": {
        "colab": {
          "base_uri": "https://localhost:8080/"
        },
        "id": "iy5DpfN_i0cd",
        "outputId": "edb55bdb-6eea-41da-8876-8a5fa63dea05"
      },
      "source": [
        "print(len(DOP_t))\n",
        "print(len(DCL_t))\n",
        "print(len(df_final))"
      ],
      "execution_count": null,
      "outputs": [
        {
          "output_type": "stream",
          "name": "stdout",
          "text": [
            "821496\n",
            "821496\n",
            "821496\n"
          ]
        }
      ]
    },
    {
      "cell_type": "code",
      "metadata": {
        "colab": {
          "base_uri": "https://localhost:8080/"
        },
        "id": "Sp7u2uB3i_-c",
        "outputId": "a53e599d-644b-4c14-e1a8-ff471e8f15ca"
      },
      "source": [
        "#Adding dummy to our dataframe\n",
        "\n",
        "df_final['DOP_t'] = DOP_t\n",
        "df_final['DCL_t'] = DCL_t"
      ],
      "execution_count": null,
      "outputs": [
        {
          "output_type": "stream",
          "name": "stderr",
          "text": [
            "/usr/local/lib/python3.7/dist-packages/ipykernel_launcher.py:3: SettingWithCopyWarning: \n",
            "A value is trying to be set on a copy of a slice from a DataFrame.\n",
            "Try using .loc[row_indexer,col_indexer] = value instead\n",
            "\n",
            "See the caveats in the documentation: https://pandas.pydata.org/pandas-docs/stable/user_guide/indexing.html#returning-a-view-versus-a-copy\n",
            "  This is separate from the ipykernel package so we can avoid doing imports until\n",
            "/usr/local/lib/python3.7/dist-packages/ipykernel_launcher.py:4: SettingWithCopyWarning: \n",
            "A value is trying to be set on a copy of a slice from a DataFrame.\n",
            "Try using .loc[row_indexer,col_indexer] = value instead\n",
            "\n",
            "See the caveats in the documentation: https://pandas.pydata.org/pandas-docs/stable/user_guide/indexing.html#returning-a-view-versus-a-copy\n",
            "  after removing the cwd from sys.path.\n"
          ]
        }
      ]
    },
    {
      "cell_type": "code",
      "metadata": {
        "colab": {
          "base_uri": "https://localhost:8080/"
        },
        "id": "9WqqY4esrslT",
        "outputId": "cd7ee707-8ba6-4703-9706-b073cbb75ce8"
      },
      "source": [
        "len(df_final)"
      ],
      "execution_count": null,
      "outputs": [
        {
          "output_type": "execute_result",
          "data": {
            "text/plain": [
              "821496"
            ]
          },
          "metadata": {},
          "execution_count": 35
        }
      ]
    },
    {
      "cell_type": "code",
      "metadata": {
        "id": "TxjtliWCGvqB"
      },
      "source": [
        "# Variable that will be same for All Models\n",
        "\n",
        "rt_1 = df_final['r'].shift(1)\n",
        "rt_2 = df_final['r'].shift(2)\n",
        "rt_3 = df_final['r'].shift(3)\n",
        "\n"
      ],
      "execution_count": null,
      "outputs": []
    },
    {
      "cell_type": "code",
      "metadata": {
        "id": "7FkgMqLIp_SI"
      },
      "source": [
        "#Varibales to be fed into implied volatality model\n",
        "divt_1 = df_final['div'].shift(1)\n",
        "divt_2 = df_final['div'].shift(2)\n",
        "divt_3 = df_final['div'].shift(3)"
      ],
      "execution_count": null,
      "outputs": []
    },
    {
      "cell_type": "code",
      "metadata": {
        "id": "699uFjmvrN72",
        "colab": {
          "base_uri": "https://localhost:8080/"
        },
        "outputId": "dd80302b-7087-46a7-df50-f24fbb4f1368"
      },
      "source": [
        "df_final['divt_1'] = divt_1\n",
        "df_final['divt_2'] = divt_2\n",
        "df_final['divt_3'] = divt_3"
      ],
      "execution_count": null,
      "outputs": [
        {
          "output_type": "stream",
          "name": "stderr",
          "text": [
            "/usr/local/lib/python3.7/dist-packages/ipykernel_launcher.py:1: SettingWithCopyWarning: \n",
            "A value is trying to be set on a copy of a slice from a DataFrame.\n",
            "Try using .loc[row_indexer,col_indexer] = value instead\n",
            "\n",
            "See the caveats in the documentation: https://pandas.pydata.org/pandas-docs/stable/user_guide/indexing.html#returning-a-view-versus-a-copy\n",
            "  \"\"\"Entry point for launching an IPython kernel.\n",
            "/usr/local/lib/python3.7/dist-packages/ipykernel_launcher.py:2: SettingWithCopyWarning: \n",
            "A value is trying to be set on a copy of a slice from a DataFrame.\n",
            "Try using .loc[row_indexer,col_indexer] = value instead\n",
            "\n",
            "See the caveats in the documentation: https://pandas.pydata.org/pandas-docs/stable/user_guide/indexing.html#returning-a-view-versus-a-copy\n",
            "  \n",
            "/usr/local/lib/python3.7/dist-packages/ipykernel_launcher.py:3: SettingWithCopyWarning: \n",
            "A value is trying to be set on a copy of a slice from a DataFrame.\n",
            "Try using .loc[row_indexer,col_indexer] = value instead\n",
            "\n",
            "See the caveats in the documentation: https://pandas.pydata.org/pandas-docs/stable/user_guide/indexing.html#returning-a-view-versus-a-copy\n",
            "  This is separate from the ipykernel package so we can avoid doing imports until\n"
          ]
        }
      ]
    },
    {
      "cell_type": "code",
      "metadata": {
        "colab": {
          "base_uri": "https://localhost:8080/"
        },
        "id": "SKQskVbDTAcm",
        "outputId": "17658265-6347-4f35-f298-2baf07620dbf"
      },
      "source": [
        "len(divt_1)"
      ],
      "execution_count": null,
      "outputs": [
        {
          "output_type": "execute_result",
          "data": {
            "text/plain": [
              "821496"
            ]
          },
          "metadata": {},
          "execution_count": 39
        }
      ]
    },
    {
      "cell_type": "code",
      "metadata": {
        "id": "Z3u9V81YJTgi"
      },
      "source": [
        "#Adding the variables to our final dataframe\n",
        "\n",
        "df_final['rt_1'] = rt_1\n",
        "df_final['rt_2'] = rt_2\n",
        "df_final['rt_3'] = rt_3"
      ],
      "execution_count": null,
      "outputs": []
    },
    {
      "cell_type": "code",
      "metadata": {
        "id": "6CcJD0eKJnUj"
      },
      "source": [
        "#To be needed for Model A in Panel A of paper\n",
        "lsvt_1 = df_final['lsv'].shift(1)\n",
        "lsvt_2 = df_final['lsv'].shift(2)\n",
        "lsvt_3 = df_final['lsv'].shift(3)\n",
        "\n",
        "#To be needed for Model B in Panel B of paper\n",
        "lfvt_1 = df_final['lfv'].shift(1)\n",
        "lfvt_2 = df_final['lfv'].shift(2)\n",
        "lfvt_3 = df_final['lfv'].shift(3)\n",
        "\n",
        "#To be needed for Model C in Panel C of paper\n",
        "fst_1 = lfvt_1 - lsvt_1\n",
        "fst_2 = lfvt_2 - lsvt_2\n",
        "fst_3 = lfvt_3 - lsvt_3\n",
        "\n"
      ],
      "execution_count": null,
      "outputs": []
    },
    {
      "cell_type": "code",
      "metadata": {
        "id": "Ez5uWLH8jAOG"
      },
      "source": [
        "#Model A\n",
        "df_final['lsvt_1'] = lsvt_1\n",
        "df_final['lsvt_2'] = lsvt_2\n",
        "df_final['lsvt_3'] = lsvt_3\n",
        "\n",
        "#Model B\n",
        "df_final['lfvt_1'] = lfvt_1\n",
        "df_final['lfvt_2'] = lfvt_2\n",
        "df_final['lfvt_3'] = lfvt_3\n",
        "\n",
        "#Model C\n",
        "df_final['fst_1'] = fst_1\n",
        "df_final['fst_2'] = fst_2\n",
        "df_final['fst_3'] = fst_3"
      ],
      "execution_count": null,
      "outputs": []
    },
    {
      "cell_type": "code",
      "metadata": {
        "colab": {
          "base_uri": "https://localhost:8080/",
          "height": 439
        },
        "id": "m-jQxCl7lVQl",
        "outputId": "0fdb5289-e7dc-4d05-fa5b-7dc33005ac1e"
      },
      "source": [
        "df_final"
      ],
      "execution_count": null,
      "outputs": [
        {
          "output_type": "execute_result",
          "data": {
            "text/html": [
              "<div>\n",
              "<style scoped>\n",
              "    .dataframe tbody tr th:only-of-type {\n",
              "        vertical-align: middle;\n",
              "    }\n",
              "\n",
              "    .dataframe tbody tr th {\n",
              "        vertical-align: top;\n",
              "    }\n",
              "\n",
              "    .dataframe thead th {\n",
              "        text-align: right;\n",
              "    }\n",
              "</style>\n",
              "<table border=\"1\" class=\"dataframe\">\n",
              "  <thead>\n",
              "    <tr style=\"text-align: right;\">\n",
              "      <th></th>\n",
              "      <th>r</th>\n",
              "      <th>lsv</th>\n",
              "      <th>lfv</th>\n",
              "      <th>div</th>\n",
              "      <th>t_T</th>\n",
              "      <th>DOP_t</th>\n",
              "      <th>DCL_t</th>\n",
              "      <th>divt_1</th>\n",
              "      <th>divt_2</th>\n",
              "      <th>divt_3</th>\n",
              "      <th>rt_1</th>\n",
              "      <th>rt_2</th>\n",
              "      <th>rt_3</th>\n",
              "      <th>lsvt_1</th>\n",
              "      <th>lsvt_2</th>\n",
              "      <th>lsvt_3</th>\n",
              "      <th>lfvt_1</th>\n",
              "      <th>lfvt_2</th>\n",
              "      <th>lfvt_3</th>\n",
              "      <th>fst_1</th>\n",
              "      <th>fst_2</th>\n",
              "      <th>fst_3</th>\n",
              "    </tr>\n",
              "  </thead>\n",
              "  <tbody>\n",
              "    <tr>\n",
              "      <th>0</th>\n",
              "      <td>-0.095115</td>\n",
              "      <td>25.202183</td>\n",
              "      <td>25.760218</td>\n",
              "      <td>-5.346735</td>\n",
              "      <td>0.000001</td>\n",
              "      <td>0</td>\n",
              "      <td>0</td>\n",
              "      <td>NaN</td>\n",
              "      <td>NaN</td>\n",
              "      <td>NaN</td>\n",
              "      <td>NaN</td>\n",
              "      <td>NaN</td>\n",
              "      <td>NaN</td>\n",
              "      <td>NaN</td>\n",
              "      <td>NaN</td>\n",
              "      <td>NaN</td>\n",
              "      <td>NaN</td>\n",
              "      <td>NaN</td>\n",
              "      <td>NaN</td>\n",
              "      <td>NaN</td>\n",
              "      <td>NaN</td>\n",
              "      <td>NaN</td>\n",
              "    </tr>\n",
              "    <tr>\n",
              "      <th>1</th>\n",
              "      <td>-0.103860</td>\n",
              "      <td>23.002880</td>\n",
              "      <td>25.179739</td>\n",
              "      <td>-0.554828</td>\n",
              "      <td>0.000002</td>\n",
              "      <td>0</td>\n",
              "      <td>0</td>\n",
              "      <td>-5.346735</td>\n",
              "      <td>NaN</td>\n",
              "      <td>NaN</td>\n",
              "      <td>-0.095115</td>\n",
              "      <td>NaN</td>\n",
              "      <td>NaN</td>\n",
              "      <td>25.202183</td>\n",
              "      <td>NaN</td>\n",
              "      <td>NaN</td>\n",
              "      <td>25.760218</td>\n",
              "      <td>NaN</td>\n",
              "      <td>NaN</td>\n",
              "      <td>0.558035</td>\n",
              "      <td>NaN</td>\n",
              "      <td>NaN</td>\n",
              "    </tr>\n",
              "    <tr>\n",
              "      <th>2</th>\n",
              "      <td>0.112632</td>\n",
              "      <td>22.971918</td>\n",
              "      <td>24.977438</td>\n",
              "      <td>-0.829135</td>\n",
              "      <td>0.000004</td>\n",
              "      <td>0</td>\n",
              "      <td>0</td>\n",
              "      <td>-0.554828</td>\n",
              "      <td>-5.346735</td>\n",
              "      <td>NaN</td>\n",
              "      <td>-0.103860</td>\n",
              "      <td>-0.095115</td>\n",
              "      <td>NaN</td>\n",
              "      <td>23.002880</td>\n",
              "      <td>25.202183</td>\n",
              "      <td>NaN</td>\n",
              "      <td>25.179739</td>\n",
              "      <td>25.760218</td>\n",
              "      <td>NaN</td>\n",
              "      <td>2.176858</td>\n",
              "      <td>0.558035</td>\n",
              "      <td>NaN</td>\n",
              "    </tr>\n",
              "    <tr>\n",
              "      <th>3</th>\n",
              "      <td>0.043271</td>\n",
              "      <td>22.997093</td>\n",
              "      <td>25.414614</td>\n",
              "      <td>0.677726</td>\n",
              "      <td>0.000005</td>\n",
              "      <td>0</td>\n",
              "      <td>0</td>\n",
              "      <td>-0.829135</td>\n",
              "      <td>-0.554828</td>\n",
              "      <td>-5.346735</td>\n",
              "      <td>0.112632</td>\n",
              "      <td>-0.103860</td>\n",
              "      <td>-0.095115</td>\n",
              "      <td>22.971918</td>\n",
              "      <td>23.002880</td>\n",
              "      <td>25.202183</td>\n",
              "      <td>24.977438</td>\n",
              "      <td>25.179739</td>\n",
              "      <td>25.760218</td>\n",
              "      <td>2.005520</td>\n",
              "      <td>2.176858</td>\n",
              "      <td>0.558035</td>\n",
              "    </tr>\n",
              "    <tr>\n",
              "      <th>4</th>\n",
              "      <td>-0.242215</td>\n",
              "      <td>23.266617</td>\n",
              "      <td>25.510758</td>\n",
              "      <td>0.328027</td>\n",
              "      <td>0.000006</td>\n",
              "      <td>0</td>\n",
              "      <td>0</td>\n",
              "      <td>0.677726</td>\n",
              "      <td>-0.829135</td>\n",
              "      <td>-0.554828</td>\n",
              "      <td>0.043271</td>\n",
              "      <td>0.112632</td>\n",
              "      <td>-0.103860</td>\n",
              "      <td>22.997093</td>\n",
              "      <td>22.971918</td>\n",
              "      <td>23.002880</td>\n",
              "      <td>25.414614</td>\n",
              "      <td>24.977438</td>\n",
              "      <td>25.179739</td>\n",
              "      <td>2.417521</td>\n",
              "      <td>2.005520</td>\n",
              "      <td>2.176858</td>\n",
              "    </tr>\n",
              "    <tr>\n",
              "      <th>...</th>\n",
              "      <td>...</td>\n",
              "      <td>...</td>\n",
              "      <td>...</td>\n",
              "      <td>...</td>\n",
              "      <td>...</td>\n",
              "      <td>...</td>\n",
              "      <td>...</td>\n",
              "      <td>...</td>\n",
              "      <td>...</td>\n",
              "      <td>...</td>\n",
              "      <td>...</td>\n",
              "      <td>...</td>\n",
              "      <td>...</td>\n",
              "      <td>...</td>\n",
              "      <td>...</td>\n",
              "      <td>...</td>\n",
              "      <td>...</td>\n",
              "      <td>...</td>\n",
              "      <td>...</td>\n",
              "      <td>...</td>\n",
              "      <td>...</td>\n",
              "      <td>...</td>\n",
              "    </tr>\n",
              "    <tr>\n",
              "      <th>821782</th>\n",
              "      <td>0.042368</td>\n",
              "      <td>23.236974</td>\n",
              "      <td>22.797849</td>\n",
              "      <td>0.084025</td>\n",
              "      <td>0.999994</td>\n",
              "      <td>0</td>\n",
              "      <td>1</td>\n",
              "      <td>-2.614973</td>\n",
              "      <td>0.364954</td>\n",
              "      <td>2.170220</td>\n",
              "      <td>-0.023104</td>\n",
              "      <td>-0.023099</td>\n",
              "      <td>0.057781</td>\n",
              "      <td>23.184001</td>\n",
              "      <td>23.050166</td>\n",
              "      <td>23.123372</td>\n",
              "      <td>23.970280</td>\n",
              "      <td>24.232121</td>\n",
              "      <td>23.891086</td>\n",
              "      <td>0.786279</td>\n",
              "      <td>1.181955</td>\n",
              "      <td>0.767714</td>\n",
              "    </tr>\n",
              "    <tr>\n",
              "      <th>821783</th>\n",
              "      <td>0.023100</td>\n",
              "      <td>23.218085</td>\n",
              "      <td>24.550378</td>\n",
              "      <td>0.693092</td>\n",
              "      <td>0.999995</td>\n",
              "      <td>0</td>\n",
              "      <td>1</td>\n",
              "      <td>0.084025</td>\n",
              "      <td>-2.614973</td>\n",
              "      <td>0.364954</td>\n",
              "      <td>0.042368</td>\n",
              "      <td>-0.023104</td>\n",
              "      <td>-0.023099</td>\n",
              "      <td>23.236974</td>\n",
              "      <td>23.184001</td>\n",
              "      <td>23.050166</td>\n",
              "      <td>22.797849</td>\n",
              "      <td>23.970280</td>\n",
              "      <td>24.232121</td>\n",
              "      <td>-0.439125</td>\n",
              "      <td>0.786279</td>\n",
              "      <td>1.181955</td>\n",
              "    </tr>\n",
              "    <tr>\n",
              "      <th>821784</th>\n",
              "      <td>0.015396</td>\n",
              "      <td>23.312958</td>\n",
              "      <td>24.685934</td>\n",
              "      <td>-0.808555</td>\n",
              "      <td>0.999996</td>\n",
              "      <td>0</td>\n",
              "      <td>1</td>\n",
              "      <td>0.693092</td>\n",
              "      <td>0.084025</td>\n",
              "      <td>-2.614973</td>\n",
              "      <td>0.023100</td>\n",
              "      <td>0.042368</td>\n",
              "      <td>-0.023104</td>\n",
              "      <td>23.218085</td>\n",
              "      <td>23.236974</td>\n",
              "      <td>23.184001</td>\n",
              "      <td>24.550378</td>\n",
              "      <td>22.797849</td>\n",
              "      <td>23.970280</td>\n",
              "      <td>1.332293</td>\n",
              "      <td>-0.439125</td>\n",
              "      <td>0.786279</td>\n",
              "    </tr>\n",
              "    <tr>\n",
              "      <th>821785</th>\n",
              "      <td>-0.019243</td>\n",
              "      <td>23.096407</td>\n",
              "      <td>23.175673</td>\n",
              "      <td>-0.314433</td>\n",
              "      <td>0.999998</td>\n",
              "      <td>0</td>\n",
              "      <td>1</td>\n",
              "      <td>-0.808555</td>\n",
              "      <td>0.693092</td>\n",
              "      <td>0.084025</td>\n",
              "      <td>0.015396</td>\n",
              "      <td>0.023100</td>\n",
              "      <td>0.042368</td>\n",
              "      <td>23.312958</td>\n",
              "      <td>23.218085</td>\n",
              "      <td>23.236974</td>\n",
              "      <td>24.685934</td>\n",
              "      <td>24.550378</td>\n",
              "      <td>22.797849</td>\n",
              "      <td>1.372976</td>\n",
              "      <td>1.332293</td>\n",
              "      <td>-0.439125</td>\n",
              "    </tr>\n",
              "    <tr>\n",
              "      <th>821786</th>\n",
              "      <td>0.019246</td>\n",
              "      <td>23.365862</td>\n",
              "      <td>24.184248</td>\n",
              "      <td>1.751378</td>\n",
              "      <td>0.999999</td>\n",
              "      <td>0</td>\n",
              "      <td>1</td>\n",
              "      <td>-0.314433</td>\n",
              "      <td>-0.808555</td>\n",
              "      <td>0.693092</td>\n",
              "      <td>-0.019243</td>\n",
              "      <td>0.015396</td>\n",
              "      <td>0.023100</td>\n",
              "      <td>23.096407</td>\n",
              "      <td>23.312958</td>\n",
              "      <td>23.218085</td>\n",
              "      <td>23.175673</td>\n",
              "      <td>24.685934</td>\n",
              "      <td>24.550378</td>\n",
              "      <td>0.079266</td>\n",
              "      <td>1.372976</td>\n",
              "      <td>1.332293</td>\n",
              "    </tr>\n",
              "  </tbody>\n",
              "</table>\n",
              "<p>821496 rows × 22 columns</p>\n",
              "</div>"
            ],
            "text/plain": [
              "               r        lsv        lfv  ...     fst_1     fst_2     fst_3\n",
              "0      -0.095115  25.202183  25.760218  ...       NaN       NaN       NaN\n",
              "1      -0.103860  23.002880  25.179739  ...  0.558035       NaN       NaN\n",
              "2       0.112632  22.971918  24.977438  ...  2.176858  0.558035       NaN\n",
              "3       0.043271  22.997093  25.414614  ...  2.005520  2.176858  0.558035\n",
              "4      -0.242215  23.266617  25.510758  ...  2.417521  2.005520  2.176858\n",
              "...          ...        ...        ...  ...       ...       ...       ...\n",
              "821782  0.042368  23.236974  22.797849  ...  0.786279  1.181955  0.767714\n",
              "821783  0.023100  23.218085  24.550378  ... -0.439125  0.786279  1.181955\n",
              "821784  0.015396  23.312958  24.685934  ...  1.332293 -0.439125  0.786279\n",
              "821785 -0.019243  23.096407  23.175673  ...  1.372976  1.332293 -0.439125\n",
              "821786  0.019246  23.365862  24.184248  ...  0.079266  1.372976  1.332293\n",
              "\n",
              "[821496 rows x 22 columns]"
            ]
          },
          "metadata": {},
          "execution_count": 43
        }
      ]
    },
    {
      "cell_type": "code",
      "metadata": {
        "id": "ffhi5L29vIwf"
      },
      "source": [
        "df_final.dropna(axis = 0, inplace=True)"
      ],
      "execution_count": null,
      "outputs": []
    },
    {
      "cell_type": "code",
      "metadata": {
        "colab": {
          "base_uri": "https://localhost:8080/"
        },
        "id": "whgeIMVXccEk",
        "outputId": "5a66fb97-b015-4323-905e-5a2c04585516"
      },
      "source": [
        "len(df_final)"
      ],
      "execution_count": null,
      "outputs": [
        {
          "output_type": "execute_result",
          "data": {
            "text/plain": [
              "821493"
            ]
          },
          "metadata": {},
          "execution_count": 45
        }
      ]
    },
    {
      "cell_type": "code",
      "metadata": {
        "id": "EfVVdMJ3vn8C"
      },
      "source": [
        "df_final['t_T_s'] = df_final['t_T']**2\n",
        "\n",
        "df_final['rt_1_s'] = df_final['rt_1']**2\n",
        "df_final['rt_2_s'] = df_final['rt_2']**2\n",
        "df_final['rt_3_s'] = df_final['rt_3']**2"
      ],
      "execution_count": null,
      "outputs": []
    },
    {
      "cell_type": "code",
      "metadata": {
        "id": "7Wgd3tMNfmuA"
      },
      "source": [
        "df_final.reset_index(inplace=True)"
      ],
      "execution_count": null,
      "outputs": []
    },
    {
      "cell_type": "code",
      "metadata": {
        "colab": {
          "base_uri": "https://localhost:8080/"
        },
        "id": "XZwTKvBrvoJ6",
        "outputId": "dff6731c-4cda-4e3c-f611-af3e5f8ec7a5"
      },
      "source": [
        "df_final.columns"
      ],
      "execution_count": null,
      "outputs": [
        {
          "output_type": "execute_result",
          "data": {
            "text/plain": [
              "Index(['index', 'r', 'lsv', 'lfv', 'div', 't_T', 'DOP_t', 'DCL_t', 'divt_1',\n",
              "       'divt_2', 'divt_3', 'rt_1', 'rt_2', 'rt_3', 'lsvt_1', 'lsvt_2',\n",
              "       'lsvt_3', 'lfvt_1', 'lfvt_2', 'lfvt_3', 'fst_1', 'fst_2', 'fst_3',\n",
              "       't_T_s', 'rt_1_s', 'rt_2_s', 'rt_3_s'],\n",
              "      dtype='object')"
            ]
          },
          "metadata": {},
          "execution_count": 48
        }
      ]
    },
    {
      "cell_type": "code",
      "metadata": {
        "id": "DCz2gs9LvoUU"
      },
      "source": [
        "data_A = df_final[['r', 'DOP_t', 'DCL_t', 'rt_1', 'rt_2', 'rt_3', 't_T', 'lsvt_1',\n",
        "       'lsvt_2', 'lsvt_3', 't_T_s', 'rt_1_s', 'rt_2_s', 'rt_3_s']]\n",
        "\n",
        "data_B = df_final[['r', 'DOP_t', 'DCL_t', 'rt_1', 'rt_2', 'rt_3', 't_T', 'lfvt_1', \n",
        "       'lfvt_2', 'lfvt_3', 't_T_s', 'rt_1_s', 'rt_2_s', 'rt_3_s']]\n",
        "\n",
        "data_C = df_final[['r', 'DOP_t', 'DCL_t', 'rt_1', 'rt_2', 'rt_3', 't_T', 'fst_1',\n",
        "       'fst_2', 'fst_3', 't_T_s', 'rt_1_s', 'rt_2_s', 'rt_3_s']]"
      ],
      "execution_count": null,
      "outputs": []
    },
    {
      "cell_type": "code",
      "metadata": {
        "id": "IhGsUgIFwjza"
      },
      "source": [
        "#For divt vs other independent varibales\n",
        "\n",
        "data_D = df_final[['div', 'DOP_t', 'DCL_t', 't_T', 'divt_1', 'divt_2', 'divt_3', 'lsvt_1',\n",
        "       'lsvt_2', 'lsvt_3', 't_T_s']]\n",
        "\n",
        "data_E = df_final[['div', 'DOP_t', 'DCL_t', 't_T', 'divt_1', 'divt_2', 'divt_3', 'lfvt_1', \n",
        "       'lfvt_2', 'lfvt_3', 't_T_s']]\n",
        "\n",
        "data_F = df_final[['div', 'DOP_t', 'DCL_t', 't_T', 'divt_1', 'divt_2', 'divt_3', 'fst_1',\n",
        "       'fst_2', 'fst_3', 't_T_s']]"
      ],
      "execution_count": null,
      "outputs": []
    },
    {
      "cell_type": "code",
      "metadata": {
        "colab": {
          "base_uri": "https://localhost:8080/"
        },
        "id": "ERZrF9CwyN_Q",
        "outputId": "8f52d436-5e6a-4256-e6f4-3dbb8dc66f5c"
      },
      "source": [
        "len(data_A)"
      ],
      "execution_count": null,
      "outputs": [
        {
          "output_type": "execute_result",
          "data": {
            "text/plain": [
              "821493"
            ]
          },
          "metadata": {},
          "execution_count": 51
        }
      ]
    },
    {
      "cell_type": "code",
      "metadata": {
        "id": "LlVh8xUvoJSL"
      },
      "source": [
        "quantiles = [0.01, 0.05, 0.1, 0.25, 0.5, 0.75, 0.95, 0.9, 0.99]"
      ],
      "execution_count": null,
      "outputs": []
    },
    {
      "cell_type": "code",
      "metadata": {
        "colab": {
          "base_uri": "https://localhost:8080/"
        },
        "id": "ZdCJrPJDzIUB",
        "outputId": "389996fd-f83d-4848-fd73-5a0a44e61387"
      },
      "source": [
        "data_A.columns"
      ],
      "execution_count": null,
      "outputs": [
        {
          "output_type": "execute_result",
          "data": {
            "text/plain": [
              "Index(['r', 'DOP_t', 'DCL_t', 'rt_1', 'rt_2', 'rt_3', 't_T', 'lsvt_1',\n",
              "       'lsvt_2', 'lsvt_3', 't_T_s', 'rt_1_s', 'rt_2_s', 'rt_3_s'],\n",
              "      dtype='object')"
            ]
          },
          "metadata": {},
          "execution_count": 53
        }
      ]
    },
    {
      "cell_type": "code",
      "metadata": {
        "id": "kdvsAQ8jgcYT"
      },
      "source": [
        "targ_col_r = ['r'] #target col for the return models\n",
        "\n",
        "feat_col_A = ['DOP_t', 'DCL_t', 'rt_1', 'rt_2', 'rt_3', 't_T', 'lsvt_1',\n",
        "       'lsvt_2', 'lsvt_3', 't_T_s', 'rt_1_s', 'rt_2_s', 'rt_3_s']\n",
        "\n",
        "feat_col_B = ['DOP_t', 'DCL_t', 'rt_1', 'rt_2', 'rt_3', 't_T', 'lfvt_1',\n",
        "       'lfvt_2', 'lfvt_3', 't_T_s', 'rt_1_s', 'rt_2_s', 'rt_3_s']\n",
        "\n",
        "feat_col_C = ['DOP_t', 'DCL_t', 'rt_1', 'rt_2', 'rt_3', 't_T', 'fst_1',\n",
        "       'fst_2', 'fst_3', 't_T_s', 'rt_1_s', 'rt_2_s', 'rt_3_s']\n",
        "\n",
        "\n",
        "targ_col_div = ['div'] #dependent var in implied volatality model\n",
        "\n",
        "feat_col_D = ['DOP_t', 'DCL_t', 't_T', 'divt_1', 'divt_2', 'divt_3', 'lsvt_1',\n",
        "       'lsvt_2', 'lsvt_3', 't_T_s']\n",
        "\n",
        "feat_col_E = ['DOP_t', 'DCL_t', 't_T', 'divt_1', 'divt_2', 'divt_3', 'lfvt_1', \n",
        "       'lfvt_2', 'lfvt_3', 't_T_s']\n",
        "\n",
        "feat_col_F = ['DOP_t', 'DCL_t', 't_T', 'divt_1', 'divt_2', 'divt_3', 'fst_1',\n",
        "       'fst_2', 'fst_3', 't_T_s']"
      ],
      "execution_count": null,
      "outputs": []
    },
    {
      "cell_type": "markdown",
      "metadata": {
        "id": "K_JIJQztod4n"
      },
      "source": [
        "#PART - B AND PART - C"
      ]
    },
    {
      "cell_type": "code",
      "metadata": {
        "id": "6ZRpBiu4squX"
      },
      "source": [
        "from sklearn.model_selection import train_test_split\n",
        "from sklearn.metrics import mean_absolute_error\n",
        "from sklearn.metrics import mean_squared_error\n",
        "from sklearn.metrics import r2_score"
      ],
      "execution_count": null,
      "outputs": []
    },
    {
      "cell_type": "code",
      "metadata": {
        "id": "y5m1A4Hv23Mb"
      },
      "source": [
        "#both target cols\n",
        "targ_both = ['r', 'div']\n"
      ],
      "execution_count": null,
      "outputs": []
    },
    {
      "cell_type": "code",
      "metadata": {
        "id": "h0ugr8LAsuo9"
      },
      "source": [
        "X_train, X_test, y_train, y_test = train_test_split(df_final, df_final[targ_both], test_size=0.5, random_state=42)"
      ],
      "execution_count": null,
      "outputs": []
    },
    {
      "cell_type": "code",
      "metadata": {
        "id": "kY9rJGZi46r6"
      },
      "source": [
        "#First let's do it with linear regression for comparision purpose\n",
        "from sklearn.linear_model import LinearRegression"
      ],
      "execution_count": null,
      "outputs": []
    },
    {
      "cell_type": "code",
      "metadata": {
        "id": "YlVW99Vr5Ctu"
      },
      "source": [
        "linreg = LinearRegression()"
      ],
      "execution_count": null,
      "outputs": []
    },
    {
      "cell_type": "code",
      "metadata": {
        "colab": {
          "base_uri": "https://localhost:8080/"
        },
        "id": "EGGBjzNr5SPb",
        "outputId": "db3bcd9c-becf-45d9-e67c-279cf18a30b2"
      },
      "source": [
        "linreg.fit(X_train[feat_col_A], y_train[targ_col_r])"
      ],
      "execution_count": null,
      "outputs": [
        {
          "output_type": "execute_result",
          "data": {
            "text/plain": [
              "LinearRegression(copy_X=True, fit_intercept=True, n_jobs=None, normalize=False)"
            ]
          },
          "metadata": {},
          "execution_count": 60
        }
      ]
    },
    {
      "cell_type": "code",
      "metadata": {
        "id": "APHUvT8Q5Y7l"
      },
      "source": [
        "linpreds = linreg.predict(X_test[feat_col_A])"
      ],
      "execution_count": null,
      "outputs": []
    },
    {
      "cell_type": "code",
      "metadata": {
        "colab": {
          "base_uri": "https://localhost:8080/",
          "height": 553
        },
        "id": "xkk8nne9RDP7",
        "outputId": "c9b90d3b-c474-49c3-98a7-82e8c9db02ba"
      },
      "source": [
        "fig, (ax1, ax2) = plt.subplots(nrows = 2, ncols = 1)\n",
        "ax1.plot(linpreds, label = 'Predicted r')\n",
        "ax2.plot(y_test[targ_col_r].values, label = 'True r')\n",
        "ax1.set_title('Predictions')\n",
        "ax2.set_title('True Values')\n"
      ],
      "execution_count": null,
      "outputs": [
        {
          "output_type": "execute_result",
          "data": {
            "text/plain": [
              "Text(0.5, 1.0, 'True Values')"
            ]
          },
          "metadata": {},
          "execution_count": 62
        },
        {
          "output_type": "display_data",
          "data": {
            "image/png": "[encoded data removed]",
            "text/plain": [
              "<Figure size 864x576 with 2 Axes>"
            ]
          },
          "metadata": {}
        }
      ]
    },
    {
      "cell_type": "code",
      "metadata": {
        "colab": {
          "base_uri": "https://localhost:8080/"
        },
        "id": "BkVBDTAGTcTI",
        "outputId": "a3da54ce-ca13-4eb3-866f-dd5c6e2e5ca0"
      },
      "source": [
        "#WE ARE PRINTING 2 TYPES OF SCORES HERE\n",
        "print('MAE:',mean_absolute_error(y_test[targ_col_r], linpreds))\n",
        "print('MSE:',mean_squared_error(y_test[targ_col_r], linpreds))\n"
      ],
      "execution_count": null,
      "outputs": [
        {
          "output_type": "stream",
          "name": "stdout",
          "text": [
            "MAE: 0.037268954444225635\n",
            "MSE: 0.005664652289284591\n"
          ]
        }
      ]
    },
    {
      "cell_type": "code",
      "metadata": {
        "id": "8UvVkbM4U-dt",
        "colab": {
          "base_uri": "https://localhost:8080/"
        },
        "outputId": "3400ff22-622a-450d-da31-f7a2f7e94fde"
      },
      "source": [
        "#NOW WE HAVE SEEN HOW LINEAR REGRESSION PERFORMED LET'S SEE HOW OUR QUANTILE REGRESSION GIVEN DIFFERENT QUANTILES PERFORMS\n",
        "\n",
        "import statsmodels.api as sm\n",
        "import statsmodels.formula.api as smf\n"
      ],
      "execution_count": null,
      "outputs": [
        {
          "output_type": "stream",
          "name": "stderr",
          "text": [
            "/usr/local/lib/python3.7/dist-packages/statsmodels/tools/_testing.py:19: FutureWarning: pandas.util.testing is deprecated. Use the functions in the public API at pandas.testing instead.\n",
            "  import pandas.util.testing as tm\n"
          ]
        }
      ]
    },
    {
      "cell_type": "code",
      "metadata": {
        "id": "lY53FUSCmnic"
      },
      "source": [
        "from statsmodels.regression.quantile_regression import QuantReg"
      ],
      "execution_count": null,
      "outputs": []
    },
    {
      "cell_type": "code",
      "metadata": {
        "id": "561kc6rPmvfM"
      },
      "source": [
        "#sm.tools.tools.add_constant because this model requres a feature having 1 as constant values\n",
        "\n",
        "model = QuantReg(endog = y_train[targ_col_r].values, exog = sm.tools.tools.add_constant(X_train[feat_col_A].values))"
      ],
      "execution_count": null,
      "outputs": []
    },
    {
      "cell_type": "code",
      "metadata": {
        "id": "zeDN6dU4YYHA"
      },
      "source": [
        "Score_dict ={ 'Quantile':[], 'MAE':[], 'MSE':[]}"
      ],
      "execution_count": null,
      "outputs": []
    },
    {
      "cell_type": "code",
      "metadata": {
        "id": "tVDXhG4Wnn7M"
      },
      "source": [
        "for q in quantiles:\n",
        "  result = model.fit(q=q)\n",
        "  preds = result.predict(sm.tools.tools.add_constant(X_test[feat_col_A].values))\n",
        "  mse = mean_squared_error(y_test[targ_col_r], preds)\n",
        "  mae = mean_absolute_error(y_test[targ_col_r], preds)\n",
        "  Score_dict['Quantile'].append(q)\n",
        "  Score_dict['MAE'].append(mae)\n",
        "  Score_dict['MSE'].append(mse)\n",
        "\n",
        "Score_df = pd.DataFrame(Score_dict)"
      ],
      "execution_count": null,
      "outputs": []
    },
    {
      "cell_type": "code",
      "metadata": {
        "colab": {
          "base_uri": "https://localhost:8080/",
          "height": 328
        },
        "id": "WE4T5X6nZDQS",
        "outputId": "7d40abdf-bfab-42cb-ee3c-bfe665c2cfce"
      },
      "source": [
        "#here we can see that we get variation in scores w.r.t quantiles\n",
        "Score_df"
      ],
      "execution_count": null,
      "outputs": [
        {
          "output_type": "execute_result",
          "data": {
            "text/html": [
              "<div>\n",
              "<style scoped>\n",
              "    .dataframe tbody tr th:only-of-type {\n",
              "        vertical-align: middle;\n",
              "    }\n",
              "\n",
              "    .dataframe tbody tr th {\n",
              "        vertical-align: top;\n",
              "    }\n",
              "\n",
              "    .dataframe thead th {\n",
              "        text-align: right;\n",
              "    }\n",
              "</style>\n",
              "<table border=\"1\" class=\"dataframe\">\n",
              "  <thead>\n",
              "    <tr style=\"text-align: right;\">\n",
              "      <th></th>\n",
              "      <th>Quantile</th>\n",
              "      <th>MAE</th>\n",
              "      <th>MSE</th>\n",
              "    </tr>\n",
              "  </thead>\n",
              "  <tbody>\n",
              "    <tr>\n",
              "      <th>0</th>\n",
              "      <td>0.01</td>\n",
              "      <td>0.148221</td>\n",
              "      <td>0.090158</td>\n",
              "    </tr>\n",
              "    <tr>\n",
              "      <th>1</th>\n",
              "      <td>0.05</td>\n",
              "      <td>0.082433</td>\n",
              "      <td>0.022013</td>\n",
              "    </tr>\n",
              "    <tr>\n",
              "      <th>2</th>\n",
              "      <td>0.10</td>\n",
              "      <td>0.063068</td>\n",
              "      <td>0.010163</td>\n",
              "    </tr>\n",
              "    <tr>\n",
              "      <th>3</th>\n",
              "      <td>0.25</td>\n",
              "      <td>0.044136</td>\n",
              "      <td>0.006472</td>\n",
              "    </tr>\n",
              "    <tr>\n",
              "      <th>4</th>\n",
              "      <td>0.50</td>\n",
              "      <td>0.037157</td>\n",
              "      <td>0.005683</td>\n",
              "    </tr>\n",
              "    <tr>\n",
              "      <th>5</th>\n",
              "      <td>0.75</td>\n",
              "      <td>0.043841</td>\n",
              "      <td>0.006371</td>\n",
              "    </tr>\n",
              "    <tr>\n",
              "      <th>6</th>\n",
              "      <td>0.95</td>\n",
              "      <td>0.082661</td>\n",
              "      <td>0.018763</td>\n",
              "    </tr>\n",
              "    <tr>\n",
              "      <th>7</th>\n",
              "      <td>0.90</td>\n",
              "      <td>0.062916</td>\n",
              "      <td>0.009691</td>\n",
              "    </tr>\n",
              "    <tr>\n",
              "      <th>8</th>\n",
              "      <td>0.99</td>\n",
              "      <td>0.151464</td>\n",
              "      <td>0.069064</td>\n",
              "    </tr>\n",
              "  </tbody>\n",
              "</table>\n",
              "</div>"
            ],
            "text/plain": [
              "   Quantile       MAE       MSE\n",
              "0      0.01  0.148221  0.090158\n",
              "1      0.05  0.082433  0.022013\n",
              "2      0.10  0.063068  0.010163\n",
              "3      0.25  0.044136  0.006472\n",
              "4      0.50  0.037157  0.005683\n",
              "5      0.75  0.043841  0.006371\n",
              "6      0.95  0.082661  0.018763\n",
              "7      0.90  0.062916  0.009691\n",
              "8      0.99  0.151464  0.069064"
            ]
          },
          "metadata": {},
          "execution_count": 69
        }
      ]
    },
    {
      "cell_type": "code",
      "metadata": {
        "id": "-N7T3SYsnxH-"
      },
      "source": [
        "# lets see how variation looks for .75 quantile\n",
        "res = model.fit(q=0.8)\n",
        "pred_y = res.predict(sm.tools.tools.add_constant(X_test[feat_col_A].values))"
      ],
      "execution_count": null,
      "outputs": []
    },
    {
      "cell_type": "code",
      "metadata": {
        "colab": {
          "base_uri": "https://localhost:8080/",
          "height": 553
        },
        "id": "4Z4zdbzDvRvH",
        "outputId": "2065e5f4-b815-43e8-f1ab-a2cc5287e9ec"
      },
      "source": [
        "fig, (ax3, ax4) = plt.subplots(nrows = 2, ncols = 1)\n",
        "ax3.plot(pred_y, label = 'Quantile Regression Predicted r')\n",
        "ax4.plot(y_test[targ_col_r].values, label = 'True r')\n",
        "ax3.set_title('Quantile Regression Predicted r')\n",
        "ax4.set_title('True Values r')\n"
      ],
      "execution_count": null,
      "outputs": [
        {
          "output_type": "execute_result",
          "data": {
            "text/plain": [
              "Text(0.5, 1.0, 'True Values r')"
            ]
          },
          "metadata": {},
          "execution_count": 71
        },
        {
          "output_type": "display_data",
          "data": {
            "image/png": "[encoded data removed]",
            "text/plain": [
              "<Figure size 864x576 with 2 Axes>"
            ]
          },
          "metadata": {}
        }
      ]
    },
    {
      "cell_type": "code",
      "metadata": {
        "id": "vss1DuT8weH4"
      },
      "source": [
        "# lets see how variation looks for .75 quantile\n",
        "res2 = model.fit(q=0.15)\n",
        "pred_y2 = res2.predict(sm.tools.tools.add_constant(X_test[feat_col_A].values))"
      ],
      "execution_count": null,
      "outputs": []
    },
    {
      "cell_type": "code",
      "metadata": {
        "colab": {
          "base_uri": "https://localhost:8080/",
          "height": 553
        },
        "id": "z5XeqAt8H37f",
        "outputId": "61e519fa-e266-4acc-ee95-611d861f1cf1"
      },
      "source": [
        "fig, (ax5, ax6) = plt.subplots(nrows = 2, ncols = 1)\n",
        "ax5.plot(pred_y2, label = 'Quantile Regression Predicted r')\n",
        "ax6.plot(y_test[targ_col_r].values, label = 'True r')\n",
        "ax5.set_title('Quantile Regression Predicted r')\n",
        "ax6.set_title('True Values r')\n"
      ],
      "execution_count": null,
      "outputs": [
        {
          "output_type": "execute_result",
          "data": {
            "text/plain": [
              "Text(0.5, 1.0, 'True Values r')"
            ]
          },
          "metadata": {},
          "execution_count": 73
        },
        {
          "output_type": "display_data",
          "data": {
            "image/png": "[encoded data removed]",
            "text/plain": [
              "<Figure size 864x576 with 2 Axes>"
            ]
          },
          "metadata": {}
        }
      ]
    },
    {
      "cell_type": "code",
      "metadata": {
        "id": "rz3HaR6YIfh5"
      },
      "source": [
        "#We can clearly see that depending on the quantile we choose we can predict extreme values with more accuracy\n",
        "# which woudn't be possible with linear regression"
      ],
      "execution_count": null,
      "outputs": []
    },
    {
      "cell_type": "markdown",
      "metadata": {
        "id": "RUVOhVxbn_Vt"
      },
      "source": [
        "#PART- A\n",
        "\n",
        "\n",
        "\n"
      ]
    },
    {
      "cell_type": "code",
      "metadata": {
        "colab": {
          "base_uri": "https://localhost:8080/",
          "height": 37
        },
        "id": "10z44MQ0Lx3-",
        "outputId": "ff606d36-b278-49cf-a02b-0096a2c9a232"
      },
      "source": [
        "X_train[feat_col_A].columns[6]"
      ],
      "execution_count": null,
      "outputs": [
        {
          "output_type": "execute_result",
          "data": {
            "application/vnd.google.colaboratory.intrinsic+json": {
              "type": "string"
            },
            "text/plain": [
              "'lsvt_1'"
            ]
          },
          "metadata": {},
          "execution_count": 75
        }
      ]
    },
    {
      "cell_type": "code",
      "metadata": {
        "colab": {
          "base_uri": "https://localhost:8080/"
        },
        "id": "4fcNZ5pyI-mq",
        "outputId": "418ee1b6-0824-49ce-d74d-be04ea844eba"
      },
      "source": [
        "# Results from the paper, although it didnt came as exactly same but it conveys the ideas\n",
        "\n",
        "mod = QuantReg(endog = y_train[targ_col_r].values, exog = sm.tools.tools.add_constant(X_train[feat_col_A].values))\n",
        "def fit_model(q):\n",
        "    res = mod.fit(q=q)\n",
        "    return [q, res.params[0], res.params[7], res.params[8], res.params[9]]\n",
        "\n",
        "\n",
        "models = [fit_model(x) for x in quantiles]\n",
        "models = pd.DataFrame(models, columns=[\"q\", \"a\", \"lsvt_1\", \"lsvt_2\", \"lsvt_3\"])\n",
        "\n",
        "print(models)"
      ],
      "execution_count": null,
      "outputs": [
        {
          "output_type": "stream",
          "name": "stdout",
          "text": [
            "      q         a    lsvt_1    lsvt_2    lsvt_3\n",
            "0  0.01  0.732578 -0.011768 -0.005991 -0.019992\n",
            "1  0.05  0.316801 -0.006222 -0.003350 -0.007447\n",
            "2  0.10  0.229140 -0.005545 -0.002296 -0.004536\n",
            "3  0.25  0.115060 -0.003007 -0.001231 -0.001985\n",
            "4  0.50  0.007114 -0.000300  0.000032 -0.000064\n",
            "5  0.75 -0.091095  0.002245  0.000810  0.002033\n",
            "6  0.95 -0.321152  0.007443  0.001850  0.008010\n",
            "7  0.90 -0.223922  0.005180  0.001964  0.005021\n",
            "8  0.99 -0.778493  0.014332  0.002710  0.023006\n"
          ]
        }
      ]
    },
    {
      "cell_type": "code",
      "metadata": {
        "colab": {
          "base_uri": "https://localhost:8080/",
          "height": 37
        },
        "id": "hb8_NFTyN9IM",
        "outputId": "0faf237e-428d-4598-abc4-3364b07e9f52"
      },
      "source": [
        "X_train[feat_col_B].columns[6]"
      ],
      "execution_count": null,
      "outputs": [
        {
          "output_type": "execute_result",
          "data": {
            "application/vnd.google.colaboratory.intrinsic+json": {
              "type": "string"
            },
            "text/plain": [
              "'lfvt_1'"
            ]
          },
          "metadata": {},
          "execution_count": 77
        }
      ]
    },
    {
      "cell_type": "code",
      "metadata": {
        "colab": {
          "base_uri": "https://localhost:8080/"
        },
        "id": "kAiAhueaM0Oa",
        "outputId": "50f24c81-d537-4c30-a549-de4c5fa0f358"
      },
      "source": [
        "# Results from the paper, although it didnt came as exactly same but it conveys the ideas\n",
        "\n",
        "mod2 = QuantReg(endog = y_train[targ_col_r].values, exog = sm.tools.tools.add_constant(X_train[feat_col_B].values))\n",
        "def fit_model(q):\n",
        "    res = mod2.fit(q=q)\n",
        "    return [q, res.params[0], res.params[7], res.params[8], res.params[9]]\n",
        "\n",
        "\n",
        "models2 = [fit_model(x) for x in quantiles]\n",
        "models2 = pd.DataFrame(models2, columns=[\"q\", \"a\", \"lfvt_1\", \"lfvt_2\", \"lfvt_3\"])\n",
        "\n",
        "print(models2)"
      ],
      "execution_count": null,
      "outputs": [
        {
          "output_type": "stream",
          "name": "stdout",
          "text": [
            "      q         a    lfvt_1    lfvt_2    lfvt_3\n",
            "0  0.01  0.177728 -0.004313 -0.001996 -0.005468\n",
            "1  0.05  0.088800 -0.002490 -0.001414 -0.002387\n",
            "2  0.10  0.066527 -0.001956 -0.001157 -0.001616\n",
            "3  0.25  0.032874 -0.001188 -0.000649 -0.000518\n",
            "4  0.50  0.002753 -0.000052 -0.000129  0.000057\n",
            "5  0.75 -0.026991  0.000950  0.000380  0.000736\n",
            "6  0.95 -0.081233  0.002330  0.001306  0.002431\n",
            "7  0.90 -0.059562  0.001938  0.000905  0.001599\n",
            "8  0.99 -0.131850  0.002285  0.001938  0.005745\n"
          ]
        }
      ]
    },
    {
      "cell_type": "code",
      "metadata": {
        "colab": {
          "base_uri": "https://localhost:8080/"
        },
        "id": "UGSMY-3iLCgX",
        "outputId": "48fa3afc-18c2-45f6-802e-303a08d1d2d7"
      },
      "source": [
        "# Results from the paper, although it didnt came as exactly same but it conveys the ideas\n",
        "\n",
        "mod3 = QuantReg(endog = y_train[targ_col_r].values, exog = sm.tools.tools.add_constant(X_train[feat_col_C].values))\n",
        "def fit_model(q):\n",
        "    res = mod3.fit(q=q)\n",
        "    return [q, res.params[0], res.params[7], res.params[8], res.params[9]]\n",
        "\n",
        "\n",
        "models3 = [fit_model(x) for x in quantiles]\n",
        "models3 = pd.DataFrame(models3, columns=[\"q\", \"a\", \"fst_1\", \"fst_2\", \"fst_3\"])\n",
        "\n",
        "print(models3)"
      ],
      "execution_count": null,
      "outputs": [
        {
          "output_type": "stream",
          "name": "stdout",
          "text": [
            "      q         a     fst_1     fst_2     fst_3\n",
            "0  0.01 -0.086526 -0.002225  0.000098 -0.002692\n",
            "1  0.05 -0.052202 -0.001497 -0.000527 -0.001123\n",
            "2  0.10 -0.039368 -0.001126 -0.000557 -0.000708\n",
            "3  0.25 -0.020048 -0.000685 -0.000323 -0.000048\n",
            "4  0.50 -0.000033 -0.000008 -0.000117  0.000078\n",
            "5  0.75  0.019328  0.000512  0.000126  0.000355\n",
            "6  0.95  0.054505  0.001071  0.000634  0.001053\n",
            "7  0.90  0.040045  0.001055  0.000361  0.000679\n",
            "8  0.99  0.091600 -0.000438  0.000497  0.003113\n"
          ]
        }
      ]
    },
    {
      "cell_type": "code",
      "metadata": {
        "colab": {
          "base_uri": "https://localhost:8080/",
          "height": 37
        },
        "id": "0AgvrDRjPuTr",
        "outputId": "c911cf72-1da0-4909-f8f6-66f929c20246"
      },
      "source": [
        "feat_col_D[3]"
      ],
      "execution_count": null,
      "outputs": [
        {
          "output_type": "execute_result",
          "data": {
            "application/vnd.google.colaboratory.intrinsic+json": {
              "type": "string"
            },
            "text/plain": [
              "'divt_1'"
            ]
          },
          "metadata": {},
          "execution_count": 80
        }
      ]
    },
    {
      "cell_type": "code",
      "metadata": {
        "colab": {
          "base_uri": "https://localhost:8080/"
        },
        "id": "4xafluVKPC_w",
        "outputId": "5432b6b2-46ed-4f93-973f-89ef76264e6b"
      },
      "source": [
        "# Results from the paper, although it didnt came as exactly same but it conveys the ideas\n",
        "\n",
        "mod4 = QuantReg(endog = y_train[targ_col_div].values, exog = sm.tools.tools.add_constant(X_train[feat_col_D].values))\n",
        "def fit_model(q):\n",
        "    res = mod4.fit(q=q)\n",
        "    return [q, res.params[0], res.params[4], res.params[5], res.params[6], res.params[7], res.params[8], res.params[9]]\n",
        "\n",
        "\n",
        "models4 = [fit_model(x) for x in quantiles]\n",
        "models4 = pd.DataFrame(models4, columns=[\"q\", \"a\", \"divt_1\", \"divt_2\", \"divt_3\", \"lsvt_1\", \"lsvt_2\", \"lsvt_3\"])\n",
        "\n",
        "print(models4)"
      ],
      "execution_count": null,
      "outputs": [
        {
          "output_type": "stream",
          "name": "stdout",
          "text": [
            "      q         a    divt_1    divt_2    divt_3    lsvt_1    lsvt_2    lsvt_3\n",
            "0  0.01  1.469806 -0.661299 -0.439286 -0.231154 -0.087267 -0.032048 -0.068009\n",
            "1  0.05 -0.013430 -0.642885 -0.422689 -0.223063 -0.021278 -0.001473 -0.051576\n",
            "2  0.10 -0.448196 -0.629253 -0.411722 -0.218109 -0.001988  0.002819 -0.037251\n",
            "3  0.25 -0.174292 -0.609311 -0.391481 -0.205041  0.005977 -0.010470 -0.017936\n",
            "4  0.50 -0.070977 -0.582961 -0.367205 -0.187380  0.004562 -0.007473  0.001842\n",
            "5  0.75  0.141654 -0.556499 -0.342736 -0.171129  0.017333 -0.013415  0.014337\n",
            "6  0.95 -1.759539 -0.514899 -0.317069 -0.151538  0.088526  0.023558  0.053637\n",
            "7  0.90 -0.371579 -0.534409 -0.332738 -0.162818  0.038184  0.005008  0.032195\n",
            "8  0.99 -6.311830 -0.460251 -0.287944 -0.137329  0.304695  0.004590  0.142567\n"
          ]
        }
      ]
    },
    {
      "cell_type": "code",
      "metadata": {
        "colab": {
          "base_uri": "https://localhost:8080/"
        },
        "id": "vhrnS_I2jjGl",
        "outputId": "a3f51beb-e44b-42b2-accf-1ba7487967ff"
      },
      "source": [
        "# Results from the paper, although it didnt came as exactly same but it conveys the ideas\n",
        "\n",
        "mod5 = QuantReg(endog = y_train[targ_col_div].values, exog = sm.tools.tools.add_constant(X_train[feat_col_E].values))\n",
        "def fit_model(q):\n",
        "    res = mod5.fit(q=q)\n",
        "    return [q, res.params[0], res.params[4], res.params[5], res.params[6], res.params[7], res.params[8], res.params[9]]\n",
        "\n",
        "\n",
        "models5 = [fit_model(x) for x in quantiles]\n",
        "models5 = pd.DataFrame(models5, columns=[\"q\", \"a\", \"divt_1\", \"divt_2\", \"divt_3\", \"lfvt_1\", \"lfvt_2\", \"lfvt_3\"])\n",
        "\n",
        "print(models5)"
      ],
      "execution_count": null,
      "outputs": [
        {
          "output_type": "stream",
          "name": "stderr",
          "text": [
            "/usr/local/lib/python3.7/dist-packages/statsmodels/regression/quantile_regression.py:192: IterationLimitWarning: Maximum number of iterations (1000) reached.\n",
            "  \") reached.\", IterationLimitWarning)\n"
          ]
        },
        {
          "output_type": "stream",
          "name": "stdout",
          "text": [
            "      q         a    divt_1    divt_2    divt_3    lfvt_1    lfvt_2    lfvt_3\n",
            "0  0.01 -8.073144 -0.660550 -0.436749 -0.227556  0.106846  0.075240  0.056143\n",
            "1  0.05 -4.455074 -0.644698 -0.423176 -0.222884  0.056095  0.037460  0.028893\n",
            "2  0.10 -3.254673 -0.630649 -0.412185 -0.217246  0.038587  0.026194  0.022653\n",
            "3  0.25 -1.670430 -0.609872 -0.392183 -0.204979  0.016930  0.014656  0.012161\n",
            "4  0.50 -0.464500 -0.583043 -0.367154 -0.187649  0.005121  0.005177  0.005724\n",
            "5  0.75  0.887941 -0.557014 -0.343058 -0.171252 -0.011611 -0.004871  0.001378\n",
            "6  0.95  3.579657 -0.513129 -0.312050 -0.149234 -0.039099 -0.037052  0.001307\n",
            "7  0.90  2.355649 -0.532141 -0.329737 -0.160475 -0.032148 -0.017775  0.003190\n",
            "8  0.99  8.510152 -0.460956 -0.285969 -0.128157 -0.111547 -0.089704 -0.015392\n"
          ]
        }
      ]
    },
    {
      "cell_type": "code",
      "metadata": {
        "colab": {
          "base_uri": "https://localhost:8080/"
        },
        "id": "80vX8Pg9j7f1",
        "outputId": "01ef1b8f-75cc-427e-b2a9-69a42ae3803f"
      },
      "source": [
        "# Results from the paper, although it didnt came as exactly same but it conveys the ideas\n",
        "\n",
        "mod6 = QuantReg(endog = y_train[targ_col_div].values, exog = sm.tools.tools.add_constant(X_train[feat_col_F].values))\n",
        "def fit_model(q):\n",
        "    res = mod6.fit(q=q)\n",
        "    return [q, res.params[0], res.params[4], res.params[5], res.params[6], res.params[7], res.params[8], res.params[9]]\n",
        "\n",
        "\n",
        "models6 = [fit_model(x) for x in quantiles]\n",
        "models6 = pd.DataFrame(models6, columns=[\"q\", \"a\", \"divt_1\", \"divt_2\", \"divt_3\", \"fst_1\", \"fst_2\", \"fst_3\"])\n",
        "\n",
        "print(models6)"
      ],
      "execution_count": null,
      "outputs": [
        {
          "output_type": "stream",
          "name": "stdout",
          "text": [
            "      q         a    divt_1    divt_2    divt_3     fst_1     fst_2     fst_3\n",
            "0  0.01 -2.959321 -0.662705 -0.435206 -0.227757  0.140460  0.101912  0.084836\n",
            "1  0.05 -1.829535 -0.646047 -0.423185 -0.222618  0.073771  0.051256  0.044440\n",
            "2  0.10 -1.370942 -0.630548 -0.411945 -0.217273  0.047381  0.035099  0.034275\n",
            "3  0.25 -0.728865 -0.610431 -0.392149 -0.204780  0.021378  0.019660  0.018098\n",
            "4  0.50 -0.116991 -0.583194 -0.367318 -0.187701  0.005812  0.007001  0.006641\n",
            "5  0.75  0.567071 -0.556766 -0.343026 -0.171301 -0.016121 -0.005307 -0.002082\n",
            "6  0.95  2.030631 -0.515284 -0.314671 -0.150044 -0.071611 -0.055219 -0.022069\n",
            "7  0.90  1.365908 -0.533015 -0.331068 -0.161929 -0.047042 -0.025611 -0.006124\n",
            "8  0.99  4.043200 -0.460947 -0.287880 -0.135541 -0.225590 -0.132416 -0.081487\n"
          ]
        }
      ]
    },
    {
      "cell_type": "code",
      "metadata": {
        "colab": {
          "base_uri": "https://localhost:8080/"
        },
        "id": "uEe8fdSspDQt",
        "outputId": "44ddbe9b-9c24-483c-db8c-fe5098555573"
      },
      "source": [
        "dff.columns"
      ],
      "execution_count": null,
      "outputs": [
        {
          "output_type": "execute_result",
          "data": {
            "text/plain": [
              "Index(['Dates', 'Time', 'k200', 'k200_wn', 'f_wn', 'iv2', 't_T', 'r', 'lsv',\n",
              "       'lfv', 'div'],\n",
              "      dtype='object')"
            ]
          },
          "metadata": {},
          "execution_count": 84
        }
      ]
    },
    {
      "cell_type": "markdown",
      "metadata": {
        "id": "Yc6yS7F6rRbb"
      },
      "source": [
        "#Part - C [Forecasting]"
      ]
    },
    {
      "cell_type": "code",
      "metadata": {
        "id": "IHBjHXqGp22s"
      },
      "source": [
        "df_forecast = dff_check[['k200', 'lsv', 'lfv', 'div']]"
      ],
      "execution_count": null,
      "outputs": []
    },
    {
      "cell_type": "code",
      "metadata": {
        "id": "OgcztJb4rwHE"
      },
      "source": [
        "targ = ['k200']\n",
        "feat = ['lsv', 'lfv', 'div']"
      ],
      "execution_count": null,
      "outputs": []
    },
    {
      "cell_type": "code",
      "metadata": {
        "colab": {
          "base_uri": "https://localhost:8080/"
        },
        "id": "0-L8v-WoqXFW",
        "outputId": "898d1cc9-4c62-487b-a856-4c12eaca26de"
      },
      "source": [
        "df_forecast.isnull().sum()"
      ],
      "execution_count": null,
      "outputs": [
        {
          "output_type": "execute_result",
          "data": {
            "text/plain": [
              "k200    0\n",
              "lsv     0\n",
              "lfv     0\n",
              "div     0\n",
              "dtype: int64"
            ]
          },
          "metadata": {},
          "execution_count": 87
        }
      ]
    },
    {
      "cell_type": "code",
      "metadata": {
        "colab": {
          "base_uri": "https://localhost:8080/",
          "height": 532
        },
        "id": "Ipy76RAKrBYz",
        "outputId": "f8a417a7-b0c0-4f19-ae1e-abf7beec3360"
      },
      "source": [
        "plt.plot(df_forecast['k200'])"
      ],
      "execution_count": null,
      "outputs": [
        {
          "output_type": "execute_result",
          "data": {
            "text/plain": [
              "[<matplotlib.lines.Line2D at 0x7f372d061e90>]"
            ]
          },
          "metadata": {},
          "execution_count": 88
        },
        {
          "output_type": "display_data",
          "data": {
            "image/png": "[encoded data removed]",
            "text/plain": [
              "<Figure size 864x576 with 1 Axes>"
            ]
          },
          "metadata": {}
        }
      ]
    },
    {
      "cell_type": "code",
      "metadata": {
        "id": "9cgd8UIzsGJr"
      },
      "source": [
        "train_data = df_forecast[:int(len(df_forecast)/2)]\n",
        "\n",
        "test_data = df_forecast[int(len(df_forecast)/2):]"
      ],
      "execution_count": null,
      "outputs": []
    },
    {
      "cell_type": "code",
      "metadata": {
        "id": "h4zSSSlyroD9"
      },
      "source": [
        "#sm.tools.tools.add_constant because this model requres a feature having 1 as constant values\n",
        "\n",
        "forc_model = QuantReg(endog = train_data[targ].values, exog = sm.tools.tools.add_constant(train_data[feat].values))"
      ],
      "execution_count": null,
      "outputs": []
    },
    {
      "cell_type": "code",
      "metadata": {
        "id": "qB3VQqk6rei1"
      },
      "source": [
        "# lets see how variation looks for .75 quantile\n",
        "reslt = forc_model.fit(q=0.5)\n"
      ],
      "execution_count": null,
      "outputs": []
    },
    {
      "cell_type": "code",
      "metadata": {
        "id": "86FgSaa0tVTb"
      },
      "source": [
        "prediction = reslt.predict(sm.tools.tools.add_constant(test_data[feat].values))"
      ],
      "execution_count": null,
      "outputs": []
    },
    {
      "cell_type": "code",
      "metadata": {
        "id": "aVApmzqsRvHo"
      },
      "source": [
        "test_data.reset_index(inplace=True)"
      ],
      "execution_count": null,
      "outputs": []
    },
    {
      "cell_type": "code",
      "metadata": {
        "colab": {
          "base_uri": "https://localhost:8080/"
        },
        "id": "RVuE-RXSQ4tV",
        "outputId": "29b7afca-f86f-4e4d-9bf9-27a0c01f6cb1"
      },
      "source": [
        "print(test_data['k200'][0])\n",
        "print(prediction[0])\n",
        "print(len(test_data))\n",
        "print(len(prediction))"
      ],
      "execution_count": null,
      "outputs": [
        {
          "output_type": "stream",
          "name": "stdout",
          "text": [
            "223.28\n",
            "191.66364293840235\n",
            "410748\n",
            "410748\n"
          ]
        }
      ]
    },
    {
      "cell_type": "code",
      "metadata": {
        "colab": {
          "base_uri": "https://localhost:8080/"
        },
        "id": "mBbzuMrxgW2m",
        "outputId": "032e6d01-057c-4139-d885-28282c9e327b"
      },
      "source": [
        "test_data['k200'].std()"
      ],
      "execution_count": null,
      "outputs": [
        {
          "output_type": "execute_result",
          "data": {
            "text/plain": [
              "19.199867803551008"
            ]
          },
          "metadata": {},
          "execution_count": 155
        }
      ]
    },
    {
      "cell_type": "code",
      "metadata": {
        "id": "2JmYERZuH0nY"
      },
      "source": [
        "def buy_sell(test_data, prediction):\n",
        "    signalBuy = []\n",
        "    signalSell = []\n",
        "    position = False \n",
        "\n",
        "    for i in range(len(test_data)):\n",
        "\n",
        "      if (prediction[i] - test_data['k200'][i])>1:\n",
        "          if position == False :\n",
        "              signalBuy.append(test_data['k200'][i])\n",
        "              signalSell.append(np.nan)\n",
        "              position = True\n",
        "          else:\n",
        "              signalBuy.append(np.nan)\n",
        "              signalSell.append(np.nan)\n",
        "      elif (prediction[i] - test_data['k200'][i])<1:\n",
        "          if position == True:\n",
        "              signalBuy.append(np.nan)\n",
        "              signalSell.append(test_data['k200'][i])\n",
        "              position = False\n",
        "          else:\n",
        "              signalBuy.append(np.nan)\n",
        "              signalSell.append(np.nan)\n",
        "      else:\n",
        "          signalBuy.append(np.nan)\n",
        "          signalSell.append(np.nan)\n",
        "    return pd.Series([signalBuy, signalSell])"
      ],
      "execution_count": null,
      "outputs": []
    },
    {
      "cell_type": "code",
      "metadata": {
        "colab": {
          "base_uri": "https://localhost:8080/",
          "height": 521
        },
        "id": "6647CqQTJwhb",
        "outputId": "74cb7c88-545c-4b6c-ecdb-b779949e548e"
      },
      "source": [
        "test_data['Buy_Signal_price'], test_data['Sell_Signal_price'] = buy_sell(test_data, prediction)\n",
        "test_data\n"
      ],
      "execution_count": null,
      "outputs": [
        {
          "output_type": "stream",
          "name": "stderr",
          "text": [
            "/usr/local/lib/python3.7/dist-packages/ipykernel_launcher.py:1: SettingWithCopyWarning: \n",
            "A value is trying to be set on a copy of a slice from a DataFrame.\n",
            "Try using .loc[row_indexer,col_indexer] = value instead\n",
            "\n",
            "See the caveats in the documentation: https://pandas.pydata.org/pandas-docs/stable/user_guide/indexing.html#returning-a-view-versus-a-copy\n",
            "  \"\"\"Entry point for launching an IPython kernel.\n"
          ]
        },
        {
          "output_type": "execute_result",
          "data": {
            "text/html": [
              "<div>\n",
              "<style scoped>\n",
              "    .dataframe tbody tr th:only-of-type {\n",
              "        vertical-align: middle;\n",
              "    }\n",
              "\n",
              "    .dataframe tbody tr th {\n",
              "        vertical-align: top;\n",
              "    }\n",
              "\n",
              "    .dataframe thead th {\n",
              "        text-align: right;\n",
              "    }\n",
              "</style>\n",
              "<table border=\"1\" class=\"dataframe\">\n",
              "  <thead>\n",
              "    <tr style=\"text-align: right;\">\n",
              "      <th></th>\n",
              "      <th>index</th>\n",
              "      <th>k200</th>\n",
              "      <th>lsv</th>\n",
              "      <th>lfv</th>\n",
              "      <th>div</th>\n",
              "      <th>Buy_Signal_price</th>\n",
              "      <th>Sell_Signal_price</th>\n",
              "    </tr>\n",
              "  </thead>\n",
              "  <tbody>\n",
              "    <tr>\n",
              "      <th>0</th>\n",
              "      <td>410997</td>\n",
              "      <td>223.28</td>\n",
              "      <td>23.185534</td>\n",
              "      <td>23.912997</td>\n",
              "      <td>1.724039</td>\n",
              "      <td>NaN</td>\n",
              "      <td>NaN</td>\n",
              "    </tr>\n",
              "    <tr>\n",
              "      <th>1</th>\n",
              "      <td>410998</td>\n",
              "      <td>223.25</td>\n",
              "      <td>23.026892</td>\n",
              "      <td>24.427267</td>\n",
              "      <td>-1.930057</td>\n",
              "      <td>NaN</td>\n",
              "      <td>NaN</td>\n",
              "    </tr>\n",
              "    <tr>\n",
              "      <th>2</th>\n",
              "      <td>410999</td>\n",
              "      <td>223.33</td>\n",
              "      <td>22.955914</td>\n",
              "      <td>24.677080</td>\n",
              "      <td>-1.214311</td>\n",
              "      <td>NaN</td>\n",
              "      <td>NaN</td>\n",
              "    </tr>\n",
              "    <tr>\n",
              "      <th>3</th>\n",
              "      <td>411000</td>\n",
              "      <td>223.19</td>\n",
              "      <td>22.856015</td>\n",
              "      <td>24.706637</td>\n",
              "      <td>6.869850</td>\n",
              "      <td>NaN</td>\n",
              "      <td>NaN</td>\n",
              "    </tr>\n",
              "    <tr>\n",
              "      <th>4</th>\n",
              "      <td>411001</td>\n",
              "      <td>223.16</td>\n",
              "      <td>22.996598</td>\n",
              "      <td>25.606068</td>\n",
              "      <td>-3.838683</td>\n",
              "      <td>NaN</td>\n",
              "      <td>NaN</td>\n",
              "    </tr>\n",
              "    <tr>\n",
              "      <th>...</th>\n",
              "      <td>...</td>\n",
              "      <td>...</td>\n",
              "      <td>...</td>\n",
              "      <td>...</td>\n",
              "      <td>...</td>\n",
              "      <td>...</td>\n",
              "      <td>...</td>\n",
              "    </tr>\n",
              "    <tr>\n",
              "      <th>410743</th>\n",
              "      <td>821782</td>\n",
              "      <td>259.63</td>\n",
              "      <td>23.236974</td>\n",
              "      <td>22.797849</td>\n",
              "      <td>0.084025</td>\n",
              "      <td>NaN</td>\n",
              "      <td>NaN</td>\n",
              "    </tr>\n",
              "    <tr>\n",
              "      <th>410744</th>\n",
              "      <td>821783</td>\n",
              "      <td>259.74</td>\n",
              "      <td>23.218085</td>\n",
              "      <td>24.550378</td>\n",
              "      <td>0.693092</td>\n",
              "      <td>NaN</td>\n",
              "      <td>NaN</td>\n",
              "    </tr>\n",
              "    <tr>\n",
              "      <th>410745</th>\n",
              "      <td>821784</td>\n",
              "      <td>259.80</td>\n",
              "      <td>23.312958</td>\n",
              "      <td>24.685934</td>\n",
              "      <td>-0.808555</td>\n",
              "      <td>NaN</td>\n",
              "      <td>NaN</td>\n",
              "    </tr>\n",
              "    <tr>\n",
              "      <th>410746</th>\n",
              "      <td>821785</td>\n",
              "      <td>259.84</td>\n",
              "      <td>23.096407</td>\n",
              "      <td>23.175673</td>\n",
              "      <td>-0.314433</td>\n",
              "      <td>NaN</td>\n",
              "      <td>NaN</td>\n",
              "    </tr>\n",
              "    <tr>\n",
              "      <th>410747</th>\n",
              "      <td>821786</td>\n",
              "      <td>259.79</td>\n",
              "      <td>23.365862</td>\n",
              "      <td>24.184248</td>\n",
              "      <td>1.751378</td>\n",
              "      <td>NaN</td>\n",
              "      <td>NaN</td>\n",
              "    </tr>\n",
              "  </tbody>\n",
              "</table>\n",
              "<p>410748 rows × 7 columns</p>\n",
              "</div>"
            ],
            "text/plain": [
              "         index    k200  ...  Buy_Signal_price  Sell_Signal_price\n",
              "0       410997  223.28  ...               NaN                NaN\n",
              "1       410998  223.25  ...               NaN                NaN\n",
              "2       410999  223.33  ...               NaN                NaN\n",
              "3       411000  223.19  ...               NaN                NaN\n",
              "4       411001  223.16  ...               NaN                NaN\n",
              "...        ...     ...  ...               ...                ...\n",
              "410743  821782  259.63  ...               NaN                NaN\n",
              "410744  821783  259.74  ...               NaN                NaN\n",
              "410745  821784  259.80  ...               NaN                NaN\n",
              "410746  821785  259.84  ...               NaN                NaN\n",
              "410747  821786  259.79  ...               NaN                NaN\n",
              "\n",
              "[410748 rows x 7 columns]"
            ]
          },
          "metadata": {},
          "execution_count": 157
        }
      ]
    },
    {
      "cell_type": "code",
      "metadata": {
        "colab": {
          "base_uri": "https://localhost:8080/",
          "height": 577
        },
        "id": "UR4rbmT3KDBT",
        "outputId": "ac0eaffc-9823-451b-9a9d-379db5f4f092"
      },
      "source": [
        "fig, ax = plt.subplots(figsize=(14,8))\n",
        "ax.plot(test_data['k200'] , label = 'Kospi' ,linewidth=0.5, color='blue', alpha = 0.9)\n",
        "ax.scatter(test_data.index , test_data['Buy_Signal_price'] , label = 'Buy' , marker = '^', color = 'green',alpha =1 )\n",
        "ax.scatter(test_data.index , test_data['Sell_Signal_price'] , label = 'Sell' , marker = 'v', color = 'red',alpha =1 )\n",
        "ax.set_title('KOSPI Index' + \" Price History with buy and sell signals\",fontsize=10, backgroundcolor='blue', color='white')\n",
        "\n",
        "ax.set_ylabel('Close Price' , fontsize=18)\n",
        "legend = ax.legend()\n",
        "ax.grid()\n",
        "plt.tight_layout()\n",
        "plt.show()\n"
      ],
      "execution_count": null,
      "outputs": [
        {
          "output_type": "display_data",
          "data": {
            "image/png": "[encoded data removed]",
            "text/plain": [
              "<Figure size 1008x576 with 1 Axes>"
            ]
          },
          "metadata": {}
        }
      ]
    },
    {
      "cell_type": "code",
      "metadata": {
        "id": "NFKGjtTLUMqq"
      },
      "source": [
        ""
      ],
      "execution_count": null,
      "outputs": []
    }
  ]
}