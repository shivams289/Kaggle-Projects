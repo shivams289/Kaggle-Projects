{
  "nbformat": 4,
  "nbformat_minor": 0,
  "metadata": {
    "colab": {
      "name": "Quantile_regression.ipynb",
      "provenance": [],
      "collapsed_sections": [],
      "mount_file_id": "1BoPRoEG4WwAT0s1f19c-920iU-5QOpG1",
      "authorship_tag": "ABX9TyPMlhtQNCSSpVeUhW9ptRS1",
      "include_colab_link": true
    },
    "kernelspec": {
      "name": "python3",
      "display_name": "Python 3"
    },
    "language_info": {
      "name": "python"
    }
  },
  "cells": [
    {
      "cell_type": "markdown",
      "metadata": {
        "id": "view-in-github",
        "colab_type": "text"
      },
      "source": [
        "<a href=\"https://colab.research.google.com/github/shivams289/Projects/blob/main/Quantile_regression.ipynb\" target=\"_parent\"><img src=\"https://colab.research.google.com/assets/colab-badge.svg\" alt=\"Open In Colab\"/></a>"
      ]
    },
    {
      "cell_type": "code",
      "metadata": {
        "id": "-sBI3gC_tSRt"
      },
      "source": [
        "import pandas as pd\n",
        "import numpy as np\n",
        "import seaborn as sns\n",
        "import matplotlib.pyplot as plt\n",
        "import datetime as dt\n"
      ],
      "execution_count": 150,
      "outputs": []
    },
    {
      "cell_type": "code",
      "metadata": {
        "id": "oM1sTXXqq5uP"
      },
      "source": [
        "plt.rcParams[\"figure.figsize\"] = (12,8)"
      ],
      "execution_count": 151,
      "outputs": []
    },
    {
      "cell_type": "code",
      "metadata": {
        "id": "xpdEfQn0thFt"
      },
      "source": [
        "df = pd.read_csv('/content/drive/MyDrive/dataverse_files/quantile_raw.csv')"
      ],
      "execution_count": 152,
      "outputs": []
    },
    {
      "cell_type": "code",
      "metadata": {
        "colab": {
          "base_uri": "https://localhost:8080/"
        },
        "id": "7fZL-PwiNtd6",
        "outputId": "66156cfe-8747-43a3-9064-2067b17f2ad2"
      },
      "source": [
        "#The shape is different than used in research paper for visualising the summar statistics\n",
        "df.shape"
      ],
      "execution_count": 153,
      "outputs": [
        {
          "output_type": "execute_result",
          "data": {
            "text/plain": [
              "(821788, 21)"
            ]
          },
          "metadata": {},
          "execution_count": 153
        }
      ]
    },
    {
      "cell_type": "code",
      "metadata": {
        "colab": {
          "base_uri": "https://localhost:8080/"
        },
        "id": "nEKSIBO1tutX",
        "outputId": "ae818dc2-9154-43c7-cbd5-745845e382a3"
      },
      "source": [
        "df.dtypes"
      ],
      "execution_count": 154,
      "outputs": [
        {
          "output_type": "execute_result",
          "data": {
            "text/plain": [
              "t              object\n",
              "k200          float64\n",
              "k200volume    float64\n",
              "k200_wn       float64\n",
              "fprc          float64\n",
              "fvolume       float64\n",
              "f_wn          float64\n",
              "vkospi        float64\n",
              "iv1           float64\n",
              "iv2           float64\n",
              "iv2_Call      float64\n",
              "iv2_put       float64\n",
              "iv2_itm       float64\n",
              "iv2_atm       float64\n",
              "iv2_otm       float64\n",
              "iv3           float64\n",
              "iv3_Call      float64\n",
              "iv3_put       float64\n",
              "iv3_itm       float64\n",
              "iv3_atm       float64\n",
              "iv3_otm       float64\n",
              "dtype: object"
            ]
          },
          "metadata": {},
          "execution_count": 154
        }
      ]
    },
    {
      "cell_type": "code",
      "metadata": {
        "colab": {
          "base_uri": "https://localhost:8080/",
          "height": 394
        },
        "id": "BSWcB-Q9t9XP",
        "outputId": "4fa3aa7e-2eb7-4408-a6ba-3e3f19daa526"
      },
      "source": [
        "df.head()"
      ],
      "execution_count": 155,
      "outputs": [
        {
          "output_type": "execute_result",
          "data": {
            "text/html": [
              "<div>\n",
              "<style scoped>\n",
              "    .dataframe tbody tr th:only-of-type {\n",
              "        vertical-align: middle;\n",
              "    }\n",
              "\n",
              "    .dataframe tbody tr th {\n",
              "        vertical-align: top;\n",
              "    }\n",
              "\n",
              "    .dataframe thead th {\n",
              "        text-align: right;\n",
              "    }\n",
              "</style>\n",
              "<table border=\"1\" class=\"dataframe\">\n",
              "  <thead>\n",
              "    <tr style=\"text-align: right;\">\n",
              "      <th></th>\n",
              "      <th>t</th>\n",
              "      <th>k200</th>\n",
              "      <th>k200volume</th>\n",
              "      <th>k200_wn</th>\n",
              "      <th>fprc</th>\n",
              "      <th>fvolume</th>\n",
              "      <th>f_wn</th>\n",
              "      <th>vkospi</th>\n",
              "      <th>iv1</th>\n",
              "      <th>iv2</th>\n",
              "      <th>iv2_Call</th>\n",
              "      <th>iv2_put</th>\n",
              "      <th>iv2_itm</th>\n",
              "      <th>iv2_atm</th>\n",
              "      <th>iv2_otm</th>\n",
              "      <th>iv3</th>\n",
              "      <th>iv3_Call</th>\n",
              "      <th>iv3_put</th>\n",
              "      <th>iv3_itm</th>\n",
              "      <th>iv3_atm</th>\n",
              "      <th>iv3_otm</th>\n",
              "    </tr>\n",
              "  </thead>\n",
              "  <tbody>\n",
              "    <tr>\n",
              "      <th>0</th>\n",
              "      <td>2005-01-03 10:01</td>\n",
              "      <td>115.65</td>\n",
              "      <td>6971224.0</td>\n",
              "      <td>8.813920e+10</td>\n",
              "      <td>116.00</td>\n",
              "      <td>2658.0</td>\n",
              "      <td>1.540000e+11</td>\n",
              "      <td>NaN</td>\n",
              "      <td>20.879310</td>\n",
              "      <td>28.419010</td>\n",
              "      <td>20.265149</td>\n",
              "      <td>35.895286</td>\n",
              "      <td>19.621235</td>\n",
              "      <td>19.726609</td>\n",
              "      <td>29.636174</td>\n",
              "      <td>24.784842</td>\n",
              "      <td>19.833360</td>\n",
              "      <td>28.415928</td>\n",
              "      <td>21.272830</td>\n",
              "      <td>20.700473</td>\n",
              "      <td>26.536521</td>\n",
              "    </tr>\n",
              "    <tr>\n",
              "      <th>1</th>\n",
              "      <td>2005-01-03 10:02</td>\n",
              "      <td>115.54</td>\n",
              "      <td>915131.0</td>\n",
              "      <td>9.772912e+09</td>\n",
              "      <td>116.00</td>\n",
              "      <td>1486.0</td>\n",
              "      <td>8.618300e+10</td>\n",
              "      <td>NaN</td>\n",
              "      <td>21.112680</td>\n",
              "      <td>23.072276</td>\n",
              "      <td>21.082338</td>\n",
              "      <td>28.444816</td>\n",
              "      <td>21.072528</td>\n",
              "      <td>20.301699</td>\n",
              "      <td>23.799501</td>\n",
              "      <td>24.683726</td>\n",
              "      <td>20.555183</td>\n",
              "      <td>27.986560</td>\n",
              "      <td>21.365015</td>\n",
              "      <td>20.928948</td>\n",
              "      <td>26.464211</td>\n",
              "    </tr>\n",
              "    <tr>\n",
              "      <th>2</th>\n",
              "      <td>2005-01-03 10:03</td>\n",
              "      <td>115.42</td>\n",
              "      <td>771750.0</td>\n",
              "      <td>9.474952e+09</td>\n",
              "      <td>116.00</td>\n",
              "      <td>1214.0</td>\n",
              "      <td>7.039850e+10</td>\n",
              "      <td>NaN</td>\n",
              "      <td>21.336045</td>\n",
              "      <td>22.517448</td>\n",
              "      <td>21.587777</td>\n",
              "      <td>25.139568</td>\n",
              "      <td>22.057481</td>\n",
              "      <td>21.043458</td>\n",
              "      <td>22.964765</td>\n",
              "      <td>23.515884</td>\n",
              "      <td>21.098337</td>\n",
              "      <td>26.537817</td>\n",
              "      <td>21.543264</td>\n",
              "      <td>21.079843</td>\n",
              "      <td>25.045842</td>\n",
              "    </tr>\n",
              "    <tr>\n",
              "      <th>3</th>\n",
              "      <td>2005-01-03 10:04</td>\n",
              "      <td>115.55</td>\n",
              "      <td>991206.0</td>\n",
              "      <td>9.716512e+09</td>\n",
              "      <td>116.05</td>\n",
              "      <td>1876.0</td>\n",
              "      <td>1.090000e+11</td>\n",
              "      <td>NaN</td>\n",
              "      <td>20.977045</td>\n",
              "      <td>21.688313</td>\n",
              "      <td>20.468253</td>\n",
              "      <td>24.008019</td>\n",
              "      <td>20.709042</td>\n",
              "      <td>20.463135</td>\n",
              "      <td>22.800739</td>\n",
              "      <td>24.261755</td>\n",
              "      <td>20.575309</td>\n",
              "      <td>27.640997</td>\n",
              "      <td>21.749790</td>\n",
              "      <td>20.930062</td>\n",
              "      <td>25.341208</td>\n",
              "    </tr>\n",
              "    <tr>\n",
              "      <th>4</th>\n",
              "      <td>2005-01-03 10:05</td>\n",
              "      <td>115.60</td>\n",
              "      <td>1053666.0</td>\n",
              "      <td>1.272223e+10</td>\n",
              "      <td>115.80</td>\n",
              "      <td>2064.0</td>\n",
              "      <td>1.200000e+11</td>\n",
              "      <td>NaN</td>\n",
              "      <td>20.863665</td>\n",
              "      <td>22.366039</td>\n",
              "      <td>19.995091</td>\n",
              "      <td>26.196032</td>\n",
              "      <td>17.096130</td>\n",
              "      <td>19.634384</td>\n",
              "      <td>23.386053</td>\n",
              "      <td>24.308382</td>\n",
              "      <td>19.610685</td>\n",
              "      <td>27.538049</td>\n",
              "      <td>21.211115</td>\n",
              "      <td>21.128049</td>\n",
              "      <td>25.889319</td>\n",
              "    </tr>\n",
              "  </tbody>\n",
              "</table>\n",
              "</div>"
            ],
            "text/plain": [
              "                  t    k200  k200volume  ...    iv3_itm    iv3_atm    iv3_otm\n",
              "0  2005-01-03 10:01  115.65   6971224.0  ...  21.272830  20.700473  26.536521\n",
              "1  2005-01-03 10:02  115.54    915131.0  ...  21.365015  20.928948  26.464211\n",
              "2  2005-01-03 10:03  115.42    771750.0  ...  21.543264  21.079843  25.045842\n",
              "3  2005-01-03 10:04  115.55    991206.0  ...  21.749790  20.930062  25.341208\n",
              "4  2005-01-03 10:05  115.60   1053666.0  ...  21.211115  21.128049  25.889319\n",
              "\n",
              "[5 rows x 21 columns]"
            ]
          },
          "metadata": {},
          "execution_count": 155
        }
      ]
    },
    {
      "cell_type": "code",
      "metadata": {
        "id": "CJJvudneHvAD"
      },
      "source": [
        "df['Dates'] = pd.to_datetime(df['t']).dt.date\n",
        "df['Time'] = pd.to_datetime(df['t']).dt.time"
      ],
      "execution_count": 156,
      "outputs": []
    },
    {
      "cell_type": "code",
      "metadata": {
        "id": "-iuemefuI5VD"
      },
      "source": [
        "#set(df['Time'])"
      ],
      "execution_count": 157,
      "outputs": []
    },
    {
      "cell_type": "code",
      "metadata": {
        "colab": {
          "base_uri": "https://localhost:8080/"
        },
        "id": "QOF0RQINt9lY",
        "outputId": "ab33f561-6172-43ef-9220-f337869b11f6"
      },
      "source": [
        "#Lets check if we have null values\n",
        "df.isnull().sum()\n"
      ],
      "execution_count": 158,
      "outputs": [
        {
          "output_type": "execute_result",
          "data": {
            "text/plain": [
              "t                  0\n",
              "k200             289\n",
              "k200volume       289\n",
              "k200_wn          289\n",
              "fprc             289\n",
              "fvolume          289\n",
              "f_wn             289\n",
              "vkospi        391461\n",
              "iv1                0\n",
              "iv2                0\n",
              "iv2_Call           0\n",
              "iv2_put            0\n",
              "iv2_itm        78801\n",
              "iv2_atm           26\n",
              "iv2_otm            1\n",
              "iv3                0\n",
              "iv3_Call           0\n",
              "iv3_put            0\n",
              "iv3_itm        78801\n",
              "iv3_atm           26\n",
              "iv3_otm            1\n",
              "Dates              0\n",
              "Time               0\n",
              "dtype: int64"
            ]
          },
          "metadata": {},
          "execution_count": 158
        }
      ]
    },
    {
      "cell_type": "code",
      "metadata": {
        "id": "ltpWONcKRuX7"
      },
      "source": [
        "#df"
      ],
      "execution_count": 159,
      "outputs": []
    },
    {
      "cell_type": "code",
      "metadata": {
        "id": "FNuJLT_4DSIn"
      },
      "source": [
        "plt.style.use('fivethirtyeight')"
      ],
      "execution_count": 160,
      "outputs": []
    },
    {
      "cell_type": "code",
      "metadata": {
        "id": "qbZm1oeqt9xC"
      },
      "source": [
        "#Here we are extracting data which is needed, although paper says 'KOSPI Volume' but after checking summary statics it came out that the summary \n",
        "#statistics didn't match volumne rather matched when using weight avg. of price*vol\n",
        "\n",
        "dff = df[['Dates','Time', 'k200', 'k200_wn','f_wn', 'iv2' ]]"
      ],
      "execution_count": 161,
      "outputs": []
    },
    {
      "cell_type": "code",
      "metadata": {
        "id": "df-6HAC2dKES"
      },
      "source": [
        "t_T = [i/len(dff) for i in range(1,len(dff)+1)]"
      ],
      "execution_count": 162,
      "outputs": []
    },
    {
      "cell_type": "code",
      "metadata": {
        "colab": {
          "base_uri": "https://localhost:8080/"
        },
        "id": "mtUQ-nb1dXk3",
        "outputId": "183b657e-a905-498c-93b5-d22fff87bfc6"
      },
      "source": [
        "#We will need this to control time trend\n",
        "print(len(t_T))\n",
        "\n",
        "print(len(dff))"
      ],
      "execution_count": 165,
      "outputs": [
        {
          "output_type": "stream",
          "name": "stdout",
          "text": [
            "821788\n",
            "821788\n"
          ]
        }
      ]
    },
    {
      "cell_type": "code",
      "metadata": {
        "colab": {
          "base_uri": "https://localhost:8080/"
        },
        "id": "kxUP5CmIdka8",
        "outputId": "ed58b6d7-3156-45bc-e576-73b25805d248"
      },
      "source": [
        "dff['t_T'] = t_T"
      ],
      "execution_count": 166,
      "outputs": [
        {
          "output_type": "stream",
          "name": "stderr",
          "text": [
            "/usr/local/lib/python3.7/dist-packages/ipykernel_launcher.py:1: SettingWithCopyWarning: \n",
            "A value is trying to be set on a copy of a slice from a DataFrame.\n",
            "Try using .loc[row_indexer,col_indexer] = value instead\n",
            "\n",
            "See the caveats in the documentation: https://pandas.pydata.org/pandas-docs/stable/user_guide/indexing.html#returning-a-view-versus-a-copy\n",
            "  \"\"\"Entry point for launching an IPython kernel.\n"
          ]
        }
      ]
    },
    {
      "cell_type": "code",
      "metadata": {
        "colab": {
          "base_uri": "https://localhost:8080/"
        },
        "id": "sTtqnKonKkOW",
        "outputId": "d11da348-8c7b-4dd5-9634-11dcd70f1c9c"
      },
      "source": [
        "dff.isnull().sum()"
      ],
      "execution_count": 167,
      "outputs": [
        {
          "output_type": "execute_result",
          "data": {
            "text/plain": [
              "Dates        0\n",
              "Time         0\n",
              "k200       289\n",
              "k200_wn    289\n",
              "f_wn       289\n",
              "iv2          0\n",
              "t_T          0\n",
              "dtype: int64"
            ]
          },
          "metadata": {},
          "execution_count": 167
        }
      ]
    },
    {
      "cell_type": "code",
      "metadata": {
        "colab": {
          "base_uri": "https://localhost:8080/"
        },
        "id": "fuMbIKuYTIEs",
        "outputId": "ae16b76c-98a2-469c-a09c-803af3147366"
      },
      "source": [
        "#Drop the Nan's\n",
        "dff.dropna(axis=0, inplace=True)"
      ],
      "execution_count": 168,
      "outputs": [
        {
          "output_type": "stream",
          "name": "stderr",
          "text": [
            "/usr/local/lib/python3.7/dist-packages/ipykernel_launcher.py:2: SettingWithCopyWarning: \n",
            "A value is trying to be set on a copy of a slice from a DataFrame\n",
            "\n",
            "See the caveats in the documentation: https://pandas.pydata.org/pandas-docs/stable/user_guide/indexing.html#returning-a-view-versus-a-copy\n",
            "  \n"
          ]
        }
      ]
    },
    {
      "cell_type": "code",
      "metadata": {
        "colab": {
          "base_uri": "https://localhost:8080/"
        },
        "id": "KGZ3c-81lmFf",
        "outputId": "7fbbf4d0-fca5-4ed3-8501-eb973546138f"
      },
      "source": [
        "dff.isnull().sum()"
      ],
      "execution_count": 169,
      "outputs": [
        {
          "output_type": "execute_result",
          "data": {
            "text/plain": [
              "Dates      0\n",
              "Time       0\n",
              "k200       0\n",
              "k200_wn    0\n",
              "f_wn       0\n",
              "iv2        0\n",
              "t_T        0\n",
              "dtype: int64"
            ]
          },
          "metadata": {},
          "execution_count": 169
        }
      ]
    },
    {
      "cell_type": "code",
      "metadata": {
        "colab": {
          "base_uri": "https://localhost:8080/",
          "height": 419
        },
        "id": "BdhiMRSsd21R",
        "outputId": "658c8dbb-3f3f-4476-a172-5cbc7304f7af"
      },
      "source": [
        "dff"
      ],
      "execution_count": 170,
      "outputs": [
        {
          "output_type": "execute_result",
          "data": {
            "text/html": [
              "<div>\n",
              "<style scoped>\n",
              "    .dataframe tbody tr th:only-of-type {\n",
              "        vertical-align: middle;\n",
              "    }\n",
              "\n",
              "    .dataframe tbody tr th {\n",
              "        vertical-align: top;\n",
              "    }\n",
              "\n",
              "    .dataframe thead th {\n",
              "        text-align: right;\n",
              "    }\n",
              "</style>\n",
              "<table border=\"1\" class=\"dataframe\">\n",
              "  <thead>\n",
              "    <tr style=\"text-align: right;\">\n",
              "      <th></th>\n",
              "      <th>Dates</th>\n",
              "      <th>Time</th>\n",
              "      <th>k200</th>\n",
              "      <th>k200_wn</th>\n",
              "      <th>f_wn</th>\n",
              "      <th>iv2</th>\n",
              "      <th>t_T</th>\n",
              "    </tr>\n",
              "  </thead>\n",
              "  <tbody>\n",
              "    <tr>\n",
              "      <th>0</th>\n",
              "      <td>2005-01-03</td>\n",
              "      <td>10:01:00</td>\n",
              "      <td>115.65</td>\n",
              "      <td>8.813920e+10</td>\n",
              "      <td>1.540000e+11</td>\n",
              "      <td>28.419010</td>\n",
              "      <td>0.000001</td>\n",
              "    </tr>\n",
              "    <tr>\n",
              "      <th>1</th>\n",
              "      <td>2005-01-03</td>\n",
              "      <td>10:02:00</td>\n",
              "      <td>115.54</td>\n",
              "      <td>9.772912e+09</td>\n",
              "      <td>8.618300e+10</td>\n",
              "      <td>23.072276</td>\n",
              "      <td>0.000002</td>\n",
              "    </tr>\n",
              "    <tr>\n",
              "      <th>2</th>\n",
              "      <td>2005-01-03</td>\n",
              "      <td>10:03:00</td>\n",
              "      <td>115.42</td>\n",
              "      <td>9.474952e+09</td>\n",
              "      <td>7.039850e+10</td>\n",
              "      <td>22.517448</td>\n",
              "      <td>0.000004</td>\n",
              "    </tr>\n",
              "    <tr>\n",
              "      <th>3</th>\n",
              "      <td>2005-01-03</td>\n",
              "      <td>10:04:00</td>\n",
              "      <td>115.55</td>\n",
              "      <td>9.716512e+09</td>\n",
              "      <td>1.090000e+11</td>\n",
              "      <td>21.688313</td>\n",
              "      <td>0.000005</td>\n",
              "    </tr>\n",
              "    <tr>\n",
              "      <th>4</th>\n",
              "      <td>2005-01-03</td>\n",
              "      <td>10:05:00</td>\n",
              "      <td>115.60</td>\n",
              "      <td>1.272223e+10</td>\n",
              "      <td>1.200000e+11</td>\n",
              "      <td>22.366039</td>\n",
              "      <td>0.000006</td>\n",
              "    </tr>\n",
              "    <tr>\n",
              "      <th>...</th>\n",
              "      <td>...</td>\n",
              "      <td>...</td>\n",
              "      <td>...</td>\n",
              "      <td>...</td>\n",
              "      <td>...</td>\n",
              "      <td>...</td>\n",
              "      <td>...</td>\n",
              "    </tr>\n",
              "    <tr>\n",
              "      <th>821783</th>\n",
              "      <td>2014-06-30</td>\n",
              "      <td>14:45:00</td>\n",
              "      <td>259.74</td>\n",
              "      <td>1.211954e+10</td>\n",
              "      <td>4.592970e+10</td>\n",
              "      <td>12.104030</td>\n",
              "      <td>0.999995</td>\n",
              "    </tr>\n",
              "    <tr>\n",
              "      <th>821784</th>\n",
              "      <td>2014-06-30</td>\n",
              "      <td>14:46:00</td>\n",
              "      <td>259.80</td>\n",
              "      <td>1.332567e+10</td>\n",
              "      <td>5.259748e+10</td>\n",
              "      <td>12.797122</td>\n",
              "      <td>0.999996</td>\n",
              "    </tr>\n",
              "    <tr>\n",
              "      <th>821785</th>\n",
              "      <td>2014-06-30</td>\n",
              "      <td>14:47:00</td>\n",
              "      <td>259.84</td>\n",
              "      <td>1.073104e+10</td>\n",
              "      <td>1.161628e+10</td>\n",
              "      <td>11.988567</td>\n",
              "      <td>0.999998</td>\n",
              "    </tr>\n",
              "    <tr>\n",
              "      <th>821786</th>\n",
              "      <td>2014-06-30</td>\n",
              "      <td>14:48:00</td>\n",
              "      <td>259.79</td>\n",
              "      <td>1.404962e+10</td>\n",
              "      <td>3.184825e+10</td>\n",
              "      <td>11.674133</td>\n",
              "      <td>0.999999</td>\n",
              "    </tr>\n",
              "    <tr>\n",
              "      <th>821787</th>\n",
              "      <td>2014-06-30</td>\n",
              "      <td>14:49:00</td>\n",
              "      <td>259.84</td>\n",
              "      <td>1.153990e+10</td>\n",
              "      <td>7.310375e+09</td>\n",
              "      <td>13.425511</td>\n",
              "      <td>1.000000</td>\n",
              "    </tr>\n",
              "  </tbody>\n",
              "</table>\n",
              "<p>821499 rows × 7 columns</p>\n",
              "</div>"
            ],
            "text/plain": [
              "             Dates      Time    k200  ...          f_wn        iv2       t_T\n",
              "0       2005-01-03  10:01:00  115.65  ...  1.540000e+11  28.419010  0.000001\n",
              "1       2005-01-03  10:02:00  115.54  ...  8.618300e+10  23.072276  0.000002\n",
              "2       2005-01-03  10:03:00  115.42  ...  7.039850e+10  22.517448  0.000004\n",
              "3       2005-01-03  10:04:00  115.55  ...  1.090000e+11  21.688313  0.000005\n",
              "4       2005-01-03  10:05:00  115.60  ...  1.200000e+11  22.366039  0.000006\n",
              "...            ...       ...     ...  ...           ...        ...       ...\n",
              "821783  2014-06-30  14:45:00  259.74  ...  4.592970e+10  12.104030  0.999995\n",
              "821784  2014-06-30  14:46:00  259.80  ...  5.259748e+10  12.797122  0.999996\n",
              "821785  2014-06-30  14:47:00  259.84  ...  1.161628e+10  11.988567  0.999998\n",
              "821786  2014-06-30  14:48:00  259.79  ...  3.184825e+10  11.674133  0.999999\n",
              "821787  2014-06-30  14:49:00  259.84  ...  7.310375e+09  13.425511  1.000000\n",
              "\n",
              "[821499 rows x 7 columns]"
            ]
          },
          "metadata": {},
          "execution_count": 170
        }
      ]
    },
    {
      "cell_type": "code",
      "metadata": {
        "id": "mO8Rnu2CLmeo",
        "colab": {
          "base_uri": "https://localhost:8080/",
          "height": 546
        },
        "outputId": "64bf3b42-2b3e-4115-e3a0-0cfa8f3ed307"
      },
      "source": [
        "plt.plot(dff['Dates'], dff['f_wn'])"
      ],
      "execution_count": 171,
      "outputs": [
        {
          "output_type": "execute_result",
          "data": {
            "text/plain": [
              "[<matplotlib.lines.Line2D at 0x7fc9ba5997d0>]"
            ]
          },
          "metadata": {},
          "execution_count": 171
        },
        {
          "output_type": "display_data",
          "data": {
            "image/png": "[encoded data removed]",
            "text/plain": [
              "<Figure size 864x576 with 1 Axes>"
            ]
          },
          "metadata": {}
        }
      ]
    },
    {
      "cell_type": "code",
      "metadata": {
        "colab": {
          "base_uri": "https://localhost:8080/"
        },
        "id": "v5jUaoAtMRr6",
        "outputId": "1769a04d-2468-4123-a318-1f35859b00e2"
      },
      "source": [
        "#Creating the independent variables as described in the paper\n",
        "\n",
        "dff['r'] = (dff['k200'].shift(-1) - dff['k200'])/dff['k200'] *100 #Percentage return\n",
        "\n",
        "dff['lsv'] = np.log(dff['k200_wn']) #natural log of ..\n",
        "dff['lfv'] = np.log(dff['f_wn'])    #natural log of...\n",
        "\n",
        "dff['div'] = (dff['iv2'].shift(-1) - dff['iv2']) #1st difference of implied volatality"
      ],
      "execution_count": 172,
      "outputs": [
        {
          "output_type": "stream",
          "name": "stderr",
          "text": [
            "/usr/local/lib/python3.7/dist-packages/ipykernel_launcher.py:3: SettingWithCopyWarning: \n",
            "A value is trying to be set on a copy of a slice from a DataFrame.\n",
            "Try using .loc[row_indexer,col_indexer] = value instead\n",
            "\n",
            "See the caveats in the documentation: https://pandas.pydata.org/pandas-docs/stable/user_guide/indexing.html#returning-a-view-versus-a-copy\n",
            "  This is separate from the ipykernel package so we can avoid doing imports until\n",
            "/usr/local/lib/python3.7/dist-packages/pandas/core/series.py:726: RuntimeWarning: divide by zero encountered in log\n",
            "  result = getattr(ufunc, method)(*inputs, **kwargs)\n",
            "/usr/local/lib/python3.7/dist-packages/ipykernel_launcher.py:5: SettingWithCopyWarning: \n",
            "A value is trying to be set on a copy of a slice from a DataFrame.\n",
            "Try using .loc[row_indexer,col_indexer] = value instead\n",
            "\n",
            "See the caveats in the documentation: https://pandas.pydata.org/pandas-docs/stable/user_guide/indexing.html#returning-a-view-versus-a-copy\n",
            "  \"\"\"\n",
            "/usr/local/lib/python3.7/dist-packages/ipykernel_launcher.py:6: SettingWithCopyWarning: \n",
            "A value is trying to be set on a copy of a slice from a DataFrame.\n",
            "Try using .loc[row_indexer,col_indexer] = value instead\n",
            "\n",
            "See the caveats in the documentation: https://pandas.pydata.org/pandas-docs/stable/user_guide/indexing.html#returning-a-view-versus-a-copy\n",
            "  \n",
            "/usr/local/lib/python3.7/dist-packages/ipykernel_launcher.py:8: SettingWithCopyWarning: \n",
            "A value is trying to be set on a copy of a slice from a DataFrame.\n",
            "Try using .loc[row_indexer,col_indexer] = value instead\n",
            "\n",
            "See the caveats in the documentation: https://pandas.pydata.org/pandas-docs/stable/user_guide/indexing.html#returning-a-view-versus-a-copy\n",
            "  \n"
          ]
        }
      ]
    },
    {
      "cell_type": "code",
      "metadata": {
        "colab": {
          "base_uri": "https://localhost:8080/"
        },
        "id": "dPulUvXKRmnh",
        "outputId": "105cd08f-a061-400f-9126-128c4beb05f3"
      },
      "source": [
        "#Make infinite values 0 as volumes at those points were 0\n",
        "\n",
        "dff.replace([np.inf, -np.inf], np.nan, inplace=True)"
      ],
      "execution_count": 173,
      "outputs": [
        {
          "output_type": "stream",
          "name": "stderr",
          "text": [
            "/usr/local/lib/python3.7/dist-packages/pandas/core/frame.py:4389: SettingWithCopyWarning: \n",
            "A value is trying to be set on a copy of a slice from a DataFrame\n",
            "\n",
            "See the caveats in the documentation: https://pandas.pydata.org/pandas-docs/stable/user_guide/indexing.html#returning-a-view-versus-a-copy\n",
            "  method=method,\n"
          ]
        }
      ]
    },
    {
      "cell_type": "code",
      "metadata": {
        "colab": {
          "base_uri": "https://localhost:8080/",
          "height": 419
        },
        "id": "4dHN8v73m-9z",
        "outputId": "916daa99-b1ab-4dde-8f0d-20f8e599782e"
      },
      "source": [
        "dff_check = dff.dropna(axis = 0)\n",
        "dff_check"
      ],
      "execution_count": 174,
      "outputs": [
        {
          "output_type": "execute_result",
          "data": {
            "text/html": [
              "<div>\n",
              "<style scoped>\n",
              "    .dataframe tbody tr th:only-of-type {\n",
              "        vertical-align: middle;\n",
              "    }\n",
              "\n",
              "    .dataframe tbody tr th {\n",
              "        vertical-align: top;\n",
              "    }\n",
              "\n",
              "    .dataframe thead th {\n",
              "        text-align: right;\n",
              "    }\n",
              "</style>\n",
              "<table border=\"1\" class=\"dataframe\">\n",
              "  <thead>\n",
              "    <tr style=\"text-align: right;\">\n",
              "      <th></th>\n",
              "      <th>Dates</th>\n",
              "      <th>Time</th>\n",
              "      <th>k200</th>\n",
              "      <th>k200_wn</th>\n",
              "      <th>f_wn</th>\n",
              "      <th>iv2</th>\n",
              "      <th>t_T</th>\n",
              "      <th>r</th>\n",
              "      <th>lsv</th>\n",
              "      <th>lfv</th>\n",
              "      <th>div</th>\n",
              "    </tr>\n",
              "  </thead>\n",
              "  <tbody>\n",
              "    <tr>\n",
              "      <th>0</th>\n",
              "      <td>2005-01-03</td>\n",
              "      <td>10:01:00</td>\n",
              "      <td>115.65</td>\n",
              "      <td>8.813920e+10</td>\n",
              "      <td>1.540000e+11</td>\n",
              "      <td>28.419010</td>\n",
              "      <td>0.000001</td>\n",
              "      <td>-0.095115</td>\n",
              "      <td>25.202183</td>\n",
              "      <td>25.760218</td>\n",
              "      <td>-5.346735</td>\n",
              "    </tr>\n",
              "    <tr>\n",
              "      <th>1</th>\n",
              "      <td>2005-01-03</td>\n",
              "      <td>10:02:00</td>\n",
              "      <td>115.54</td>\n",
              "      <td>9.772912e+09</td>\n",
              "      <td>8.618300e+10</td>\n",
              "      <td>23.072276</td>\n",
              "      <td>0.000002</td>\n",
              "      <td>-0.103860</td>\n",
              "      <td>23.002880</td>\n",
              "      <td>25.179739</td>\n",
              "      <td>-0.554828</td>\n",
              "    </tr>\n",
              "    <tr>\n",
              "      <th>2</th>\n",
              "      <td>2005-01-03</td>\n",
              "      <td>10:03:00</td>\n",
              "      <td>115.42</td>\n",
              "      <td>9.474952e+09</td>\n",
              "      <td>7.039850e+10</td>\n",
              "      <td>22.517448</td>\n",
              "      <td>0.000004</td>\n",
              "      <td>0.112632</td>\n",
              "      <td>22.971918</td>\n",
              "      <td>24.977438</td>\n",
              "      <td>-0.829135</td>\n",
              "    </tr>\n",
              "    <tr>\n",
              "      <th>3</th>\n",
              "      <td>2005-01-03</td>\n",
              "      <td>10:04:00</td>\n",
              "      <td>115.55</td>\n",
              "      <td>9.716512e+09</td>\n",
              "      <td>1.090000e+11</td>\n",
              "      <td>21.688313</td>\n",
              "      <td>0.000005</td>\n",
              "      <td>0.043271</td>\n",
              "      <td>22.997093</td>\n",
              "      <td>25.414614</td>\n",
              "      <td>0.677726</td>\n",
              "    </tr>\n",
              "    <tr>\n",
              "      <th>4</th>\n",
              "      <td>2005-01-03</td>\n",
              "      <td>10:05:00</td>\n",
              "      <td>115.60</td>\n",
              "      <td>1.272223e+10</td>\n",
              "      <td>1.200000e+11</td>\n",
              "      <td>22.366039</td>\n",
              "      <td>0.000006</td>\n",
              "      <td>-0.242215</td>\n",
              "      <td>23.266617</td>\n",
              "      <td>25.510758</td>\n",
              "      <td>0.328027</td>\n",
              "    </tr>\n",
              "    <tr>\n",
              "      <th>...</th>\n",
              "      <td>...</td>\n",
              "      <td>...</td>\n",
              "      <td>...</td>\n",
              "      <td>...</td>\n",
              "      <td>...</td>\n",
              "      <td>...</td>\n",
              "      <td>...</td>\n",
              "      <td>...</td>\n",
              "      <td>...</td>\n",
              "      <td>...</td>\n",
              "      <td>...</td>\n",
              "    </tr>\n",
              "    <tr>\n",
              "      <th>821782</th>\n",
              "      <td>2014-06-30</td>\n",
              "      <td>14:44:00</td>\n",
              "      <td>259.63</td>\n",
              "      <td>1.235064e+10</td>\n",
              "      <td>7.961225e+09</td>\n",
              "      <td>12.020005</td>\n",
              "      <td>0.999994</td>\n",
              "      <td>0.042368</td>\n",
              "      <td>23.236974</td>\n",
              "      <td>22.797849</td>\n",
              "      <td>0.084025</td>\n",
              "    </tr>\n",
              "    <tr>\n",
              "      <th>821783</th>\n",
              "      <td>2014-06-30</td>\n",
              "      <td>14:45:00</td>\n",
              "      <td>259.74</td>\n",
              "      <td>1.211954e+10</td>\n",
              "      <td>4.592970e+10</td>\n",
              "      <td>12.104030</td>\n",
              "      <td>0.999995</td>\n",
              "      <td>0.023100</td>\n",
              "      <td>23.218085</td>\n",
              "      <td>24.550378</td>\n",
              "      <td>0.693092</td>\n",
              "    </tr>\n",
              "    <tr>\n",
              "      <th>821784</th>\n",
              "      <td>2014-06-30</td>\n",
              "      <td>14:46:00</td>\n",
              "      <td>259.80</td>\n",
              "      <td>1.332567e+10</td>\n",
              "      <td>5.259748e+10</td>\n",
              "      <td>12.797122</td>\n",
              "      <td>0.999996</td>\n",
              "      <td>0.015396</td>\n",
              "      <td>23.312958</td>\n",
              "      <td>24.685934</td>\n",
              "      <td>-0.808555</td>\n",
              "    </tr>\n",
              "    <tr>\n",
              "      <th>821785</th>\n",
              "      <td>2014-06-30</td>\n",
              "      <td>14:47:00</td>\n",
              "      <td>259.84</td>\n",
              "      <td>1.073104e+10</td>\n",
              "      <td>1.161628e+10</td>\n",
              "      <td>11.988567</td>\n",
              "      <td>0.999998</td>\n",
              "      <td>-0.019243</td>\n",
              "      <td>23.096407</td>\n",
              "      <td>23.175673</td>\n",
              "      <td>-0.314433</td>\n",
              "    </tr>\n",
              "    <tr>\n",
              "      <th>821786</th>\n",
              "      <td>2014-06-30</td>\n",
              "      <td>14:48:00</td>\n",
              "      <td>259.79</td>\n",
              "      <td>1.404962e+10</td>\n",
              "      <td>3.184825e+10</td>\n",
              "      <td>11.674133</td>\n",
              "      <td>0.999999</td>\n",
              "      <td>0.019246</td>\n",
              "      <td>23.365862</td>\n",
              "      <td>24.184248</td>\n",
              "      <td>1.751378</td>\n",
              "    </tr>\n",
              "  </tbody>\n",
              "</table>\n",
              "<p>821496 rows × 11 columns</p>\n",
              "</div>"
            ],
            "text/plain": [
              "             Dates      Time    k200  ...        lsv        lfv       div\n",
              "0       2005-01-03  10:01:00  115.65  ...  25.202183  25.760218 -5.346735\n",
              "1       2005-01-03  10:02:00  115.54  ...  23.002880  25.179739 -0.554828\n",
              "2       2005-01-03  10:03:00  115.42  ...  22.971918  24.977438 -0.829135\n",
              "3       2005-01-03  10:04:00  115.55  ...  22.997093  25.414614  0.677726\n",
              "4       2005-01-03  10:05:00  115.60  ...  23.266617  25.510758  0.328027\n",
              "...            ...       ...     ...  ...        ...        ...       ...\n",
              "821782  2014-06-30  14:44:00  259.63  ...  23.236974  22.797849  0.084025\n",
              "821783  2014-06-30  14:45:00  259.74  ...  23.218085  24.550378  0.693092\n",
              "821784  2014-06-30  14:46:00  259.80  ...  23.312958  24.685934 -0.808555\n",
              "821785  2014-06-30  14:47:00  259.84  ...  23.096407  23.175673 -0.314433\n",
              "821786  2014-06-30  14:48:00  259.79  ...  23.365862  24.184248  1.751378\n",
              "\n",
              "[821496 rows x 11 columns]"
            ]
          },
          "metadata": {},
          "execution_count": 174
        }
      ]
    },
    {
      "cell_type": "code",
      "metadata": {
        "id": "VUIfDplPtWvr"
      },
      "source": [
        "\n",
        "df_final = dff_check[['r', 'lsv', 'lfv', 'div', 't_T']]"
      ],
      "execution_count": 175,
      "outputs": []
    },
    {
      "cell_type": "code",
      "metadata": {
        "colab": {
          "base_uri": "https://localhost:8080/",
          "height": 421
        },
        "id": "gVKbosuEvIwC",
        "outputId": "4cae30e9-dcb0-460a-a7b6-d17f3a0e6c22"
      },
      "source": [
        "#Summary Statistics\n",
        "\n",
        "df_final.describe(percentiles=[0.01, 0.05, 0.25, 0.75, 0.95, 0.99])"
      ],
      "execution_count": 176,
      "outputs": [
        {
          "output_type": "execute_result",
          "data": {
            "text/html": [
              "<div>\n",
              "<style scoped>\n",
              "    .dataframe tbody tr th:only-of-type {\n",
              "        vertical-align: middle;\n",
              "    }\n",
              "\n",
              "    .dataframe tbody tr th {\n",
              "        vertical-align: top;\n",
              "    }\n",
              "\n",
              "    .dataframe thead th {\n",
              "        text-align: right;\n",
              "    }\n",
              "</style>\n",
              "<table border=\"1\" class=\"dataframe\">\n",
              "  <thead>\n",
              "    <tr style=\"text-align: right;\">\n",
              "      <th></th>\n",
              "      <th>r</th>\n",
              "      <th>lsv</th>\n",
              "      <th>lfv</th>\n",
              "      <th>div</th>\n",
              "      <th>t_T</th>\n",
              "    </tr>\n",
              "  </thead>\n",
              "  <tbody>\n",
              "    <tr>\n",
              "      <th>count</th>\n",
              "      <td>821496.000000</td>\n",
              "      <td>821496.000000</td>\n",
              "      <td>821496.000000</td>\n",
              "      <td>821496.000000</td>\n",
              "      <td>821496.000000</td>\n",
              "    </tr>\n",
              "    <tr>\n",
              "      <th>mean</th>\n",
              "      <td>0.000127</td>\n",
              "      <td>22.837721</td>\n",
              "      <td>24.444221</td>\n",
              "      <td>-0.000026</td>\n",
              "      <td>0.500060</td>\n",
              "    </tr>\n",
              "    <tr>\n",
              "      <th>std</th>\n",
              "      <td>0.075222</td>\n",
              "      <td>0.599241</td>\n",
              "      <td>1.150049</td>\n",
              "      <td>1.633906</td>\n",
              "      <td>0.288655</td>\n",
              "    </tr>\n",
              "    <tr>\n",
              "      <th>min</th>\n",
              "      <td>-6.522082</td>\n",
              "      <td>19.940613</td>\n",
              "      <td>17.854607</td>\n",
              "      <td>-34.178617</td>\n",
              "      <td>0.000001</td>\n",
              "    </tr>\n",
              "    <tr>\n",
              "      <th>1%</th>\n",
              "      <td>-0.159263</td>\n",
              "      <td>21.424481</td>\n",
              "      <td>20.760871</td>\n",
              "      <td>-4.684548</td>\n",
              "      <td>0.010007</td>\n",
              "    </tr>\n",
              "    <tr>\n",
              "      <th>5%</th>\n",
              "      <td>-0.074765</td>\n",
              "      <td>21.886018</td>\n",
              "      <td>22.293440</td>\n",
              "      <td>-2.372332</td>\n",
              "      <td>0.050054</td>\n",
              "    </tr>\n",
              "    <tr>\n",
              "      <th>25%</th>\n",
              "      <td>-0.024831</td>\n",
              "      <td>22.436200</td>\n",
              "      <td>23.870779</td>\n",
              "      <td>-0.651497</td>\n",
              "      <td>0.250091</td>\n",
              "    </tr>\n",
              "    <tr>\n",
              "      <th>50%</th>\n",
              "      <td>0.000000</td>\n",
              "      <td>22.825376</td>\n",
              "      <td>24.587061</td>\n",
              "      <td>-0.006164</td>\n",
              "      <td>0.500126</td>\n",
              "    </tr>\n",
              "    <tr>\n",
              "      <th>75%</th>\n",
              "      <td>0.024709</td>\n",
              "      <td>23.234009</td>\n",
              "      <td>25.203068</td>\n",
              "      <td>0.643788</td>\n",
              "      <td>0.750038</td>\n",
              "    </tr>\n",
              "    <tr>\n",
              "      <th>95%</th>\n",
              "      <td>0.075755</td>\n",
              "      <td>23.819710</td>\n",
              "      <td>26.031534</td>\n",
              "      <td>2.383261</td>\n",
              "      <td>0.949980</td>\n",
              "    </tr>\n",
              "    <tr>\n",
              "      <th>99%</th>\n",
              "      <td>0.158864</td>\n",
              "      <td>24.241456</td>\n",
              "      <td>26.598197</td>\n",
              "      <td>4.753990</td>\n",
              "      <td>0.989991</td>\n",
              "    </tr>\n",
              "    <tr>\n",
              "      <th>max</th>\n",
              "      <td>6.500617</td>\n",
              "      <td>27.052987</td>\n",
              "      <td>28.571028</td>\n",
              "      <td>36.488550</td>\n",
              "      <td>0.999999</td>\n",
              "    </tr>\n",
              "  </tbody>\n",
              "</table>\n",
              "</div>"
            ],
            "text/plain": [
              "                   r            lsv  ...            div            t_T\n",
              "count  821496.000000  821496.000000  ...  821496.000000  821496.000000\n",
              "mean        0.000127      22.837721  ...      -0.000026       0.500060\n",
              "std         0.075222       0.599241  ...       1.633906       0.288655\n",
              "min        -6.522082      19.940613  ...     -34.178617       0.000001\n",
              "1%         -0.159263      21.424481  ...      -4.684548       0.010007\n",
              "5%         -0.074765      21.886018  ...      -2.372332       0.050054\n",
              "25%        -0.024831      22.436200  ...      -0.651497       0.250091\n",
              "50%         0.000000      22.825376  ...      -0.006164       0.500126\n",
              "75%         0.024709      23.234009  ...       0.643788       0.750038\n",
              "95%         0.075755      23.819710  ...       2.383261       0.949980\n",
              "99%         0.158864      24.241456  ...       4.753990       0.989991\n",
              "max         6.500617      27.052987  ...      36.488550       0.999999\n",
              "\n",
              "[12 rows x 5 columns]"
            ]
          },
          "metadata": {},
          "execution_count": 176
        }
      ]
    },
    {
      "cell_type": "code",
      "metadata": {
        "id": "lxRaH0yfnazV",
        "colab": {
          "base_uri": "https://localhost:8080/",
          "height": 609
        },
        "outputId": "01bf1d55-f596-40ff-9a7b-de66d6973f21"
      },
      "source": [
        "#Distribution of lsv\n",
        "sns.distplot(a = df_final['lsv'])"
      ],
      "execution_count": 177,
      "outputs": [
        {
          "output_type": "stream",
          "name": "stderr",
          "text": [
            "/usr/local/lib/python3.7/dist-packages/seaborn/distributions.py:2619: FutureWarning: `distplot` is a deprecated function and will be removed in a future version. Please adapt your code to use either `displot` (a figure-level function with similar flexibility) or `histplot` (an axes-level function for histograms).\n",
            "  warnings.warn(msg, FutureWarning)\n"
          ]
        },
        {
          "output_type": "execute_result",
          "data": {
            "text/plain": [
              "<matplotlib.axes._subplots.AxesSubplot at 0x7fc9bbf61650>"
            ]
          },
          "metadata": {},
          "execution_count": 177
        },
        {
          "output_type": "display_data",
          "data": {
            "image/png": "[encoded data removed]",
            "text/plain": [
              "<Figure size 864x576 with 1 Axes>"
            ]
          },
          "metadata": {}
        }
      ]
    },
    {
      "cell_type": "code",
      "metadata": {
        "id": "TUkNV5emEgCF",
        "colab": {
          "base_uri": "https://localhost:8080/",
          "height": 608
        },
        "outputId": "b73a4353-5edf-4822-c408-243bcc8fa134"
      },
      "source": [
        "#Distribution suggesting negative skewness even after using log transformation\n",
        "sns.distplot(a= df_final['lfv'])"
      ],
      "execution_count": 178,
      "outputs": [
        {
          "output_type": "stream",
          "name": "stderr",
          "text": [
            "/usr/local/lib/python3.7/dist-packages/seaborn/distributions.py:2619: FutureWarning: `distplot` is a deprecated function and will be removed in a future version. Please adapt your code to use either `displot` (a figure-level function with similar flexibility) or `histplot` (an axes-level function for histograms).\n",
            "  warnings.warn(msg, FutureWarning)\n"
          ]
        },
        {
          "output_type": "execute_result",
          "data": {
            "text/plain": [
              "<matplotlib.axes._subplots.AxesSubplot at 0x7fc9b9d65750>"
            ]
          },
          "metadata": {},
          "execution_count": 178
        },
        {
          "output_type": "display_data",
          "data": {
            "image/png": "[encoded data removed]",
            "text/plain": [
              "<Figure size 864x576 with 1 Axes>"
            ]
          },
          "metadata": {}
        }
      ]
    },
    {
      "cell_type": "code",
      "metadata": {
        "colab": {
          "base_uri": "https://localhost:8080/",
          "height": 532
        },
        "id": "T_dgG0zwEgL1",
        "outputId": "796f2a0a-9c8c-41cc-c548-b7e03dc77f44"
      },
      "source": [
        "plt.scatter(x= dff_check['Dates']    ,y= df_final['r'])\n"
      ],
      "execution_count": 179,
      "outputs": [
        {
          "output_type": "execute_result",
          "data": {
            "text/plain": [
              "<matplotlib.collections.PathCollection at 0x7fc9b9bafed0>"
            ]
          },
          "metadata": {},
          "execution_count": 179
        },
        {
          "output_type": "display_data",
          "data": {
            "image/png": "[encoded data removed]",
            "text/plain": [
              "<Figure size 864x576 with 1 Axes>"
            ]
          },
          "metadata": {}
        }
      ]
    },
    {
      "cell_type": "code",
      "metadata": {
        "id": "7xhUhtp-Jr7S"
      },
      "source": [
        "# Timings of peak morning and afternoon sessions\n",
        "from datetime import time\n",
        "start1 = time(9,0) \n",
        "end1 = time(10,0) \n",
        "start2 = time(13,50) \n",
        "end2 = time(14,50)"
      ],
      "execution_count": 180,
      "outputs": []
    },
    {
      "cell_type": "code",
      "metadata": {
        "id": "q8P2wGNYKBJv"
      },
      "source": [
        "#Dummy var to induce effect of morning and afternoon peak timing\n",
        "\n",
        "DOP_t = dff_check['Time'].apply(lambda x:1 if x>=start1 and x<end1 else 0) \n",
        "DCL_t = dff_check['Time'].apply(lambda x:1 if x>=start2 and x<end2 else 0)\n"
      ],
      "execution_count": 181,
      "outputs": []
    },
    {
      "cell_type": "code",
      "metadata": {
        "colab": {
          "base_uri": "https://localhost:8080/"
        },
        "id": "iy5DpfN_i0cd",
        "outputId": "f86bff2e-7dfa-4e6c-b58e-be5dba2b9bb6"
      },
      "source": [
        "print(len(DOP_t))\n",
        "print(len(DCL_t))"
      ],
      "execution_count": 182,
      "outputs": [
        {
          "output_type": "stream",
          "name": "stdout",
          "text": [
            "821496\n",
            "821496\n"
          ]
        }
      ]
    },
    {
      "cell_type": "code",
      "metadata": {
        "colab": {
          "base_uri": "https://localhost:8080/"
        },
        "id": "Sp7u2uB3i_-c",
        "outputId": "0e6cb06e-827d-4b36-b1f2-16da2f02cacf"
      },
      "source": [
        "#Adding dummy to our dataframe\n",
        "\n",
        "df_final['DOP_t'] = DOP_t\n",
        "df_final['DCL_t'] = DCL_t"
      ],
      "execution_count": 183,
      "outputs": [
        {
          "output_type": "stream",
          "name": "stderr",
          "text": [
            "/usr/local/lib/python3.7/dist-packages/ipykernel_launcher.py:3: SettingWithCopyWarning: \n",
            "A value is trying to be set on a copy of a slice from a DataFrame.\n",
            "Try using .loc[row_indexer,col_indexer] = value instead\n",
            "\n",
            "See the caveats in the documentation: https://pandas.pydata.org/pandas-docs/stable/user_guide/indexing.html#returning-a-view-versus-a-copy\n",
            "  This is separate from the ipykernel package so we can avoid doing imports until\n",
            "/usr/local/lib/python3.7/dist-packages/ipykernel_launcher.py:4: SettingWithCopyWarning: \n",
            "A value is trying to be set on a copy of a slice from a DataFrame.\n",
            "Try using .loc[row_indexer,col_indexer] = value instead\n",
            "\n",
            "See the caveats in the documentation: https://pandas.pydata.org/pandas-docs/stable/user_guide/indexing.html#returning-a-view-versus-a-copy\n",
            "  after removing the cwd from sys.path.\n"
          ]
        }
      ]
    },
    {
      "cell_type": "code",
      "metadata": {
        "colab": {
          "base_uri": "https://localhost:8080/",
          "height": 204
        },
        "id": "ny8Rp4rzQuio",
        "outputId": "ed9e9070-8531-422b-c6f7-08c4801e758d"
      },
      "source": [
        "df_final.tail()"
      ],
      "execution_count": 184,
      "outputs": [
        {
          "output_type": "execute_result",
          "data": {
            "text/html": [
              "<div>\n",
              "<style scoped>\n",
              "    .dataframe tbody tr th:only-of-type {\n",
              "        vertical-align: middle;\n",
              "    }\n",
              "\n",
              "    .dataframe tbody tr th {\n",
              "        vertical-align: top;\n",
              "    }\n",
              "\n",
              "    .dataframe thead th {\n",
              "        text-align: right;\n",
              "    }\n",
              "</style>\n",
              "<table border=\"1\" class=\"dataframe\">\n",
              "  <thead>\n",
              "    <tr style=\"text-align: right;\">\n",
              "      <th></th>\n",
              "      <th>r</th>\n",
              "      <th>lsv</th>\n",
              "      <th>lfv</th>\n",
              "      <th>div</th>\n",
              "      <th>t_T</th>\n",
              "      <th>DOP_t</th>\n",
              "      <th>DCL_t</th>\n",
              "    </tr>\n",
              "  </thead>\n",
              "  <tbody>\n",
              "    <tr>\n",
              "      <th>821782</th>\n",
              "      <td>0.042368</td>\n",
              "      <td>23.236974</td>\n",
              "      <td>22.797849</td>\n",
              "      <td>0.084025</td>\n",
              "      <td>0.999994</td>\n",
              "      <td>0</td>\n",
              "      <td>1</td>\n",
              "    </tr>\n",
              "    <tr>\n",
              "      <th>821783</th>\n",
              "      <td>0.023100</td>\n",
              "      <td>23.218085</td>\n",
              "      <td>24.550378</td>\n",
              "      <td>0.693092</td>\n",
              "      <td>0.999995</td>\n",
              "      <td>0</td>\n",
              "      <td>1</td>\n",
              "    </tr>\n",
              "    <tr>\n",
              "      <th>821784</th>\n",
              "      <td>0.015396</td>\n",
              "      <td>23.312958</td>\n",
              "      <td>24.685934</td>\n",
              "      <td>-0.808555</td>\n",
              "      <td>0.999996</td>\n",
              "      <td>0</td>\n",
              "      <td>1</td>\n",
              "    </tr>\n",
              "    <tr>\n",
              "      <th>821785</th>\n",
              "      <td>-0.019243</td>\n",
              "      <td>23.096407</td>\n",
              "      <td>23.175673</td>\n",
              "      <td>-0.314433</td>\n",
              "      <td>0.999998</td>\n",
              "      <td>0</td>\n",
              "      <td>1</td>\n",
              "    </tr>\n",
              "    <tr>\n",
              "      <th>821786</th>\n",
              "      <td>0.019246</td>\n",
              "      <td>23.365862</td>\n",
              "      <td>24.184248</td>\n",
              "      <td>1.751378</td>\n",
              "      <td>0.999999</td>\n",
              "      <td>0</td>\n",
              "      <td>1</td>\n",
              "    </tr>\n",
              "  </tbody>\n",
              "</table>\n",
              "</div>"
            ],
            "text/plain": [
              "               r        lsv        lfv       div       t_T  DOP_t  DCL_t\n",
              "821782  0.042368  23.236974  22.797849  0.084025  0.999994      0      1\n",
              "821783  0.023100  23.218085  24.550378  0.693092  0.999995      0      1\n",
              "821784  0.015396  23.312958  24.685934 -0.808555  0.999996      0      1\n",
              "821785 -0.019243  23.096407  23.175673 -0.314433  0.999998      0      1\n",
              "821786  0.019246  23.365862  24.184248  1.751378  0.999999      0      1"
            ]
          },
          "metadata": {},
          "execution_count": 184
        }
      ]
    },
    {
      "cell_type": "code",
      "metadata": {
        "id": "TxjtliWCGvqB"
      },
      "source": [
        "# Variable that will be same for All Models\n",
        "\n",
        "rt_1 = df_final['r'].shift(1)\n",
        "rt_2 = df_final['r'].shift(2)\n",
        "rt_3 = df_final['r'].shift(3)\n",
        "\n"
      ],
      "execution_count": 185,
      "outputs": []
    },
    {
      "cell_type": "code",
      "metadata": {
        "colab": {
          "base_uri": "https://localhost:8080/"
        },
        "id": "SKQskVbDTAcm",
        "outputId": "a1c15996-7e02-4635-9a2c-8cd149a973e6"
      },
      "source": [
        "len(rt_1)"
      ],
      "execution_count": 186,
      "outputs": [
        {
          "output_type": "execute_result",
          "data": {
            "text/plain": [
              "821496"
            ]
          },
          "metadata": {},
          "execution_count": 186
        }
      ]
    },
    {
      "cell_type": "code",
      "metadata": {
        "colab": {
          "base_uri": "https://localhost:8080/"
        },
        "id": "Z3u9V81YJTgi",
        "outputId": "3e9aa5d7-0317-465f-e687-94495d55c978"
      },
      "source": [
        "#Adding the variables to our final dataframe\n",
        "\n",
        "df_final['rt_1'] = rt_1\n",
        "df_final['rt_2'] = rt_2\n",
        "df_final['rt_3'] = rt_3"
      ],
      "execution_count": 187,
      "outputs": [
        {
          "output_type": "stream",
          "name": "stderr",
          "text": [
            "/usr/local/lib/python3.7/dist-packages/ipykernel_launcher.py:3: SettingWithCopyWarning: \n",
            "A value is trying to be set on a copy of a slice from a DataFrame.\n",
            "Try using .loc[row_indexer,col_indexer] = value instead\n",
            "\n",
            "See the caveats in the documentation: https://pandas.pydata.org/pandas-docs/stable/user_guide/indexing.html#returning-a-view-versus-a-copy\n",
            "  This is separate from the ipykernel package so we can avoid doing imports until\n",
            "/usr/local/lib/python3.7/dist-packages/ipykernel_launcher.py:4: SettingWithCopyWarning: \n",
            "A value is trying to be set on a copy of a slice from a DataFrame.\n",
            "Try using .loc[row_indexer,col_indexer] = value instead\n",
            "\n",
            "See the caveats in the documentation: https://pandas.pydata.org/pandas-docs/stable/user_guide/indexing.html#returning-a-view-versus-a-copy\n",
            "  after removing the cwd from sys.path.\n",
            "/usr/local/lib/python3.7/dist-packages/ipykernel_launcher.py:5: SettingWithCopyWarning: \n",
            "A value is trying to be set on a copy of a slice from a DataFrame.\n",
            "Try using .loc[row_indexer,col_indexer] = value instead\n",
            "\n",
            "See the caveats in the documentation: https://pandas.pydata.org/pandas-docs/stable/user_guide/indexing.html#returning-a-view-versus-a-copy\n",
            "  \"\"\"\n"
          ]
        }
      ]
    },
    {
      "cell_type": "code",
      "metadata": {
        "id": "6CcJD0eKJnUj"
      },
      "source": [
        "#To be needed for Model A in Panel A of paper\n",
        "lsvt_1 = df_final['lsv'].shift(1)\n",
        "lsvt_2 = df_final['lsv'].shift(2)\n",
        "lsvt_3 = df_final['lsv'].shift(3)\n",
        "\n",
        "#To be needed for Model B in Panel B of paper\n",
        "lfvt_1 = df_final['lfv'].shift(1)\n",
        "lfvt_2 = df_final['lfv'].shift(2)\n",
        "lfvt_3 = df_final['lfv'].shift(3)\n",
        "\n",
        "#To be needed for Model C in Panel C of paper\n",
        "fst_1 = lfvt_1 - lsvt_1\n",
        "fst_2 = lfvt_2 - lsvt_2\n",
        "fst_3 = lfvt_3 - lsvt_3"
      ],
      "execution_count": 189,
      "outputs": []
    },
    {
      "cell_type": "code",
      "metadata": {
        "id": "Ez5uWLH8jAOG"
      },
      "source": [
        "#Model A\n",
        "df_final['lsvt_1'] = lsvt_1\n",
        "df_final['lsvt_2'] = lsvt_2\n",
        "df_final['lsvt_3'] = lsvt_3\n",
        "\n",
        "#Model B\n",
        "df_final['lfvt_1'] = lfvt_1\n",
        "df_final['lfvt_2'] = lfvt_2\n",
        "df_final['lfvt_3'] = lfvt_3\n",
        "\n",
        "#Model C\n",
        "df_final['fst_1'] = fst_1\n",
        "df_final['fst_2'] = fst_2\n",
        "df_final['fst_3'] = fst_3"
      ],
      "execution_count": 190,
      "outputs": []
    },
    {
      "cell_type": "code",
      "metadata": {
        "colab": {
          "base_uri": "https://localhost:8080/",
          "height": 439
        },
        "id": "m-jQxCl7lVQl",
        "outputId": "38e86c5f-4123-4f0a-a1a4-487c61ab6ec1"
      },
      "source": [
        "df_final"
      ],
      "execution_count": 191,
      "outputs": [
        {
          "output_type": "execute_result",
          "data": {
            "text/html": [
              "<div>\n",
              "<style scoped>\n",
              "    .dataframe tbody tr th:only-of-type {\n",
              "        vertical-align: middle;\n",
              "    }\n",
              "\n",
              "    .dataframe tbody tr th {\n",
              "        vertical-align: top;\n",
              "    }\n",
              "\n",
              "    .dataframe thead th {\n",
              "        text-align: right;\n",
              "    }\n",
              "</style>\n",
              "<table border=\"1\" class=\"dataframe\">\n",
              "  <thead>\n",
              "    <tr style=\"text-align: right;\">\n",
              "      <th></th>\n",
              "      <th>r</th>\n",
              "      <th>lsv</th>\n",
              "      <th>lfv</th>\n",
              "      <th>div</th>\n",
              "      <th>t_T</th>\n",
              "      <th>DOP_t</th>\n",
              "      <th>DCL_t</th>\n",
              "      <th>rt_1</th>\n",
              "      <th>rt_2</th>\n",
              "      <th>rt_3</th>\n",
              "      <th>lsvt_1</th>\n",
              "      <th>lsvt_2</th>\n",
              "      <th>lsvt_3</th>\n",
              "      <th>lfvt_1</th>\n",
              "      <th>lfvt_2</th>\n",
              "      <th>lfvt_3</th>\n",
              "      <th>fst_1</th>\n",
              "      <th>fst_2</th>\n",
              "      <th>fst_3</th>\n",
              "    </tr>\n",
              "  </thead>\n",
              "  <tbody>\n",
              "    <tr>\n",
              "      <th>0</th>\n",
              "      <td>-0.095115</td>\n",
              "      <td>25.202183</td>\n",
              "      <td>25.760218</td>\n",
              "      <td>-5.346735</td>\n",
              "      <td>0.000001</td>\n",
              "      <td>0</td>\n",
              "      <td>0</td>\n",
              "      <td>NaN</td>\n",
              "      <td>NaN</td>\n",
              "      <td>NaN</td>\n",
              "      <td>NaN</td>\n",
              "      <td>NaN</td>\n",
              "      <td>NaN</td>\n",
              "      <td>NaN</td>\n",
              "      <td>NaN</td>\n",
              "      <td>NaN</td>\n",
              "      <td>NaN</td>\n",
              "      <td>NaN</td>\n",
              "      <td>NaN</td>\n",
              "    </tr>\n",
              "    <tr>\n",
              "      <th>1</th>\n",
              "      <td>-0.103860</td>\n",
              "      <td>23.002880</td>\n",
              "      <td>25.179739</td>\n",
              "      <td>-0.554828</td>\n",
              "      <td>0.000002</td>\n",
              "      <td>0</td>\n",
              "      <td>0</td>\n",
              "      <td>-0.095115</td>\n",
              "      <td>NaN</td>\n",
              "      <td>NaN</td>\n",
              "      <td>25.202183</td>\n",
              "      <td>NaN</td>\n",
              "      <td>NaN</td>\n",
              "      <td>25.760218</td>\n",
              "      <td>NaN</td>\n",
              "      <td>NaN</td>\n",
              "      <td>0.558035</td>\n",
              "      <td>NaN</td>\n",
              "      <td>NaN</td>\n",
              "    </tr>\n",
              "    <tr>\n",
              "      <th>2</th>\n",
              "      <td>0.112632</td>\n",
              "      <td>22.971918</td>\n",
              "      <td>24.977438</td>\n",
              "      <td>-0.829135</td>\n",
              "      <td>0.000004</td>\n",
              "      <td>0</td>\n",
              "      <td>0</td>\n",
              "      <td>-0.103860</td>\n",
              "      <td>-0.095115</td>\n",
              "      <td>NaN</td>\n",
              "      <td>23.002880</td>\n",
              "      <td>25.202183</td>\n",
              "      <td>NaN</td>\n",
              "      <td>25.179739</td>\n",
              "      <td>25.760218</td>\n",
              "      <td>NaN</td>\n",
              "      <td>2.176858</td>\n",
              "      <td>0.558035</td>\n",
              "      <td>NaN</td>\n",
              "    </tr>\n",
              "    <tr>\n",
              "      <th>3</th>\n",
              "      <td>0.043271</td>\n",
              "      <td>22.997093</td>\n",
              "      <td>25.414614</td>\n",
              "      <td>0.677726</td>\n",
              "      <td>0.000005</td>\n",
              "      <td>0</td>\n",
              "      <td>0</td>\n",
              "      <td>0.112632</td>\n",
              "      <td>-0.103860</td>\n",
              "      <td>-0.095115</td>\n",
              "      <td>22.971918</td>\n",
              "      <td>23.002880</td>\n",
              "      <td>25.202183</td>\n",
              "      <td>24.977438</td>\n",
              "      <td>25.179739</td>\n",
              "      <td>25.760218</td>\n",
              "      <td>2.005520</td>\n",
              "      <td>2.176858</td>\n",
              "      <td>0.558035</td>\n",
              "    </tr>\n",
              "    <tr>\n",
              "      <th>4</th>\n",
              "      <td>-0.242215</td>\n",
              "      <td>23.266617</td>\n",
              "      <td>25.510758</td>\n",
              "      <td>0.328027</td>\n",
              "      <td>0.000006</td>\n",
              "      <td>0</td>\n",
              "      <td>0</td>\n",
              "      <td>0.043271</td>\n",
              "      <td>0.112632</td>\n",
              "      <td>-0.103860</td>\n",
              "      <td>22.997093</td>\n",
              "      <td>22.971918</td>\n",
              "      <td>23.002880</td>\n",
              "      <td>25.414614</td>\n",
              "      <td>24.977438</td>\n",
              "      <td>25.179739</td>\n",
              "      <td>2.417521</td>\n",
              "      <td>2.005520</td>\n",
              "      <td>2.176858</td>\n",
              "    </tr>\n",
              "    <tr>\n",
              "      <th>...</th>\n",
              "      <td>...</td>\n",
              "      <td>...</td>\n",
              "      <td>...</td>\n",
              "      <td>...</td>\n",
              "      <td>...</td>\n",
              "      <td>...</td>\n",
              "      <td>...</td>\n",
              "      <td>...</td>\n",
              "      <td>...</td>\n",
              "      <td>...</td>\n",
              "      <td>...</td>\n",
              "      <td>...</td>\n",
              "      <td>...</td>\n",
              "      <td>...</td>\n",
              "      <td>...</td>\n",
              "      <td>...</td>\n",
              "      <td>...</td>\n",
              "      <td>...</td>\n",
              "      <td>...</td>\n",
              "    </tr>\n",
              "    <tr>\n",
              "      <th>821782</th>\n",
              "      <td>0.042368</td>\n",
              "      <td>23.236974</td>\n",
              "      <td>22.797849</td>\n",
              "      <td>0.084025</td>\n",
              "      <td>0.999994</td>\n",
              "      <td>0</td>\n",
              "      <td>1</td>\n",
              "      <td>-0.023104</td>\n",
              "      <td>-0.023099</td>\n",
              "      <td>0.057781</td>\n",
              "      <td>23.184001</td>\n",
              "      <td>23.050166</td>\n",
              "      <td>23.123372</td>\n",
              "      <td>23.970280</td>\n",
              "      <td>24.232121</td>\n",
              "      <td>23.891086</td>\n",
              "      <td>0.786279</td>\n",
              "      <td>1.181955</td>\n",
              "      <td>0.767714</td>\n",
              "    </tr>\n",
              "    <tr>\n",
              "      <th>821783</th>\n",
              "      <td>0.023100</td>\n",
              "      <td>23.218085</td>\n",
              "      <td>24.550378</td>\n",
              "      <td>0.693092</td>\n",
              "      <td>0.999995</td>\n",
              "      <td>0</td>\n",
              "      <td>1</td>\n",
              "      <td>0.042368</td>\n",
              "      <td>-0.023104</td>\n",
              "      <td>-0.023099</td>\n",
              "      <td>23.236974</td>\n",
              "      <td>23.184001</td>\n",
              "      <td>23.050166</td>\n",
              "      <td>22.797849</td>\n",
              "      <td>23.970280</td>\n",
              "      <td>24.232121</td>\n",
              "      <td>-0.439125</td>\n",
              "      <td>0.786279</td>\n",
              "      <td>1.181955</td>\n",
              "    </tr>\n",
              "    <tr>\n",
              "      <th>821784</th>\n",
              "      <td>0.015396</td>\n",
              "      <td>23.312958</td>\n",
              "      <td>24.685934</td>\n",
              "      <td>-0.808555</td>\n",
              "      <td>0.999996</td>\n",
              "      <td>0</td>\n",
              "      <td>1</td>\n",
              "      <td>0.023100</td>\n",
              "      <td>0.042368</td>\n",
              "      <td>-0.023104</td>\n",
              "      <td>23.218085</td>\n",
              "      <td>23.236974</td>\n",
              "      <td>23.184001</td>\n",
              "      <td>24.550378</td>\n",
              "      <td>22.797849</td>\n",
              "      <td>23.970280</td>\n",
              "      <td>1.332293</td>\n",
              "      <td>-0.439125</td>\n",
              "      <td>0.786279</td>\n",
              "    </tr>\n",
              "    <tr>\n",
              "      <th>821785</th>\n",
              "      <td>-0.019243</td>\n",
              "      <td>23.096407</td>\n",
              "      <td>23.175673</td>\n",
              "      <td>-0.314433</td>\n",
              "      <td>0.999998</td>\n",
              "      <td>0</td>\n",
              "      <td>1</td>\n",
              "      <td>0.015396</td>\n",
              "      <td>0.023100</td>\n",
              "      <td>0.042368</td>\n",
              "      <td>23.312958</td>\n",
              "      <td>23.218085</td>\n",
              "      <td>23.236974</td>\n",
              "      <td>24.685934</td>\n",
              "      <td>24.550378</td>\n",
              "      <td>22.797849</td>\n",
              "      <td>1.372976</td>\n",
              "      <td>1.332293</td>\n",
              "      <td>-0.439125</td>\n",
              "    </tr>\n",
              "    <tr>\n",
              "      <th>821786</th>\n",
              "      <td>0.019246</td>\n",
              "      <td>23.365862</td>\n",
              "      <td>24.184248</td>\n",
              "      <td>1.751378</td>\n",
              "      <td>0.999999</td>\n",
              "      <td>0</td>\n",
              "      <td>1</td>\n",
              "      <td>-0.019243</td>\n",
              "      <td>0.015396</td>\n",
              "      <td>0.023100</td>\n",
              "      <td>23.096407</td>\n",
              "      <td>23.312958</td>\n",
              "      <td>23.218085</td>\n",
              "      <td>23.175673</td>\n",
              "      <td>24.685934</td>\n",
              "      <td>24.550378</td>\n",
              "      <td>0.079266</td>\n",
              "      <td>1.372976</td>\n",
              "      <td>1.332293</td>\n",
              "    </tr>\n",
              "  </tbody>\n",
              "</table>\n",
              "<p>821496 rows × 19 columns</p>\n",
              "</div>"
            ],
            "text/plain": [
              "               r        lsv        lfv  ...     fst_1     fst_2     fst_3\n",
              "0      -0.095115  25.202183  25.760218  ...       NaN       NaN       NaN\n",
              "1      -0.103860  23.002880  25.179739  ...  0.558035       NaN       NaN\n",
              "2       0.112632  22.971918  24.977438  ...  2.176858  0.558035       NaN\n",
              "3       0.043271  22.997093  25.414614  ...  2.005520  2.176858  0.558035\n",
              "4      -0.242215  23.266617  25.510758  ...  2.417521  2.005520  2.176858\n",
              "...          ...        ...        ...  ...       ...       ...       ...\n",
              "821782  0.042368  23.236974  22.797849  ...  0.786279  1.181955  0.767714\n",
              "821783  0.023100  23.218085  24.550378  ... -0.439125  0.786279  1.181955\n",
              "821784  0.015396  23.312958  24.685934  ...  1.332293 -0.439125  0.786279\n",
              "821785 -0.019243  23.096407  23.175673  ...  1.372976  1.332293 -0.439125\n",
              "821786  0.019246  23.365862  24.184248  ...  0.079266  1.372976  1.332293\n",
              "\n",
              "[821496 rows x 19 columns]"
            ]
          },
          "metadata": {},
          "execution_count": 191
        }
      ]
    },
    {
      "cell_type": "code",
      "metadata": {
        "id": "ffhi5L29vIwf"
      },
      "source": [
        "df_final.dropna(axis = 0, inplace=True)"
      ],
      "execution_count": 192,
      "outputs": []
    },
    {
      "cell_type": "code",
      "metadata": {
        "colab": {
          "base_uri": "https://localhost:8080/"
        },
        "id": "whgeIMVXccEk",
        "outputId": "8f65ba2c-7555-4b47-9b28-6973aab19e4b"
      },
      "source": [
        "len(df_final)"
      ],
      "execution_count": 193,
      "outputs": [
        {
          "output_type": "execute_result",
          "data": {
            "text/plain": [
              "821493"
            ]
          },
          "metadata": {},
          "execution_count": 193
        }
      ]
    },
    {
      "cell_type": "code",
      "metadata": {
        "id": "EfVVdMJ3vn8C"
      },
      "source": [
        "df_final['t_T_s'] = df_final['t_T']**2\n",
        "\n",
        "df_final['rt_1_s'] = df_final['rt_1']**2\n",
        "df_final['rt_2_s'] = df_final['rt_2']**2\n",
        "df_final['rt_3_s'] = df_final['rt_3']**2"
      ],
      "execution_count": 194,
      "outputs": []
    },
    {
      "cell_type": "code",
      "metadata": {
        "id": "7Wgd3tMNfmuA"
      },
      "source": [
        "df_final.reset_index(inplace=True)"
      ],
      "execution_count": 201,
      "outputs": []
    },
    {
      "cell_type": "code",
      "metadata": {
        "colab": {
          "base_uri": "https://localhost:8080/"
        },
        "id": "XZwTKvBrvoJ6",
        "outputId": "8290f385-7b58-411a-984c-50aa03b62d88"
      },
      "source": [
        "df_final.columns"
      ],
      "execution_count": 202,
      "outputs": [
        {
          "output_type": "execute_result",
          "data": {
            "text/plain": [
              "Index(['index', 'r', 'lsv', 'lfv', 'div', 't_T', 'DOP_t', 'DCL_t', 'rt_1',\n",
              "       'rt_2', 'rt_3', 'lsvt_1', 'lsvt_2', 'lsvt_3', 'lfvt_1', 'lfvt_2',\n",
              "       'lfvt_3', 'fst_1', 'fst_2', 'fst_3', 't_T_s', 'rt_1_s', 'rt_2_s',\n",
              "       'rt_3_s'],\n",
              "      dtype='object')"
            ]
          },
          "metadata": {},
          "execution_count": 202
        }
      ]
    },
    {
      "cell_type": "code",
      "metadata": {
        "id": "DCz2gs9LvoUU"
      },
      "source": [
        "data_A = df_final[['r', 'DOP_t', 'DCL_t', 'rt_1', 'rt_2', 'rt_3', 't_T', 'lsvt_1',\n",
        "       'lsvt_2', 'lsvt_3', 't_T_s', 'rt_1_s', 'rt_2_s', 'rt_3_s']]"
      ],
      "execution_count": 203,
      "outputs": []
    },
    {
      "cell_type": "code",
      "metadata": {
        "id": "E5_N889YvofY"
      },
      "source": [
        "data_B = df_final[['r', 'DOP_t', 'DCL_t', 'rt_1', 'rt_2', 'rt_3', 't_T', 'lfvt_1', \n",
        "       'lfvt_2', 'lfvt_3', 't_T_s', 'rt_1_s', 'rt_2_s', 'rt_3_s']]"
      ],
      "execution_count": 204,
      "outputs": []
    },
    {
      "cell_type": "code",
      "metadata": {
        "id": "hgJ_RgyoxzRY"
      },
      "source": [
        "data_C = df_final[['r', 'DOP_t', 'DCL_t', 'rt_1', 'rt_2', 'rt_3', 't_T', 'fst_1',\n",
        "       'fst_2', 'fst_3', 't_T_s', 'rt_1_s', 'rt_2_s', 'rt_3_s']]"
      ],
      "execution_count": 205,
      "outputs": []
    },
    {
      "cell_type": "code",
      "metadata": {
        "colab": {
          "base_uri": "https://localhost:8080/",
          "height": 419
        },
        "id": "ERZrF9CwyN_Q",
        "outputId": "3a058994-9168-4733-f8fe-845b0c326e06"
      },
      "source": [
        "data_A"
      ],
      "execution_count": 206,
      "outputs": [
        {
          "output_type": "execute_result",
          "data": {
            "text/html": [
              "<div>\n",
              "<style scoped>\n",
              "    .dataframe tbody tr th:only-of-type {\n",
              "        vertical-align: middle;\n",
              "    }\n",
              "\n",
              "    .dataframe tbody tr th {\n",
              "        vertical-align: top;\n",
              "    }\n",
              "\n",
              "    .dataframe thead th {\n",
              "        text-align: right;\n",
              "    }\n",
              "</style>\n",
              "<table border=\"1\" class=\"dataframe\">\n",
              "  <thead>\n",
              "    <tr style=\"text-align: right;\">\n",
              "      <th></th>\n",
              "      <th>r</th>\n",
              "      <th>DOP_t</th>\n",
              "      <th>DCL_t</th>\n",
              "      <th>rt_1</th>\n",
              "      <th>rt_2</th>\n",
              "      <th>rt_3</th>\n",
              "      <th>t_T</th>\n",
              "      <th>lsvt_1</th>\n",
              "      <th>lsvt_2</th>\n",
              "      <th>lsvt_3</th>\n",
              "      <th>t_T_s</th>\n",
              "      <th>rt_1_s</th>\n",
              "      <th>rt_2_s</th>\n",
              "      <th>rt_3_s</th>\n",
              "    </tr>\n",
              "  </thead>\n",
              "  <tbody>\n",
              "    <tr>\n",
              "      <th>0</th>\n",
              "      <td>0.043271</td>\n",
              "      <td>0</td>\n",
              "      <td>0</td>\n",
              "      <td>0.112632</td>\n",
              "      <td>-0.103860</td>\n",
              "      <td>-0.095115</td>\n",
              "      <td>0.000005</td>\n",
              "      <td>22.971918</td>\n",
              "      <td>23.002880</td>\n",
              "      <td>25.202183</td>\n",
              "      <td>2.369193e-11</td>\n",
              "      <td>0.012686</td>\n",
              "      <td>0.010787</td>\n",
              "      <td>0.009047</td>\n",
              "    </tr>\n",
              "    <tr>\n",
              "      <th>1</th>\n",
              "      <td>-0.242215</td>\n",
              "      <td>0</td>\n",
              "      <td>0</td>\n",
              "      <td>0.043271</td>\n",
              "      <td>0.112632</td>\n",
              "      <td>-0.103860</td>\n",
              "      <td>0.000006</td>\n",
              "      <td>22.997093</td>\n",
              "      <td>22.971918</td>\n",
              "      <td>23.002880</td>\n",
              "      <td>3.701864e-11</td>\n",
              "      <td>0.001872</td>\n",
              "      <td>0.012686</td>\n",
              "      <td>0.010787</td>\n",
              "    </tr>\n",
              "    <tr>\n",
              "      <th>2</th>\n",
              "      <td>0.164759</td>\n",
              "      <td>0</td>\n",
              "      <td>0</td>\n",
              "      <td>-0.242215</td>\n",
              "      <td>0.043271</td>\n",
              "      <td>0.112632</td>\n",
              "      <td>0.000007</td>\n",
              "      <td>23.266617</td>\n",
              "      <td>22.997093</td>\n",
              "      <td>22.971918</td>\n",
              "      <td>5.330684e-11</td>\n",
              "      <td>0.058668</td>\n",
              "      <td>0.001872</td>\n",
              "      <td>0.012686</td>\n",
              "    </tr>\n",
              "    <tr>\n",
              "      <th>3</th>\n",
              "      <td>0.129859</td>\n",
              "      <td>0</td>\n",
              "      <td>0</td>\n",
              "      <td>0.164759</td>\n",
              "      <td>-0.242215</td>\n",
              "      <td>0.043271</td>\n",
              "      <td>0.000009</td>\n",
              "      <td>23.177030</td>\n",
              "      <td>23.266617</td>\n",
              "      <td>22.997093</td>\n",
              "      <td>7.255653e-11</td>\n",
              "      <td>0.027146</td>\n",
              "      <td>0.058668</td>\n",
              "      <td>0.001872</td>\n",
              "    </tr>\n",
              "    <tr>\n",
              "      <th>4</th>\n",
              "      <td>0.069168</td>\n",
              "      <td>0</td>\n",
              "      <td>0</td>\n",
              "      <td>0.129859</td>\n",
              "      <td>0.164759</td>\n",
              "      <td>-0.242215</td>\n",
              "      <td>0.000010</td>\n",
              "      <td>22.927754</td>\n",
              "      <td>23.177030</td>\n",
              "      <td>23.266617</td>\n",
              "      <td>9.476771e-11</td>\n",
              "      <td>0.016863</td>\n",
              "      <td>0.027146</td>\n",
              "      <td>0.058668</td>\n",
              "    </tr>\n",
              "    <tr>\n",
              "      <th>...</th>\n",
              "      <td>...</td>\n",
              "      <td>...</td>\n",
              "      <td>...</td>\n",
              "      <td>...</td>\n",
              "      <td>...</td>\n",
              "      <td>...</td>\n",
              "      <td>...</td>\n",
              "      <td>...</td>\n",
              "      <td>...</td>\n",
              "      <td>...</td>\n",
              "      <td>...</td>\n",
              "      <td>...</td>\n",
              "      <td>...</td>\n",
              "      <td>...</td>\n",
              "    </tr>\n",
              "    <tr>\n",
              "      <th>821488</th>\n",
              "      <td>0.042368</td>\n",
              "      <td>0</td>\n",
              "      <td>1</td>\n",
              "      <td>-0.023104</td>\n",
              "      <td>-0.023099</td>\n",
              "      <td>0.057781</td>\n",
              "      <td>0.999994</td>\n",
              "      <td>23.184001</td>\n",
              "      <td>23.050166</td>\n",
              "      <td>23.123372</td>\n",
              "      <td>9.999878e-01</td>\n",
              "      <td>0.000534</td>\n",
              "      <td>0.000534</td>\n",
              "      <td>0.003339</td>\n",
              "    </tr>\n",
              "    <tr>\n",
              "      <th>821489</th>\n",
              "      <td>0.023100</td>\n",
              "      <td>0</td>\n",
              "      <td>1</td>\n",
              "      <td>0.042368</td>\n",
              "      <td>-0.023104</td>\n",
              "      <td>-0.023099</td>\n",
              "      <td>0.999995</td>\n",
              "      <td>23.236974</td>\n",
              "      <td>23.184001</td>\n",
              "      <td>23.050166</td>\n",
              "      <td>9.999903e-01</td>\n",
              "      <td>0.001795</td>\n",
              "      <td>0.000534</td>\n",
              "      <td>0.000534</td>\n",
              "    </tr>\n",
              "    <tr>\n",
              "      <th>821490</th>\n",
              "      <td>0.015396</td>\n",
              "      <td>0</td>\n",
              "      <td>1</td>\n",
              "      <td>0.023100</td>\n",
              "      <td>0.042368</td>\n",
              "      <td>-0.023104</td>\n",
              "      <td>0.999996</td>\n",
              "      <td>23.218085</td>\n",
              "      <td>23.236974</td>\n",
              "      <td>23.184001</td>\n",
              "      <td>9.999927e-01</td>\n",
              "      <td>0.000534</td>\n",
              "      <td>0.001795</td>\n",
              "      <td>0.000534</td>\n",
              "    </tr>\n",
              "    <tr>\n",
              "      <th>821491</th>\n",
              "      <td>-0.019243</td>\n",
              "      <td>0</td>\n",
              "      <td>1</td>\n",
              "      <td>0.015396</td>\n",
              "      <td>0.023100</td>\n",
              "      <td>0.042368</td>\n",
              "      <td>0.999998</td>\n",
              "      <td>23.312958</td>\n",
              "      <td>23.218085</td>\n",
              "      <td>23.236974</td>\n",
              "      <td>9.999951e-01</td>\n",
              "      <td>0.000237</td>\n",
              "      <td>0.000534</td>\n",
              "      <td>0.001795</td>\n",
              "    </tr>\n",
              "    <tr>\n",
              "      <th>821492</th>\n",
              "      <td>0.019246</td>\n",
              "      <td>0</td>\n",
              "      <td>1</td>\n",
              "      <td>-0.019243</td>\n",
              "      <td>0.015396</td>\n",
              "      <td>0.023100</td>\n",
              "      <td>0.999999</td>\n",
              "      <td>23.096407</td>\n",
              "      <td>23.312958</td>\n",
              "      <td>23.218085</td>\n",
              "      <td>9.999976e-01</td>\n",
              "      <td>0.000370</td>\n",
              "      <td>0.000237</td>\n",
              "      <td>0.000534</td>\n",
              "    </tr>\n",
              "  </tbody>\n",
              "</table>\n",
              "<p>821493 rows × 14 columns</p>\n",
              "</div>"
            ],
            "text/plain": [
              "               r  DOP_t  DCL_t  ...    rt_1_s    rt_2_s    rt_3_s\n",
              "0       0.043271      0      0  ...  0.012686  0.010787  0.009047\n",
              "1      -0.242215      0      0  ...  0.001872  0.012686  0.010787\n",
              "2       0.164759      0      0  ...  0.058668  0.001872  0.012686\n",
              "3       0.129859      0      0  ...  0.027146  0.058668  0.001872\n",
              "4       0.069168      0      0  ...  0.016863  0.027146  0.058668\n",
              "...          ...    ...    ...  ...       ...       ...       ...\n",
              "821488  0.042368      0      1  ...  0.000534  0.000534  0.003339\n",
              "821489  0.023100      0      1  ...  0.001795  0.000534  0.000534\n",
              "821490  0.015396      0      1  ...  0.000534  0.001795  0.000534\n",
              "821491 -0.019243      0      1  ...  0.000237  0.000534  0.001795\n",
              "821492  0.019246      0      1  ...  0.000370  0.000237  0.000534\n",
              "\n",
              "[821493 rows x 14 columns]"
            ]
          },
          "metadata": {},
          "execution_count": 206
        }
      ]
    },
    {
      "cell_type": "code",
      "metadata": {
        "id": "jQSOPxmojAeK"
      },
      "source": [
        "import statsmodels.api as sm\n",
        "import statsmodels.formula.api as smf"
      ],
      "execution_count": 207,
      "outputs": []
    },
    {
      "cell_type": "code",
      "metadata": {
        "id": "LlVh8xUvoJSL"
      },
      "source": [
        "quantiles = [0.01, 0.05, 0.1, 0.25, 0.5, 0.75, 0.95, 0.9, 0.99]"
      ],
      "execution_count": 208,
      "outputs": []
    },
    {
      "cell_type": "code",
      "metadata": {
        "colab": {
          "base_uri": "https://localhost:8080/"
        },
        "id": "ZdCJrPJDzIUB",
        "outputId": "2e075aee-7734-441f-fb0d-894a9d7ea879"
      },
      "source": [
        "data_A.columns"
      ],
      "execution_count": 209,
      "outputs": [
        {
          "output_type": "execute_result",
          "data": {
            "text/plain": [
              "Index(['r', 'DOP_t', 'DCL_t', 'rt_1', 'rt_2', 'rt_3', 't_T', 'lsvt_1',\n",
              "       'lsvt_2', 'lsvt_3', 't_T_s', 'rt_1_s', 'rt_2_s', 'rt_3_s'],\n",
              "      dtype='object')"
            ]
          },
          "metadata": {},
          "execution_count": 209
        }
      ]
    },
    {
      "cell_type": "code",
      "metadata": {
        "id": "kdvsAQ8jgcYT"
      },
      "source": [
        "targ_col = ['r']\n",
        "feat_col = ['DOP_t', 'DCL_t', 'rt_1', 'rt_2', 'rt_3', 't_T', 'lsvt_1',\n",
        "       'lsvt_2', 'lsvt_3', 't_T_s', 'rt_1_s', 'rt_2_s', 'rt_3_s']"
      ],
      "execution_count": 211,
      "outputs": []
    },
    {
      "cell_type": "code",
      "metadata": {
        "id": "r_J-8a3do7XQ"
      },
      "source": [
        "mod = smf.quantreg(\"r ~ DOP_t + DCL_t + rt_1 + rt_2 + rt_3 + t_T + lsvt_1 + lsvt_2 + lsvt_3 + t_T_s + rt_1_s + rt_2_s + rt_3_s\", data_A)\n"
      ],
      "execution_count": 215,
      "outputs": []
    },
    {
      "cell_type": "code",
      "metadata": {
        "id": "6gZ5MHADopv5"
      },
      "source": [
        "def fit_model(q):\n",
        "    res = mod.fit(q=q)\n",
        "    return [q, res.params[\"lsvt_1\"], res.params[\"lsvt_2\"], res.params['lsvt_3']] \n",
        "\n",
        "models = [fit_model(x) for x in quantiles]\n",
        "models = pd.DataFrame(models, columns=[\"q\", \"lsvt_1\", \"lsvt_2\", \"lsvt_3\"])"
      ],
      "execution_count": 216,
      "outputs": []
    },
    {
      "cell_type": "code",
      "metadata": {
        "id": "OUqitW4QjAmB",
        "colab": {
          "base_uri": "https://localhost:8080/",
          "height": 328
        },
        "outputId": "9f531cf2-011b-4417-8843-ed4d2dc35555"
      },
      "source": [
        "models"
      ],
      "execution_count": 217,
      "outputs": [
        {
          "output_type": "execute_result",
          "data": {
            "text/html": [
              "<div>\n",
              "<style scoped>\n",
              "    .dataframe tbody tr th:only-of-type {\n",
              "        vertical-align: middle;\n",
              "    }\n",
              "\n",
              "    .dataframe tbody tr th {\n",
              "        vertical-align: top;\n",
              "    }\n",
              "\n",
              "    .dataframe thead th {\n",
              "        text-align: right;\n",
              "    }\n",
              "</style>\n",
              "<table border=\"1\" class=\"dataframe\">\n",
              "  <thead>\n",
              "    <tr style=\"text-align: right;\">\n",
              "      <th></th>\n",
              "      <th>q</th>\n",
              "      <th>lsvt_1</th>\n",
              "      <th>lsvt_2</th>\n",
              "      <th>lsvt_3</th>\n",
              "    </tr>\n",
              "  </thead>\n",
              "  <tbody>\n",
              "    <tr>\n",
              "      <th>0</th>\n",
              "      <td>0.01</td>\n",
              "      <td>-0.007467</td>\n",
              "      <td>-0.006347</td>\n",
              "      <td>-0.020930</td>\n",
              "    </tr>\n",
              "    <tr>\n",
              "      <th>1</th>\n",
              "      <td>0.05</td>\n",
              "      <td>-0.005896</td>\n",
              "      <td>-0.003652</td>\n",
              "      <td>-0.007665</td>\n",
              "    </tr>\n",
              "    <tr>\n",
              "      <th>2</th>\n",
              "      <td>0.10</td>\n",
              "      <td>-0.004795</td>\n",
              "      <td>-0.002841</td>\n",
              "      <td>-0.004833</td>\n",
              "    </tr>\n",
              "    <tr>\n",
              "      <th>3</th>\n",
              "      <td>0.25</td>\n",
              "      <td>-0.002735</td>\n",
              "      <td>-0.001359</td>\n",
              "      <td>-0.002038</td>\n",
              "    </tr>\n",
              "    <tr>\n",
              "      <th>4</th>\n",
              "      <td>0.50</td>\n",
              "      <td>-0.000251</td>\n",
              "      <td>-0.000040</td>\n",
              "      <td>0.000044</td>\n",
              "    </tr>\n",
              "    <tr>\n",
              "      <th>5</th>\n",
              "      <td>0.75</td>\n",
              "      <td>0.002359</td>\n",
              "      <td>0.001137</td>\n",
              "      <td>0.001907</td>\n",
              "    </tr>\n",
              "    <tr>\n",
              "      <th>6</th>\n",
              "      <td>0.95</td>\n",
              "      <td>0.007050</td>\n",
              "      <td>0.003425</td>\n",
              "      <td>0.007330</td>\n",
              "    </tr>\n",
              "    <tr>\n",
              "      <th>7</th>\n",
              "      <td>0.90</td>\n",
              "      <td>0.005073</td>\n",
              "      <td>0.002408</td>\n",
              "      <td>0.004671</td>\n",
              "    </tr>\n",
              "    <tr>\n",
              "      <th>8</th>\n",
              "      <td>0.99</td>\n",
              "      <td>0.013321</td>\n",
              "      <td>0.005958</td>\n",
              "      <td>0.020437</td>\n",
              "    </tr>\n",
              "  </tbody>\n",
              "</table>\n",
              "</div>"
            ],
            "text/plain": [
              "      q    lsvt_1    lsvt_2    lsvt_3\n",
              "0  0.01 -0.007467 -0.006347 -0.020930\n",
              "1  0.05 -0.005896 -0.003652 -0.007665\n",
              "2  0.10 -0.004795 -0.002841 -0.004833\n",
              "3  0.25 -0.002735 -0.001359 -0.002038\n",
              "4  0.50 -0.000251 -0.000040  0.000044\n",
              "5  0.75  0.002359  0.001137  0.001907\n",
              "6  0.95  0.007050  0.003425  0.007330\n",
              "7  0.90  0.005073  0.002408  0.004671\n",
              "8  0.99  0.013321  0.005958  0.020437"
            ]
          },
          "metadata": {},
          "execution_count": 217
        }
      ]
    },
    {
      "cell_type": "code",
      "metadata": {
        "colab": {
          "base_uri": "https://localhost:8080/"
        },
        "id": "kuWfGifclb57",
        "outputId": "f6348bf4-3c67-458c-989c-0b014ec8787e"
      },
      "source": [
        "data_B.columns"
      ],
      "execution_count": 218,
      "outputs": [
        {
          "output_type": "execute_result",
          "data": {
            "text/plain": [
              "Index(['r', 'DOP_t', 'DCL_t', 'rt_1', 'rt_2', 'rt_3', 't_T', 'lfvt_1',\n",
              "       'lfvt_2', 'lfvt_3', 't_T_s', 'rt_1_s', 'rt_2_s', 'rt_3_s'],\n",
              "      dtype='object')"
            ]
          },
          "metadata": {},
          "execution_count": 218
        }
      ]
    },
    {
      "cell_type": "code",
      "metadata": {
        "id": "lUT1uMF0jAvd"
      },
      "source": [
        "mod2 = smf.quantreg(\"r ~ DOP_t + DCL_t + rt_1 + rt_2 + rt_3 + t_T + lfvt_1 + lfvt_2 + lfvt_3 + t_T_s + rt_1_s + rt_2_s + rt_3_s\", data_B)\n"
      ],
      "execution_count": 220,
      "outputs": []
    },
    {
      "cell_type": "code",
      "metadata": {
        "id": "ftcP3vLSgaae"
      },
      "source": [
        "def fit_model2(q):\n",
        "    res = mod2.fit(q=q)\n",
        "    return [q, res.params[\"lfvt_1\"], res.params[\"lfvt_2\"], res.params['lfvt_3']] \n",
        "\n",
        "models2 = [fit_model2(x) for x in quantiles]\n",
        "models2 = pd.DataFrame(models2, columns=[\"q\", \"lfvt_1\", \"lfvt_2\", \"lfvt_3\"])"
      ],
      "execution_count": 221,
      "outputs": []
    },
    {
      "cell_type": "code",
      "metadata": {
        "colab": {
          "base_uri": "https://localhost:8080/",
          "height": 328
        },
        "id": "zYHHz8armGS1",
        "outputId": "77b321a0-9322-4baf-f0c8-a30c5b7d27de"
      },
      "source": [
        "models2"
      ],
      "execution_count": 222,
      "outputs": [
        {
          "output_type": "execute_result",
          "data": {
            "text/html": [
              "<div>\n",
              "<style scoped>\n",
              "    .dataframe tbody tr th:only-of-type {\n",
              "        vertical-align: middle;\n",
              "    }\n",
              "\n",
              "    .dataframe tbody tr th {\n",
              "        vertical-align: top;\n",
              "    }\n",
              "\n",
              "    .dataframe thead th {\n",
              "        text-align: right;\n",
              "    }\n",
              "</style>\n",
              "<table border=\"1\" class=\"dataframe\">\n",
              "  <thead>\n",
              "    <tr style=\"text-align: right;\">\n",
              "      <th></th>\n",
              "      <th>q</th>\n",
              "      <th>lfvt_1</th>\n",
              "      <th>lfvt_2</th>\n",
              "      <th>lfvt_3</th>\n",
              "    </tr>\n",
              "  </thead>\n",
              "  <tbody>\n",
              "    <tr>\n",
              "      <th>0</th>\n",
              "      <td>0.01</td>\n",
              "      <td>-0.003619</td>\n",
              "      <td>-0.002311</td>\n",
              "      <td>-0.005645</td>\n",
              "    </tr>\n",
              "    <tr>\n",
              "      <th>1</th>\n",
              "      <td>0.05</td>\n",
              "      <td>-0.002500</td>\n",
              "      <td>-0.001671</td>\n",
              "      <td>-0.002397</td>\n",
              "    </tr>\n",
              "    <tr>\n",
              "      <th>2</th>\n",
              "      <td>0.10</td>\n",
              "      <td>-0.002005</td>\n",
              "      <td>-0.001310</td>\n",
              "      <td>-0.001585</td>\n",
              "    </tr>\n",
              "    <tr>\n",
              "      <th>3</th>\n",
              "      <td>0.25</td>\n",
              "      <td>-0.001154</td>\n",
              "      <td>-0.000658</td>\n",
              "      <td>-0.000611</td>\n",
              "    </tr>\n",
              "    <tr>\n",
              "      <th>4</th>\n",
              "      <td>0.50</td>\n",
              "      <td>-0.000066</td>\n",
              "      <td>-0.000080</td>\n",
              "      <td>0.000083</td>\n",
              "    </tr>\n",
              "    <tr>\n",
              "      <th>5</th>\n",
              "      <td>0.75</td>\n",
              "      <td>0.000904</td>\n",
              "      <td>0.000446</td>\n",
              "      <td>0.000819</td>\n",
              "    </tr>\n",
              "    <tr>\n",
              "      <th>6</th>\n",
              "      <td>0.95</td>\n",
              "      <td>0.002164</td>\n",
              "      <td>0.001540</td>\n",
              "      <td>0.002313</td>\n",
              "    </tr>\n",
              "    <tr>\n",
              "      <th>7</th>\n",
              "      <td>0.90</td>\n",
              "      <td>0.001801</td>\n",
              "      <td>0.001035</td>\n",
              "      <td>0.001585</td>\n",
              "    </tr>\n",
              "    <tr>\n",
              "      <th>8</th>\n",
              "      <td>0.99</td>\n",
              "      <td>0.002554</td>\n",
              "      <td>0.001677</td>\n",
              "      <td>0.005424</td>\n",
              "    </tr>\n",
              "  </tbody>\n",
              "</table>\n",
              "</div>"
            ],
            "text/plain": [
              "      q    lfvt_1    lfvt_2    lfvt_3\n",
              "0  0.01 -0.003619 -0.002311 -0.005645\n",
              "1  0.05 -0.002500 -0.001671 -0.002397\n",
              "2  0.10 -0.002005 -0.001310 -0.001585\n",
              "3  0.25 -0.001154 -0.000658 -0.000611\n",
              "4  0.50 -0.000066 -0.000080  0.000083\n",
              "5  0.75  0.000904  0.000446  0.000819\n",
              "6  0.95  0.002164  0.001540  0.002313\n",
              "7  0.90  0.001801  0.001035  0.001585\n",
              "8  0.99  0.002554  0.001677  0.005424"
            ]
          },
          "metadata": {},
          "execution_count": 222
        }
      ]
    },
    {
      "cell_type": "code",
      "metadata": {
        "colab": {
          "base_uri": "https://localhost:8080/"
        },
        "id": "OLm42uiYmoSz",
        "outputId": "44eddfd9-705f-46dc-b995-6ac718b64447"
      },
      "source": [
        "data_C.columns"
      ],
      "execution_count": 223,
      "outputs": [
        {
          "output_type": "execute_result",
          "data": {
            "text/plain": [
              "Index(['r', 'DOP_t', 'DCL_t', 'rt_1', 'rt_2', 'rt_3', 't_T', 'fst_1', 'fst_2',\n",
              "       'fst_3', 't_T_s', 'rt_1_s', 'rt_2_s', 'rt_3_s'],\n",
              "      dtype='object')"
            ]
          },
          "metadata": {},
          "execution_count": 223
        }
      ]
    },
    {
      "cell_type": "code",
      "metadata": {
        "id": "Wl4r6D1tmSXH"
      },
      "source": [
        "mod3 = smf.quantreg(\"r ~ DOP_t + DCL_t + rt_1 + rt_2 + rt_3 + t_T + fst_1 + fst_2 + fst_3 + t_T_s + rt_1_s + rt_2_s + rt_3_s\", data_C)\n"
      ],
      "execution_count": 224,
      "outputs": []
    },
    {
      "cell_type": "code",
      "metadata": {
        "id": "TIwGbXHnmdxV"
      },
      "source": [
        "def fit_model3(q):\n",
        "    res = mod3.fit(q=q)\n",
        "    return [q, res.params[\"fst_1\"], res.params[\"fst_2\"], res.params['fst_3']] \n",
        "\n",
        "models3 = [fit_model3(x) for x in quantiles]\n",
        "models3 = pd.DataFrame(models3, columns=[\"q\", \"fst_1\", \"fst_2\", \"fst_3\"])"
      ],
      "execution_count": 225,
      "outputs": []
    },
    {
      "cell_type": "code",
      "metadata": {
        "colab": {
          "base_uri": "https://localhost:8080/",
          "height": 328
        },
        "id": "h9ONcSipneW_",
        "outputId": "741cad0b-bb31-4c07-8794-f028957c9161"
      },
      "source": [
        "models3"
      ],
      "execution_count": 226,
      "outputs": [
        {
          "output_type": "execute_result",
          "data": {
            "text/html": [
              "<div>\n",
              "<style scoped>\n",
              "    .dataframe tbody tr th:only-of-type {\n",
              "        vertical-align: middle;\n",
              "    }\n",
              "\n",
              "    .dataframe tbody tr th {\n",
              "        vertical-align: top;\n",
              "    }\n",
              "\n",
              "    .dataframe thead th {\n",
              "        text-align: right;\n",
              "    }\n",
              "</style>\n",
              "<table border=\"1\" class=\"dataframe\">\n",
              "  <thead>\n",
              "    <tr style=\"text-align: right;\">\n",
              "      <th></th>\n",
              "      <th>q</th>\n",
              "      <th>fst_1</th>\n",
              "      <th>fst_2</th>\n",
              "      <th>fst_3</th>\n",
              "    </tr>\n",
              "  </thead>\n",
              "  <tbody>\n",
              "    <tr>\n",
              "      <th>0</th>\n",
              "      <td>0.01</td>\n",
              "      <td>-0.002112</td>\n",
              "      <td>-0.000566</td>\n",
              "      <td>-0.002985</td>\n",
              "    </tr>\n",
              "    <tr>\n",
              "      <th>1</th>\n",
              "      <td>0.05</td>\n",
              "      <td>-0.001543</td>\n",
              "      <td>-0.000834</td>\n",
              "      <td>-0.001159</td>\n",
              "    </tr>\n",
              "    <tr>\n",
              "      <th>2</th>\n",
              "      <td>0.10</td>\n",
              "      <td>-0.001204</td>\n",
              "      <td>-0.000687</td>\n",
              "      <td>-0.000656</td>\n",
              "    </tr>\n",
              "    <tr>\n",
              "      <th>3</th>\n",
              "      <td>0.25</td>\n",
              "      <td>-0.000685</td>\n",
              "      <td>-0.000329</td>\n",
              "      <td>-0.000132</td>\n",
              "    </tr>\n",
              "    <tr>\n",
              "      <th>4</th>\n",
              "      <td>0.50</td>\n",
              "      <td>-0.000035</td>\n",
              "      <td>-0.000065</td>\n",
              "      <td>0.000099</td>\n",
              "    </tr>\n",
              "    <tr>\n",
              "      <th>5</th>\n",
              "      <td>0.75</td>\n",
              "      <td>0.000468</td>\n",
              "      <td>0.000159</td>\n",
              "      <td>0.000426</td>\n",
              "    </tr>\n",
              "    <tr>\n",
              "      <th>6</th>\n",
              "      <td>0.95</td>\n",
              "      <td>0.000954</td>\n",
              "      <td>0.000684</td>\n",
              "      <td>0.000980</td>\n",
              "    </tr>\n",
              "    <tr>\n",
              "      <th>7</th>\n",
              "      <td>0.90</td>\n",
              "      <td>0.000907</td>\n",
              "      <td>0.000420</td>\n",
              "      <td>0.000694</td>\n",
              "    </tr>\n",
              "    <tr>\n",
              "      <th>8</th>\n",
              "      <td>0.99</td>\n",
              "      <td>-0.000042</td>\n",
              "      <td>0.000184</td>\n",
              "      <td>0.002772</td>\n",
              "    </tr>\n",
              "  </tbody>\n",
              "</table>\n",
              "</div>"
            ],
            "text/plain": [
              "      q     fst_1     fst_2     fst_3\n",
              "0  0.01 -0.002112 -0.000566 -0.002985\n",
              "1  0.05 -0.001543 -0.000834 -0.001159\n",
              "2  0.10 -0.001204 -0.000687 -0.000656\n",
              "3  0.25 -0.000685 -0.000329 -0.000132\n",
              "4  0.50 -0.000035 -0.000065  0.000099\n",
              "5  0.75  0.000468  0.000159  0.000426\n",
              "6  0.95  0.000954  0.000684  0.000980\n",
              "7  0.90  0.000907  0.000420  0.000694\n",
              "8  0.99 -0.000042  0.000184  0.002772"
            ]
          },
          "metadata": {},
          "execution_count": 226
        }
      ]
    },
    {
      "cell_type": "code",
      "metadata": {
        "id": "FtFAIVPbnmST"
      },
      "source": [
        ""
      ],
      "execution_count": null,
      "outputs": []
    },
    {
      "cell_type": "code",
      "metadata": {
        "id": "4kqITmgNnElp"
      },
      "source": [
        "from sklearn.metrics import mean_absolute_error\n",
        "from sklearn.metrics import mean_squared_error"
      ],
      "execution_count": null,
      "outputs": []
    }
  ]
}