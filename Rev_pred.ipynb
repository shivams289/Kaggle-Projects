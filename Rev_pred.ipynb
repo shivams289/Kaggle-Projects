{
  "nbformat": 4,
  "nbformat_minor": 0,
  "metadata": {
    "colab": {
      "name": "Rev_pred.ipynb",
      "provenance": [],
      "mount_file_id": "https://github.com/shivams289/Projects/blob/main/Rev_pred.ipynb",
      "authorship_tag": "ABX9TyOYQQZXPTARU0MNh4sZh+Za",
      "include_colab_link": true
    },
    "kernelspec": {
      "name": "python3",
      "display_name": "Python 3"
    },
    "language_info": {
      "name": "python"
    }
  },
  "cells": [
    {
      "cell_type": "markdown",
      "metadata": {
        "id": "view-in-github",
        "colab_type": "text"
      },
      "source": [
        "<a href=\"https://colab.research.google.com/github/shivams289/Projects/blob/main/Rev_pred.ipynb\" target=\"_parent\"><img src=\"https://colab.research.google.com/assets/colab-badge.svg\" alt=\"Open In Colab\"/></a>"
      ]
    },
    {
      "cell_type": "markdown",
      "metadata": {
        "id": "kYF7ZN11uwlK"
      },
      "source": [
        "#Basic Libraries Imports"
      ]
    },
    {
      "cell_type": "code",
      "metadata": {
        "id": "2daiAIfiyyKQ"
      },
      "source": [
        "import pandas as pd\n",
        "import numpy as np\n",
        "import seaborn as sns\n",
        "import matplotlib.pyplot as plt\n",
        "import math\n",
        "\n",
        "plt.rcParams[\"figure.figsize\"] = (30,8)\n",
        "plt.style.use('fivethirtyeight')\n",
        "import math\n",
        "\n",
        "\n",
        "\n",
        "from sklearn.metrics import mean_absolute_error\n",
        "\n",
        "from sklearn.metrics import mean_squared_error\n",
        "from sklearn.metrics import make_scorer\n"
      ],
      "execution_count": 1,
      "outputs": []
    },
    {
      "cell_type": "markdown",
      "metadata": {
        "id": "GsWqt-8du7Y9"
      },
      "source": [
        "#Data Preprocessing"
      ]
    },
    {
      "cell_type": "code",
      "metadata": {
        "id": "kdkYNJlek4LW"
      },
      "source": [
        "targ_col = ['target_total_revenues']"
      ],
      "execution_count": 2,
      "outputs": []
    },
    {
      "cell_type": "code",
      "metadata": {
        "id": "9u30kLvZzIuR"
      },
      "source": [
        "df = pd.read_parquet('/content/drive/MyDrive/brook_mvp_train_deputed_total_revenues_abt.parquet')"
      ],
      "execution_count": 3,
      "outputs": []
    },
    {
      "cell_type": "code",
      "metadata": {
        "colab": {
          "base_uri": "https://localhost:8080/"
        },
        "id": "IR0h_spIzUAw",
        "outputId": "a6b206f1-1fd3-40c9-b38d-dd1880c086c3"
      },
      "source": [
        "df.shape"
      ],
      "execution_count": 4,
      "outputs": [
        {
          "output_type": "execute_result",
          "data": {
            "text/plain": [
              "(21317, 721)"
            ]
          },
          "metadata": {},
          "execution_count": 4
        }
      ]
    },
    {
      "cell_type": "code",
      "metadata": {
        "colab": {
          "base_uri": "https://localhost:8080/"
        },
        "id": "UMkYTr1JzWEL",
        "outputId": "d5b39b8d-bf5a-454d-fc20-eb9c1a4870eb"
      },
      "source": [
        "set(df.dtypes)"
      ],
      "execution_count": 5,
      "outputs": [
        {
          "output_type": "execute_result",
          "data": {
            "text/plain": [
              "{dtype('float64'), dtype('int64'), StringDtype}"
            ]
          },
          "metadata": {},
          "execution_count": 5
        }
      ]
    },
    {
      "cell_type": "code",
      "metadata": {
        "colab": {
          "base_uri": "https://localhost:8080/"
        },
        "id": "tRd6_fnGzagH",
        "outputId": "9726cd86-92b5-4e38-daa4-da054d580257"
      },
      "source": [
        "# 718 columns are numeric \n",
        "df.select_dtypes(exclude=['float64', 'int64']).columns"
      ],
      "execution_count": 6,
      "outputs": [
        {
          "output_type": "execute_result",
          "data": {
            "text/plain": [
              "Index(['state', 'city', 'reporting_template_type_name'], dtype='object')"
            ]
          },
          "metadata": {},
          "execution_count": 6
        }
      ]
    },
    {
      "cell_type": "code",
      "metadata": {
        "id": "sOuovac9Aiv5"
      },
      "source": [
        "df.drop(['state', 'city'], axis =1 , inplace = True)"
      ],
      "execution_count": 7,
      "outputs": []
    },
    {
      "cell_type": "code",
      "metadata": {
        "colab": {
          "base_uri": "https://localhost:8080/",
          "height": 290
        },
        "id": "9XDET9S_1Iyl",
        "outputId": "51d5fb41-a70b-4297-c3ee-25d6d4b7f667"
      },
      "source": [
        "plt.plot(df['target_total_revenues'])"
      ],
      "execution_count": 8,
      "outputs": [
        {
          "output_type": "execute_result",
          "data": {
            "text/plain": [
              "[<matplotlib.lines.Line2D at 0x7f7f334286d0>]"
            ]
          },
          "metadata": {},
          "execution_count": 8
        },
        {
          "output_type": "display_data",
          "data": {
            "image/png": "[encoded data removed]",
            "text/plain": [
              "<Figure size 432x288 with 1 Axes>"
            ]
          },
          "metadata": {
            "needs_background": "light"
          }
        }
      ]
    },
    {
      "cell_type": "code",
      "metadata": {
        "colab": {
          "base_uri": "https://localhost:8080/"
        },
        "id": "cGcMkEQW3x0X",
        "outputId": "c7871d26-1c86-426f-a2f3-6e65377007dc"
      },
      "source": [
        "#number of unique Company id\n",
        "len(set(df['masked_company_id']))"
      ],
      "execution_count": 9,
      "outputs": [
        {
          "output_type": "execute_result",
          "data": {
            "text/plain": [
              "9761"
            ]
          },
          "metadata": {},
          "execution_count": 9
        }
      ]
    },
    {
      "cell_type": "code",
      "metadata": {
        "colab": {
          "base_uri": "https://localhost:8080/"
        },
        "id": "TF7M6cgfBBou",
        "outputId": "b44ebcf2-8f7a-4dc6-eac0-b4803d75968b"
      },
      "source": [
        "df.loc[~df['m1_total_revenues'].isna(), ['masked_company_id']].value_counts()"
      ],
      "execution_count": 10,
      "outputs": [
        {
          "output_type": "execute_result",
          "data": {
            "text/plain": [
              "masked_company_id\n",
              "2812                 2\n",
              "4838                 2\n",
              "2859                 1\n",
              "2938                 1\n",
              "3909                 1\n",
              "                    ..\n",
              "7330                 1\n",
              "7308                 1\n",
              "7281                 1\n",
              "7201                 1\n",
              "16                   1\n",
              "Length: 241, dtype: int64"
            ]
          },
          "metadata": {},
          "execution_count": 10
        }
      ]
    },
    {
      "cell_type": "code",
      "metadata": {
        "colab": {
          "base_uri": "https://localhost:8080/",
          "height": 242
        },
        "id": "ErPzex0y4Tj4",
        "outputId": "3b8ee0aa-1acc-41fc-bb00-c5a2b1bd5e96"
      },
      "source": [
        "#See if same company has different target years\n",
        "df[df['masked_company_id'] == 5021]"
      ],
      "execution_count": 11,
      "outputs": [
        {
          "output_type": "execute_result",
          "data": {
            "text/html": [
              "<div>\n",
              "<style scoped>\n",
              "    .dataframe tbody tr th:only-of-type {\n",
              "        vertical-align: middle;\n",
              "    }\n",
              "\n",
              "    .dataframe tbody tr th {\n",
              "        vertical-align: top;\n",
              "    }\n",
              "\n",
              "    .dataframe thead th {\n",
              "        text-align: right;\n",
              "    }\n",
              "</style>\n",
              "<table border=\"1\" class=\"dataframe\">\n",
              "  <thead>\n",
              "    <tr style=\"text-align: right;\">\n",
              "      <th></th>\n",
              "      <th>masked_company_id</th>\n",
              "      <th>year_founded</th>\n",
              "      <th>num_employees</th>\n",
              "      <th>reporting_template_type_name</th>\n",
              "      <th>mode_period_end_month</th>\n",
              "      <th>m8_accounts_payable_total</th>\n",
              "      <th>m8_accounts_receivable_long_term</th>\n",
              "      <th>m8_accounts_receivable_total</th>\n",
              "      <th>m8_accrued_expenses_total</th>\n",
              "      <th>m8_common_stock_total</th>\n",
              "      <th>m8_comprehensive_income_and_other_reported_private_only</th>\n",
              "      <th>m8_current_assets_per_total_assets</th>\n",
              "      <th>m8_current_income_taxes_payable</th>\n",
              "      <th>m8_current_portion_of_leases</th>\n",
              "      <th>m8_current_ratio</th>\n",
              "      <th>m8_deferred_tax_liability_non_current</th>\n",
              "      <th>m8_inventory</th>\n",
              "      <th>m8_inventory_per_current_assets</th>\n",
              "      <th>m8_lt_debt_per_equity</th>\n",
              "      <th>m8_long_term_debt</th>\n",
              "      <th>m8_long_term_debt_per_total_capital</th>\n",
              "      <th>m8_long_term_leases</th>\n",
              "      <th>m8_minority_interests_reported_private_only</th>\n",
              "      <th>m8_net_working_capital_per_total_assets</th>\n",
              "      <th>m8_other_current_assets_reported_private_only</th>\n",
              "      <th>m8_other_current_liabilities</th>\n",
              "      <th>m8_other_current_liabilities_reported_private_only</th>\n",
              "      <th>m8_other_intangibles_total</th>\n",
              "      <th>m8_other_non_current_liabilities</th>\n",
              "      <th>m8_other_non_current_liabilities_reported_private_only</th>\n",
              "      <th>m8_other_receivables</th>\n",
              "      <th>m8_preferred_stock_others</th>\n",
              "      <th>m8_provision_for_pension_reported_private_only</th>\n",
              "      <th>m8_retained_earnings</th>\n",
              "      <th>m8_short_term_borrowings</th>\n",
              "      <th>m8_total_cash_and_short_term_investments</th>\n",
              "      <th>m8_total_debt_per_total_liabilities_pct</th>\n",
              "      <th>m8_total_debt_to_capital_pct</th>\n",
              "      <th>m8_total_debt_per_equity</th>\n",
              "      <th>m8_total_tangible_fixed_assets_reported_private_only</th>\n",
              "      <th>...</th>\n",
              "      <th>m1_edlb</th>\n",
              "      <th>m1_edma</th>\n",
              "      <th>m1_edld</th>\n",
              "      <th>m1_edls</th>\n",
              "      <th>m1_edkv</th>\n",
              "      <th>m1_idob</th>\n",
              "      <th>m1_je2j</th>\n",
              "      <th>m1_idoh</th>\n",
              "      <th>m1_iefq</th>\n",
              "      <th>m1_kp8d</th>\n",
              "      <th>m1_jo4x</th>\n",
              "      <th>m1_jo6b</th>\n",
              "      <th>m1_iefb</th>\n",
              "      <th>m1_iebm</th>\n",
              "      <th>m1_jo4w</th>\n",
              "      <th>m1_ieau</th>\n",
              "      <th>m1_idik</th>\n",
              "      <th>m1_jo4t</th>\n",
              "      <th>m1_kp8i</th>\n",
              "      <th>m1_kp8j</th>\n",
              "      <th>m1_j45s</th>\n",
              "      <th>m1_k5hu</th>\n",
              "      <th>m1_d7gj</th>\n",
              "      <th>m1_d7gh</th>\n",
              "      <th>m1_d7gg</th>\n",
              "      <th>m1_d7gf</th>\n",
              "      <th>m1_d7gc</th>\n",
              "      <th>m1_d7gb</th>\n",
              "      <th>m1_d7ga</th>\n",
              "      <th>m1_d7g9</th>\n",
              "      <th>m1_dkl3</th>\n",
              "      <th>m1_dkl5</th>\n",
              "      <th>m1_dkk4</th>\n",
              "      <th>m1_dkn3</th>\n",
              "      <th>m1_dkn5</th>\n",
              "      <th>m1_dkn8</th>\n",
              "      <th>m1_dkm7</th>\n",
              "      <th>m1_e8pu</th>\n",
              "      <th>target_year</th>\n",
              "      <th>target_total_revenues</th>\n",
              "    </tr>\n",
              "  </thead>\n",
              "  <tbody>\n",
              "    <tr>\n",
              "      <th>21313</th>\n",
              "      <td>5021</td>\n",
              "      <td>1986.0</td>\n",
              "      <td>27.0</td>\n",
              "      <td></td>\n",
              "      <td>3</td>\n",
              "      <td>0.0</td>\n",
              "      <td>0.0</td>\n",
              "      <td>0.0</td>\n",
              "      <td>0.0</td>\n",
              "      <td>0.0</td>\n",
              "      <td>0.0</td>\n",
              "      <td>0.646510</td>\n",
              "      <td>84.0</td>\n",
              "      <td>0.0</td>\n",
              "      <td>1.330619</td>\n",
              "      <td>0.0</td>\n",
              "      <td>6424.0</td>\n",
              "      <td>0.054989</td>\n",
              "      <td>18.486870</td>\n",
              "      <td>14495.0</td>\n",
              "      <td>13.737123</td>\n",
              "      <td>0.0</td>\n",
              "      <td>0.0</td>\n",
              "      <td>-0.328841</td>\n",
              "      <td>0.0</td>\n",
              "      <td>75097.0</td>\n",
              "      <td>75097.0</td>\n",
              "      <td>0.0</td>\n",
              "      <td>0.0</td>\n",
              "      <td>0.0</td>\n",
              "      <td>9336.0</td>\n",
              "      <td>0.0</td>\n",
              "      <td>0.0</td>\n",
              "      <td>78407.0</td>\n",
              "      <td>12615.0</td>\n",
              "      <td>101063.0</td>\n",
              "      <td>26.502820</td>\n",
              "      <td>25.692542</td>\n",
              "      <td>34.575994</td>\n",
              "      <td>63875.0</td>\n",
              "      <td>...</td>\n",
              "      <td>-1.666667e-03</td>\n",
              "      <td>0.041667</td>\n",
              "      <td>0.000833</td>\n",
              "      <td>0.032500</td>\n",
              "      <td>-0.018333</td>\n",
              "      <td>2.775000</td>\n",
              "      <td>1029.550000</td>\n",
              "      <td>2.708333</td>\n",
              "      <td>-0.925000</td>\n",
              "      <td>15.966667</td>\n",
              "      <td>6.225000</td>\n",
              "      <td>3.658333</td>\n",
              "      <td>2.591667</td>\n",
              "      <td>1.458333</td>\n",
              "      <td>3.300000</td>\n",
              "      <td>1.725000</td>\n",
              "      <td>0.016667</td>\n",
              "      <td>17.000000</td>\n",
              "      <td>9.983333</td>\n",
              "      <td>34.033333</td>\n",
              "      <td>3.683333</td>\n",
              "      <td>18.416667</td>\n",
              "      <td>1.108333</td>\n",
              "      <td>4.641667</td>\n",
              "      <td>0.775000</td>\n",
              "      <td>2.833333</td>\n",
              "      <td>0.083333</td>\n",
              "      <td>0.275000</td>\n",
              "      <td>0.041667</td>\n",
              "      <td>2.00</td>\n",
              "      <td>-0.933333</td>\n",
              "      <td>1.108333</td>\n",
              "      <td>-0.616667</td>\n",
              "      <td>1.333333</td>\n",
              "      <td>3.716667</td>\n",
              "      <td>1.250000</td>\n",
              "      <td>-3.583333</td>\n",
              "      <td>0.150000</td>\n",
              "      <td>2018</td>\n",
              "      <td>581299.0</td>\n",
              "    </tr>\n",
              "    <tr>\n",
              "      <th>21314</th>\n",
              "      <td>5021</td>\n",
              "      <td>1986.0</td>\n",
              "      <td>27.0</td>\n",
              "      <td></td>\n",
              "      <td>3</td>\n",
              "      <td>104.0</td>\n",
              "      <td>0.0</td>\n",
              "      <td>0.0</td>\n",
              "      <td>0.0</td>\n",
              "      <td>0.0</td>\n",
              "      <td>0.0</td>\n",
              "      <td>0.631586</td>\n",
              "      <td>621.0</td>\n",
              "      <td>0.0</td>\n",
              "      <td>1.867830</td>\n",
              "      <td>0.0</td>\n",
              "      <td>6679.0</td>\n",
              "      <td>0.076537</td>\n",
              "      <td>4.025754</td>\n",
              "      <td>3539.0</td>\n",
              "      <td>3.453289</td>\n",
              "      <td>0.0</td>\n",
              "      <td>0.0</td>\n",
              "      <td>-0.130718</td>\n",
              "      <td>0.0</td>\n",
              "      <td>34961.0</td>\n",
              "      <td>34961.0</td>\n",
              "      <td>0.0</td>\n",
              "      <td>0.0</td>\n",
              "      <td>0.0</td>\n",
              "      <td>10946.0</td>\n",
              "      <td>0.0</td>\n",
              "      <td>0.0</td>\n",
              "      <td>87909.0</td>\n",
              "      <td>11034.0</td>\n",
              "      <td>69640.0</td>\n",
              "      <td>28.995802</td>\n",
              "      <td>14.220058</td>\n",
              "      <td>16.577370</td>\n",
              "      <td>50903.0</td>\n",
              "      <td>...</td>\n",
              "      <td>3.320000e-18</td>\n",
              "      <td>-0.003333</td>\n",
              "      <td>0.000833</td>\n",
              "      <td>-0.121667</td>\n",
              "      <td>-0.010000</td>\n",
              "      <td>0.158333</td>\n",
              "      <td>1187.616667</td>\n",
              "      <td>0.458333</td>\n",
              "      <td>2.808333</td>\n",
              "      <td>11.450000</td>\n",
              "      <td>-12.091667</td>\n",
              "      <td>8.541667</td>\n",
              "      <td>0.375000</td>\n",
              "      <td>2.866667</td>\n",
              "      <td>-5.008333</td>\n",
              "      <td>2.450000</td>\n",
              "      <td>4.741667</td>\n",
              "      <td>16.008333</td>\n",
              "      <td>17.783333</td>\n",
              "      <td>17.883333</td>\n",
              "      <td>2.383333</td>\n",
              "      <td>19.416667</td>\n",
              "      <td>1.175000</td>\n",
              "      <td>3.433333</td>\n",
              "      <td>2.391667</td>\n",
              "      <td>1.225000</td>\n",
              "      <td>3.116667</td>\n",
              "      <td>2.141667</td>\n",
              "      <td>3.200000</td>\n",
              "      <td>4.80</td>\n",
              "      <td>3.916667</td>\n",
              "      <td>4.891667</td>\n",
              "      <td>2.958333</td>\n",
              "      <td>2.333333</td>\n",
              "      <td>5.241667</td>\n",
              "      <td>3.516667</td>\n",
              "      <td>0.833333</td>\n",
              "      <td>0.016667</td>\n",
              "      <td>2019</td>\n",
              "      <td>556601.0</td>\n",
              "    </tr>\n",
              "    <tr>\n",
              "      <th>21315</th>\n",
              "      <td>5021</td>\n",
              "      <td>1986.0</td>\n",
              "      <td>27.0</td>\n",
              "      <td></td>\n",
              "      <td>3</td>\n",
              "      <td>28871.0</td>\n",
              "      <td>0.0</td>\n",
              "      <td>0.0</td>\n",
              "      <td>0.0</td>\n",
              "      <td>0.0</td>\n",
              "      <td>0.0</td>\n",
              "      <td>0.653171</td>\n",
              "      <td>84.0</td>\n",
              "      <td>0.0</td>\n",
              "      <td>1.255265</td>\n",
              "      <td>0.0</td>\n",
              "      <td>4978.0</td>\n",
              "      <td>0.042738</td>\n",
              "      <td>7.711875</td>\n",
              "      <td>6124.0</td>\n",
              "      <td>6.318678</td>\n",
              "      <td>0.0</td>\n",
              "      <td>0.0</td>\n",
              "      <td>-0.272207</td>\n",
              "      <td>0.0</td>\n",
              "      <td>52450.0</td>\n",
              "      <td>52450.0</td>\n",
              "      <td>0.0</td>\n",
              "      <td>0.0</td>\n",
              "      <td>0.0</td>\n",
              "      <td>27886.0</td>\n",
              "      <td>0.0</td>\n",
              "      <td>0.0</td>\n",
              "      <td>79410.0</td>\n",
              "      <td>11385.0</td>\n",
              "      <td>83612.0</td>\n",
              "      <td>17.701235</td>\n",
              "      <td>18.065601</td>\n",
              "      <td>22.048860</td>\n",
              "      <td>61848.0</td>\n",
              "      <td>...</td>\n",
              "      <td>3.333333e-03</td>\n",
              "      <td>0.017500</td>\n",
              "      <td>0.000833</td>\n",
              "      <td>-0.065833</td>\n",
              "      <td>0.003333</td>\n",
              "      <td>1.175000</td>\n",
              "      <td>1356.700000</td>\n",
              "      <td>2.150000</td>\n",
              "      <td>0.583333</td>\n",
              "      <td>7.333333</td>\n",
              "      <td>-2.075000</td>\n",
              "      <td>8.408333</td>\n",
              "      <td>1.100000</td>\n",
              "      <td>3.333333</td>\n",
              "      <td>8.566667</td>\n",
              "      <td>3.316667</td>\n",
              "      <td>1.333333</td>\n",
              "      <td>11.608333</td>\n",
              "      <td>14.483333</td>\n",
              "      <td>18.191667</td>\n",
              "      <td>2.566667</td>\n",
              "      <td>19.000000</td>\n",
              "      <td>-0.058333</td>\n",
              "      <td>2.958333</td>\n",
              "      <td>2.950000</td>\n",
              "      <td>1.833333</td>\n",
              "      <td>1.083333</td>\n",
              "      <td>2.083333</td>\n",
              "      <td>-0.391667</td>\n",
              "      <td>4.35</td>\n",
              "      <td>2.275000</td>\n",
              "      <td>6.316667</td>\n",
              "      <td>1.775000</td>\n",
              "      <td>2.675000</td>\n",
              "      <td>3.425000</td>\n",
              "      <td>3.933333</td>\n",
              "      <td>-1.458333</td>\n",
              "      <td>-0.050000</td>\n",
              "      <td>2020</td>\n",
              "      <td>562695.0</td>\n",
              "    </tr>\n",
              "  </tbody>\n",
              "</table>\n",
              "<p>3 rows × 719 columns</p>\n",
              "</div>"
            ],
            "text/plain": [
              "       masked_company_id  year_founded  ...  target_year target_total_revenues\n",
              "21313               5021        1986.0  ...         2018              581299.0\n",
              "21314               5021        1986.0  ...         2019              556601.0\n",
              "21315               5021        1986.0  ...         2020              562695.0\n",
              "\n",
              "[3 rows x 719 columns]"
            ]
          },
          "metadata": {},
          "execution_count": 11
        }
      ]
    },
    {
      "cell_type": "code",
      "metadata": {
        "colab": {
          "base_uri": "https://localhost:8080/"
        },
        "id": "mi1vCp_i5YJQ",
        "outputId": "e766018f-7533-4045-a345-d3f8891156c1"
      },
      "source": [
        "# % of this column that is missing \n",
        "df['m8_total_debt_per_total_liabilities_pct'].isnull().mean()*100"
      ],
      "execution_count": 12,
      "outputs": [
        {
          "output_type": "execute_result",
          "data": {
            "text/plain": [
              "44.87029131678942"
            ]
          },
          "metadata": {},
          "execution_count": 12
        }
      ]
    },
    {
      "cell_type": "code",
      "metadata": {
        "id": "1of0HZ4-45sH"
      },
      "source": [
        "#columns having greater than 50% of the values as NUll\n",
        "def find_null_columns(df):\n",
        "  null_cols = {'col_name':[], 'Null%':[]}\n",
        "  for col in df.columns:\n",
        "    null_count = df[col].isnull().sum()\n",
        "    perc_null = null_count/len(df)\n",
        "    if perc_null >=0.45:\n",
        "      null_cols['col_name'].append(col)\n",
        "      null_cols['Null%'].append(perc_null)\n",
        "  null_df = pd.DataFrame(null_cols)\n",
        "\n",
        "  return null_df\n",
        "\n",
        "#cols having 0 null values\n",
        "def non_null_columns(df):\n",
        "  non_null_cols = []\n",
        "  for col in df.columns:\n",
        "    null_count = df[col].isnull().sum()\n",
        "    if null_count == 0:\n",
        "      non_null_cols.append(col)\n",
        "\n",
        "  return non_null_cols\n",
        "\n",
        "#cols having 0 null values\n",
        "def less_null_columns(df):\n",
        "  less_null_cols = []\n",
        "  for col in df.columns:\n",
        "    null_count = df[col].isnull().sum()\n",
        "    if null_count <=7000:\n",
        "      less_null_cols.append(col)\n",
        "\n",
        "  return less_null_cols"
      ],
      "execution_count": 13,
      "outputs": []
    },
    {
      "cell_type": "code",
      "metadata": {
        "id": "OQLC2UUwCbKz"
      },
      "source": [
        "less_null_lst_excl_non_null = list(set(less_null_columns(df)) - set(non_null_columns(df)))"
      ],
      "execution_count": 14,
      "outputs": []
    },
    {
      "cell_type": "code",
      "metadata": {
        "id": "GG2CiVv3Nz0z"
      },
      "source": [
        ""
      ],
      "execution_count": 14,
      "outputs": []
    },
    {
      "cell_type": "markdown",
      "metadata": {
        "id": "YIudXJHlN0cl"
      },
      "source": [
        "#FEATURES WITH LESS THAN 7K NULL VALUES"
      ]
    },
    {
      "cell_type": "code",
      "metadata": {
        "id": "eIzTZAGpDDub"
      },
      "source": [
        "#less_null_lst_excl_non_null"
      ],
      "execution_count": 15,
      "outputs": []
    },
    {
      "cell_type": "code",
      "metadata": {
        "id": "RrO3AOMUH8K5"
      },
      "source": [
        "less_null_columns_list = less_null_columns(df)"
      ],
      "execution_count": 16,
      "outputs": []
    },
    {
      "cell_type": "code",
      "metadata": {
        "id": "e_s7p8yyGmyN"
      },
      "source": [
        "non_n = df[less_null_columns_list].dropna(axis = 0)"
      ],
      "execution_count": 17,
      "outputs": []
    },
    {
      "cell_type": "code",
      "metadata": {
        "colab": {
          "base_uri": "https://localhost:8080/"
        },
        "id": "AvsE_kANG28A",
        "outputId": "a34cab2f-f274-4fa6-d986-a4f2c099132c"
      },
      "source": [
        "len(set(non_n['masked_company_id']))\n"
      ],
      "execution_count": 18,
      "outputs": [
        {
          "output_type": "execute_result",
          "data": {
            "text/plain": [
              "4903"
            ]
          },
          "metadata": {},
          "execution_count": 18
        }
      ]
    },
    {
      "cell_type": "code",
      "metadata": {
        "colab": {
          "base_uri": "https://localhost:8080/"
        },
        "id": "U3gHBFrfJSGb",
        "outputId": "8b9f9799-83eb-4f3a-f96e-7fc9b163e813"
      },
      "source": [
        "non_n.isnull().sum()"
      ],
      "execution_count": 19,
      "outputs": [
        {
          "output_type": "execute_result",
          "data": {
            "text/plain": [
              "masked_company_id               0\n",
              "year_founded                    0\n",
              "reporting_template_type_name    0\n",
              "mode_period_end_month           0\n",
              "m8_edlp                         0\n",
              "                               ..\n",
              "m1_dkn8                         0\n",
              "m1_dkm7                         0\n",
              "m1_e8pu                         0\n",
              "target_year                     0\n",
              "target_total_revenues           0\n",
              "Length: 599, dtype: int64"
            ]
          },
          "metadata": {},
          "execution_count": 19
        }
      ]
    },
    {
      "cell_type": "code",
      "metadata": {
        "colab": {
          "base_uri": "https://localhost:8080/",
          "height": 338
        },
        "id": "4-BbOBcSIP35",
        "outputId": "323b93b6-684a-476c-ea1c-621588fcd31c"
      },
      "source": [
        "non_n.head()"
      ],
      "execution_count": 20,
      "outputs": [
        {
          "output_type": "execute_result",
          "data": {
            "text/html": [
              "<div>\n",
              "<style scoped>\n",
              "    .dataframe tbody tr th:only-of-type {\n",
              "        vertical-align: middle;\n",
              "    }\n",
              "\n",
              "    .dataframe tbody tr th {\n",
              "        vertical-align: top;\n",
              "    }\n",
              "\n",
              "    .dataframe thead th {\n",
              "        text-align: right;\n",
              "    }\n",
              "</style>\n",
              "<table border=\"1\" class=\"dataframe\">\n",
              "  <thead>\n",
              "    <tr style=\"text-align: right;\">\n",
              "      <th></th>\n",
              "      <th>masked_company_id</th>\n",
              "      <th>year_founded</th>\n",
              "      <th>reporting_template_type_name</th>\n",
              "      <th>mode_period_end_month</th>\n",
              "      <th>m8_edlp</th>\n",
              "      <th>m8_edks</th>\n",
              "      <th>m8_eczt</th>\n",
              "      <th>m8_edlo</th>\n",
              "      <th>m8_edkr</th>\n",
              "      <th>m8_edlr</th>\n",
              "      <th>m8_edku</th>\n",
              "      <th>m8_edly</th>\n",
              "      <th>m8_edlb</th>\n",
              "      <th>m8_edma</th>\n",
              "      <th>m8_edld</th>\n",
              "      <th>m8_edls</th>\n",
              "      <th>m8_edkv</th>\n",
              "      <th>m8_idob</th>\n",
              "      <th>m8_je2j</th>\n",
              "      <th>m8_idoh</th>\n",
              "      <th>m8_iefq</th>\n",
              "      <th>m8_kp8d</th>\n",
              "      <th>m8_jo4x</th>\n",
              "      <th>m8_jo6b</th>\n",
              "      <th>m8_iefb</th>\n",
              "      <th>m8_iebm</th>\n",
              "      <th>m8_jo4w</th>\n",
              "      <th>m8_ieau</th>\n",
              "      <th>m8_idik</th>\n",
              "      <th>m8_jo4t</th>\n",
              "      <th>m8_kp8i</th>\n",
              "      <th>m8_kp8j</th>\n",
              "      <th>m8_j45s</th>\n",
              "      <th>m8_k5hu</th>\n",
              "      <th>m8_d7gj</th>\n",
              "      <th>m8_d7gh</th>\n",
              "      <th>m8_d7gg</th>\n",
              "      <th>m8_d7gf</th>\n",
              "      <th>m8_d7gc</th>\n",
              "      <th>m8_d7gb</th>\n",
              "      <th>...</th>\n",
              "      <th>m1_edlb</th>\n",
              "      <th>m1_edma</th>\n",
              "      <th>m1_edld</th>\n",
              "      <th>m1_edls</th>\n",
              "      <th>m1_edkv</th>\n",
              "      <th>m1_idob</th>\n",
              "      <th>m1_je2j</th>\n",
              "      <th>m1_idoh</th>\n",
              "      <th>m1_iefq</th>\n",
              "      <th>m1_kp8d</th>\n",
              "      <th>m1_jo4x</th>\n",
              "      <th>m1_jo6b</th>\n",
              "      <th>m1_iefb</th>\n",
              "      <th>m1_iebm</th>\n",
              "      <th>m1_jo4w</th>\n",
              "      <th>m1_ieau</th>\n",
              "      <th>m1_idik</th>\n",
              "      <th>m1_jo4t</th>\n",
              "      <th>m1_kp8i</th>\n",
              "      <th>m1_kp8j</th>\n",
              "      <th>m1_j45s</th>\n",
              "      <th>m1_k5hu</th>\n",
              "      <th>m1_d7gj</th>\n",
              "      <th>m1_d7gh</th>\n",
              "      <th>m1_d7gg</th>\n",
              "      <th>m1_d7gf</th>\n",
              "      <th>m1_d7gc</th>\n",
              "      <th>m1_d7gb</th>\n",
              "      <th>m1_d7ga</th>\n",
              "      <th>m1_d7g9</th>\n",
              "      <th>m1_dkl3</th>\n",
              "      <th>m1_dkl5</th>\n",
              "      <th>m1_dkk4</th>\n",
              "      <th>m1_dkn3</th>\n",
              "      <th>m1_dkn5</th>\n",
              "      <th>m1_dkn8</th>\n",
              "      <th>m1_dkm7</th>\n",
              "      <th>m1_e8pu</th>\n",
              "      <th>target_year</th>\n",
              "      <th>target_total_revenues</th>\n",
              "    </tr>\n",
              "  </thead>\n",
              "  <tbody>\n",
              "    <tr>\n",
              "      <th>1</th>\n",
              "      <td>5024</td>\n",
              "      <td>2009.0</td>\n",
              "      <td></td>\n",
              "      <td>3</td>\n",
              "      <td>-0.085000</td>\n",
              "      <td>0.003333</td>\n",
              "      <td>0.175000</td>\n",
              "      <td>-0.347500</td>\n",
              "      <td>0.000833</td>\n",
              "      <td>-0.208333</td>\n",
              "      <td>-0.063333</td>\n",
              "      <td>-0.052500</td>\n",
              "      <td>5.000000e-03</td>\n",
              "      <td>-0.009167</td>\n",
              "      <td>0.005000</td>\n",
              "      <td>0.201667</td>\n",
              "      <td>0.021667</td>\n",
              "      <td>-0.450000</td>\n",
              "      <td>361.750000</td>\n",
              "      <td>-6.233333</td>\n",
              "      <td>6.033333</td>\n",
              "      <td>27.550000</td>\n",
              "      <td>-18.191667</td>\n",
              "      <td>-7.041667</td>\n",
              "      <td>-0.400000</td>\n",
              "      <td>-5.241667</td>\n",
              "      <td>-2.241667</td>\n",
              "      <td>4.208333</td>\n",
              "      <td>1.650000</td>\n",
              "      <td>8.808333</td>\n",
              "      <td>30.166667</td>\n",
              "      <td>22.608333</td>\n",
              "      <td>0.058333</td>\n",
              "      <td>21.416667</td>\n",
              "      <td>1.841667</td>\n",
              "      <td>6.866667</td>\n",
              "      <td>1.933333</td>\n",
              "      <td>2.383333</td>\n",
              "      <td>3.425000</td>\n",
              "      <td>1.666667</td>\n",
              "      <td>...</td>\n",
              "      <td>-1.666667e-03</td>\n",
              "      <td>0.041667</td>\n",
              "      <td>0.000833</td>\n",
              "      <td>0.032500</td>\n",
              "      <td>-0.018333</td>\n",
              "      <td>2.775000</td>\n",
              "      <td>1029.550000</td>\n",
              "      <td>2.708333</td>\n",
              "      <td>-0.925000</td>\n",
              "      <td>15.966667</td>\n",
              "      <td>6.225000</td>\n",
              "      <td>3.658333</td>\n",
              "      <td>2.591667</td>\n",
              "      <td>1.458333</td>\n",
              "      <td>3.300000</td>\n",
              "      <td>1.725000</td>\n",
              "      <td>0.016667</td>\n",
              "      <td>17.000000</td>\n",
              "      <td>9.983333</td>\n",
              "      <td>34.033333</td>\n",
              "      <td>3.683333</td>\n",
              "      <td>18.416667</td>\n",
              "      <td>1.108333</td>\n",
              "      <td>4.641667</td>\n",
              "      <td>0.775000</td>\n",
              "      <td>2.833333</td>\n",
              "      <td>0.083333</td>\n",
              "      <td>0.275000</td>\n",
              "      <td>0.041667</td>\n",
              "      <td>2.000000</td>\n",
              "      <td>-0.933333</td>\n",
              "      <td>1.108333</td>\n",
              "      <td>-0.616667</td>\n",
              "      <td>1.333333</td>\n",
              "      <td>3.716667</td>\n",
              "      <td>1.250000</td>\n",
              "      <td>-3.583333</td>\n",
              "      <td>0.150000</td>\n",
              "      <td>2018</td>\n",
              "      <td>96321.0</td>\n",
              "    </tr>\n",
              "    <tr>\n",
              "      <th>2</th>\n",
              "      <td>5025</td>\n",
              "      <td>1960.0</td>\n",
              "      <td>Standard</td>\n",
              "      <td>3</td>\n",
              "      <td>-0.085000</td>\n",
              "      <td>0.003333</td>\n",
              "      <td>0.175000</td>\n",
              "      <td>-0.347500</td>\n",
              "      <td>0.000833</td>\n",
              "      <td>-0.208333</td>\n",
              "      <td>-0.063333</td>\n",
              "      <td>-0.052500</td>\n",
              "      <td>5.000000e-03</td>\n",
              "      <td>-0.009167</td>\n",
              "      <td>0.005000</td>\n",
              "      <td>0.201667</td>\n",
              "      <td>0.021667</td>\n",
              "      <td>-0.450000</td>\n",
              "      <td>361.750000</td>\n",
              "      <td>-6.233333</td>\n",
              "      <td>6.033333</td>\n",
              "      <td>27.550000</td>\n",
              "      <td>-18.191667</td>\n",
              "      <td>-7.041667</td>\n",
              "      <td>-0.400000</td>\n",
              "      <td>-5.241667</td>\n",
              "      <td>-2.241667</td>\n",
              "      <td>4.208333</td>\n",
              "      <td>1.650000</td>\n",
              "      <td>8.808333</td>\n",
              "      <td>30.166667</td>\n",
              "      <td>22.608333</td>\n",
              "      <td>0.058333</td>\n",
              "      <td>21.416667</td>\n",
              "      <td>1.841667</td>\n",
              "      <td>6.866667</td>\n",
              "      <td>1.933333</td>\n",
              "      <td>2.383333</td>\n",
              "      <td>3.425000</td>\n",
              "      <td>1.666667</td>\n",
              "      <td>...</td>\n",
              "      <td>-1.666667e-03</td>\n",
              "      <td>0.041667</td>\n",
              "      <td>0.000833</td>\n",
              "      <td>0.032500</td>\n",
              "      <td>-0.018333</td>\n",
              "      <td>2.775000</td>\n",
              "      <td>1029.550000</td>\n",
              "      <td>2.708333</td>\n",
              "      <td>-0.925000</td>\n",
              "      <td>15.966667</td>\n",
              "      <td>6.225000</td>\n",
              "      <td>3.658333</td>\n",
              "      <td>2.591667</td>\n",
              "      <td>1.458333</td>\n",
              "      <td>3.300000</td>\n",
              "      <td>1.725000</td>\n",
              "      <td>0.016667</td>\n",
              "      <td>17.000000</td>\n",
              "      <td>9.983333</td>\n",
              "      <td>34.033333</td>\n",
              "      <td>3.683333</td>\n",
              "      <td>18.416667</td>\n",
              "      <td>1.108333</td>\n",
              "      <td>4.641667</td>\n",
              "      <td>0.775000</td>\n",
              "      <td>2.833333</td>\n",
              "      <td>0.083333</td>\n",
              "      <td>0.275000</td>\n",
              "      <td>0.041667</td>\n",
              "      <td>2.000000</td>\n",
              "      <td>-0.933333</td>\n",
              "      <td>1.108333</td>\n",
              "      <td>-0.616667</td>\n",
              "      <td>1.333333</td>\n",
              "      <td>3.716667</td>\n",
              "      <td>1.250000</td>\n",
              "      <td>-3.583333</td>\n",
              "      <td>0.150000</td>\n",
              "      <td>2018</td>\n",
              "      <td>97461.0</td>\n",
              "    </tr>\n",
              "    <tr>\n",
              "      <th>3</th>\n",
              "      <td>5025</td>\n",
              "      <td>1960.0</td>\n",
              "      <td>Standard</td>\n",
              "      <td>3</td>\n",
              "      <td>0.061667</td>\n",
              "      <td>-0.001667</td>\n",
              "      <td>-0.091667</td>\n",
              "      <td>0.098333</td>\n",
              "      <td>0.017500</td>\n",
              "      <td>-0.398333</td>\n",
              "      <td>0.005833</td>\n",
              "      <td>0.044167</td>\n",
              "      <td>1.666667e-03</td>\n",
              "      <td>0.039167</td>\n",
              "      <td>0.001667</td>\n",
              "      <td>0.465833</td>\n",
              "      <td>0.029167</td>\n",
              "      <td>-1.233333</td>\n",
              "      <td>425.266667</td>\n",
              "      <td>-5.975000</td>\n",
              "      <td>4.433333</td>\n",
              "      <td>19.750000</td>\n",
              "      <td>-16.175000</td>\n",
              "      <td>8.483333</td>\n",
              "      <td>-1.225000</td>\n",
              "      <td>-2.383333</td>\n",
              "      <td>-3.450000</td>\n",
              "      <td>2.550000</td>\n",
              "      <td>5.458333</td>\n",
              "      <td>9.825000</td>\n",
              "      <td>28.458333</td>\n",
              "      <td>-3.358333</td>\n",
              "      <td>0.066667</td>\n",
              "      <td>21.833333</td>\n",
              "      <td>2.583333</td>\n",
              "      <td>5.350000</td>\n",
              "      <td>1.425000</td>\n",
              "      <td>4.791667</td>\n",
              "      <td>3.116667</td>\n",
              "      <td>1.191667</td>\n",
              "      <td>...</td>\n",
              "      <td>3.320000e-18</td>\n",
              "      <td>-0.003333</td>\n",
              "      <td>0.000833</td>\n",
              "      <td>-0.121667</td>\n",
              "      <td>-0.010000</td>\n",
              "      <td>0.158333</td>\n",
              "      <td>1187.616667</td>\n",
              "      <td>0.458333</td>\n",
              "      <td>2.808333</td>\n",
              "      <td>11.450000</td>\n",
              "      <td>-12.091667</td>\n",
              "      <td>8.541667</td>\n",
              "      <td>0.375000</td>\n",
              "      <td>2.866667</td>\n",
              "      <td>-5.008333</td>\n",
              "      <td>2.450000</td>\n",
              "      <td>4.741667</td>\n",
              "      <td>16.008333</td>\n",
              "      <td>17.783333</td>\n",
              "      <td>17.883333</td>\n",
              "      <td>2.383333</td>\n",
              "      <td>19.416667</td>\n",
              "      <td>1.175000</td>\n",
              "      <td>3.433333</td>\n",
              "      <td>2.391667</td>\n",
              "      <td>1.225000</td>\n",
              "      <td>3.116667</td>\n",
              "      <td>2.141667</td>\n",
              "      <td>3.200000</td>\n",
              "      <td>4.800000</td>\n",
              "      <td>3.916667</td>\n",
              "      <td>4.891667</td>\n",
              "      <td>2.958333</td>\n",
              "      <td>2.333333</td>\n",
              "      <td>5.241667</td>\n",
              "      <td>3.516667</td>\n",
              "      <td>0.833333</td>\n",
              "      <td>0.016667</td>\n",
              "      <td>2019</td>\n",
              "      <td>95291.0</td>\n",
              "    </tr>\n",
              "    <tr>\n",
              "      <th>4</th>\n",
              "      <td>5025</td>\n",
              "      <td>1960.0</td>\n",
              "      <td>Standard</td>\n",
              "      <td>3</td>\n",
              "      <td>0.095833</td>\n",
              "      <td>0.015833</td>\n",
              "      <td>0.658333</td>\n",
              "      <td>0.082500</td>\n",
              "      <td>-0.001667</td>\n",
              "      <td>-0.005833</td>\n",
              "      <td>-0.015833</td>\n",
              "      <td>0.012500</td>\n",
              "      <td>2.890000e-19</td>\n",
              "      <td>-0.006667</td>\n",
              "      <td>-0.000833</td>\n",
              "      <td>0.165833</td>\n",
              "      <td>0.034167</td>\n",
              "      <td>-1.833333</td>\n",
              "      <td>502.433333</td>\n",
              "      <td>-3.758333</td>\n",
              "      <td>0.233333</td>\n",
              "      <td>8.541667</td>\n",
              "      <td>-6.433333</td>\n",
              "      <td>12.641667</td>\n",
              "      <td>-1.666667</td>\n",
              "      <td>-2.558333</td>\n",
              "      <td>-3.208333</td>\n",
              "      <td>3.525000</td>\n",
              "      <td>1.758333</td>\n",
              "      <td>14.125000</td>\n",
              "      <td>29.050000</td>\n",
              "      <td>-5.325000</td>\n",
              "      <td>-0.541667</td>\n",
              "      <td>22.083333</td>\n",
              "      <td>2.600000</td>\n",
              "      <td>5.141667</td>\n",
              "      <td>-0.333333</td>\n",
              "      <td>4.150000</td>\n",
              "      <td>4.816667</td>\n",
              "      <td>6.491667</td>\n",
              "      <td>...</td>\n",
              "      <td>3.333333e-03</td>\n",
              "      <td>0.017500</td>\n",
              "      <td>0.000833</td>\n",
              "      <td>-0.065833</td>\n",
              "      <td>0.003333</td>\n",
              "      <td>1.175000</td>\n",
              "      <td>1356.700000</td>\n",
              "      <td>2.150000</td>\n",
              "      <td>0.583333</td>\n",
              "      <td>7.333333</td>\n",
              "      <td>-2.075000</td>\n",
              "      <td>8.408333</td>\n",
              "      <td>1.100000</td>\n",
              "      <td>3.333333</td>\n",
              "      <td>8.566667</td>\n",
              "      <td>3.316667</td>\n",
              "      <td>1.333333</td>\n",
              "      <td>11.608333</td>\n",
              "      <td>14.483333</td>\n",
              "      <td>18.191667</td>\n",
              "      <td>2.566667</td>\n",
              "      <td>19.000000</td>\n",
              "      <td>-0.058333</td>\n",
              "      <td>2.958333</td>\n",
              "      <td>2.950000</td>\n",
              "      <td>1.833333</td>\n",
              "      <td>1.083333</td>\n",
              "      <td>2.083333</td>\n",
              "      <td>-0.391667</td>\n",
              "      <td>4.350000</td>\n",
              "      <td>2.275000</td>\n",
              "      <td>6.316667</td>\n",
              "      <td>1.775000</td>\n",
              "      <td>2.675000</td>\n",
              "      <td>3.425000</td>\n",
              "      <td>3.933333</td>\n",
              "      <td>-1.458333</td>\n",
              "      <td>-0.050000</td>\n",
              "      <td>2020</td>\n",
              "      <td>93056.0</td>\n",
              "    </tr>\n",
              "    <tr>\n",
              "      <th>11</th>\n",
              "      <td>5031</td>\n",
              "      <td>2004.0</td>\n",
              "      <td>Standard</td>\n",
              "      <td>4</td>\n",
              "      <td>-0.070000</td>\n",
              "      <td>0.004167</td>\n",
              "      <td>0.225000</td>\n",
              "      <td>-0.284167</td>\n",
              "      <td>0.004167</td>\n",
              "      <td>-0.325833</td>\n",
              "      <td>-0.070000</td>\n",
              "      <td>-0.046667</td>\n",
              "      <td>-5.000000e-03</td>\n",
              "      <td>-0.006667</td>\n",
              "      <td>0.004167</td>\n",
              "      <td>0.207500</td>\n",
              "      <td>0.022500</td>\n",
              "      <td>-0.333333</td>\n",
              "      <td>366.225000</td>\n",
              "      <td>-5.491667</td>\n",
              "      <td>5.883333</td>\n",
              "      <td>28.816667</td>\n",
              "      <td>-19.000000</td>\n",
              "      <td>-5.333333</td>\n",
              "      <td>-0.100000</td>\n",
              "      <td>-4.783333</td>\n",
              "      <td>-2.758333</td>\n",
              "      <td>4.041667</td>\n",
              "      <td>2.416667</td>\n",
              "      <td>10.125000</td>\n",
              "      <td>28.316667</td>\n",
              "      <td>22.083333</td>\n",
              "      <td>0.275000</td>\n",
              "      <td>22.000000</td>\n",
              "      <td>1.825000</td>\n",
              "      <td>6.583333</td>\n",
              "      <td>2.091667</td>\n",
              "      <td>2.750000</td>\n",
              "      <td>3.341667</td>\n",
              "      <td>1.175000</td>\n",
              "      <td>...</td>\n",
              "      <td>6.666667e-03</td>\n",
              "      <td>0.038333</td>\n",
              "      <td>-0.000833</td>\n",
              "      <td>-0.017500</td>\n",
              "      <td>-0.015000</td>\n",
              "      <td>2.541667</td>\n",
              "      <td>1043.925000</td>\n",
              "      <td>1.941667</td>\n",
              "      <td>-0.491667</td>\n",
              "      <td>16.500000</td>\n",
              "      <td>3.475000</td>\n",
              "      <td>4.950000</td>\n",
              "      <td>2.375000</td>\n",
              "      <td>1.058333</td>\n",
              "      <td>2.341667</td>\n",
              "      <td>1.750000</td>\n",
              "      <td>0.775000</td>\n",
              "      <td>18.241667</td>\n",
              "      <td>10.241667</td>\n",
              "      <td>33.000000</td>\n",
              "      <td>3.675000</td>\n",
              "      <td>17.750000</td>\n",
              "      <td>1.166667</td>\n",
              "      <td>4.600000</td>\n",
              "      <td>0.825000</td>\n",
              "      <td>2.833333</td>\n",
              "      <td>0.200000</td>\n",
              "      <td>0.416667</td>\n",
              "      <td>0.216667</td>\n",
              "      <td>2.258333</td>\n",
              "      <td>-0.458333</td>\n",
              "      <td>2.158333</td>\n",
              "      <td>-0.258333</td>\n",
              "      <td>1.383333</td>\n",
              "      <td>4.150000</td>\n",
              "      <td>1.266667</td>\n",
              "      <td>-2.875000</td>\n",
              "      <td>0.200000</td>\n",
              "      <td>2018</td>\n",
              "      <td>14554.0</td>\n",
              "    </tr>\n",
              "  </tbody>\n",
              "</table>\n",
              "<p>5 rows × 599 columns</p>\n",
              "</div>"
            ],
            "text/plain": [
              "    masked_company_id  year_founded  ... target_year  target_total_revenues\n",
              "1                5024        2009.0  ...        2018                96321.0\n",
              "2                5025        1960.0  ...        2018                97461.0\n",
              "3                5025        1960.0  ...        2019                95291.0\n",
              "4                5025        1960.0  ...        2020                93056.0\n",
              "11               5031        2004.0  ...        2018                14554.0\n",
              "\n",
              "[5 rows x 599 columns]"
            ]
          },
          "metadata": {},
          "execution_count": 20
        }
      ]
    },
    {
      "cell_type": "code",
      "metadata": {
        "id": "uZL-Tm9LJhhu"
      },
      "source": [
        ""
      ],
      "execution_count": 20,
      "outputs": []
    },
    {
      "cell_type": "code",
      "metadata": {
        "id": "l8BkSYUn6pXR"
      },
      "source": [
        "#find_null_columns(df)"
      ],
      "execution_count": 21,
      "outputs": []
    },
    {
      "cell_type": "code",
      "metadata": {
        "colab": {
          "base_uri": "https://localhost:8080/"
        },
        "id": "F7Yv_1OU9xYW",
        "outputId": "c4a6bf5e-0b01-4d14-cf42-126f88cfe387"
      },
      "source": [
        "#No. of columns having 0 null values\n",
        "print('Non-null cols:',len(non_null_columns(df)))\n",
        "print('Atleast_one_null cols:',df.shape[1]-len(non_null_columns(df)))"
      ],
      "execution_count": 22,
      "outputs": [
        {
          "output_type": "stream",
          "name": "stdout",
          "text": [
            "Non-null cols: 373\n",
            "Atleast_one_null cols: 346\n"
          ]
        }
      ]
    },
    {
      "cell_type": "code",
      "metadata": {
        "id": "W5IPMGgfQGp-"
      },
      "source": [
        "#df.loc[~(df['m1_total_revenues'].isna()), ['masked_company_id', 'm1_total_revenues', 'year_founded', 'target_year', 'target_total_revenues']]"
      ],
      "execution_count": 23,
      "outputs": []
    },
    {
      "cell_type": "code",
      "metadata": {
        "id": "JcoVGacJai-X"
      },
      "source": [
        "#Conclusion: Macro Variables left out, Everyone has null values except the target variable\n",
        "#non_null_columns(df)"
      ],
      "execution_count": 24,
      "outputs": []
    },
    {
      "cell_type": "code",
      "metadata": {
        "id": "7rOAt5I0CyU9"
      },
      "source": [
        "#Conclusion - Aproxx . 50% of this variable is empty so we should drop it, I don't this will be useful in our prediction\n",
        "\n",
        "#main_df[main_df['reporting_template_type_name'] == '']"
      ],
      "execution_count": 25,
      "outputs": []
    },
    {
      "cell_type": "code",
      "metadata": {
        "id": "fyowrgLbgkef"
      },
      "source": [
        "from sklearn.metrics import r2_score"
      ],
      "execution_count": 26,
      "outputs": []
    },
    {
      "cell_type": "code",
      "metadata": {
        "colab": {
          "base_uri": "https://localhost:8080/",
          "height": 290
        },
        "id": "PPCgvGOHD7KW",
        "outputId": "fd59a3bb-f419-44ca-d7b8-89853189b553"
      },
      "source": [
        "# Our pattern of data is still there\n",
        "plt.plot(non_n['target_total_revenues'])"
      ],
      "execution_count": 27,
      "outputs": [
        {
          "output_type": "execute_result",
          "data": {
            "text/plain": [
              "[<matplotlib.lines.Line2D at 0x7f7f13828610>]"
            ]
          },
          "metadata": {},
          "execution_count": 27
        },
        {
          "output_type": "display_data",
          "data": {
            "image/png": "[encoded data removed]",
            "text/plain": [
              "<Figure size 432x288 with 1 Axes>"
            ]
          },
          "metadata": {
            "needs_background": "light"
          }
        }
      ]
    },
    {
      "cell_type": "code",
      "metadata": {
        "colab": {
          "base_uri": "https://localhost:8080/"
        },
        "id": "Ul06W4dIPTaw",
        "outputId": "4f44f4b7-b2c0-4de7-c7ed-a31127a7f676"
      },
      "source": [
        "non_n.columns"
      ],
      "execution_count": 28,
      "outputs": [
        {
          "output_type": "execute_result",
          "data": {
            "text/plain": [
              "Index(['masked_company_id', 'year_founded', 'reporting_template_type_name',\n",
              "       'mode_period_end_month', 'm8_edlp', 'm8_edks', 'm8_eczt', 'm8_edlo',\n",
              "       'm8_edkr', 'm8_edlr',\n",
              "       ...\n",
              "       'm1_dkl3', 'm1_dkl5', 'm1_dkk4', 'm1_dkn3', 'm1_dkn5', 'm1_dkn8',\n",
              "       'm1_dkm7', 'm1_e8pu', 'target_year', 'target_total_revenues'],\n",
              "      dtype='object', length=599)"
            ]
          },
          "metadata": {},
          "execution_count": 28
        }
      ]
    },
    {
      "cell_type": "code",
      "metadata": {
        "id": "ClX7DucKQSsl"
      },
      "source": [
        "year_diff = non_n['target_year'] - non_n['year_founded']"
      ],
      "execution_count": 29,
      "outputs": []
    },
    {
      "cell_type": "code",
      "metadata": {
        "colab": {
          "base_uri": "https://localhost:8080/",
          "height": 386
        },
        "id": "6ZUxlEosUKkO",
        "outputId": "9f10d8d4-4cbe-42c9-ec74-a2b853b50628"
      },
      "source": [
        "sns.displot((year_diff))"
      ],
      "execution_count": 30,
      "outputs": [
        {
          "output_type": "execute_result",
          "data": {
            "text/plain": [
              "<seaborn.axisgrid.FacetGrid at 0x7f7f137c6bd0>"
            ]
          },
          "metadata": {},
          "execution_count": 30
        },
        {
          "output_type": "display_data",
          "data": {
            "image/png": "[encoded data removed]",
            "text/plain": [
              "<Figure size 360x360 with 1 Axes>"
            ]
          },
          "metadata": {
            "needs_background": "light"
          }
        }
      ]
    },
    {
      "cell_type": "code",
      "metadata": {
        "id": "bjn1dJtHPlYq"
      },
      "source": [
        "non_n['yf_t_diff'] = year_diff"
      ],
      "execution_count": 31,
      "outputs": []
    },
    {
      "cell_type": "code",
      "metadata": {
        "colab": {
          "base_uri": "https://localhost:8080/"
        },
        "id": "3s2IsZ6aTrTK",
        "outputId": "c33227cc-ac24-42a3-af1c-3c18059c58c3"
      },
      "source": [
        "non_n['mode_period_end_month'].value_counts()"
      ],
      "execution_count": 32,
      "outputs": [
        {
          "output_type": "execute_result",
          "data": {
            "text/plain": [
              "3     3760\n",
              "12    2931\n",
              "9      764\n",
              "6      569\n",
              "8      504\n",
              "4      494\n",
              "10     466\n",
              "7      446\n",
              "1      302\n",
              "5      300\n",
              "2      276\n",
              "11     250\n",
              "Name: mode_period_end_month, dtype: int64"
            ]
          },
          "metadata": {},
          "execution_count": 32
        }
      ]
    },
    {
      "cell_type": "code",
      "metadata": {
        "id": "lVQAhJlTTrfd"
      },
      "source": [
        "ohe_data = pd.get_dummies(non_n, columns = ['reporting_template_type_name','mode_period_end_month'])"
      ],
      "execution_count": 33,
      "outputs": []
    },
    {
      "cell_type": "code",
      "metadata": {
        "colab": {
          "base_uri": "https://localhost:8080/"
        },
        "id": "9_BsyfY-Trp9",
        "outputId": "a390b061-d8bf-41fc-8291-a2a0ffc3d8da"
      },
      "source": [
        "ohe_data.columns\n"
      ],
      "execution_count": 34,
      "outputs": [
        {
          "output_type": "execute_result",
          "data": {
            "text/plain": [
              "Index(['masked_company_id', 'year_founded', 'm8_edlp', 'm8_edks', 'm8_eczt',\n",
              "       'm8_edlo', 'm8_edkr', 'm8_edlr', 'm8_edku', 'm8_edly',\n",
              "       ...\n",
              "       'mode_period_end_month_3', 'mode_period_end_month_4',\n",
              "       'mode_period_end_month_5', 'mode_period_end_month_6',\n",
              "       'mode_period_end_month_7', 'mode_period_end_month_8',\n",
              "       'mode_period_end_month_9', 'mode_period_end_month_10',\n",
              "       'mode_period_end_month_11', 'mode_period_end_month_12'],\n",
              "      dtype='object', length=612)"
            ]
          },
          "metadata": {},
          "execution_count": 34
        }
      ]
    },
    {
      "cell_type": "code",
      "metadata": {
        "id": "kmMRk_9MTr0C"
      },
      "source": [
        "ohe_data.drop(['year_founded', 'target_year', 'masked_company_id'], axis =1 , inplace =True)"
      ],
      "execution_count": 35,
      "outputs": []
    },
    {
      "cell_type": "code",
      "metadata": {
        "colab": {
          "base_uri": "https://localhost:8080/"
        },
        "id": "iFhliLmgYkIO",
        "outputId": "60c16988-52ef-4b93-b3aa-d723dfbde8c4"
      },
      "source": [
        "ohe_data.isna().mean()"
      ],
      "execution_count": 36,
      "outputs": [
        {
          "output_type": "execute_result",
          "data": {
            "text/plain": [
              "m8_edlp                     0.0\n",
              "m8_edks                     0.0\n",
              "m8_eczt                     0.0\n",
              "m8_edlo                     0.0\n",
              "m8_edkr                     0.0\n",
              "                           ... \n",
              "mode_period_end_month_8     0.0\n",
              "mode_period_end_month_9     0.0\n",
              "mode_period_end_month_10    0.0\n",
              "mode_period_end_month_11    0.0\n",
              "mode_period_end_month_12    0.0\n",
              "Length: 609, dtype: float64"
            ]
          },
          "metadata": {},
          "execution_count": 36
        }
      ]
    },
    {
      "cell_type": "code",
      "metadata": {
        "id": "Zvs6eTQ0uBx5"
      },
      "source": [
        "m1_tax_expense0 = ohe_data['m1_current_income_taxes_payable'] + (ohe_data['m1_deferred_tax_liability_non_current'] - ohe_data['m2_deferred_tax_liability_non_current'])\n",
        "\n",
        "\n",
        "m2_tax_expense0 = ohe_data['m2_current_income_taxes_payable'] + (ohe_data['m2_deferred_tax_liability_non_current'] - ohe_data['m3_deferred_tax_liability_non_current'])\n",
        "\n",
        "\n",
        "\n",
        "m3_tax_expense0 = ohe_data['m3_current_income_taxes_payable'] + (ohe_data['m3_deferred_tax_liability_non_current'] - ohe_data['m4_deferred_tax_liability_non_current'])\n",
        "\n",
        "\n",
        "\n",
        "m4_tax_expense0 = ohe_data['m4_current_income_taxes_payable'] + (ohe_data['m4_deferred_tax_liability_non_current'] - ohe_data['m5_deferred_tax_liability_non_current'])\n",
        "\n"
      ],
      "execution_count": 37,
      "outputs": []
    },
    {
      "cell_type": "code",
      "metadata": {
        "id": "z_i9minNRE2n"
      },
      "source": [
        "ohe_data['m1_tax_expense'] = m1_tax_expense0\n",
        "ohe_data['m2_tax_expense'] = m2_tax_expense0\n",
        "ohe_data['m3_tax_expense'] = m3_tax_expense0\n",
        "ohe_data['m4_tax_expense'] = m4_tax_expense0\n"
      ],
      "execution_count": 38,
      "outputs": []
    },
    {
      "cell_type": "code",
      "metadata": {
        "id": "Wjh1li1gRi5J"
      },
      "source": [
        "m1_cash_received0 = ohe_data['m2_accounts_receivable_total'] - ohe_data['m1_accounts_receivable_total']\n",
        "\n",
        "m2_cash_received0 = ohe_data['m3_accounts_receivable_total'] - ohe_data['m2_accounts_receivable_total']\n",
        "\n",
        "m3_cash_received0 = ohe_data['m4_accounts_receivable_total'] - ohe_data['m3_accounts_receivable_total']\n",
        "\n",
        "m4_cash_received0 = ohe_data['m5_accounts_receivable_total'] - ohe_data['m4_accounts_receivable_total']\n",
        "\n",
        "m5_cash_received0 = ohe_data['m6_accounts_receivable_total'] - ohe_data['m5_accounts_receivable_total']\n",
        "\n",
        "\n",
        "\n"
      ],
      "execution_count": 39,
      "outputs": []
    },
    {
      "cell_type": "code",
      "metadata": {
        "id": "aec9RiAkSgqe"
      },
      "source": [
        "m1_cash_paid0 = (ohe_data['m2_accounts_payable_total'] - ohe_data['m1_accounts_payable_total']) + (ohe_data['m1_inventory'] - ohe_data['m2_inventory'])\n",
        "\n",
        "m2_cash_paid0 = (ohe_data['m3_accounts_payable_total'] - ohe_data['m2_accounts_payable_total']) + (ohe_data['m2_inventory'] - ohe_data['m3_inventory'])\n",
        "\n",
        "m3_cash_paid0 = (ohe_data['m4_accounts_payable_total'] - ohe_data['m3_accounts_payable_total']) + (ohe_data['m3_inventory'] - ohe_data['m4_inventory'])\n",
        "\n",
        "m4_cash_paid0 = (ohe_data['m5_accounts_payable_total'] - ohe_data['m4_accounts_payable_total']) + (ohe_data['m4_inventory'] - ohe_data['m5_inventory'])\n",
        "\n",
        "m5_cash_paid0 = (ohe_data['m6_accounts_payable_total'] - ohe_data['m5_accounts_payable_total']) + (ohe_data['m5_inventory'] - ohe_data['m6_inventory'])\n"
      ],
      "execution_count": 40,
      "outputs": []
    },
    {
      "cell_type": "code",
      "metadata": {
        "id": "RNHmoc4RTjhz"
      },
      "source": [
        "ohe_data['m1_cash_received'] = m1_cash_received0\n",
        "ohe_data['m2_cash_received'] = m2_cash_received0\n",
        "ohe_data['m3_cash_received'] = m3_cash_received0\n",
        "ohe_data['m4_cash_received'] = m4_cash_received0\n",
        "ohe_data['m5_cash_received'] = m5_cash_received0\n",
        "\n",
        "\n",
        "ohe_data['m1_cash_paid'] = m1_cash_paid0\n",
        "ohe_data['m2_cash_paid'] = m2_cash_paid0\n",
        "ohe_data['m3_cash_paid'] = m3_cash_paid0\n",
        "ohe_data['m4_cash_paid'] = m4_cash_paid0\n",
        "ohe_data['m5_cash_paid'] = m5_cash_paid0\n",
        "\n",
        "\n",
        "\n",
        "ohe_data['m1_CFO_partial'] = m1_cash_received0 - m1_cash_paid0\n",
        "ohe_data['m2_CFO_partial'] = m2_cash_received0 - m2_cash_paid0\n",
        "ohe_data['m3_CFO_partial'] = m3_cash_received0 - m3_cash_paid0\n",
        "ohe_data['m4_CFO_partial'] = m4_cash_received0 - m4_cash_paid0\n",
        "ohe_data['m5_CFO_partial'] = m5_cash_received0 - m5_cash_paid0\n"
      ],
      "execution_count": 41,
      "outputs": []
    },
    {
      "cell_type": "code",
      "metadata": {
        "id": "_SIH2ai1UuwL"
      },
      "source": [
        "target = ['target_total_revenues']\n",
        "features = list(set(ohe_data.columns) - set(target))\n"
      ],
      "execution_count": 42,
      "outputs": []
    },
    {
      "cell_type": "markdown",
      "metadata": {
        "id": "tGuYC_EmNax0"
      },
      "source": [
        "#FEATURES WITH LESS THAN 10K NULL VALUES"
      ]
    },
    {
      "cell_type": "code",
      "metadata": {
        "id": "r-r8_VKAD7lF"
      },
      "source": [
        "#non_null_columns(df)"
      ],
      "execution_count": 43,
      "outputs": []
    },
    {
      "cell_type": "code",
      "metadata": {
        "id": "ufiDkSCwD7r7"
      },
      "source": [
        "#cols having less than 10,000 null values\n",
        "def less10k_null_columns(df):\n",
        "  less_null_cols = []\n",
        "  for col in df.columns:\n",
        "    null_count = df[col].isnull().sum()\n",
        "    if null_count <=10000:\n",
        "      less_null_cols.append(col)\n",
        "\n",
        "  return less_null_cols"
      ],
      "execution_count": 44,
      "outputs": []
    },
    {
      "cell_type": "code",
      "metadata": {
        "id": "a5GPgqRoum6Z"
      },
      "source": [
        "non_n_less10k_df = df[less10k_null_columns(df)].dropna(axis = 0)"
      ],
      "execution_count": 45,
      "outputs": []
    },
    {
      "cell_type": "code",
      "metadata": {
        "id": "Utiu9ER1vdY7"
      },
      "source": [
        "#non_n_less10k_df"
      ],
      "execution_count": 46,
      "outputs": []
    },
    {
      "cell_type": "code",
      "metadata": {
        "id": "FAKHzUtpwSt9"
      },
      "source": [
        "year_diff2 = non_n_less10k_df['target_year'] - non_n_less10k_df['year_founded']"
      ],
      "execution_count": 47,
      "outputs": []
    },
    {
      "cell_type": "code",
      "metadata": {
        "id": "wXiBfi6bwZdU"
      },
      "source": [
        "non_n_less10k_df['yf_t_diff'] = year_diff2"
      ],
      "execution_count": 48,
      "outputs": []
    },
    {
      "cell_type": "code",
      "metadata": {
        "id": "4b4pMFaSxD7f"
      },
      "source": [
        "non_n_less10k_df.drop(['year_founded', 'target_year', 'masked_company_id'], axis =1 , inplace =True)"
      ],
      "execution_count": 49,
      "outputs": []
    },
    {
      "cell_type": "code",
      "metadata": {
        "id": "uYrh8gADwiZt"
      },
      "source": [
        "less_than10k_one_hot_encoded_data = pd.get_dummies(non_n_less10k_df, columns = ['reporting_template_type_name', 'mode_period_end_month'])"
      ],
      "execution_count": 50,
      "outputs": []
    },
    {
      "cell_type": "code",
      "metadata": {
        "id": "b3etseqxxrD1"
      },
      "source": [
        "\n",
        "\n",
        "m1_tax_expense = less_than10k_one_hot_encoded_data['m1_current_income_taxes_payable'] + (less_than10k_one_hot_encoded_data['m1_deferred_tax_liability_non_current'] - less_than10k_one_hot_encoded_data['m2_deferred_tax_liability_non_current'])\n",
        "\n",
        "\n",
        "\n",
        "m2_tax_expense = less_than10k_one_hot_encoded_data['m2_current_income_taxes_payable'] + (less_than10k_one_hot_encoded_data['m2_deferred_tax_liability_non_current'] - less_than10k_one_hot_encoded_data['m3_deferred_tax_liability_non_current'])\n",
        "\n",
        "\n",
        "\n",
        "m3_tax_expense = less_than10k_one_hot_encoded_data['m3_current_income_taxes_payable'] + (less_than10k_one_hot_encoded_data['m3_deferred_tax_liability_non_current'] - less_than10k_one_hot_encoded_data['m4_deferred_tax_liability_non_current'])\n",
        "\n",
        "\n",
        "\n",
        "m4_tax_expense = less_than10k_one_hot_encoded_data['m4_current_income_taxes_payable'] + (less_than10k_one_hot_encoded_data['m4_deferred_tax_liability_non_current'] - less_than10k_one_hot_encoded_data['m5_deferred_tax_liability_non_current'])\n",
        "\n",
        "\n",
        "\n",
        "m5_tax_expense = less_than10k_one_hot_encoded_data['m5_current_income_taxes_payable'] + (less_than10k_one_hot_encoded_data['m5_deferred_tax_liability_non_current'] - less_than10k_one_hot_encoded_data['m6_deferred_tax_liability_non_current'])\n",
        "\n",
        "\n",
        "\n",
        "m6_tax_expense = less_than10k_one_hot_encoded_data['m6_current_income_taxes_payable'] + (less_than10k_one_hot_encoded_data['m6_deferred_tax_liability_non_current'] - less_than10k_one_hot_encoded_data['m7_deferred_tax_liability_non_current'])\n",
        "\n",
        "m7_tax_expense = less_than10k_one_hot_encoded_data['m7_current_income_taxes_payable'] + (less_than10k_one_hot_encoded_data['m7_deferred_tax_liability_non_current'] - less_than10k_one_hot_encoded_data['m8_deferred_tax_liability_non_current'])\n",
        "\n"
      ],
      "execution_count": 51,
      "outputs": []
    },
    {
      "cell_type": "code",
      "metadata": {
        "id": "MRPPxITO68C9"
      },
      "source": [
        "less_than10k_one_hot_encoded_data['m1_tax_expense'] = m1_tax_expense\n",
        "less_than10k_one_hot_encoded_data['m2_tax_expense'] = m2_tax_expense\n",
        "less_than10k_one_hot_encoded_data['m3_tax_expense'] = m3_tax_expense\n",
        "less_than10k_one_hot_encoded_data['m4_tax_expense'] = m4_tax_expense\n",
        "less_than10k_one_hot_encoded_data['m5_tax_expense'] = m5_tax_expense\n",
        "less_than10k_one_hot_encoded_data['m6_tax_expense'] = m6_tax_expense\n",
        "less_than10k_one_hot_encoded_data['m7_tax_expense'] = m7_tax_expense"
      ],
      "execution_count": 52,
      "outputs": []
    },
    {
      "cell_type": "code",
      "metadata": {
        "id": "3211jHpGJxHS"
      },
      "source": [
        "\n",
        "m1_cash_received = less_than10k_one_hot_encoded_data['m2_accounts_receivable_total'] - less_than10k_one_hot_encoded_data['m1_accounts_receivable_total']\n",
        "\n",
        "m2_cash_received = less_than10k_one_hot_encoded_data['m3_accounts_receivable_total'] - less_than10k_one_hot_encoded_data['m2_accounts_receivable_total']\n",
        "\n",
        "m3_cash_received = less_than10k_one_hot_encoded_data['m4_accounts_receivable_total'] - less_than10k_one_hot_encoded_data['m3_accounts_receivable_total']\n",
        "\n",
        "m4_cash_received = less_than10k_one_hot_encoded_data['m5_accounts_receivable_total'] - less_than10k_one_hot_encoded_data['m4_accounts_receivable_total']\n",
        "\n",
        "m5_cash_received = less_than10k_one_hot_encoded_data['m6_accounts_receivable_total'] - less_than10k_one_hot_encoded_data['m5_accounts_receivable_total']\n",
        "\n",
        "m6_cash_received = less_than10k_one_hot_encoded_data['m7_accounts_receivable_total'] - less_than10k_one_hot_encoded_data['m6_accounts_receivable_total']\n",
        "\n",
        "m7_cash_received = less_than10k_one_hot_encoded_data['m8_accounts_receivable_total'] - less_than10k_one_hot_encoded_data['m7_accounts_receivable_total']\n",
        "\n",
        "\n",
        "\n",
        "m1_cash_paid = (less_than10k_one_hot_encoded_data['m2_accounts_payable_total'] - less_than10k_one_hot_encoded_data['m1_accounts_payable_total']) + (less_than10k_one_hot_encoded_data['m1_inventory'] - less_than10k_one_hot_encoded_data['m2_inventory'])\n",
        "\n",
        "m2_cash_paid = (less_than10k_one_hot_encoded_data['m3_accounts_payable_total'] - less_than10k_one_hot_encoded_data['m2_accounts_payable_total']) + (less_than10k_one_hot_encoded_data['m2_inventory'] - less_than10k_one_hot_encoded_data['m3_inventory'])\n",
        "\n",
        "m3_cash_paid = (less_than10k_one_hot_encoded_data['m4_accounts_payable_total'] - less_than10k_one_hot_encoded_data['m3_accounts_payable_total']) + (less_than10k_one_hot_encoded_data['m3_inventory'] - less_than10k_one_hot_encoded_data['m4_inventory'])\n",
        "\n",
        "m4_cash_paid = (less_than10k_one_hot_encoded_data['m5_accounts_payable_total'] - less_than10k_one_hot_encoded_data['m4_accounts_payable_total']) + (less_than10k_one_hot_encoded_data['m4_inventory'] - less_than10k_one_hot_encoded_data['m5_inventory'])\n",
        "\n",
        "m5_cash_paid = (less_than10k_one_hot_encoded_data['m6_accounts_payable_total'] - less_than10k_one_hot_encoded_data['m5_accounts_payable_total']) + (less_than10k_one_hot_encoded_data['m5_inventory'] - less_than10k_one_hot_encoded_data['m6_inventory'])\n",
        "\n",
        "m6_cash_paid = (less_than10k_one_hot_encoded_data['m7_accounts_payable_total'] - less_than10k_one_hot_encoded_data['m6_accounts_payable_total']) + (less_than10k_one_hot_encoded_data['m6_inventory'] - less_than10k_one_hot_encoded_data['m7_inventory'])\n",
        "\n",
        "m7_cash_paid = (less_than10k_one_hot_encoded_data['m8_accounts_payable_total'] - less_than10k_one_hot_encoded_data['m7_accounts_payable_total']) + (less_than10k_one_hot_encoded_data['m7_inventory'] - less_than10k_one_hot_encoded_data['m8_inventory'])"
      ],
      "execution_count": 53,
      "outputs": []
    },
    {
      "cell_type": "code",
      "metadata": {
        "id": "9Rv1IoIUKvj2"
      },
      "source": [
        "less_than10k_one_hot_encoded_data['m1_cash_received'] = m1_cash_received\n",
        "less_than10k_one_hot_encoded_data['m2_cash_received'] = m2_cash_received\n",
        "less_than10k_one_hot_encoded_data['m3_cash_received'] = m3_cash_received\n",
        "less_than10k_one_hot_encoded_data['m4_cash_received'] = m4_cash_received\n",
        "less_than10k_one_hot_encoded_data['m5_cash_received'] = m5_cash_received\n",
        "less_than10k_one_hot_encoded_data['m6_cash_received'] = m6_cash_received\n",
        "less_than10k_one_hot_encoded_data['m7_cash_received'] = m7_cash_received\n",
        "\n",
        "less_than10k_one_hot_encoded_data['m1_cash_paid'] = m1_cash_paid\n",
        "less_than10k_one_hot_encoded_data['m2_cash_paid'] = m2_cash_paid\n",
        "less_than10k_one_hot_encoded_data['m3_cash_paid'] = m3_cash_paid\n",
        "less_than10k_one_hot_encoded_data['m4_cash_paid'] = m4_cash_paid\n",
        "less_than10k_one_hot_encoded_data['m5_cash_paid'] = m5_cash_paid\n",
        "less_than10k_one_hot_encoded_data['m6_cash_paid'] = m6_cash_paid\n",
        "less_than10k_one_hot_encoded_data['m7_cash_paid'] = m7_cash_paid\n",
        "\n",
        "\n",
        "less_than10k_one_hot_encoded_data['m1_CFO_partial'] = m1_cash_received - m1_cash_paid\n",
        "less_than10k_one_hot_encoded_data['m2_CFO_partial'] = m2_cash_received - m2_cash_paid\n",
        "less_than10k_one_hot_encoded_data['m3_CFO_partial'] = m3_cash_received - m3_cash_paid\n",
        "less_than10k_one_hot_encoded_data['m4_CFO_partial'] = m4_cash_received - m4_cash_paid\n",
        "less_than10k_one_hot_encoded_data['m5_CFO_partial'] = m5_cash_received - m5_cash_paid\n",
        "less_than10k_one_hot_encoded_data['m6_CFO_partial'] = m6_cash_received - m6_cash_paid\n",
        "less_than10k_one_hot_encoded_data['m7_CFO_partial'] = m7_cash_received - m7_cash_paid"
      ],
      "execution_count": 54,
      "outputs": []
    },
    {
      "cell_type": "code",
      "metadata": {
        "id": "78FUxmU8wvRc"
      },
      "source": [
        "features2 = list(set(less_than10k_one_hot_encoded_data.columns) - set(target))\n"
      ],
      "execution_count": 55,
      "outputs": []
    },
    {
      "cell_type": "code",
      "metadata": {
        "id": "iJuLMmuFw9Eu"
      },
      "source": [
        "#less_than10k_one_hot_encoded_data.isnull().mean()"
      ],
      "execution_count": 56,
      "outputs": []
    },
    {
      "cell_type": "markdown",
      "metadata": {
        "id": "aXEQsqU1uLIY"
      },
      "source": [
        "#Custom Scorer :\n",
        "`mean_of_sqrt_of_quartiles_nmae(y, y_pred)`"
      ]
    },
    {
      "cell_type": "code",
      "metadata": {
        "id": "IeFPC8dl0OWJ"
      },
      "source": [
        "\n",
        "def mean_of_sqrt_of_quartiles_nmae(y, y_pred):\n",
        "    y = pd.Series(y['target_total_revenues'].reset_index(drop = True))\n",
        "    y_pred = pd.Series(y_pred.ravel())\n",
        "\n",
        "    def nmae(true_y, predicted_y):\n",
        "        return mean_absolute_error(true_y, predicted_y) /true_y.abs().mean()\n",
        "\n",
        "    y_quartiles = pd.qcut(y, q=10)\n",
        "    quartiles = list(y_quartiles.unique())\n",
        "\n",
        "    return np.mean(\n",
        "        [math.sqrt(nmae(y[y_quartiles == quartile], y_pred[y_quartiles == quartile])) for quartile in quartiles])\n",
        "    \n",
        "\n",
        "custom_scorer = make_scorer(mean_of_sqrt_of_quartiles_nmae, greater_is_better=False)\n"
      ],
      "execution_count": 57,
      "outputs": []
    },
    {
      "cell_type": "markdown",
      "metadata": {
        "id": "Lb0Zuqxf4Gld"
      },
      "source": [
        "#Train Test Split"
      ]
    },
    {
      "cell_type": "code",
      "metadata": {
        "id": "Y-D66cCg4BCj"
      },
      "source": [
        "from sklearn.model_selection import train_test_split\n",
        "X_train, X_test, y_train, y_test = train_test_split(less_than10k_one_hot_encoded_data[features2], less_than10k_one_hot_encoded_data[target], test_size=0.25, random_state=42)"
      ],
      "execution_count": 58,
      "outputs": []
    },
    {
      "cell_type": "markdown",
      "metadata": {
        "id": "GDSykRb3fq68"
      },
      "source": [
        "#Linear Regressor"
      ]
    },
    {
      "cell_type": "code",
      "metadata": {
        "colab": {
          "base_uri": "https://localhost:8080/"
        },
        "id": "sj2ohr35wZyD",
        "outputId": "07004ace-190d-40c6-df2b-66cb0a5aec68"
      },
      "source": [
        "from sklearn.linear_model import LinearRegression\n",
        "reg = LinearRegression()\n",
        "reg.fit(X_train, y_train)\n",
        "reg.score(X_train, y_train)"
      ],
      "execution_count": 59,
      "outputs": [
        {
          "output_type": "execute_result",
          "data": {
            "text/plain": [
              "0.955814180645108"
            ]
          },
          "metadata": {},
          "execution_count": 59
        }
      ]
    },
    {
      "cell_type": "code",
      "metadata": {
        "id": "U9ScaD1xfFyd"
      },
      "source": [
        "pred_reg = reg.predict(X_test)"
      ],
      "execution_count": 60,
      "outputs": []
    },
    {
      "cell_type": "code",
      "metadata": {
        "colab": {
          "base_uri": "https://localhost:8080/"
        },
        "id": "C4EcBmbgLbG6",
        "outputId": "3e93f16c-c309-488e-855b-965723785d8d"
      },
      "source": [
        "mean_of_sqrt_of_quartiles_nmae(y_test, pred_reg)"
      ],
      "execution_count": 61,
      "outputs": [
        {
          "output_type": "execute_result",
          "data": {
            "text/plain": [
              "630.811632091179"
            ]
          },
          "metadata": {},
          "execution_count": 61
        }
      ]
    },
    {
      "cell_type": "markdown",
      "metadata": {
        "id": "H-xkk5qpf6ce"
      },
      "source": [
        "#Stacking Model\n"
      ]
    },
    {
      "cell_type": "code",
      "metadata": {
        "id": "yHDilT7PTrIS"
      },
      "source": [
        "from sklearn.linear_model import RidgeCV\n",
        "\n",
        "from sklearn.svm import LinearSVR\n",
        "from sklearn.ensemble import RandomForestRegressor\n",
        "from sklearn.ensemble import StackingRegressor"
      ],
      "execution_count": 62,
      "outputs": []
    },
    {
      "cell_type": "code",
      "metadata": {
        "id": "P2KRwrILTrWX"
      },
      "source": [
        "estimators = [ ('lr', RidgeCV()), ('svr', LinearSVR(random_state=42))]"
      ],
      "execution_count": 63,
      "outputs": []
    },
    {
      "cell_type": "code",
      "metadata": {
        "id": "MNaSZtcTllVP"
      },
      "source": [
        "from sklearn.preprocessing import MinMaxScaler\n",
        "scaler = MinMaxScaler()"
      ],
      "execution_count": 64,
      "outputs": []
    },
    {
      "cell_type": "code",
      "metadata": {
        "id": "SOWDJgP6T5xa"
      },
      "source": [
        "stack_reg = StackingRegressor(\n",
        "         estimators=estimators,\n",
        "         final_estimator=RandomForestRegressor(n_estimators=10,\n",
        "         random_state=42, n_jobs = -1)\n",
        " )"
      ],
      "execution_count": 65,
      "outputs": []
    },
    {
      "cell_type": "code",
      "metadata": {
        "colab": {
          "base_uri": "https://localhost:8080/"
        },
        "id": "rRK0jwqJXCDL",
        "outputId": "472be0a3-3c19-42be-e73a-4c5deafe04a2"
      },
      "source": [
        "stack_reg.fit(scaler.fit_transform(X_train), y_train).score(scaler.fit_transform(X_test), y_test)"
      ],
      "execution_count": 66,
      "outputs": [
        {
          "output_type": "stream",
          "name": "stderr",
          "text": [
            "/usr/local/lib/python3.7/dist-packages/sklearn/ensemble/_stacking.py:642: DataConversionWarning: A column-vector y was passed when a 1d array was expected. Please change the shape of y to (n_samples, ), for example using ravel().\n",
            "  y = column_or_1d(y, warn=True)\n"
          ]
        },
        {
          "output_type": "execute_result",
          "data": {
            "text/plain": [
              "-0.12114036899463554"
            ]
          },
          "metadata": {},
          "execution_count": 66
        }
      ]
    },
    {
      "cell_type": "code",
      "metadata": {
        "id": "lYxDY2pSuoSq"
      },
      "source": [
        "pred_stack = stack_reg.predict(scaler.fit_transform(X_test))"
      ],
      "execution_count": 67,
      "outputs": []
    },
    {
      "cell_type": "code",
      "metadata": {
        "colab": {
          "base_uri": "https://localhost:8080/"
        },
        "id": "HeiFHWotL0Oc",
        "outputId": "e71516d8-0d7d-4ce6-b149-b7be57470588"
      },
      "source": [
        "mean_of_sqrt_of_quartiles_nmae(y_test, pred_stack)"
      ],
      "execution_count": 68,
      "outputs": [
        {
          "output_type": "execute_result",
          "data": {
            "text/plain": [
              "5.71234235153714"
            ]
          },
          "metadata": {},
          "execution_count": 68
        }
      ]
    },
    {
      "cell_type": "markdown",
      "metadata": {
        "id": "3AGIMHZ4f_8y"
      },
      "source": [
        "#KNeighbour\n"
      ]
    },
    {
      "cell_type": "code",
      "metadata": {
        "id": "k-1P2rVCYbY_"
      },
      "source": [
        "from sklearn.neighbors import KNeighborsRegressor\n",
        "neigh = KNeighborsRegressor(n_neighbors=3, weights='distance', n_jobs =-1)"
      ],
      "execution_count": 69,
      "outputs": []
    },
    {
      "cell_type": "code",
      "metadata": {
        "colab": {
          "base_uri": "https://localhost:8080/"
        },
        "id": "KDVfGAjUaeQJ",
        "outputId": "8fa41270-a1a4-4c08-b057-f6adc5702f2f"
      },
      "source": [
        "neigh.fit(X_train, y_train)"
      ],
      "execution_count": 70,
      "outputs": [
        {
          "output_type": "execute_result",
          "data": {
            "text/plain": [
              "KNeighborsRegressor(algorithm='auto', leaf_size=30, metric='minkowski',\n",
              "                    metric_params=None, n_jobs=-1, n_neighbors=3, p=2,\n",
              "                    weights='distance')"
            ]
          },
          "metadata": {},
          "execution_count": 70
        }
      ]
    },
    {
      "cell_type": "code",
      "metadata": {
        "colab": {
          "base_uri": "https://localhost:8080/"
        },
        "id": "-8wn8RfpYbsO",
        "outputId": "7a7a5e28-1ee1-4b90-9828-cac8f0ae6b61"
      },
      "source": [
        "neigh.score(X_test, y_test)"
      ],
      "execution_count": 71,
      "outputs": [
        {
          "output_type": "execute_result",
          "data": {
            "text/plain": [
              "0.787357464366216"
            ]
          },
          "metadata": {},
          "execution_count": 71
        }
      ]
    },
    {
      "cell_type": "code",
      "metadata": {
        "id": "z4e8wLQFd_1k"
      },
      "source": [
        "pred_neigh = neigh.predict(X_test)"
      ],
      "execution_count": 72,
      "outputs": []
    },
    {
      "cell_type": "code",
      "metadata": {
        "colab": {
          "base_uri": "https://localhost:8080/"
        },
        "id": "-o7lmqf4MHqB",
        "outputId": "4eba4da1-4cd7-478f-c3d7-b3112d5405b2"
      },
      "source": [
        "mean_of_sqrt_of_quartiles_nmae(y_test, pred_neigh)"
      ],
      "execution_count": 73,
      "outputs": [
        {
          "output_type": "execute_result",
          "data": {
            "text/plain": [
              "3.6691257221690092"
            ]
          },
          "metadata": {},
          "execution_count": 73
        }
      ]
    },
    {
      "cell_type": "code",
      "metadata": {
        "id": "cmR-z_zwwpXd",
        "colab": {
          "base_uri": "https://localhost:8080/",
          "height": 54
        },
        "outputId": "e55c552b-282c-4064-a3fe-e235f3359ada"
      },
      "source": [
        "'''from sklearn.model_selection import GridSearchCV\n",
        "gcv = GridSearchCV(neigh,\n",
        "                   scoring = custom_scorer,\n",
        "                   cv=5,\n",
        "                   param_grid={\"n_neighbors\": [1,3,4,5,6,7,8]}, n_jobs = -1).fit(X_train, y_train)'''\n"
      ],
      "execution_count": 74,
      "outputs": [
        {
          "output_type": "execute_result",
          "data": {
            "application/vnd.google.colaboratory.intrinsic+json": {
              "type": "string"
            },
            "text/plain": [
              "'from sklearn.model_selection import GridSearchCV\\ngcv = GridSearchCV(neigh,\\n                   scoring = custom_scorer,\\n                   cv=5,\\n                   param_grid={\"n_neighbors\": [1,3,4,5,6,7,8]}, n_jobs = -1).fit(X_train, y_train)'"
            ]
          },
          "metadata": {},
          "execution_count": 74
        }
      ]
    },
    {
      "cell_type": "code",
      "metadata": {
        "id": "cDOlhvE0yWqM"
      },
      "source": [
        "#gcv.best_score_"
      ],
      "execution_count": 75,
      "outputs": []
    },
    {
      "cell_type": "code",
      "metadata": {
        "id": "agwsURdwwHJp"
      },
      "source": [
        "#pred_gcv = gcv.predict(X_test)"
      ],
      "execution_count": 76,
      "outputs": []
    },
    {
      "cell_type": "code",
      "metadata": {
        "id": "-9rmWHBRv0yz"
      },
      "source": [
        ""
      ],
      "execution_count": 76,
      "outputs": []
    },
    {
      "cell_type": "markdown",
      "metadata": {
        "id": "nPQF1zLctFUg"
      },
      "source": [
        "#RANDOM FOREST"
      ]
    },
    {
      "cell_type": "code",
      "metadata": {
        "colab": {
          "base_uri": "https://localhost:8080/"
        },
        "id": "OBXAwZoXtEEd",
        "outputId": "8a55aaa5-bf17-4c06-acb4-c33cb0b28869"
      },
      "source": [
        "from sklearn.ensemble import RandomForestRegressor\n",
        "\n",
        "rand_regr = RandomForestRegressor(max_depth=2, random_state=0, n_jobs=-1, verbose = 1)\n",
        "rand_regr.fit(X_train, y_train)"
      ],
      "execution_count": 77,
      "outputs": [
        {
          "output_type": "stream",
          "name": "stderr",
          "text": [
            "/usr/local/lib/python3.7/dist-packages/ipykernel_launcher.py:4: DataConversionWarning: A column-vector y was passed when a 1d array was expected. Please change the shape of y to (n_samples,), for example using ravel().\n",
            "  after removing the cwd from sys.path.\n",
            "[Parallel(n_jobs=-1)]: Using backend ThreadingBackend with 2 concurrent workers.\n",
            "[Parallel(n_jobs=-1)]: Done  46 tasks      | elapsed:   10.6s\n",
            "[Parallel(n_jobs=-1)]: Done 100 out of 100 | elapsed:   22.9s finished\n"
          ]
        },
        {
          "output_type": "execute_result",
          "data": {
            "text/plain": [
              "RandomForestRegressor(bootstrap=True, ccp_alpha=0.0, criterion='mse',\n",
              "                      max_depth=2, max_features='auto', max_leaf_nodes=None,\n",
              "                      max_samples=None, min_impurity_decrease=0.0,\n",
              "                      min_impurity_split=None, min_samples_leaf=1,\n",
              "                      min_samples_split=2, min_weight_fraction_leaf=0.0,\n",
              "                      n_estimators=100, n_jobs=-1, oob_score=False,\n",
              "                      random_state=0, verbose=1, warm_start=False)"
            ]
          },
          "metadata": {},
          "execution_count": 77
        }
      ]
    },
    {
      "cell_type": "code",
      "metadata": {
        "id": "MSDEK3ymt2jU",
        "colab": {
          "base_uri": "https://localhost:8080/"
        },
        "outputId": "d40264e8-8d80-4dec-c0fc-0abbb9d51e77"
      },
      "source": [
        "pred_rand = rand_regr.predict(X_test)"
      ],
      "execution_count": 78,
      "outputs": [
        {
          "output_type": "stream",
          "name": "stderr",
          "text": [
            "[Parallel(n_jobs=2)]: Using backend ThreadingBackend with 2 concurrent workers.\n",
            "[Parallel(n_jobs=2)]: Done  46 tasks      | elapsed:    0.0s\n",
            "[Parallel(n_jobs=2)]: Done 100 out of 100 | elapsed:    0.0s finished\n"
          ]
        }
      ]
    },
    {
      "cell_type": "code",
      "metadata": {
        "colab": {
          "base_uri": "https://localhost:8080/"
        },
        "id": "NqJDeTVeMlpP",
        "outputId": "e29f5cbb-d034-46cb-cdf6-1de1e14ae25f"
      },
      "source": [
        "mean_of_sqrt_of_quartiles_nmae(y_test, pred_rand)"
      ],
      "execution_count": 79,
      "outputs": [
        {
          "output_type": "execute_result",
          "data": {
            "text/plain": [
              "8.485911644977591"
            ]
          },
          "metadata": {},
          "execution_count": 79
        }
      ]
    },
    {
      "cell_type": "markdown",
      "metadata": {
        "id": "jSJwaSFKuz3q"
      },
      "source": [
        "#Scores"
      ]
    },
    {
      "cell_type": "code",
      "metadata": {
        "colab": {
          "base_uri": "https://localhost:8080/"
        },
        "id": "pHEVuQ5A5ald",
        "outputId": "4514c207-1b22-46ca-ea43-9e715518019b"
      },
      "source": [
        "mean_of_sqrt_of_quartiles_nmae(y_test, pred_neigh)"
      ],
      "execution_count": 80,
      "outputs": [
        {
          "output_type": "execute_result",
          "data": {
            "text/plain": [
              "3.6691257221690092"
            ]
          },
          "metadata": {},
          "execution_count": 80
        }
      ]
    },
    {
      "cell_type": "code",
      "metadata": {
        "colab": {
          "base_uri": "https://localhost:8080/"
        },
        "id": "resPAx7qhcNF",
        "outputId": "4b9b9ecd-bb1d-431c-e2c2-1771af4e616d"
      },
      "source": [
        "mean_of_sqrt_of_quartiles_nmae(y_test, pred_stack)"
      ],
      "execution_count": 81,
      "outputs": [
        {
          "output_type": "execute_result",
          "data": {
            "text/plain": [
              "5.71234235153714"
            ]
          },
          "metadata": {},
          "execution_count": 81
        }
      ]
    },
    {
      "cell_type": "code",
      "metadata": {
        "colab": {
          "base_uri": "https://localhost:8080/"
        },
        "id": "u_yPXiDvuI_-",
        "outputId": "ed8ca6e8-71b6-48a9-80f1-faf247d87fff"
      },
      "source": [
        "mean_of_sqrt_of_quartiles_nmae(y_test, pred_rand)"
      ],
      "execution_count": 82,
      "outputs": [
        {
          "output_type": "execute_result",
          "data": {
            "text/plain": [
              "8.485911644977591"
            ]
          },
          "metadata": {},
          "execution_count": 82
        }
      ]
    },
    {
      "cell_type": "code",
      "metadata": {
        "id": "7sPUpM7Uwp9m",
        "colab": {
          "base_uri": "https://localhost:8080/"
        },
        "outputId": "475724e8-cfde-428a-832a-1b7964bb6eb2"
      },
      "source": [
        "mean_of_sqrt_of_quartiles_nmae(y_test, pred_reg)"
      ],
      "execution_count": 83,
      "outputs": [
        {
          "output_type": "execute_result",
          "data": {
            "text/plain": [
              "630.811632091179"
            ]
          },
          "metadata": {},
          "execution_count": 83
        }
      ]
    },
    {
      "cell_type": "markdown",
      "metadata": {
        "id": "pbzZDIpTZzGx"
      },
      "source": [
        "#TRAIN TEST SPLIT ON OHE_DATA"
      ]
    },
    {
      "cell_type": "code",
      "metadata": {
        "colab": {
          "base_uri": "https://localhost:8080/"
        },
        "id": "fStgf_ayM7mM",
        "outputId": "530367ee-07df-47dc-d1c5-fbfd4fe0dc36"
      },
      "source": [
        "less_than10k_one_hot_encoded_data.shape"
      ],
      "execution_count": 84,
      "outputs": [
        {
          "output_type": "execute_result",
          "data": {
            "text/plain": [
              "(9186, 748)"
            ]
          },
          "metadata": {},
          "execution_count": 84
        }
      ]
    },
    {
      "cell_type": "code",
      "metadata": {
        "colab": {
          "base_uri": "https://localhost:8080/"
        },
        "id": "XA5OuwOxM80o",
        "outputId": "904296a1-1c7c-40e6-815c-838be13aef78"
      },
      "source": [
        "ohe_data.shape"
      ],
      "execution_count": 85,
      "outputs": [
        {
          "output_type": "execute_result",
          "data": {
            "text/plain": [
              "(11062, 628)"
            ]
          },
          "metadata": {},
          "execution_count": 85
        }
      ]
    },
    {
      "cell_type": "code",
      "metadata": {
        "colab": {
          "base_uri": "https://localhost:8080/"
        },
        "id": "UuLXJVRdNL47",
        "outputId": "fb996eb5-333e-4587-9e9d-c241986dc9ef"
      },
      "source": [
        "ohe_data.isna().mean()"
      ],
      "execution_count": 86,
      "outputs": [
        {
          "output_type": "execute_result",
          "data": {
            "text/plain": [
              "m8_edlp           0.0\n",
              "m8_edks           0.0\n",
              "m8_eczt           0.0\n",
              "m8_edlo           0.0\n",
              "m8_edkr           0.0\n",
              "                 ... \n",
              "m1_CFO_partial    0.0\n",
              "m2_CFO_partial    0.0\n",
              "m3_CFO_partial    0.0\n",
              "m4_CFO_partial    0.0\n",
              "m5_CFO_partial    0.0\n",
              "Length: 628, dtype: float64"
            ]
          },
          "metadata": {},
          "execution_count": 86
        }
      ]
    },
    {
      "cell_type": "code",
      "metadata": {
        "id": "Pf36f00nNPUi"
      },
      "source": [
        "from sklearn.model_selection import train_test_split\n",
        "X_train0, X_test0, y_train0, y_test0 = train_test_split(ohe_data[features], ohe_data[target], test_size=0.25, random_state=42)"
      ],
      "execution_count": 87,
      "outputs": []
    },
    {
      "cell_type": "markdown",
      "metadata": {
        "id": "taGRr9-WZi2O"
      },
      "source": [
        "#LINEAR REG ON OHE_DATA"
      ]
    },
    {
      "cell_type": "code",
      "metadata": {
        "colab": {
          "base_uri": "https://localhost:8080/"
        },
        "id": "ee9nIzVPU7L3",
        "outputId": "c34bfc68-4f53-4229-ed15-9761daaac5e3"
      },
      "source": [
        "from sklearn.linear_model import LinearRegression\n",
        "reg0 = LinearRegression()\n",
        "reg0.fit(X_train0, y_train0)\n",
        "reg0.score(X_train0, y_train0)"
      ],
      "execution_count": 88,
      "outputs": [
        {
          "output_type": "execute_result",
          "data": {
            "text/plain": [
              "0.9493478725069139"
            ]
          },
          "metadata": {},
          "execution_count": 88
        }
      ]
    },
    {
      "cell_type": "code",
      "metadata": {
        "id": "tCqPnESVWfTA"
      },
      "source": [
        "pred_reg0 = reg0.predict(X_test0)"
      ],
      "execution_count": 89,
      "outputs": []
    },
    {
      "cell_type": "code",
      "metadata": {
        "colab": {
          "base_uri": "https://localhost:8080/"
        },
        "id": "alEiJ6CmWjMy",
        "outputId": "7e360173-5dd2-4f4e-aa99-4f52cbd49a1f"
      },
      "source": [
        "mean_of_sqrt_of_quartiles_nmae(y_test0, pred_reg0)"
      ],
      "execution_count": 90,
      "outputs": [
        {
          "output_type": "execute_result",
          "data": {
            "text/plain": [
              "82.36389463643886"
            ]
          },
          "metadata": {},
          "execution_count": 90
        }
      ]
    },
    {
      "cell_type": "markdown",
      "metadata": {
        "id": "S7Mk1mnUZ7Vm"
      },
      "source": [
        "#RANDOM FOREST ON OHE_DATA"
      ]
    },
    {
      "cell_type": "code",
      "metadata": {
        "colab": {
          "base_uri": "https://localhost:8080/"
        },
        "id": "j2Z9qMJoXHxO",
        "outputId": "aee8bbe2-1772-4fda-d7b6-06ed69e3b77a"
      },
      "source": [
        "from sklearn.ensemble import RandomForestRegressor\n",
        "\n",
        "rand_regr0 = RandomForestRegressor(max_depth=2, random_state=0, n_jobs=-1, verbose = 1)\n",
        "rand_regr0.fit(X_train0, y_train0)"
      ],
      "execution_count": 91,
      "outputs": [
        {
          "output_type": "stream",
          "name": "stderr",
          "text": [
            "/usr/local/lib/python3.7/dist-packages/ipykernel_launcher.py:4: DataConversionWarning: A column-vector y was passed when a 1d array was expected. Please change the shape of y to (n_samples,), for example using ravel().\n",
            "  after removing the cwd from sys.path.\n",
            "[Parallel(n_jobs=-1)]: Using backend ThreadingBackend with 2 concurrent workers.\n",
            "[Parallel(n_jobs=-1)]: Done  46 tasks      | elapsed:    9.7s\n",
            "[Parallel(n_jobs=-1)]: Done 100 out of 100 | elapsed:   21.0s finished\n"
          ]
        },
        {
          "output_type": "execute_result",
          "data": {
            "text/plain": [
              "RandomForestRegressor(bootstrap=True, ccp_alpha=0.0, criterion='mse',\n",
              "                      max_depth=2, max_features='auto', max_leaf_nodes=None,\n",
              "                      max_samples=None, min_impurity_decrease=0.0,\n",
              "                      min_impurity_split=None, min_samples_leaf=1,\n",
              "                      min_samples_split=2, min_weight_fraction_leaf=0.0,\n",
              "                      n_estimators=100, n_jobs=-1, oob_score=False,\n",
              "                      random_state=0, verbose=1, warm_start=False)"
            ]
          },
          "metadata": {},
          "execution_count": 91
        }
      ]
    },
    {
      "cell_type": "code",
      "metadata": {
        "colab": {
          "base_uri": "https://localhost:8080/"
        },
        "id": "Mf150uZnXkpv",
        "outputId": "68eaba79-9a69-41de-b7be-f9f5f4581d18"
      },
      "source": [
        "pred_rand0 = rand_regr0.predict(X_test0)"
      ],
      "execution_count": 92,
      "outputs": [
        {
          "output_type": "stream",
          "name": "stderr",
          "text": [
            "[Parallel(n_jobs=2)]: Using backend ThreadingBackend with 2 concurrent workers.\n",
            "[Parallel(n_jobs=2)]: Done  46 tasks      | elapsed:    0.0s\n",
            "[Parallel(n_jobs=2)]: Done 100 out of 100 | elapsed:    0.0s finished\n"
          ]
        }
      ]
    },
    {
      "cell_type": "code",
      "metadata": {
        "colab": {
          "base_uri": "https://localhost:8080/"
        },
        "id": "ZyTJMFHtXrdD",
        "outputId": "b9f3c6e1-0f51-4ca7-e0ea-69000f3a5a03"
      },
      "source": [
        "mean_of_sqrt_of_quartiles_nmae(y_test0, pred_rand0)"
      ],
      "execution_count": 93,
      "outputs": [
        {
          "output_type": "execute_result",
          "data": {
            "text/plain": [
              "5.7168387718415845"
            ]
          },
          "metadata": {},
          "execution_count": 93
        }
      ]
    },
    {
      "cell_type": "markdown",
      "metadata": {
        "id": "yVKWKdN4aA1C"
      },
      "source": [
        "#KNEIGHBOR ON OHE_DATA"
      ]
    },
    {
      "cell_type": "code",
      "metadata": {
        "id": "P2_vXmRWXwm9"
      },
      "source": [
        "from sklearn.neighbors import KNeighborsRegressor\n",
        "neigh0 = KNeighborsRegressor(n_neighbors=3, weights='distance', n_jobs =-1)"
      ],
      "execution_count": 94,
      "outputs": []
    },
    {
      "cell_type": "code",
      "metadata": {
        "colab": {
          "base_uri": "https://localhost:8080/"
        },
        "id": "q1GFUzoIX-k_",
        "outputId": "d558b745-87c2-4be0-94a9-6a1c75f2b0a1"
      },
      "source": [
        "neigh0.fit(X_train0, y_train0)"
      ],
      "execution_count": 95,
      "outputs": [
        {
          "output_type": "execute_result",
          "data": {
            "text/plain": [
              "KNeighborsRegressor(algorithm='auto', leaf_size=30, metric='minkowski',\n",
              "                    metric_params=None, n_jobs=-1, n_neighbors=3, p=2,\n",
              "                    weights='distance')"
            ]
          },
          "metadata": {},
          "execution_count": 95
        }
      ]
    },
    {
      "cell_type": "code",
      "metadata": {
        "colab": {
          "base_uri": "https://localhost:8080/"
        },
        "id": "PDxQVo-WYD5Z",
        "outputId": "7487f737-2865-4ff3-ae80-83d74046726b"
      },
      "source": [
        "neigh0.score(X_test0, y_test0)"
      ],
      "execution_count": 96,
      "outputs": [
        {
          "output_type": "execute_result",
          "data": {
            "text/plain": [
              "0.8050561157690036"
            ]
          },
          "metadata": {},
          "execution_count": 96
        }
      ]
    },
    {
      "cell_type": "code",
      "metadata": {
        "id": "QgOUA4WHYKEx"
      },
      "source": [
        "pred_neigh0 = neigh0.predict(X_test0)"
      ],
      "execution_count": 97,
      "outputs": []
    },
    {
      "cell_type": "code",
      "metadata": {
        "colab": {
          "base_uri": "https://localhost:8080/"
        },
        "id": "XcsrautZYUTK",
        "outputId": "42a62618-6c66-46b4-980b-11bd5a978c55"
      },
      "source": [
        "mean_of_sqrt_of_quartiles_nmae(y_test0, pred_neigh0)"
      ],
      "execution_count": 98,
      "outputs": [
        {
          "output_type": "execute_result",
          "data": {
            "text/plain": [
              "2.9977147539309477"
            ]
          },
          "metadata": {},
          "execution_count": 98
        }
      ]
    },
    {
      "cell_type": "markdown",
      "metadata": {
        "id": "zR2y96ZMaIRZ"
      },
      "source": [
        "#STACKING ON OHE_DATA"
      ]
    },
    {
      "cell_type": "code",
      "metadata": {
        "id": "wCGCsKilYZWi"
      },
      "source": [
        "from sklearn.linear_model import RidgeCV\n",
        "\n",
        "from sklearn.svm import LinearSVR\n",
        "from sklearn.ensemble import RandomForestRegressor\n",
        "from sklearn.ensemble import StackingRegressor"
      ],
      "execution_count": 99,
      "outputs": []
    },
    {
      "cell_type": "code",
      "metadata": {
        "id": "54x3vyHoYoSX"
      },
      "source": [
        "estimators = [ ('lr', RidgeCV()), ('svr', LinearSVR(random_state=42))]"
      ],
      "execution_count": 100,
      "outputs": []
    },
    {
      "cell_type": "code",
      "metadata": {
        "id": "-BqSP9_fYt7A"
      },
      "source": [
        "from sklearn.preprocessing import MinMaxScaler\n",
        "scaler = MinMaxScaler()"
      ],
      "execution_count": 101,
      "outputs": []
    },
    {
      "cell_type": "code",
      "metadata": {
        "id": "O9fYsv0CYx7h"
      },
      "source": [
        "stack_reg0 = StackingRegressor(\n",
        "         estimators=estimators,\n",
        "         final_estimator=RandomForestRegressor(n_estimators=10,\n",
        "         random_state=42, n_jobs = -1)\n",
        " )"
      ],
      "execution_count": 102,
      "outputs": []
    },
    {
      "cell_type": "code",
      "metadata": {
        "colab": {
          "base_uri": "https://localhost:8080/"
        },
        "id": "KzoI9UyPY3Hn",
        "outputId": "c8915d39-9dc8-4c5c-da91-76b74ede2cc9"
      },
      "source": [
        "stack_reg0.fit(scaler.fit_transform(X_train0), y_train0).score(scaler.fit_transform(X_test0), y_test0)"
      ],
      "execution_count": 103,
      "outputs": [
        {
          "output_type": "stream",
          "name": "stderr",
          "text": [
            "/usr/local/lib/python3.7/dist-packages/sklearn/ensemble/_stacking.py:642: DataConversionWarning: A column-vector y was passed when a 1d array was expected. Please change the shape of y to (n_samples, ), for example using ravel().\n",
            "  y = column_or_1d(y, warn=True)\n"
          ]
        },
        {
          "output_type": "execute_result",
          "data": {
            "text/plain": [
              "-0.246251479886056"
            ]
          },
          "metadata": {},
          "execution_count": 103
        }
      ]
    },
    {
      "cell_type": "code",
      "metadata": {
        "id": "z3rhzP_9Y7RE"
      },
      "source": [
        "pred_stack0 = stack_reg0.predict(scaler.fit_transform(X_test0))"
      ],
      "execution_count": 104,
      "outputs": []
    },
    {
      "cell_type": "code",
      "metadata": {
        "colab": {
          "base_uri": "https://localhost:8080/"
        },
        "id": "oqC0SWcHY_J7",
        "outputId": "d52d0673-5d6a-4103-f058-4e22e3c412e1"
      },
      "source": [
        "mean_of_sqrt_of_quartiles_nmae(y_test0, pred_stack0)"
      ],
      "execution_count": 105,
      "outputs": [
        {
          "output_type": "execute_result",
          "data": {
            "text/plain": [
              "16.090016368100976"
            ]
          },
          "metadata": {},
          "execution_count": 105
        }
      ]
    },
    {
      "cell_type": "code",
      "metadata": {
        "id": "7bCtO4yZZYWv"
      },
      "source": [
        "#Since the KNN IMPUTER & ITERATIVE IMPUTER Taking more than 25 minutes and still not complete, lets use simple imputer"
      ],
      "execution_count": 106,
      "outputs": []
    },
    {
      "cell_type": "markdown",
      "metadata": {
        "id": "_M_1AptHnI8a"
      },
      "source": [
        "#Creating Imputed Data and adding features"
      ]
    },
    {
      "cell_type": "code",
      "metadata": {
        "id": "agoGCvsBa4vG",
        "outputId": "4f380536-1613-43e9-b129-37adb824dda9",
        "colab": {
          "base_uri": "https://localhost:8080/"
        }
      },
      "source": [
        "df.shape"
      ],
      "execution_count": 107,
      "outputs": [
        {
          "output_type": "execute_result",
          "data": {
            "text/plain": [
              "(21317, 719)"
            ]
          },
          "metadata": {},
          "execution_count": 107
        }
      ]
    },
    {
      "cell_type": "code",
      "metadata": {
        "id": "k0XH5bc5a7eL"
      },
      "source": [
        "df_copy = df"
      ],
      "execution_count": 108,
      "outputs": []
    },
    {
      "cell_type": "code",
      "metadata": {
        "id": "fvYMeuE3bI0r"
      },
      "source": [
        "from sklearn.impute import SimpleImputer"
      ],
      "execution_count": 109,
      "outputs": []
    },
    {
      "cell_type": "code",
      "metadata": {
        "id": "tzghfxbbb_r0"
      },
      "source": [
        "df_copy.dropna(axis =1, thresh=0.5*len(df_copy), inplace=True)"
      ],
      "execution_count": 110,
      "outputs": []
    },
    {
      "cell_type": "code",
      "metadata": {
        "id": "UKnr-mXHeTi3",
        "outputId": "04bf0895-5f71-406c-c423-495f70da9fbc",
        "colab": {
          "base_uri": "https://localhost:8080/"
        }
      },
      "source": [
        "#9 cols gone coz they had more than 50% NULL\n",
        "df_copy.shape"
      ],
      "execution_count": 111,
      "outputs": [
        {
          "output_type": "execute_result",
          "data": {
            "text/plain": [
              "(21317, 710)"
            ]
          },
          "metadata": {},
          "execution_count": 111
        }
      ]
    },
    {
      "cell_type": "code",
      "metadata": {
        "id": "0422hZDnefyF"
      },
      "source": [
        "year_diff0 = df_copy['target_year'] - df_copy['year_founded']"
      ],
      "execution_count": 112,
      "outputs": []
    },
    {
      "cell_type": "code",
      "metadata": {
        "id": "johXFAXCfN7D"
      },
      "source": [
        "df_copy['yf_t_diff'] = year_diff0"
      ],
      "execution_count": 113,
      "outputs": []
    },
    {
      "cell_type": "code",
      "metadata": {
        "id": "7Vic_OTSdjxE"
      },
      "source": [
        "df_copy.drop(['year_founded', 'target_year', 'masked_company_id'], axis =1 , inplace =True)"
      ],
      "execution_count": 114,
      "outputs": []
    },
    {
      "cell_type": "code",
      "metadata": {
        "id": "gxsB-mVMd9Q1"
      },
      "source": [
        "df_copy = pd.get_dummies(df_copy, columns = ['reporting_template_type_name', 'mode_period_end_month'])"
      ],
      "execution_count": 115,
      "outputs": []
    },
    {
      "cell_type": "code",
      "metadata": {
        "id": "4EfR3gpUcrGl",
        "outputId": "a43338c2-93aa-4645-d974-1b8518a9cb7e",
        "colab": {
          "base_uri": "https://localhost:8080/"
        }
      },
      "source": [
        "\n",
        "df_copy.shape"
      ],
      "execution_count": 116,
      "outputs": [
        {
          "output_type": "execute_result",
          "data": {
            "text/plain": [
              "(21317, 721)"
            ]
          },
          "metadata": {},
          "execution_count": 116
        }
      ]
    },
    {
      "cell_type": "code",
      "metadata": {
        "id": "ZFIYchFrcG0Y"
      },
      "source": [
        "\n",
        "\n",
        "m1_tax_expense1 = df_copy['m1_current_income_taxes_payable'] + (df_copy['m1_deferred_tax_liability_non_current'] - df_copy['m2_deferred_tax_liability_non_current'])\n",
        "\n",
        "\n",
        "\n",
        "m2_tax_expense2 = df_copy['m2_current_income_taxes_payable'] + (df_copy['m2_deferred_tax_liability_non_current'] - df_copy['m3_deferred_tax_liability_non_current'])\n",
        "\n",
        "\n",
        "\n",
        "m3_tax_expense3 = df_copy['m3_current_income_taxes_payable'] + (df_copy['m3_deferred_tax_liability_non_current'] - df_copy['m4_deferred_tax_liability_non_current'])\n",
        "\n",
        "\n",
        "\n",
        "m4_tax_expense4 = df_copy['m4_current_income_taxes_payable'] + (df_copy['m4_deferred_tax_liability_non_current'] - df_copy['m5_deferred_tax_liability_non_current'])\n",
        "\n",
        "\n",
        "\n",
        "m5_tax_expense5 = df_copy['m5_current_income_taxes_payable'] + (df_copy['m5_deferred_tax_liability_non_current'] - df_copy['m6_deferred_tax_liability_non_current'])\n",
        "\n",
        "\n",
        "\n",
        "m6_tax_expense6 = df_copy['m6_current_income_taxes_payable'] + (df_copy['m6_deferred_tax_liability_non_current'] - df_copy['m7_deferred_tax_liability_non_current'])\n",
        "\n",
        "m7_tax_expense7 = df_copy['m7_current_income_taxes_payable'] + (df_copy['m7_deferred_tax_liability_non_current'] - df_copy['m8_deferred_tax_liability_non_current'])\n",
        "\n"
      ],
      "execution_count": 117,
      "outputs": []
    },
    {
      "cell_type": "code",
      "metadata": {
        "id": "2tPQOxX_cHIb"
      },
      "source": [
        "df_copy['m1_tax_expense'] = m1_tax_expense1\n",
        "df_copy['m2_tax_expense'] = m2_tax_expense2\n",
        "df_copy['m3_tax_expense'] = m3_tax_expense3\n",
        "df_copy['m4_tax_expense'] = m4_tax_expense4\n",
        "df_copy['m5_tax_expense'] = m5_tax_expense5\n",
        "df_copy['m6_tax_expense'] = m6_tax_expense6\n",
        "df_copy['m7_tax_expense'] = m7_tax_expense7"
      ],
      "execution_count": 118,
      "outputs": []
    },
    {
      "cell_type": "code",
      "metadata": {
        "id": "dJqFS-ZUdD8w"
      },
      "source": [
        "\n",
        "m1_cash_received1 = df_copy['m2_accounts_receivable_total'] - df_copy['m1_accounts_receivable_total']\n",
        "\n",
        "m2_cash_received2 = df_copy['m3_accounts_receivable_total'] - df_copy['m2_accounts_receivable_total']\n",
        "\n",
        "m3_cash_received3 = df_copy['m4_accounts_receivable_total'] - df_copy['m3_accounts_receivable_total']\n",
        "\n",
        "m4_cash_received4 = df_copy['m5_accounts_receivable_total'] - df_copy['m4_accounts_receivable_total']\n",
        "\n",
        "m5_cash_received5 = df_copy['m6_accounts_receivable_total'] - df_copy['m5_accounts_receivable_total']\n",
        "\n",
        "m6_cash_received6 = df_copy['m7_accounts_receivable_total'] - df_copy['m6_accounts_receivable_total']\n",
        "\n",
        "m7_cash_received7 = df_copy['m8_accounts_receivable_total'] - df_copy['m7_accounts_receivable_total']\n",
        "\n",
        "\n",
        "\n",
        "m1_cash_paid1 = (df_copy['m2_accounts_payable_total'] - df_copy['m1_accounts_payable_total']) + (df_copy['m1_inventory'] - df_copy['m2_inventory'])\n",
        "\n",
        "m2_cash_paid2 = (df_copy['m3_accounts_payable_total'] - df_copy['m2_accounts_payable_total']) + (df_copy['m2_inventory'] - df_copy['m3_inventory'])\n",
        "\n",
        "m3_cash_paid3 = (df_copy['m4_accounts_payable_total'] - df_copy['m3_accounts_payable_total']) + (df_copy['m3_inventory'] - df_copy['m4_inventory'])\n",
        "\n",
        "m4_cash_paid4 = (df_copy['m5_accounts_payable_total'] - df_copy['m4_accounts_payable_total']) + (df_copy['m4_inventory'] - df_copy['m5_inventory'])\n",
        "\n",
        "m5_cash_paid5 = (df_copy['m6_accounts_payable_total'] - df_copy['m5_accounts_payable_total']) + (df_copy['m5_inventory'] - df_copy['m6_inventory'])\n",
        "\n",
        "m6_cash_paid6 = (df_copy['m7_accounts_payable_total'] - df_copy['m6_accounts_payable_total']) + (df_copy['m6_inventory'] - df_copy['m7_inventory'])\n",
        "\n",
        "m7_cash_paid7 = (df_copy['m8_accounts_payable_total'] - df_copy['m7_accounts_payable_total']) + (df_copy['m7_inventory'] - df_copy['m8_inventory'])"
      ],
      "execution_count": 119,
      "outputs": []
    },
    {
      "cell_type": "code",
      "metadata": {
        "id": "HIE0dxYqdEQy"
      },
      "source": [
        "df_copy['m1_cash_received'] = m1_cash_received1\n",
        "df_copy['m2_cash_received'] = m2_cash_received2\n",
        "df_copy['m3_cash_received'] = m3_cash_received3\n",
        "df_copy['m4_cash_received'] = m4_cash_received4\n",
        "df_copy['m5_cash_received'] = m5_cash_received5\n",
        "df_copy['m6_cash_received'] = m6_cash_received6\n",
        "df_copy['m7_cash_received'] = m7_cash_received7\n",
        "\n",
        "df_copy['m1_cash_paid'] = m1_cash_paid1\n",
        "df_copy['m2_cash_paid'] = m2_cash_paid2\n",
        "df_copy['m3_cash_paid'] = m3_cash_paid3\n",
        "df_copy['m4_cash_paid'] = m4_cash_paid4\n",
        "df_copy['m5_cash_paid'] = m5_cash_paid5\n",
        "df_copy['m6_cash_paid'] = m6_cash_paid6\n",
        "df_copy['m7_cash_paid'] = m7_cash_paid7\n",
        "\n",
        "\n",
        "df_copy['m1_CFO_partial'] = m1_cash_received1 - m1_cash_paid1\n",
        "df_copy['m2_CFO_partial'] = m2_cash_received2 - m2_cash_paid2\n",
        "df_copy['m3_CFO_partial'] = m3_cash_received3 - m3_cash_paid3\n",
        "df_copy['m4_CFO_partial'] = m4_cash_received4 - m4_cash_paid4\n",
        "df_copy['m5_CFO_partial'] = m5_cash_received5 - m5_cash_paid5\n",
        "df_copy['m6_CFO_partial'] = m6_cash_received6 - m6_cash_paid6\n",
        "df_copy['m7_CFO_partial'] = m7_cash_received7 - m7_cash_paid7"
      ],
      "execution_count": 120,
      "outputs": []
    },
    {
      "cell_type": "code",
      "metadata": {
        "id": "8v12sWrBenOQ",
        "outputId": "b5860bfc-6435-4fb4-c5d2-6787b5bfb01c",
        "colab": {
          "base_uri": "https://localhost:8080/"
        }
      },
      "source": [
        "df_copy.shape"
      ],
      "execution_count": 121,
      "outputs": [
        {
          "output_type": "execute_result",
          "data": {
            "text/plain": [
              "(21317, 749)"
            ]
          },
          "metadata": {},
          "execution_count": 121
        }
      ]
    },
    {
      "cell_type": "code",
      "metadata": {
        "id": "sHfgCfywiHi7"
      },
      "source": [
        "features3 = list(set(df_copy.columns) - set(target))\n"
      ],
      "execution_count": 122,
      "outputs": []
    },
    {
      "cell_type": "code",
      "metadata": {
        "id": "Z4YpmF7sbfPX"
      },
      "source": [
        "imputer = SimpleImputer(missing_values=np.nan, add_indicator=True,\n",
        "                            strategy='mean')"
      ],
      "execution_count": 123,
      "outputs": []
    },
    {
      "cell_type": "code",
      "metadata": {
        "id": "xjRjyLJ6iBLJ"
      },
      "source": [
        ""
      ],
      "execution_count": 123,
      "outputs": []
    },
    {
      "cell_type": "code",
      "metadata": {
        "id": "htnJdkWJdFqq"
      },
      "source": [
        "X = imputer.fit_transform(df_copy[features3])"
      ],
      "execution_count": 124,
      "outputs": []
    },
    {
      "cell_type": "code",
      "metadata": {
        "id": "t4yvSsqEfoD3",
        "outputId": "92036908-63b7-4e67-bebc-8b5941893a87",
        "colab": {
          "base_uri": "https://localhost:8080/"
        }
      },
      "source": [
        "X.shape"
      ],
      "execution_count": 125,
      "outputs": [
        {
          "output_type": "execute_result",
          "data": {
            "text/plain": [
              "(21317, 1113)"
            ]
          },
          "metadata": {},
          "execution_count": 125
        }
      ]
    },
    {
      "cell_type": "code",
      "metadata": {
        "id": "JKhIch0LibbU"
      },
      "source": [
        "Y = df_copy[target].values"
      ],
      "execution_count": 126,
      "outputs": []
    },
    {
      "cell_type": "code",
      "metadata": {
        "id": "eR22gw--i7Fj",
        "outputId": "4c5d81c3-90fe-40ed-eef7-66995e95bd89",
        "colab": {
          "base_uri": "https://localhost:8080/"
        }
      },
      "source": [
        "Y.shape"
      ],
      "execution_count": 127,
      "outputs": [
        {
          "output_type": "execute_result",
          "data": {
            "text/plain": [
              "(21317, 1)"
            ]
          },
          "metadata": {},
          "execution_count": 127
        }
      ]
    },
    {
      "cell_type": "markdown",
      "metadata": {
        "id": "ntiBpJIkaxor"
      },
      "source": [
        "#TRAIN TEST ON FULL IMPUTED DF"
      ]
    },
    {
      "cell_type": "code",
      "metadata": {
        "id": "NoZQzqL_iuDv"
      },
      "source": [
        "from sklearn.model_selection import train_test_split\n",
        "X_train1, X_test1, y_train1, y_test1 = train_test_split(X, Y, test_size=0.25, random_state=42)"
      ],
      "execution_count": 128,
      "outputs": []
    },
    {
      "cell_type": "markdown",
      "metadata": {
        "id": "NXHR5Ss9jIe8"
      },
      "source": [
        "#Linear Regression on Imputed data"
      ]
    },
    {
      "cell_type": "code",
      "metadata": {
        "id": "fcQk7Gx3jBXj",
        "outputId": "a998620a-d8ee-4cd7-92bd-8fe361a0f5d6",
        "colab": {
          "base_uri": "https://localhost:8080/"
        }
      },
      "source": [
        "from sklearn.linear_model import LinearRegression\n",
        "reg1 = LinearRegression()\n",
        "reg1.fit(X_train1, y_train1)\n",
        "reg1.score(X_train1, y_train1)"
      ],
      "execution_count": 129,
      "outputs": [
        {
          "output_type": "execute_result",
          "data": {
            "text/plain": [
              "0.9161594086787498"
            ]
          },
          "metadata": {},
          "execution_count": 129
        }
      ]
    },
    {
      "cell_type": "code",
      "metadata": {
        "id": "zXls60vwjWe3"
      },
      "source": [
        "pred_reg1 = reg1.predict(X_test1)"
      ],
      "execution_count": 130,
      "outputs": []
    },
    {
      "cell_type": "code",
      "metadata": {
        "id": "1LSYW6Ofj4oi"
      },
      "source": [
        "y_test1 = pd.DataFrame(y_test1, columns=['target_total_revenues'])"
      ],
      "execution_count": 131,
      "outputs": []
    },
    {
      "cell_type": "code",
      "metadata": {
        "id": "R98avR6djdIk",
        "outputId": "5fd79920-218d-4def-cd2f-7482f5839dba",
        "colab": {
          "base_uri": "https://localhost:8080/"
        }
      },
      "source": [
        "mean_of_sqrt_of_quartiles_nmae(y_test1, pred_reg1)"
      ],
      "execution_count": 132,
      "outputs": [
        {
          "output_type": "execute_result",
          "data": {
            "text/plain": [
              "52.651314713384146"
            ]
          },
          "metadata": {},
          "execution_count": 132
        }
      ]
    },
    {
      "cell_type": "markdown",
      "metadata": {
        "id": "yp_MYua3moXA"
      },
      "source": [
        "#RandomForest on Imputed data\n"
      ]
    },
    {
      "cell_type": "code",
      "metadata": {
        "id": "7hx5sDX0jtXv",
        "outputId": "e603ecbc-6ec2-46cd-828a-83bf30dcc390",
        "colab": {
          "base_uri": "https://localhost:8080/"
        }
      },
      "source": [
        "from sklearn.ensemble import RandomForestRegressor\n",
        "\n",
        "rand_regr1 = RandomForestRegressor(max_depth=2, random_state=0, n_jobs=-1, verbose = 1)\n",
        "rand_regr1.fit(X_train1, y_train1)"
      ],
      "execution_count": 133,
      "outputs": [
        {
          "output_type": "stream",
          "name": "stderr",
          "text": [
            "/usr/local/lib/python3.7/dist-packages/ipykernel_launcher.py:4: DataConversionWarning: A column-vector y was passed when a 1d array was expected. Please change the shape of y to (n_samples,), for example using ravel().\n",
            "  after removing the cwd from sys.path.\n",
            "[Parallel(n_jobs=-1)]: Using backend ThreadingBackend with 2 concurrent workers.\n",
            "[Parallel(n_jobs=-1)]: Done  46 tasks      | elapsed:   30.7s\n",
            "[Parallel(n_jobs=-1)]: Done 100 out of 100 | elapsed:  1.1min finished\n"
          ]
        },
        {
          "output_type": "execute_result",
          "data": {
            "text/plain": [
              "RandomForestRegressor(bootstrap=True, ccp_alpha=0.0, criterion='mse',\n",
              "                      max_depth=2, max_features='auto', max_leaf_nodes=None,\n",
              "                      max_samples=None, min_impurity_decrease=0.0,\n",
              "                      min_impurity_split=None, min_samples_leaf=1,\n",
              "                      min_samples_split=2, min_weight_fraction_leaf=0.0,\n",
              "                      n_estimators=100, n_jobs=-1, oob_score=False,\n",
              "                      random_state=0, verbose=1, warm_start=False)"
            ]
          },
          "metadata": {},
          "execution_count": 133
        }
      ]
    },
    {
      "cell_type": "code",
      "metadata": {
        "id": "IZOTRxZEkWje",
        "outputId": "ac7d2d4f-e94c-4824-82f3-d2abe302c2ab",
        "colab": {
          "base_uri": "https://localhost:8080/"
        }
      },
      "source": [
        "pred_rand1 = rand_regr1.predict(X_test1)"
      ],
      "execution_count": 134,
      "outputs": [
        {
          "output_type": "stream",
          "name": "stderr",
          "text": [
            "[Parallel(n_jobs=2)]: Using backend ThreadingBackend with 2 concurrent workers.\n",
            "[Parallel(n_jobs=2)]: Done  46 tasks      | elapsed:    0.0s\n",
            "[Parallel(n_jobs=2)]: Done 100 out of 100 | elapsed:    0.0s finished\n"
          ]
        }
      ]
    },
    {
      "cell_type": "code",
      "metadata": {
        "id": "o8k7nrygkew9",
        "outputId": "d9bd340e-ff0e-4ffd-ffa1-c7274cd7933e",
        "colab": {
          "base_uri": "https://localhost:8080/"
        }
      },
      "source": [
        "mean_of_sqrt_of_quartiles_nmae(y_test1, pred_rand1)"
      ],
      "execution_count": 135,
      "outputs": [
        {
          "output_type": "execute_result",
          "data": {
            "text/plain": [
              "16.008509812676447"
            ]
          },
          "metadata": {},
          "execution_count": 135
        }
      ]
    },
    {
      "cell_type": "markdown",
      "metadata": {
        "id": "WfZR2KsCmxVC"
      },
      "source": [
        "#kneighbors on imputed data"
      ]
    },
    {
      "cell_type": "code",
      "metadata": {
        "id": "0VSU8_17kn3V",
        "outputId": "57596d5c-b44c-4dbb-83d4-102f1f8963c0",
        "colab": {
          "base_uri": "https://localhost:8080/"
        }
      },
      "source": [
        "from sklearn.neighbors import KNeighborsRegressor\n",
        "neigh1 = KNeighborsRegressor(n_neighbors=5, weights='distance', n_jobs =-1)\n",
        "neigh1.fit(X_train1, y_train1)"
      ],
      "execution_count": 136,
      "outputs": [
        {
          "output_type": "execute_result",
          "data": {
            "text/plain": [
              "KNeighborsRegressor(algorithm='auto', leaf_size=30, metric='minkowski',\n",
              "                    metric_params=None, n_jobs=-1, n_neighbors=5, p=2,\n",
              "                    weights='distance')"
            ]
          },
          "metadata": {},
          "execution_count": 136
        }
      ]
    },
    {
      "cell_type": "code",
      "metadata": {
        "id": "oM_boXL-lRPI"
      },
      "source": [
        "pred_neigh1 = neigh1.predict(X_test1)"
      ],
      "execution_count": 137,
      "outputs": []
    },
    {
      "cell_type": "code",
      "metadata": {
        "id": "cBUoVLUIlT77",
        "outputId": "b57a24ed-a755-4758-ed4d-9f556ff59a77",
        "colab": {
          "base_uri": "https://localhost:8080/"
        }
      },
      "source": [
        "mean_of_sqrt_of_quartiles_nmae(y_test1, pred_neigh1)"
      ],
      "execution_count": 138,
      "outputs": [
        {
          "output_type": "execute_result",
          "data": {
            "text/plain": [
              "13.44721708716786"
            ]
          },
          "metadata": {},
          "execution_count": 138
        }
      ]
    },
    {
      "cell_type": "markdown",
      "metadata": {
        "id": "Hh4-LEX_m2ZG"
      },
      "source": [
        "#Stacking on IMputed data"
      ]
    },
    {
      "cell_type": "code",
      "metadata": {
        "id": "OuffbdPglaPo"
      },
      "source": [
        "from sklearn.linear_model import RidgeCV\n",
        "\n",
        "from sklearn.svm import LinearSVR\n",
        "from sklearn.ensemble import RandomForestRegressor\n",
        "from sklearn.ensemble import StackingRegressor"
      ],
      "execution_count": 139,
      "outputs": []
    },
    {
      "cell_type": "code",
      "metadata": {
        "id": "_4fgjo9ZlsgU"
      },
      "source": [
        "estimators = [ ('lr', RidgeCV()), ('svr', LinearSVR(random_state=42))]"
      ],
      "execution_count": 140,
      "outputs": []
    },
    {
      "cell_type": "code",
      "metadata": {
        "id": "N4povfG4lxkS"
      },
      "source": [
        "from sklearn.preprocessing import MinMaxScaler\n",
        "scaler = MinMaxScaler()"
      ],
      "execution_count": 141,
      "outputs": []
    },
    {
      "cell_type": "code",
      "metadata": {
        "id": "r4dfA1bLl_qI"
      },
      "source": [
        "stack_reg1 = StackingRegressor(\n",
        "         estimators=estimators,\n",
        "         final_estimator=RandomForestRegressor(n_estimators=10,\n",
        "         random_state=42, n_jobs = -1)\n",
        " )"
      ],
      "execution_count": 142,
      "outputs": []
    },
    {
      "cell_type": "code",
      "metadata": {
        "id": "RzbOCN1BmI6Y",
        "outputId": "b2d504b1-fa14-4492-81bf-4a1a2b8a6a14",
        "colab": {
          "base_uri": "https://localhost:8080/"
        }
      },
      "source": [
        "stack_reg1.fit(scaler.fit_transform(X_train1), y_train1).score(scaler.fit_transform(X_test1), y_test1)"
      ],
      "execution_count": 143,
      "outputs": [
        {
          "output_type": "stream",
          "name": "stderr",
          "text": [
            "/usr/local/lib/python3.7/dist-packages/sklearn/ensemble/_stacking.py:642: DataConversionWarning: A column-vector y was passed when a 1d array was expected. Please change the shape of y to (n_samples, ), for example using ravel().\n",
            "  y = column_or_1d(y, warn=True)\n"
          ]
        },
        {
          "output_type": "execute_result",
          "data": {
            "text/plain": [
              "-2.3959597131790558"
            ]
          },
          "metadata": {},
          "execution_count": 143
        }
      ]
    },
    {
      "cell_type": "code",
      "metadata": {
        "id": "rbyF7d3wmV5p"
      },
      "source": [
        "pred_stack1 = stack_reg1.predict(scaler.fit_transform(X_test1))"
      ],
      "execution_count": 144,
      "outputs": []
    },
    {
      "cell_type": "code",
      "metadata": {
        "id": "qYkReB6MmdXB",
        "outputId": "c14bea44-7d6b-4cd8-801f-cb036a9df969",
        "colab": {
          "base_uri": "https://localhost:8080/"
        }
      },
      "source": [
        "mean_of_sqrt_of_quartiles_nmae(y_test1, pred_stack1)"
      ],
      "execution_count": 145,
      "outputs": [
        {
          "output_type": "execute_result",
          "data": {
            "text/plain": [
              "46.371795636719824"
            ]
          },
          "metadata": {},
          "execution_count": 145
        }
      ]
    },
    {
      "cell_type": "code",
      "metadata": {
        "id": "RD7jTX7YmjhB"
      },
      "source": [
        ""
      ],
      "execution_count": 145,
      "outputs": []
    }
  ]
}