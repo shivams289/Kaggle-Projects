{
 "cells": [
  {
   "cell_type": "code",
   "execution_count": 2,
   "id": "b13ccd9a",
   "metadata": {},
   "outputs": [],
   "source": [
    "import numpy as np\n",
    "import matplotlib.pyplot as plt\n",
    "import seaborn as sns\n",
    "import random"
   ]
  },
  {
   "cell_type": "code",
   "execution_count": 3,
   "id": "e784940a",
   "metadata": {},
   "outputs": [],
   "source": [
    "#Lets take a random normal population of mean= 0 and std=1, n=1000000\n",
    "\n",
    "x = np.random.normal(0,1, 1000000)"
   ]
  },
  {
   "cell_type": "code",
   "execution_count": 4,
   "id": "f514460f",
   "metadata": {},
   "outputs": [
    {
     "name": "stdout",
     "output_type": "stream",
     "text": [
      "Mean:-3.3213851035975654e-05\n",
      "Median:-0.001028553299531226\n",
      "Std:0.9997301653006909\n"
     ]
    },
    {
     "data": {
      "image/png": "[encoded data removed]",
      "text/plain": [
       "<Figure size 360x360 with 1 Axes>"
      ]
     },
     "metadata": {
      "needs_background": "light"
     },
     "output_type": "display_data"
    }
   ],
   "source": [
    "sns.displot(x)\n",
    "print(f'Mean:{np.mean(x)}\\nMedian:{np.median(x)}\\nStd:{np.std(x)}')"
   ]
  },
  {
   "cell_type": "code",
   "execution_count": 24,
   "id": "e5fa4aa7",
   "metadata": {},
   "outputs": [],
   "source": [
    "# Now lets take random samples out of above population(Just 10% of data each time) with replacement\n",
    "sample_means = []\n",
    "for i in range(100):\n",
    "    y = np.random.choice(x, size = 1000, replace = True)\n",
    "    sample_means.append(np.mean(y))"
   ]
  },
  {
   "cell_type": "code",
   "execution_count": 25,
   "id": "8eff2565",
   "metadata": {},
   "outputs": [
    {
     "data": {
      "text/plain": [
       "<seaborn.axisgrid.FacetGrid at 0x7fcace0fa5b0>"
      ]
     },
     "execution_count": 25,
     "metadata": {},
     "output_type": "execute_result"
    },
    {
     "data": {
      "image/png": "[encoded data removed]",
      "text/plain": [
       "<Figure size 360x360 with 1 Axes>"
      ]
     },
     "metadata": {
      "needs_background": "light"
     },
     "output_type": "display_data"
    }
   ],
   "source": [
    "sns.displot(sample_means)"
   ]
  },
  {
   "cell_type": "code",
   "execution_count": 26,
   "id": "fc3cf8c6",
   "metadata": {},
   "outputs": [
    {
     "data": {
      "text/plain": [
       "-0.0018484746182638185"
      ]
     },
     "execution_count": 26,
     "metadata": {},
     "output_type": "execute_result"
    }
   ],
   "source": [
    "#estimate of the mean\n",
    "np.mean(sample_means)"
   ]
  },
  {
   "cell_type": "code",
   "execution_count": 27,
   "id": "6b00d1a3",
   "metadata": {},
   "outputs": [
    {
     "data": {
      "text/plain": [
       "0.02660456530466963"
      ]
     },
     "execution_count": 27,
     "metadata": {},
     "output_type": "execute_result"
    }
   ],
   "source": [
    "#standard error, standard deviation of sample means\n",
    "np.std(sample_means)"
   ]
  },
  {
   "cell_type": "code",
   "execution_count": 28,
   "id": "7c97e4b4",
   "metadata": {},
   "outputs": [
    {
     "data": {
      "text/plain": [
       "array([-0.05800625,  0.04409724])"
      ]
     },
     "execution_count": 28,
     "metadata": {},
     "output_type": "execute_result"
    }
   ],
   "source": [
    "np.percentile(sample_means, [2.5,97.5])"
   ]
  },
  {
   "cell_type": "code",
   "execution_count": null,
   "id": "d2d5608a",
   "metadata": {},
   "outputs": [],
   "source": []
  },
  {
   "cell_type": "code",
   "execution_count": 14,
   "id": "5af25e79",
   "metadata": {},
   "outputs": [],
   "source": [
    "#lets bootstrap the population standard deviation\n",
    "sample_stds = []\n",
    "for i in range(100):\n",
    "    y = np.random.choice(x, size = 1000, replace = True)\n",
    "    sample_stds.append(np.std(y))"
   ]
  },
  {
   "cell_type": "code",
   "execution_count": 18,
   "id": "14b214e4",
   "metadata": {},
   "outputs": [
    {
     "data": {
      "text/plain": [
       "<seaborn.axisgrid.FacetGrid at 0x7fcacdf05d90>"
      ]
     },
     "execution_count": 18,
     "metadata": {},
     "output_type": "execute_result"
    },
    {
     "data": {
      "image/png": "[encoded data removed]",
      "text/plain": [
       "<Figure size 360x360 with 1 Axes>"
      ]
     },
     "metadata": {
      "needs_background": "light"
     },
     "output_type": "display_data"
    }
   ],
   "source": [
    "sns.displot(sample_stds)"
   ]
  },
  {
   "cell_type": "code",
   "execution_count": 15,
   "id": "545bbfc5",
   "metadata": {},
   "outputs": [
    {
     "data": {
      "text/plain": [
       "1.0024207027505438"
      ]
     },
     "execution_count": 15,
     "metadata": {},
     "output_type": "execute_result"
    }
   ],
   "source": [
    "#Population Standard Deviation best estimate\n",
    "np.mean(sample_stds)"
   ]
  },
  {
   "cell_type": "code",
   "execution_count": 17,
   "id": "fcc4ee0c",
   "metadata": {},
   "outputs": [
    {
     "data": {
      "text/plain": [
       "0.021451685050180275"
      ]
     },
     "execution_count": 17,
     "metadata": {},
     "output_type": "execute_result"
    }
   ],
   "source": [
    "#Standard Deviation of the standard deviations\n",
    "np.std(sample_stds)"
   ]
  },
  {
   "cell_type": "code",
   "execution_count": 16,
   "id": "e64bdc16",
   "metadata": {},
   "outputs": [
    {
     "data": {
      "text/plain": [
       "array([0.95962473, 1.03913496])"
      ]
     },
     "execution_count": 16,
     "metadata": {},
     "output_type": "execute_result"
    }
   ],
   "source": [
    "#Confidence interval of the estimated std\n",
    "np.percentile(sample_stds, [2.5,97.5])"
   ]
  },
  {
   "cell_type": "code",
   "execution_count": null,
   "id": "45f19710",
   "metadata": {},
   "outputs": [],
   "source": [
    "#From experimenting I have discovered that its better to take a large sample and small iteration \n",
    "#than small sample and more iteration , best estimates are better in the former"
   ]
  }
 ],
 "metadata": {
  "kernelspec": {
   "display_name": "Python 3 (ipykernel)",
   "language": "python",
   "name": "python3"
  },
  "language_info": {
   "codemirror_mode": {
    "name": "ipython",
    "version": 3
   },
   "file_extension": ".py",
   "mimetype": "text/x-python",
   "name": "python",
   "nbconvert_exporter": "python",
   "pygments_lexer": "ipython3",
   "version": "3.9.5"
  }
 },
 "nbformat": 4,
 "nbformat_minor": 5
}
