{
  "cells": [
    {
      "cell_type": "markdown",
      "metadata": {
        "id": "view-in-github",
        "colab_type": "text"
      },
      "source": [
        "<a href=\"https://colab.research.google.com/github/shivams289/Projects/blob/main/Retention.ipynb\" target=\"_parent\"><img src=\"https://colab.research.google.com/assets/colab-badge.svg\" alt=\"Open In Colab\"/></a>"
      ]
    },
    {
      "cell_type": "code",
      "execution_count": null,
      "id": "34f7d577",
      "metadata": {
        "id": "34f7d577"
      },
      "outputs": [],
      "source": [
        "import pandas as pd\n",
        "import seaborn as sns\n",
        "\n",
        "import matplotlib.pyplot as plt\n",
        "import numpy as np\n",
        "import datetime as dt"
      ]
    },
    {
      "cell_type": "code",
      "execution_count": null,
      "id": "97fa87cc",
      "metadata": {
        "id": "97fa87cc"
      },
      "outputs": [],
      "source": [
        "transaction_df = pd.read_csv('sal.csv')"
      ]
    },
    {
      "cell_type": "code",
      "execution_count": null,
      "id": "596e6c99",
      "metadata": {
        "id": "596e6c99"
      },
      "outputs": [],
      "source": [
        "transaction_df['transaction_date'] = pd.to_datetime(transaction_df.created_at, infer_datetime_format=True).dt.date"
      ]
    },
    {
      "cell_type": "code",
      "execution_count": null,
      "id": "a55bc3bd",
      "metadata": {
        "id": "a55bc3bd",
        "outputId": "0818b989-e7bd-4ae8-c48f-2286ed249afc"
      },
      "outputs": [
        {
          "data": {
            "text/html": [
              "<div>\n",
              "<style scoped>\n",
              "    .dataframe tbody tr th:only-of-type {\n",
              "        vertical-align: middle;\n",
              "    }\n",
              "\n",
              "    .dataframe tbody tr th {\n",
              "        vertical-align: top;\n",
              "    }\n",
              "\n",
              "    .dataframe thead th {\n",
              "        text-align: right;\n",
              "    }\n",
              "</style>\n",
              "<table border=\"1\" class=\"dataframe\">\n",
              "  <thead>\n",
              "    <tr style=\"text-align: right;\">\n",
              "      <th></th>\n",
              "      <th>user_id</th>\n",
              "      <th>contact_id</th>\n",
              "      <th>created_at</th>\n",
              "      <th>revenue_amount</th>\n",
              "      <th>cost_amount</th>\n",
              "      <th>transaction_date</th>\n",
              "    </tr>\n",
              "  </thead>\n",
              "  <tbody>\n",
              "    <tr>\n",
              "      <th>0</th>\n",
              "      <td>3920.0</td>\n",
              "      <td>NaN</td>\n",
              "      <td>2019-12-23 03:30:00</td>\n",
              "      <td>42000.0</td>\n",
              "      <td>36000.0</td>\n",
              "      <td>2019-12-23</td>\n",
              "    </tr>\n",
              "    <tr>\n",
              "      <th>1</th>\n",
              "      <td>3925.0</td>\n",
              "      <td>NaN</td>\n",
              "      <td>2019-12-23 03:42:00</td>\n",
              "      <td>155000.0</td>\n",
              "      <td>80000.0</td>\n",
              "      <td>2019-12-23</td>\n",
              "    </tr>\n",
              "    <tr>\n",
              "      <th>2</th>\n",
              "      <td>3925.0</td>\n",
              "      <td>NaN</td>\n",
              "      <td>2019-12-23 03:43:00</td>\n",
              "      <td>130000.0</td>\n",
              "      <td>100000.0</td>\n",
              "      <td>2019-12-23</td>\n",
              "    </tr>\n",
              "    <tr>\n",
              "      <th>3</th>\n",
              "      <td>3929.0</td>\n",
              "      <td>NaN</td>\n",
              "      <td>2019-12-23 04:02:00</td>\n",
              "      <td>125000.0</td>\n",
              "      <td>110000.0</td>\n",
              "      <td>2019-12-23</td>\n",
              "    </tr>\n",
              "    <tr>\n",
              "      <th>4</th>\n",
              "      <td>3934.0</td>\n",
              "      <td>NaN</td>\n",
              "      <td>2019-12-23 04:09:00</td>\n",
              "      <td>100000.0</td>\n",
              "      <td>75000.0</td>\n",
              "      <td>2019-12-23</td>\n",
              "    </tr>\n",
              "    <tr>\n",
              "      <th>...</th>\n",
              "      <td>...</td>\n",
              "      <td>...</td>\n",
              "      <td>...</td>\n",
              "      <td>...</td>\n",
              "      <td>...</td>\n",
              "      <td>...</td>\n",
              "    </tr>\n",
              "    <tr>\n",
              "      <th>77090</th>\n",
              "      <td>32272.0</td>\n",
              "      <td>NaN</td>\n",
              "      <td>2020-02-07 06:14:00</td>\n",
              "      <td>0.0</td>\n",
              "      <td>9000.0</td>\n",
              "      <td>2020-02-07</td>\n",
              "    </tr>\n",
              "    <tr>\n",
              "      <th>77091</th>\n",
              "      <td>32272.0</td>\n",
              "      <td>NaN</td>\n",
              "      <td>2020-02-07 06:14:00</td>\n",
              "      <td>0.0</td>\n",
              "      <td>10000.0</td>\n",
              "      <td>2020-02-07</td>\n",
              "    </tr>\n",
              "    <tr>\n",
              "      <th>77092</th>\n",
              "      <td>41875.0</td>\n",
              "      <td>29112.0</td>\n",
              "      <td>2020-02-07 06:14:00</td>\n",
              "      <td>115000.0</td>\n",
              "      <td>70000.0</td>\n",
              "      <td>2020-02-07</td>\n",
              "    </tr>\n",
              "    <tr>\n",
              "      <th>77093</th>\n",
              "      <td>42958.0</td>\n",
              "      <td>NaN</td>\n",
              "      <td>2020-02-07 06:15:00</td>\n",
              "      <td>20000.0</td>\n",
              "      <td>18000.0</td>\n",
              "      <td>2020-02-07</td>\n",
              "    </tr>\n",
              "    <tr>\n",
              "      <th>77094</th>\n",
              "      <td>32272.0</td>\n",
              "      <td>NaN</td>\n",
              "      <td>2020-02-07 06:15:00</td>\n",
              "      <td>0.0</td>\n",
              "      <td>80000.0</td>\n",
              "      <td>2020-02-07</td>\n",
              "    </tr>\n",
              "  </tbody>\n",
              "</table>\n",
              "<p>77095 rows × 6 columns</p>\n",
              "</div>"
            ],
            "text/plain": [
              "       user_id  contact_id           created_at  revenue_amount  cost_amount  \\\n",
              "0       3920.0         NaN  2019-12-23 03:30:00         42000.0      36000.0   \n",
              "1       3925.0         NaN  2019-12-23 03:42:00        155000.0      80000.0   \n",
              "2       3925.0         NaN  2019-12-23 03:43:00        130000.0     100000.0   \n",
              "3       3929.0         NaN  2019-12-23 04:02:00        125000.0     110000.0   \n",
              "4       3934.0         NaN  2019-12-23 04:09:00        100000.0      75000.0   \n",
              "...        ...         ...                  ...             ...          ...   \n",
              "77090  32272.0         NaN  2020-02-07 06:14:00             0.0       9000.0   \n",
              "77091  32272.0         NaN  2020-02-07 06:14:00             0.0      10000.0   \n",
              "77092  41875.0     29112.0  2020-02-07 06:14:00        115000.0      70000.0   \n",
              "77093  42958.0         NaN  2020-02-07 06:15:00         20000.0      18000.0   \n",
              "77094  32272.0         NaN  2020-02-07 06:15:00             0.0      80000.0   \n",
              "\n",
              "      transaction_date  \n",
              "0           2019-12-23  \n",
              "1           2019-12-23  \n",
              "2           2019-12-23  \n",
              "3           2019-12-23  \n",
              "4           2019-12-23  \n",
              "...                ...  \n",
              "77090       2020-02-07  \n",
              "77091       2020-02-07  \n",
              "77092       2020-02-07  \n",
              "77093       2020-02-07  \n",
              "77094       2020-02-07  \n",
              "\n",
              "[77095 rows x 6 columns]"
            ]
          },
          "execution_count": 5,
          "metadata": {},
          "output_type": "execute_result"
        }
      ],
      "source": [
        "transaction_df"
      ]
    },
    {
      "cell_type": "code",
      "execution_count": null,
      "id": "4906c6fc",
      "metadata": {
        "id": "4906c6fc",
        "outputId": "889dfc8b-f61c-4cb2-eb59-2f2a552e30e1"
      },
      "outputs": [
        {
          "name": "stdout",
          "output_type": "stream",
          "text": [
            "   user_id  contact_id           created_at  revenue_amount  cost_amount  \\\n",
            "0   3920.0         NaN  2019-12-23 03:30:00         42000.0      36000.0   \n",
            "1   3925.0         NaN  2019-12-23 03:42:00        155000.0      80000.0   \n",
            "2   3925.0         NaN  2019-12-23 03:43:00        130000.0     100000.0   \n",
            "3   3929.0         NaN  2019-12-23 04:02:00        125000.0     110000.0   \n",
            "4   3934.0         NaN  2019-12-23 04:09:00        100000.0      75000.0   \n",
            "\n",
            "  transaction_date TransactionMonth CohortMonth  \n",
            "0       2019-12-23       2019-12-01  2019-12-01  \n",
            "1       2019-12-23       2019-12-01  2019-12-01  \n",
            "2       2019-12-23       2019-12-01  2019-12-01  \n",
            "3       2019-12-23       2019-12-01  2019-12-01  \n",
            "4       2019-12-23       2019-12-01  2019-12-01  \n"
          ]
        }
      ],
      "source": [
        "# A function that will parse the date Time based cohort:  1 day of month\n",
        "def get_month(x): return dt.datetime(x.year, x.month, 1) \n",
        "\n",
        "# Create transaction_date column based on month and store in TransactionMonth\n",
        "transaction_df['TransactionMonth'] = transaction_df['transaction_date'].apply(get_month) \n",
        "\n",
        "# Grouping by customer_id and select the InvoiceMonth value\n",
        "grouping = transaction_df.groupby('user_id')['TransactionMonth'] \n",
        "\n",
        "# Assigning a minimum InvoiceMonth value to the dataset\n",
        "transaction_df['CohortMonth'] = grouping.transform('min')\n",
        "\n",
        "# printing top 5 rows\n",
        "print(transaction_df.head())"
      ]
    },
    {
      "cell_type": "code",
      "execution_count": null,
      "id": "8eced153",
      "metadata": {
        "id": "8eced153"
      },
      "outputs": [],
      "source": [
        "def get_date_int(df, column):\n",
        "    year = df[column].dt.year\n",
        "    month = df[column].dt.month\n",
        "    day = df[column].dt.day\n",
        "    return year, month, day\n",
        "\n",
        "# Getting the integers for date parts from the `InvoiceDay` column\n",
        "transcation_year, transaction_month, _ = get_date_int(transaction_df, 'TransactionMonth')\n",
        "\n",
        "# Getting the integers for date parts from the `CohortDay` column\n",
        "cohort_year, cohort_month, _ = get_date_int(transaction_df, 'CohortMonth')"
      ]
    },
    {
      "cell_type": "code",
      "execution_count": null,
      "id": "79d2f9d5",
      "metadata": {
        "id": "79d2f9d5",
        "outputId": "977a7321-acbc-4c04-91d1-0bdb269da0d2"
      },
      "outputs": [
        {
          "name": "stdout",
          "output_type": "stream",
          "text": [
            "   user_id  contact_id           created_at  revenue_amount  cost_amount  \\\n",
            "0   3920.0         NaN  2019-12-23 03:30:00         42000.0      36000.0   \n",
            "1   3925.0         NaN  2019-12-23 03:42:00        155000.0      80000.0   \n",
            "2   3925.0         NaN  2019-12-23 03:43:00        130000.0     100000.0   \n",
            "3   3929.0         NaN  2019-12-23 04:02:00        125000.0     110000.0   \n",
            "4   3934.0         NaN  2019-12-23 04:09:00        100000.0      75000.0   \n",
            "\n",
            "  transaction_date TransactionMonth CohortMonth  CohortIndex  \n",
            "0       2019-12-23       2019-12-01  2019-12-01            1  \n",
            "1       2019-12-23       2019-12-01  2019-12-01            1  \n",
            "2       2019-12-23       2019-12-01  2019-12-01            1  \n",
            "3       2019-12-23       2019-12-01  2019-12-01            1  \n",
            "4       2019-12-23       2019-12-01  2019-12-01            1  \n"
          ]
        }
      ],
      "source": [
        "#  Get the  difference in years\n",
        "years_diff = transcation_year - cohort_year\n",
        "\n",
        "# Calculate difference in months\n",
        "months_diff = transaction_month - cohort_month\n",
        "\n",
        "\n",
        "\n",
        "transaction_df['CohortIndex'] = (years_diff * 12 + months_diff)  + 1 \n",
        "print(transaction_df.head(5))"
      ]
    },
    {
      "cell_type": "code",
      "execution_count": null,
      "id": "55cd2c11",
      "metadata": {
        "id": "55cd2c11",
        "outputId": "d2f995b5-635d-4955-f6a9-db5a78ae8bcd"
      },
      "outputs": [
        {
          "data": {
            "text/html": [
              "<div>\n",
              "<style scoped>\n",
              "    .dataframe tbody tr th:only-of-type {\n",
              "        vertical-align: middle;\n",
              "    }\n",
              "\n",
              "    .dataframe tbody tr th {\n",
              "        vertical-align: top;\n",
              "    }\n",
              "\n",
              "    .dataframe thead th {\n",
              "        text-align: right;\n",
              "    }\n",
              "</style>\n",
              "<table border=\"1\" class=\"dataframe\">\n",
              "  <thead>\n",
              "    <tr style=\"text-align: right;\">\n",
              "      <th></th>\n",
              "      <th>CohortMonth</th>\n",
              "      <th>CohortIndex</th>\n",
              "      <th>user_id</th>\n",
              "    </tr>\n",
              "  </thead>\n",
              "  <tbody>\n",
              "    <tr>\n",
              "      <th>0</th>\n",
              "      <td>2019-12-01</td>\n",
              "      <td>1</td>\n",
              "      <td>582</td>\n",
              "    </tr>\n",
              "    <tr>\n",
              "      <th>1</th>\n",
              "      <td>2019-12-01</td>\n",
              "      <td>2</td>\n",
              "      <td>96</td>\n",
              "    </tr>\n",
              "    <tr>\n",
              "      <th>2</th>\n",
              "      <td>2019-12-01</td>\n",
              "      <td>3</td>\n",
              "      <td>26</td>\n",
              "    </tr>\n",
              "    <tr>\n",
              "      <th>3</th>\n",
              "      <td>2020-01-01</td>\n",
              "      <td>1</td>\n",
              "      <td>6019</td>\n",
              "    </tr>\n",
              "    <tr>\n",
              "      <th>4</th>\n",
              "      <td>2020-01-01</td>\n",
              "      <td>2</td>\n",
              "      <td>785</td>\n",
              "    </tr>\n",
              "  </tbody>\n",
              "</table>\n",
              "</div>"
            ],
            "text/plain": [
              "  CohortMonth  CohortIndex  user_id\n",
              "0  2019-12-01            1      582\n",
              "1  2019-12-01            2       96\n",
              "2  2019-12-01            3       26\n",
              "3  2020-01-01            1     6019\n",
              "4  2020-01-01            2      785"
            ]
          },
          "execution_count": 9,
          "metadata": {},
          "output_type": "execute_result"
        }
      ],
      "source": [
        "# Counting daily active user from each chort\n",
        "grouping = transaction_df.groupby(['CohortMonth', 'CohortIndex'])\n",
        "\n",
        "\n",
        "\n",
        "# Counting number of unique customer Id's falling in each group of CohortMonth and CohortIndex\n",
        "cohort_data = grouping['user_id'].apply(pd.Series.nunique)\n",
        "cohort_data = cohort_data.reset_index()\n",
        "\n",
        "\n",
        " # Assigning column names to the dataframe created above\n",
        "cohort_counts = cohort_data.pivot(index='CohortMonth',\n",
        "                                 columns ='CohortIndex',\n",
        "                                 values = 'user_id')\n",
        "\n",
        "# Printing top 5 rows of Dataframe\n",
        "cohort_data.head()"
      ]
    },
    {
      "cell_type": "code",
      "execution_count": null,
      "id": "61af569c",
      "metadata": {
        "id": "61af569c",
        "outputId": "50d1fcf5-530b-4af9-f2f0-b4fa9d580ba5"
      },
      "outputs": [
        {
          "name": "stdout",
          "output_type": "stream",
          "text": [
            "CohortIndex       1      2     3\n",
            "CohortMonth                     \n",
            "2019-12-01    582.0   96.0  26.0\n",
            "2020-01-01   6019.0  785.0   NaN\n",
            "2020-02-01   2311.0    NaN   NaN\n"
          ]
        }
      ],
      "source": [
        "print(cohort_counts.round(1))"
      ]
    },
    {
      "cell_type": "code",
      "execution_count": null,
      "id": "0f5684b4",
      "metadata": {
        "id": "0f5684b4"
      },
      "outputs": [],
      "source": [
        "\n",
        "cohort_sizes = cohort_counts.iloc[:,0]\n",
        "\n",
        "\"\"\"\n",
        "We will divide the values in other columns with Cohort Size in order to calculate the retention rate i.e Number of Customers in Each Cohort Index\n",
        "\"\"\"\n",
        "\n",
        "retention = cohort_counts.divide(cohort_sizes, axis=0)"
      ]
    },
    {
      "cell_type": "code",
      "execution_count": null,
      "id": "b70d34ba",
      "metadata": {
        "id": "b70d34ba",
        "outputId": "6269fec7-00f9-4c97-f923-646ccc375b6b"
      },
      "outputs": [
        {
          "data": {
            "text/html": [
              "<div>\n",
              "<style scoped>\n",
              "    .dataframe tbody tr th:only-of-type {\n",
              "        vertical-align: middle;\n",
              "    }\n",
              "\n",
              "    .dataframe tbody tr th {\n",
              "        vertical-align: top;\n",
              "    }\n",
              "\n",
              "    .dataframe thead th {\n",
              "        text-align: right;\n",
              "    }\n",
              "</style>\n",
              "<table border=\"1\" class=\"dataframe\">\n",
              "  <thead>\n",
              "    <tr style=\"text-align: right;\">\n",
              "      <th>CohortIndex</th>\n",
              "      <th>1</th>\n",
              "      <th>2</th>\n",
              "      <th>3</th>\n",
              "    </tr>\n",
              "    <tr>\n",
              "      <th>CohortMonth</th>\n",
              "      <th></th>\n",
              "      <th></th>\n",
              "      <th></th>\n",
              "    </tr>\n",
              "  </thead>\n",
              "  <tbody>\n",
              "    <tr>\n",
              "      <th>2019-12-01</th>\n",
              "      <td>100.0</td>\n",
              "      <td>16.5</td>\n",
              "      <td>4.5</td>\n",
              "    </tr>\n",
              "    <tr>\n",
              "      <th>2020-01-01</th>\n",
              "      <td>100.0</td>\n",
              "      <td>13.0</td>\n",
              "      <td>NaN</td>\n",
              "    </tr>\n",
              "    <tr>\n",
              "      <th>2020-02-01</th>\n",
              "      <td>100.0</td>\n",
              "      <td>NaN</td>\n",
              "      <td>NaN</td>\n",
              "    </tr>\n",
              "  </tbody>\n",
              "</table>\n",
              "</div>"
            ],
            "text/plain": [
              "CohortIndex      1     2    3\n",
              "CohortMonth                  \n",
              "2019-12-01   100.0  16.5  4.5\n",
              "2020-01-01   100.0  13.0  NaN\n",
              "2020-02-01   100.0   NaN  NaN"
            ]
          },
          "execution_count": 12,
          "metadata": {},
          "output_type": "execute_result"
        }
      ],
      "source": [
        "\n",
        "# Coverting the retention rate into percentage and Rounding off.\n",
        "retention.round(3)*100"
      ]
    },
    {
      "cell_type": "code",
      "execution_count": null,
      "id": "e592ede5",
      "metadata": {
        "id": "e592ede5"
      },
      "outputs": [],
      "source": [
        ""
      ]
    }
  ],
  "metadata": {
    "kernelspec": {
      "display_name": "Python 3 (ipykernel)",
      "language": "python",
      "name": "python3"
    },
    "language_info": {
      "codemirror_mode": {
        "name": "ipython",
        "version": 3
      },
      "file_extension": ".py",
      "mimetype": "text/x-python",
      "name": "python",
      "nbconvert_exporter": "python",
      "pygments_lexer": "ipython3",
      "version": "3.9.5"
    },
    "colab": {
      "name": "Retention.ipynb",
      "provenance": [],
      "include_colab_link": true
    }
  },
  "nbformat": 4,
  "nbformat_minor": 5
}