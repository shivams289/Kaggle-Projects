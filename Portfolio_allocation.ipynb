{
  "nbformat": 4,
  "nbformat_minor": 0,
  "metadata": {
    "colab": {
      "name": "Portfolio_allocation.ipynb",
      "provenance": [],
      "authorship_tag": "ABX9TyMetDioUwANA+VoPKnwrJLd",
      "include_colab_link": true
    },
    "kernelspec": {
      "name": "python3",
      "display_name": "Python 3"
    },
    "language_info": {
      "name": "python"
    }
  },
  "cells": [
    {
      "cell_type": "markdown",
      "metadata": {
        "id": "view-in-github",
        "colab_type": "text"
      },
      "source": [
        "<a href=\"https://colab.research.google.com/github/shivams289/Projects/blob/main/Portfolio_allocation.ipynb\" target=\"_parent\"><img src=\"https://colab.research.google.com/assets/colab-badge.svg\" alt=\"Open In Colab\"/></a>"
      ]
    },
    {
      "cell_type": "code",
      "metadata": {
        "id": "Y-HqmAMaQzfQ"
      },
      "source": [
        "import numpy as np\n",
        "import pandas as pd\n",
        "import math\n",
        "import random"
      ],
      "execution_count": null,
      "outputs": []
    },
    {
      "cell_type": "code",
      "metadata": {
        "id": "YRMq4UgCkDp5"
      },
      "source": [
        "#ann_vol - annualized volatatilty = periodic_volatailty*sqrt(T)\n",
        "def ann_vol(r, periods_per_year):\n",
        "  return r.std()*(periods_per_year**0.5)\n",
        "\n",
        "\n",
        "def ann_ret(r, periods_per_year):\n",
        "  compound_growth = (1+r).prod()                          # This will multiply every (1+ return_row)\n",
        "  n_periods = r.shape[0]                                  # Given by number of rows that our return dataframe have\n",
        "  return compound_growth**(periods_per_year/n_periods)-1  # (1+r)**(T/n) = compound_growth  => \n",
        "\n",
        "                      #rfr - risk_free_rate\n",
        "                      #r - return\n",
        "\n",
        "\n",
        "def sharpe_ratio(r, rfr, periods_per_year):\n",
        "  rf_per_period = (1+rfr)**(1/periods_per_year)-1\n",
        "  excess_return = r - rf_per_period\n",
        "  ann_excess_return = ann_ret(excess_return, periods_per_year)\n",
        "  ann_vol = ann_vol(excess_return, periods_per_year)\n",
        "  \n",
        "  return ann_excess_return/n_vol\n",
        "\n"
      ],
      "execution_count": null,
      "outputs": []
    },
    {
      "cell_type": "code",
      "metadata": {
        "id": "37f8W7WsG6il"
      },
      "source": [
        "from scipy.optimize import minimize\n",
        "\n",
        "#minimizing volatility\n",
        "\n",
        "def minimize_vol(target_return, er, cov):\n",
        "  n = er.shape[0]\n",
        "  init_guess = np.repeat(1/n,n)\n",
        "  bounds = ((0.0, 1.0), )*n\n",
        "\n",
        "  return_is_target ={\n",
        "      'type':'eq',\n",
        "      'args':(er,),\n",
        "      'fun':lambda weights, er: target_return - portfolio_return(weights, er)\n",
        "  }\n",
        "\n",
        "  weights_sum_to_1 ={\n",
        "      'type':'eq',\n",
        "      'fun':lambda weights:np.sum(weights)-1\n",
        "  }\n",
        "\n",
        "  results = minimize(\n",
        "      portfolio_vol, init_guess, args = (cov, ), method = 'SLSQP'\n",
        "      options = {'disp':False}\n",
        "      constraints = (return_is_target, weights_sum_to_1)\n",
        "      bounds = bounds\n",
        "  )\n",
        "\n",
        "  return results.x"
      ],
      "execution_count": null,
      "outputs": []
    },
    {
      "cell_type": "code",
      "metadata": {
        "id": "B_VFJl0HJVQ3"
      },
      "source": [
        "def optimal_weights(n_ponts, er, cov):\n",
        "  target_returns = np.linspace(er.min(), er.max(), n_points)\n",
        "  weights = [minimize_vol(target_return, er, cov) for target_return in target_returns]\n",
        "  return weights  "
      ],
      "execution_count": null,
      "outputs": []
    },
    {
      "cell_type": "code",
      "metadata": {
        "id": "vtdgc_yhKnvi"
      },
      "source": [
        "def max_sharpe_ratio(rfr, er, cov):\n",
        "  n = er.shape[0]\n",
        "  init_guess = np.repeat(1/n,n)\n",
        "  bounds = ((0.0, 1.0), )*n\n",
        "  weights_sum_to_1 ={\n",
        "      'type':'eq',\n",
        "      'fun':lambda weights:np.sum(weights)-1\n",
        "  }\n",
        "\n",
        "  def neg_sharpe(weights, rfr, er, cov):\n",
        "    r = portfolio_return(weights, er)\n",
        "    vol = portfolio_vol(weights, cov)\n",
        "    return -(r-rfr)/vol\n",
        "\n",
        "  weights = minimize(neg_sharpe, init_guess, args = (rfr, er, cov), method = 'SLSQP', options = {'disp':False}, \n",
        "                     constraints  = (weights_sum_to_1,), bounds = bounds)\n",
        "  \n",
        "  return weights.x\n",
        "\n"
      ],
      "execution_count": null,
      "outputs": []
    }
  ]
}