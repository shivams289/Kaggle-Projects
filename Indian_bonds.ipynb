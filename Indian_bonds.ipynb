{
  "nbformat": 4,
  "nbformat_minor": 0,
  "metadata": {
    "colab": {
      "name": "Indian_bonds.ipynb",
      "provenance": [],
      "authorship_tag": "ABX9TyPeTWx+1NQGYMDg4dCpU7UD",
      "include_colab_link": true
    },
    "kernelspec": {
      "name": "python3",
      "display_name": "Python 3"
    },
    "language_info": {
      "name": "python"
    }
  },
  "cells": [
    {
      "cell_type": "markdown",
      "metadata": {
        "id": "view-in-github",
        "colab_type": "text"
      },
      "source": [
        "<a href=\"https://colab.research.google.com/github/shivams289/Projects/blob/main/Indian_bonds.ipynb\" target=\"_parent\"><img src=\"https://colab.research.google.com/assets/colab-badge.svg\" alt=\"Open In Colab\"/></a>"
      ]
    },
    {
      "cell_type": "markdown",
      "metadata": {
        "id": "vsMGEhWNkEsA"
      },
      "source": [
        "#Here we will be comparing after tax return on bonds listed on NSE\n",
        "\n",
        "\n",
        "1.   We reomve unwanted columns\n",
        "2.   we clean the data from extra things\n",
        "1.   We change the datatype of numerical columms to float\n",
        "2.   We use datetime format for maturity dates, so that we can use this in our calculation\n",
        "1.  Present value of bonds cash flows`(PV0)`: `PV0 = (C*{1 - (1+r)**(-n) })/r + C*FV/(1+r)^(-n)`, where `C` is coupon rate and `n` is time to maturty, `r` is the yield to maturity(YTM), and `FV` is the bonds face value.\n",
        "1.   We will use numpy financial library for IRR calculation of our cash flow\n",
        "1.   Calculation is not perfect as our YTM column which we calculate in this is an approximation\n",
        "\n",
        "\n",
        "\n",
        "\n",
        "\n",
        "\n",
        "\n",
        "\n",
        "\n",
        "\n",
        "\n",
        "\n"
      ]
    },
    {
      "cell_type": "code",
      "metadata": {
        "id": "Pbvm2WzNxKYv",
        "outputId": "7a9a6740-6523-4d22-8aeb-6eef93b59fc1",
        "colab": {
          "base_uri": "https://localhost:8080/"
        }
      },
      "source": [
        "pip install numpy-financial"
      ],
      "execution_count": 1,
      "outputs": [
        {
          "output_type": "stream",
          "text": [
            "Requirement already satisfied: numpy-financial in /usr/local/lib/python3.7/dist-packages (1.0.0)\n",
            "Requirement already satisfied: numpy>=1.15 in /usr/local/lib/python3.7/dist-packages (from numpy-financial) (1.19.5)\n"
          ],
          "name": "stdout"
        }
      ]
    },
    {
      "cell_type": "code",
      "metadata": {
        "id": "RJfKU06pyp8O"
      },
      "source": [
        "import pandas as pd\n",
        "import numpy as np\n",
        "import seaborn as sns\n",
        "import math\n",
        "from datetime import datetime\n",
        "import tqdm as tqdm\n",
        "import numpy_financial as npf"
      ],
      "execution_count": 2,
      "outputs": []
    },
    {
      "cell_type": "code",
      "metadata": {
        "colab": {
          "base_uri": "https://localhost:8080/"
        },
        "id": "DahlQAd7yuGq",
        "outputId": "fc2f7642-2eb0-43cc-ef61-40d597d9ac8d"
      },
      "source": [
        "from google.colab import drive\n",
        "drive.mount('/content/drive')"
      ],
      "execution_count": 3,
      "outputs": [
        {
          "output_type": "stream",
          "text": [
            "Drive already mounted at /content/drive; to attempt to forcibly remount, call drive.mount(\"/content/drive\", force_remount=True).\n"
          ],
          "name": "stdout"
        }
      ]
    },
    {
      "cell_type": "code",
      "metadata": {
        "id": "qdL-KKKWyvs_"
      },
      "source": [
        "df = pd.read_csv('/content/drive/MyDrive/Data/bonds.csv')"
      ],
      "execution_count": 4,
      "outputs": []
    },
    {
      "cell_type": "code",
      "metadata": {
        "colab": {
          "base_uri": "https://localhost:8080/"
        },
        "id": "oXeHNqFOzKB7",
        "outputId": "813566e0-66c3-4fdb-b2f4-38288dd3374d"
      },
      "source": [
        "df.columns"
      ],
      "execution_count": 5,
      "outputs": [
        {
          "output_type": "execute_result",
          "data": {
            "text/plain": [
              "Index(['SYMBOL \\n', 'SERIES \\n', 'BOND TYPE \\n', 'COUPON RATE \\n',\n",
              "       'FACE VALUE \\n', 'LTP \\n', '%CHNG \\n', 'VOLUME \\n(Shares)', 'VALUE ',\n",
              "       ' \\n', 'CREDIT RATING \\n', 'MATURITY DATE \\n'],\n",
              "      dtype='object')"
            ]
          },
          "metadata": {
            "tags": []
          },
          "execution_count": 5
        }
      ]
    },
    {
      "cell_type": "code",
      "metadata": {
        "colab": {
          "base_uri": "https://localhost:8080/"
        },
        "id": "Tr0_U_6jzvoC",
        "outputId": "1cd7f180-4eca-45be-a3e3-411c3c262493"
      },
      "source": [
        "df.drop(['%CHNG \\n', ' \\n' , 'VALUE ' ], axis = 1, inplace =True)\n",
        "df.columns"
      ],
      "execution_count": 6,
      "outputs": [
        {
          "output_type": "execute_result",
          "data": {
            "text/plain": [
              "Index(['SYMBOL \\n', 'SERIES \\n', 'BOND TYPE \\n', 'COUPON RATE \\n',\n",
              "       'FACE VALUE \\n', 'LTP \\n', 'VOLUME \\n(Shares)', 'CREDIT RATING \\n',\n",
              "       'MATURITY DATE \\n'],\n",
              "      dtype='object')"
            ]
          },
          "metadata": {
            "tags": []
          },
          "execution_count": 6
        }
      ]
    },
    {
      "cell_type": "code",
      "metadata": {
        "id": "iXZEkqTGzU7m"
      },
      "source": [
        "df.columns = ['symbol', 'series', 'bond_type', 'coupon', 'face_value', 'ltp', 'volume', 'credit_rating', 'maturity_date' ]"
      ],
      "execution_count": 7,
      "outputs": []
    },
    {
      "cell_type": "code",
      "metadata": {
        "id": "uyi3HLJo00bF"
      },
      "source": [
        "#Dropping commas so that we can change the datatype to float\n",
        "df.replace(',','', regex=True, inplace=True)"
      ],
      "execution_count": 8,
      "outputs": []
    },
    {
      "cell_type": "code",
      "metadata": {
        "id": "NZN1xZVJfC7O"
      },
      "source": [
        "#Dropping '-' so that we can convert in datetime format\n",
        "df.drop(df[df['maturity_date'] == '-'].index, inplace = True)"
      ],
      "execution_count": 9,
      "outputs": []
    },
    {
      "cell_type": "code",
      "metadata": {
        "id": "Ul3uyCN40SBG"
      },
      "source": [
        "df.drop(df[df['coupon'] == '-'].index, inplace = True)"
      ],
      "execution_count": 10,
      "outputs": []
    },
    {
      "cell_type": "code",
      "metadata": {
        "id": "A1e3T_rvlukK"
      },
      "source": [
        "df.drop(df[df['ltp']=='-'].index, inplace = True)"
      ],
      "execution_count": 11,
      "outputs": []
    },
    {
      "cell_type": "code",
      "metadata": {
        "id": "y0bdHNql7Yl-"
      },
      "source": [
        "df[['face_value', 'volume', 'ltp', 'coupon']] = df[['face_value', 'volume', 'ltp', 'coupon']].astype(float)"
      ],
      "execution_count": 12,
      "outputs": []
    },
    {
      "cell_type": "code",
      "metadata": {
        "id": "oQFCN_ax5_7m"
      },
      "source": [
        "df.drop(df[df['volume'] == 0].index, inplace =True)"
      ],
      "execution_count": 13,
      "outputs": []
    },
    {
      "cell_type": "code",
      "metadata": {
        "id": "pbgMgTJ48aXs"
      },
      "source": [
        "df['maturity_date'] = pd.to_datetime(df['maturity_date'], infer_datetime_format = True)"
      ],
      "execution_count": 14,
      "outputs": []
    },
    {
      "cell_type": "code",
      "metadata": {
        "id": "aq4uVAoJi-An",
        "colab": {
          "base_uri": "https://localhost:8080/"
        },
        "outputId": "0602f1ac-3953-4944-877c-4efaab94669c"
      },
      "source": [
        "set(df.bond_type)"
      ],
      "execution_count": 15,
      "outputs": [
        {
          "output_type": "execute_result",
          "data": {
            "text/plain": [
              "{'Regular', 'Tax Free', 'Taxable'}"
            ]
          },
          "metadata": {
            "tags": []
          },
          "execution_count": 15
        }
      ]
    },
    {
      "cell_type": "code",
      "metadata": {
        "id": "B9xFE36Cp8hT"
      },
      "source": [
        "#We will assign Bond type num =0 for Tax free bonds so that it will be helpful when we aplly \n",
        "#taxes to calculate our real return\n",
        "df['bond_type_num'] = df['bond_type'].apply(lambda x: 0 if x == \"Tax Free\" else 1)"
      ],
      "execution_count": 16,
      "outputs": []
    },
    {
      "cell_type": "code",
      "metadata": {
        "id": "uKKwjm0ns3cv"
      },
      "source": [
        "df['Interest_perc'] = (df['coupon']*df['face_value'])/df['ltp']"
      ],
      "execution_count": 17,
      "outputs": []
    },
    {
      "cell_type": "code",
      "metadata": {
        "id": "zhV1x4cvvegD"
      },
      "source": [
        "df['After_tax_interest_perc'] =  df['Interest_perc']*(1 - df['bond_type_num']*0.3) "
      ],
      "execution_count": 18,
      "outputs": []
    },
    {
      "cell_type": "code",
      "metadata": {
        "colab": {
          "base_uri": "https://localhost:8080/",
          "height": 1000
        },
        "id": "S-WP0ghLxLB8",
        "outputId": "b96899bb-41b0-442e-8425-fedde4787aaf"
      },
      "source": [
        "df[(df['After_tax_interest_perc']>=6) & (df['volume'] >= 100)]"
      ],
      "execution_count": 19,
      "outputs": [
        {
          "output_type": "execute_result",
          "data": {
            "text/html": [
              "<div>\n",
              "<style scoped>\n",
              "    .dataframe tbody tr th:only-of-type {\n",
              "        vertical-align: middle;\n",
              "    }\n",
              "\n",
              "    .dataframe tbody tr th {\n",
              "        vertical-align: top;\n",
              "    }\n",
              "\n",
              "    .dataframe thead th {\n",
              "        text-align: right;\n",
              "    }\n",
              "</style>\n",
              "<table border=\"1\" class=\"dataframe\">\n",
              "  <thead>\n",
              "    <tr style=\"text-align: right;\">\n",
              "      <th></th>\n",
              "      <th>symbol</th>\n",
              "      <th>series</th>\n",
              "      <th>bond_type</th>\n",
              "      <th>coupon</th>\n",
              "      <th>face_value</th>\n",
              "      <th>ltp</th>\n",
              "      <th>volume</th>\n",
              "      <th>credit_rating</th>\n",
              "      <th>maturity_date</th>\n",
              "      <th>bond_type_num</th>\n",
              "      <th>Interest_perc</th>\n",
              "      <th>After_tax_interest_perc</th>\n",
              "    </tr>\n",
              "  </thead>\n",
              "  <tbody>\n",
              "    <tr>\n",
              "      <th>0</th>\n",
              "      <td>IIHFL</td>\n",
              "      <td>N5</td>\n",
              "      <td>Regular</td>\n",
              "      <td>9.60</td>\n",
              "      <td>1000.0</td>\n",
              "      <td>988.00</td>\n",
              "      <td>5609.0</td>\n",
              "      <td>CRISIL AA Stable / BWR AA+  Negative</td>\n",
              "      <td>2028-11-03</td>\n",
              "      <td>1</td>\n",
              "      <td>9.716599</td>\n",
              "      <td>6.801619</td>\n",
              "    </tr>\n",
              "    <tr>\n",
              "      <th>2</th>\n",
              "      <td>SRTRANSFIN</td>\n",
              "      <td>YL</td>\n",
              "      <td>Regular</td>\n",
              "      <td>9.40</td>\n",
              "      <td>1000.0</td>\n",
              "      <td>1065.00</td>\n",
              "      <td>2177.0</td>\n",
              "      <td>CRISIL AA+ STABLE /  IND AA+ STABLE</td>\n",
              "      <td>2028-07-12</td>\n",
              "      <td>1</td>\n",
              "      <td>8.826291</td>\n",
              "      <td>6.178404</td>\n",
              "    </tr>\n",
              "    <tr>\n",
              "      <th>3</th>\n",
              "      <td>ECLFINANCE</td>\n",
              "      <td>NK</td>\n",
              "      <td>Regular</td>\n",
              "      <td>9.85</td>\n",
              "      <td>1000.0</td>\n",
              "      <td>894.75</td>\n",
              "      <td>2580.0</td>\n",
              "      <td>CRISIL AA STABLE / ICRA AA STABLE</td>\n",
              "      <td>2028-08-06</td>\n",
              "      <td>1</td>\n",
              "      <td>11.008662</td>\n",
              "      <td>7.706063</td>\n",
              "    </tr>\n",
              "    <tr>\n",
              "      <th>4</th>\n",
              "      <td>IFCI</td>\n",
              "      <td>NL</td>\n",
              "      <td>Regular</td>\n",
              "      <td>9.40</td>\n",
              "      <td>1000.0</td>\n",
              "      <td>1056.00</td>\n",
              "      <td>1612.0</td>\n",
              "      <td>ICRA A STABLE / BWR AA- STABLE</td>\n",
              "      <td>2025-02-13</td>\n",
              "      <td>1</td>\n",
              "      <td>8.901515</td>\n",
              "      <td>6.231061</td>\n",
              "    </tr>\n",
              "    <tr>\n",
              "      <th>6</th>\n",
              "      <td>IIFL</td>\n",
              "      <td>NF</td>\n",
              "      <td>Regular</td>\n",
              "      <td>9.60</td>\n",
              "      <td>1000.0</td>\n",
              "      <td>993.00</td>\n",
              "      <td>1673.0</td>\n",
              "      <td>CRISIL AA Negative / BWR AA+ Negative</td>\n",
              "      <td>2028-06-24</td>\n",
              "      <td>1</td>\n",
              "      <td>9.667674</td>\n",
              "      <td>6.767372</td>\n",
              "    </tr>\n",
              "    <tr>\n",
              "      <th>7</th>\n",
              "      <td>IIHFL</td>\n",
              "      <td>N4</td>\n",
              "      <td>Regular</td>\n",
              "      <td>10.00</td>\n",
              "      <td>1000.0</td>\n",
              "      <td>992.10</td>\n",
              "      <td>1340.0</td>\n",
              "      <td>CRISIL AA Stable / BWR AA+  Negative</td>\n",
              "      <td>2028-11-03</td>\n",
              "      <td>1</td>\n",
              "      <td>10.079629</td>\n",
              "      <td>7.055740</td>\n",
              "    </tr>\n",
              "    <tr>\n",
              "      <th>12</th>\n",
              "      <td>PFC</td>\n",
              "      <td>N8</td>\n",
              "      <td>Tax Free</td>\n",
              "      <td>8.92</td>\n",
              "      <td>1000.0</td>\n",
              "      <td>1436.00</td>\n",
              "      <td>754.0</td>\n",
              "      <td>AAA</td>\n",
              "      <td>2033-11-16</td>\n",
              "      <td>0</td>\n",
              "      <td>6.211699</td>\n",
              "      <td>6.211699</td>\n",
              "    </tr>\n",
              "    <tr>\n",
              "      <th>14</th>\n",
              "      <td>IIFL</td>\n",
              "      <td>N7</td>\n",
              "      <td>Regular</td>\n",
              "      <td>10.50</td>\n",
              "      <td>1000.0</td>\n",
              "      <td>1045.00</td>\n",
              "      <td>895.0</td>\n",
              "      <td>CRISIL AA STABLE / ICRA AA STABLE / BWR AA+ ST...</td>\n",
              "      <td>2029-02-07</td>\n",
              "      <td>1</td>\n",
              "      <td>10.047847</td>\n",
              "      <td>7.033493</td>\n",
              "    </tr>\n",
              "    <tr>\n",
              "      <th>16</th>\n",
              "      <td>IIFCL</td>\n",
              "      <td>N4</td>\n",
              "      <td>Tax Free</td>\n",
              "      <td>8.91</td>\n",
              "      <td>1000.0</td>\n",
              "      <td>1419.00</td>\n",
              "      <td>582.0</td>\n",
              "      <td>AAA/Stable</td>\n",
              "      <td>2034-01-22</td>\n",
              "      <td>0</td>\n",
              "      <td>6.279070</td>\n",
              "      <td>6.279070</td>\n",
              "    </tr>\n",
              "    <tr>\n",
              "      <th>18</th>\n",
              "      <td>HUDCO</td>\n",
              "      <td>N9</td>\n",
              "      <td>Tax Free</td>\n",
              "      <td>7.69</td>\n",
              "      <td>1000.0</td>\n",
              "      <td>1269.99</td>\n",
              "      <td>530.0</td>\n",
              "      <td>AAA</td>\n",
              "      <td>2031-03-15</td>\n",
              "      <td>0</td>\n",
              "      <td>6.055166</td>\n",
              "      <td>6.055166</td>\n",
              "    </tr>\n",
              "    <tr>\n",
              "      <th>20</th>\n",
              "      <td>IIFL</td>\n",
              "      <td>NE</td>\n",
              "      <td>Regular</td>\n",
              "      <td>10.00</td>\n",
              "      <td>1000.0</td>\n",
              "      <td>994.00</td>\n",
              "      <td>635.0</td>\n",
              "      <td>CRISIL AA Negative / BWR AA+ Negative</td>\n",
              "      <td>2028-06-24</td>\n",
              "      <td>1</td>\n",
              "      <td>10.060362</td>\n",
              "      <td>7.042254</td>\n",
              "    </tr>\n",
              "    <tr>\n",
              "      <th>22</th>\n",
              "      <td>ECLFINANCE</td>\n",
              "      <td>NO</td>\n",
              "      <td>Regular</td>\n",
              "      <td>9.95</td>\n",
              "      <td>1000.0</td>\n",
              "      <td>998.00</td>\n",
              "      <td>626.0</td>\n",
              "      <td>CRISIL AA STABLE / ICRA AA</td>\n",
              "      <td>2024-01-04</td>\n",
              "      <td>1</td>\n",
              "      <td>9.969940</td>\n",
              "      <td>6.978958</td>\n",
              "    </tr>\n",
              "    <tr>\n",
              "      <th>23</th>\n",
              "      <td>HUDCO</td>\n",
              "      <td>NE</td>\n",
              "      <td>Tax Free</td>\n",
              "      <td>9.01</td>\n",
              "      <td>1000.0</td>\n",
              "      <td>1416.00</td>\n",
              "      <td>410.0</td>\n",
              "      <td>AA+</td>\n",
              "      <td>2034-01-13</td>\n",
              "      <td>0</td>\n",
              "      <td>6.362994</td>\n",
              "      <td>6.362994</td>\n",
              "    </tr>\n",
              "    <tr>\n",
              "      <th>24</th>\n",
              "      <td>EHFLNCD</td>\n",
              "      <td>N6</td>\n",
              "      <td>Regular</td>\n",
              "      <td>10.00</td>\n",
              "      <td>1000.0</td>\n",
              "      <td>940.00</td>\n",
              "      <td>591.0</td>\n",
              "      <td>CARE AA Stable / ICRA AA Stable / BWR AA+ stable</td>\n",
              "      <td>2026-07-19</td>\n",
              "      <td>1</td>\n",
              "      <td>10.638298</td>\n",
              "      <td>7.446809</td>\n",
              "    </tr>\n",
              "    <tr>\n",
              "      <th>25</th>\n",
              "      <td>ECLFINANCE</td>\n",
              "      <td>NR</td>\n",
              "      <td>Regular</td>\n",
              "      <td>10.15</td>\n",
              "      <td>1000.0</td>\n",
              "      <td>1001.50</td>\n",
              "      <td>517.0</td>\n",
              "      <td>CRISIL AA STABLE / ICRA AA</td>\n",
              "      <td>2029-01-04</td>\n",
              "      <td>1</td>\n",
              "      <td>10.134798</td>\n",
              "      <td>7.094358</td>\n",
              "    </tr>\n",
              "    <tr>\n",
              "      <th>29</th>\n",
              "      <td>SRTRANSFIN</td>\n",
              "      <td>YQ</td>\n",
              "      <td>Regular</td>\n",
              "      <td>9.40</td>\n",
              "      <td>1000.0</td>\n",
              "      <td>1075.10</td>\n",
              "      <td>378.0</td>\n",
              "      <td>CRISIL AA+ STABLE /  IND AA+ STABLE</td>\n",
              "      <td>2021-11-02</td>\n",
              "      <td>1</td>\n",
              "      <td>8.743373</td>\n",
              "      <td>6.120361</td>\n",
              "    </tr>\n",
              "    <tr>\n",
              "      <th>32</th>\n",
              "      <td>ECLFINANCE</td>\n",
              "      <td>NS</td>\n",
              "      <td>Regular</td>\n",
              "      <td>10.60</td>\n",
              "      <td>1000.0</td>\n",
              "      <td>1040.00</td>\n",
              "      <td>375.0</td>\n",
              "      <td>CRISIL AA STABLE / ICRA AA</td>\n",
              "      <td>2029-01-04</td>\n",
              "      <td>1</td>\n",
              "      <td>10.192308</td>\n",
              "      <td>7.134615</td>\n",
              "    </tr>\n",
              "    <tr>\n",
              "      <th>37</th>\n",
              "      <td>ECLFINANCE</td>\n",
              "      <td>NG</td>\n",
              "      <td>Regular</td>\n",
              "      <td>9.25</td>\n",
              "      <td>1000.0</td>\n",
              "      <td>981.01</td>\n",
              "      <td>325.0</td>\n",
              "      <td>CRISIL AA STABLE / ICRA AA STABLE</td>\n",
              "      <td>2023-08-06</td>\n",
              "      <td>1</td>\n",
              "      <td>9.429058</td>\n",
              "      <td>6.600340</td>\n",
              "    </tr>\n",
              "    <tr>\n",
              "      <th>38</th>\n",
              "      <td>SRTRANSFIN</td>\n",
              "      <td>YH</td>\n",
              "      <td>Regular</td>\n",
              "      <td>8.93</td>\n",
              "      <td>1000.0</td>\n",
              "      <td>1019.50</td>\n",
              "      <td>300.0</td>\n",
              "      <td>CRISIL AA+ STABLE /  IND AA+ STABLE</td>\n",
              "      <td>2023-07-12</td>\n",
              "      <td>1</td>\n",
              "      <td>8.759196</td>\n",
              "      <td>6.131437</td>\n",
              "    </tr>\n",
              "    <tr>\n",
              "      <th>39</th>\n",
              "      <td>PCHFL</td>\n",
              "      <td>NaN</td>\n",
              "      <td>Regular</td>\n",
              "      <td>9.00</td>\n",
              "      <td>1000.0</td>\n",
              "      <td>1001.00</td>\n",
              "      <td>300.0</td>\n",
              "      <td>CARE AA / ICRA AA</td>\n",
              "      <td>2031-07-23</td>\n",
              "      <td>1</td>\n",
              "      <td>8.991009</td>\n",
              "      <td>6.293706</td>\n",
              "    </tr>\n",
              "    <tr>\n",
              "      <th>41</th>\n",
              "      <td>SRTRANSFIN</td>\n",
              "      <td>YX</td>\n",
              "      <td>Regular</td>\n",
              "      <td>9.40</td>\n",
              "      <td>1000.0</td>\n",
              "      <td>1059.80</td>\n",
              "      <td>263.0</td>\n",
              "      <td>CRISIL AA+ STABLE /  IND AA+ STABLE</td>\n",
              "      <td>2022-02-06</td>\n",
              "      <td>1</td>\n",
              "      <td>8.869598</td>\n",
              "      <td>6.208719</td>\n",
              "    </tr>\n",
              "    <tr>\n",
              "      <th>43</th>\n",
              "      <td>IIFL</td>\n",
              "      <td>N4</td>\n",
              "      <td>Regular</td>\n",
              "      <td>9.75</td>\n",
              "      <td>1000.0</td>\n",
              "      <td>1018.00</td>\n",
              "      <td>250.0</td>\n",
              "      <td>CRISIL AA STABLE / ICRA AA STABLE / BWR AA+ ST...</td>\n",
              "      <td>2024-02-07</td>\n",
              "      <td>1</td>\n",
              "      <td>9.577603</td>\n",
              "      <td>6.704322</td>\n",
              "    </tr>\n",
              "    <tr>\n",
              "      <th>44</th>\n",
              "      <td>ERFLNCDI</td>\n",
              "      <td>N4</td>\n",
              "      <td>Regular</td>\n",
              "      <td>9.00</td>\n",
              "      <td>1000.0</td>\n",
              "      <td>988.00</td>\n",
              "      <td>252.0</td>\n",
              "      <td>CRISIL AA STABLE / ICRA AA STABLE</td>\n",
              "      <td>2023-03-22</td>\n",
              "      <td>1</td>\n",
              "      <td>9.109312</td>\n",
              "      <td>6.376518</td>\n",
              "    </tr>\n",
              "    <tr>\n",
              "      <th>47</th>\n",
              "      <td>HUDCO</td>\n",
              "      <td>N8</td>\n",
              "      <td>Tax Free</td>\n",
              "      <td>7.64</td>\n",
              "      <td>1000.0</td>\n",
              "      <td>1240.00</td>\n",
              "      <td>195.0</td>\n",
              "      <td>AAA</td>\n",
              "      <td>2031-02-08</td>\n",
              "      <td>0</td>\n",
              "      <td>6.161290</td>\n",
              "      <td>6.161290</td>\n",
              "    </tr>\n",
              "    <tr>\n",
              "      <th>51</th>\n",
              "      <td>SRTRANSFIN</td>\n",
              "      <td>YV</td>\n",
              "      <td>Regular</td>\n",
              "      <td>9.12</td>\n",
              "      <td>1000.0</td>\n",
              "      <td>1022.00</td>\n",
              "      <td>221.0</td>\n",
              "      <td>CRISIL AA+ STABLE /  IND AA+ STABLE</td>\n",
              "      <td>2024-02-06</td>\n",
              "      <td>1</td>\n",
              "      <td>8.923679</td>\n",
              "      <td>6.246575</td>\n",
              "    </tr>\n",
              "    <tr>\n",
              "      <th>52</th>\n",
              "      <td>IIFL</td>\n",
              "      <td>N5</td>\n",
              "      <td>Regular</td>\n",
              "      <td>10.20</td>\n",
              "      <td>1000.0</td>\n",
              "      <td>1060.70</td>\n",
              "      <td>210.0</td>\n",
              "      <td>CRISIL AA STABLE / ICRA AA STABLE / BWR AA+ ST...</td>\n",
              "      <td>2024-02-07</td>\n",
              "      <td>1</td>\n",
              "      <td>9.616291</td>\n",
              "      <td>6.731404</td>\n",
              "    </tr>\n",
              "    <tr>\n",
              "      <th>55</th>\n",
              "      <td>RECLTD</td>\n",
              "      <td>NI</td>\n",
              "      <td>Tax Free</td>\n",
              "      <td>8.12</td>\n",
              "      <td>1000.0</td>\n",
              "      <td>1182.50</td>\n",
              "      <td>180.0</td>\n",
              "      <td>AAA/Stable</td>\n",
              "      <td>2027-03-27</td>\n",
              "      <td>0</td>\n",
              "      <td>6.866808</td>\n",
              "      <td>6.866808</td>\n",
              "    </tr>\n",
              "    <tr>\n",
              "      <th>56</th>\n",
              "      <td>SRTRANSFIN</td>\n",
              "      <td>YW</td>\n",
              "      <td>Regular</td>\n",
              "      <td>9.30</td>\n",
              "      <td>1000.0</td>\n",
              "      <td>1050.10</td>\n",
              "      <td>200.0</td>\n",
              "      <td>CRISIL AA+ STABLE /  IND AA+ STABLE</td>\n",
              "      <td>2029-02-06</td>\n",
              "      <td>1</td>\n",
              "      <td>8.856299</td>\n",
              "      <td>6.199410</td>\n",
              "    </tr>\n",
              "    <tr>\n",
              "      <th>57</th>\n",
              "      <td>IBULHSGFIN</td>\n",
              "      <td>N8</td>\n",
              "      <td>Regular</td>\n",
              "      <td>8.65</td>\n",
              "      <td>1000.0</td>\n",
              "      <td>970.00</td>\n",
              "      <td>202.0</td>\n",
              "      <td>CARE AAA / BWR AAA STABLE</td>\n",
              "      <td>2026-09-26</td>\n",
              "      <td>1</td>\n",
              "      <td>8.917526</td>\n",
              "      <td>6.242268</td>\n",
              "    </tr>\n",
              "    <tr>\n",
              "      <th>61</th>\n",
              "      <td>HUDCO</td>\n",
              "      <td>ND</td>\n",
              "      <td>Tax Free</td>\n",
              "      <td>8.76</td>\n",
              "      <td>1000.0</td>\n",
              "      <td>1307.50</td>\n",
              "      <td>138.0</td>\n",
              "      <td>AA+</td>\n",
              "      <td>2028-10-25</td>\n",
              "      <td>0</td>\n",
              "      <td>6.699809</td>\n",
              "      <td>6.699809</td>\n",
              "    </tr>\n",
              "    <tr>\n",
              "      <th>63</th>\n",
              "      <td>IBUCCREDIT</td>\n",
              "      <td>N9</td>\n",
              "      <td>Regular</td>\n",
              "      <td>9.00</td>\n",
              "      <td>1000.0</td>\n",
              "      <td>1014.00</td>\n",
              "      <td>171.0</td>\n",
              "      <td>CRISIL AAA STABLE / CARE AAA STABLE</td>\n",
              "      <td>2023-09-25</td>\n",
              "      <td>1</td>\n",
              "      <td>8.875740</td>\n",
              "      <td>6.213018</td>\n",
              "    </tr>\n",
              "    <tr>\n",
              "      <th>64</th>\n",
              "      <td>ECLFINANCE</td>\n",
              "      <td>NJ</td>\n",
              "      <td>Regular</td>\n",
              "      <td>9.43</td>\n",
              "      <td>1000.0</td>\n",
              "      <td>937.00</td>\n",
              "      <td>180.0</td>\n",
              "      <td>CRISIL AA STABLE / ICRA AA STABLE</td>\n",
              "      <td>2028-08-06</td>\n",
              "      <td>1</td>\n",
              "      <td>10.064034</td>\n",
              "      <td>7.044824</td>\n",
              "    </tr>\n",
              "    <tr>\n",
              "      <th>65</th>\n",
              "      <td>IFCI</td>\n",
              "      <td>NH</td>\n",
              "      <td>Regular</td>\n",
              "      <td>9.90</td>\n",
              "      <td>1000.0</td>\n",
              "      <td>1090.00</td>\n",
              "      <td>146.0</td>\n",
              "      <td>ICRA A STABLE / BWR AA- STABLE</td>\n",
              "      <td>2024-12-01</td>\n",
              "      <td>1</td>\n",
              "      <td>9.082569</td>\n",
              "      <td>6.357798</td>\n",
              "    </tr>\n",
              "    <tr>\n",
              "      <th>67</th>\n",
              "      <td>ERFLNCDI</td>\n",
              "      <td>N3</td>\n",
              "      <td>Regular</td>\n",
              "      <td>8.65</td>\n",
              "      <td>1000.0</td>\n",
              "      <td>951.10</td>\n",
              "      <td>162.0</td>\n",
              "      <td>CRISIL AA STABLE / ICRA AA STABLE</td>\n",
              "      <td>2023-03-22</td>\n",
              "      <td>1</td>\n",
              "      <td>9.094732</td>\n",
              "      <td>6.366313</td>\n",
              "    </tr>\n",
              "    <tr>\n",
              "      <th>71</th>\n",
              "      <td>ERFLNCDI</td>\n",
              "      <td>N5</td>\n",
              "      <td>Regular</td>\n",
              "      <td>8.88</td>\n",
              "      <td>1000.0</td>\n",
              "      <td>916.00</td>\n",
              "      <td>150.0</td>\n",
              "      <td>CRISIL AA STABLE / ICRA AA STABLE</td>\n",
              "      <td>2028-03-22</td>\n",
              "      <td>1</td>\n",
              "      <td>9.694323</td>\n",
              "      <td>6.786026</td>\n",
              "    </tr>\n",
              "    <tr>\n",
              "      <th>74</th>\n",
              "      <td>NABARD</td>\n",
              "      <td>N2</td>\n",
              "      <td>Tax Free</td>\n",
              "      <td>7.64</td>\n",
              "      <td>1000.0</td>\n",
              "      <td>1231.50</td>\n",
              "      <td>100.0</td>\n",
              "      <td>AAA</td>\n",
              "      <td>2031-03-23</td>\n",
              "      <td>0</td>\n",
              "      <td>6.203816</td>\n",
              "      <td>6.203816</td>\n",
              "    </tr>\n",
              "    <tr>\n",
              "      <th>75</th>\n",
              "      <td>DHANILOANS</td>\n",
              "      <td>N6</td>\n",
              "      <td>Regular</td>\n",
              "      <td>10.50</td>\n",
              "      <td>1000.0</td>\n",
              "      <td>1010.00</td>\n",
              "      <td>115.0</td>\n",
              "      <td>CARE AA STABLE / BWR AA+ STABLE</td>\n",
              "      <td>2024-03-08</td>\n",
              "      <td>1</td>\n",
              "      <td>10.396040</td>\n",
              "      <td>7.277228</td>\n",
              "    </tr>\n",
              "    <tr>\n",
              "      <th>76</th>\n",
              "      <td>DHANILOANS</td>\n",
              "      <td>NC</td>\n",
              "      <td>Regular</td>\n",
              "      <td>9.95</td>\n",
              "      <td>1000.0</td>\n",
              "      <td>960.00</td>\n",
              "      <td>120.0</td>\n",
              "      <td>CARE AA STABLE / BWR AA+ STABLE</td>\n",
              "      <td>2022-06-27</td>\n",
              "      <td>1</td>\n",
              "      <td>10.364583</td>\n",
              "      <td>7.255208</td>\n",
              "    </tr>\n",
              "    <tr>\n",
              "      <th>78</th>\n",
              "      <td>IIFL</td>\n",
              "      <td>N2</td>\n",
              "      <td>Regular</td>\n",
              "      <td>9.60</td>\n",
              "      <td>1000.0</td>\n",
              "      <td>1059.00</td>\n",
              "      <td>100.0</td>\n",
              "      <td>CRISIL AA STABLE / ICRA AA STABLE / BWR AA+ ST...</td>\n",
              "      <td>2022-05-07</td>\n",
              "      <td>1</td>\n",
              "      <td>9.065156</td>\n",
              "      <td>6.345609</td>\n",
              "    </tr>\n",
              "    <tr>\n",
              "      <th>80</th>\n",
              "      <td>IBUCCREDIT</td>\n",
              "      <td>NB</td>\n",
              "      <td>Regular</td>\n",
              "      <td>8.84</td>\n",
              "      <td>1000.0</td>\n",
              "      <td>921.00</td>\n",
              "      <td>100.0</td>\n",
              "      <td>CRISIL AAA STABLE / CARE AAA STABLE</td>\n",
              "      <td>2028-09-25</td>\n",
              "      <td>1</td>\n",
              "      <td>9.598263</td>\n",
              "      <td>6.718784</td>\n",
              "    </tr>\n",
              "    <tr>\n",
              "      <th>98</th>\n",
              "      <td>SREIBNPNCD</td>\n",
              "      <td>NX</td>\n",
              "      <td>Regular</td>\n",
              "      <td>9.60</td>\n",
              "      <td>1000.0</td>\n",
              "      <td>360.00</td>\n",
              "      <td>130.0</td>\n",
              "      <td>BWR AA+ Stable</td>\n",
              "      <td>2021-10-06</td>\n",
              "      <td>1</td>\n",
              "      <td>26.666667</td>\n",
              "      <td>18.666667</td>\n",
              "    </tr>\n",
              "  </tbody>\n",
              "</table>\n",
              "</div>"
            ],
            "text/plain": [
              "        symbol series  ... Interest_perc  After_tax_interest_perc\n",
              "0        IIHFL     N5  ...      9.716599                 6.801619\n",
              "2   SRTRANSFIN     YL  ...      8.826291                 6.178404\n",
              "3   ECLFINANCE     NK  ...     11.008662                 7.706063\n",
              "4         IFCI     NL  ...      8.901515                 6.231061\n",
              "6         IIFL     NF  ...      9.667674                 6.767372\n",
              "7        IIHFL     N4  ...     10.079629                 7.055740\n",
              "12         PFC     N8  ...      6.211699                 6.211699\n",
              "14        IIFL     N7  ...     10.047847                 7.033493\n",
              "16       IIFCL     N4  ...      6.279070                 6.279070\n",
              "18       HUDCO     N9  ...      6.055166                 6.055166\n",
              "20        IIFL     NE  ...     10.060362                 7.042254\n",
              "22  ECLFINANCE     NO  ...      9.969940                 6.978958\n",
              "23       HUDCO     NE  ...      6.362994                 6.362994\n",
              "24     EHFLNCD     N6  ...     10.638298                 7.446809\n",
              "25  ECLFINANCE     NR  ...     10.134798                 7.094358\n",
              "29  SRTRANSFIN     YQ  ...      8.743373                 6.120361\n",
              "32  ECLFINANCE     NS  ...     10.192308                 7.134615\n",
              "37  ECLFINANCE     NG  ...      9.429058                 6.600340\n",
              "38  SRTRANSFIN     YH  ...      8.759196                 6.131437\n",
              "39       PCHFL    NaN  ...      8.991009                 6.293706\n",
              "41  SRTRANSFIN     YX  ...      8.869598                 6.208719\n",
              "43        IIFL     N4  ...      9.577603                 6.704322\n",
              "44    ERFLNCDI     N4  ...      9.109312                 6.376518\n",
              "47       HUDCO     N8  ...      6.161290                 6.161290\n",
              "51  SRTRANSFIN     YV  ...      8.923679                 6.246575\n",
              "52        IIFL     N5  ...      9.616291                 6.731404\n",
              "55      RECLTD     NI  ...      6.866808                 6.866808\n",
              "56  SRTRANSFIN     YW  ...      8.856299                 6.199410\n",
              "57  IBULHSGFIN     N8  ...      8.917526                 6.242268\n",
              "61       HUDCO     ND  ...      6.699809                 6.699809\n",
              "63  IBUCCREDIT     N9  ...      8.875740                 6.213018\n",
              "64  ECLFINANCE     NJ  ...     10.064034                 7.044824\n",
              "65        IFCI     NH  ...      9.082569                 6.357798\n",
              "67    ERFLNCDI     N3  ...      9.094732                 6.366313\n",
              "71    ERFLNCDI     N5  ...      9.694323                 6.786026\n",
              "74      NABARD     N2  ...      6.203816                 6.203816\n",
              "75  DHANILOANS     N6  ...     10.396040                 7.277228\n",
              "76  DHANILOANS     NC  ...     10.364583                 7.255208\n",
              "78        IIFL     N2  ...      9.065156                 6.345609\n",
              "80  IBUCCREDIT     NB  ...      9.598263                 6.718784\n",
              "98  SREIBNPNCD     NX  ...     26.666667                18.666667\n",
              "\n",
              "[41 rows x 12 columns]"
            ]
          },
          "metadata": {
            "tags": []
          },
          "execution_count": 19
        }
      ]
    },
    {
      "cell_type": "code",
      "metadata": {
        "id": "G6FB4zB9usDu"
      },
      "source": [
        "# n>=2 condition is applied coz program gave arror when n was less than 1 or 1 as we are running the loop in range(n-1)\n",
        "def compute_irr(n, fv, ltp, coupon):\n",
        "  if n>=2:\n",
        "    lst = [coupon for i in range(n-1)]\n",
        "    lst.append(fv + lst[0])\n",
        "    lst.insert(0, -ltp)\n",
        "    irr = npf.irr(lst)\n",
        "  else:\n",
        "    irr = npf.irr([-ltp, (fv+coupon)])\n",
        "    \n",
        "  return irr*100"
      ],
      "execution_count": 20,
      "outputs": []
    },
    {
      "cell_type": "code",
      "metadata": {
        "id": "lV34RFElv63m",
        "outputId": "7ae0b271-dd80-4395-90ab-3f3bfbb47c07",
        "colab": {
          "base_uri": "https://localhost:8080/"
        }
      },
      "source": [
        "print(compute_irr(6, 100.1, 92.2, 9.1))"
      ],
      "execution_count": 21,
      "outputs": [
        {
          "output_type": "stream",
          "text": [
            "10.953944017231155\n"
          ],
          "name": "stdout"
        }
      ]
    },
    {
      "cell_type": "code",
      "metadata": {
        "id": "beOd17wv6hQF"
      },
      "source": [
        "# Index row 50 was missing so I was getting key error 50 when applying lambda fundtion below\n",
        "df.reset_index(inplace = True)"
      ],
      "execution_count": 22,
      "outputs": []
    },
    {
      "cell_type": "code",
      "metadata": {
        "id": "hWchDvgl3GO7"
      },
      "source": [
        "lst = []\n",
        "for i in range(len(df)):\n",
        "  x = int(df['maturity_date'][i].year)\n",
        "  lst.append(x)\n",
        "  "
      ],
      "execution_count": 23,
      "outputs": []
    },
    {
      "cell_type": "code",
      "metadata": {
        "id": "TfHj-8rO4Oa_"
      },
      "source": [
        "dfm = pd.DataFrame(lst, columns= ['Maturity_year'])"
      ],
      "execution_count": 24,
      "outputs": []
    },
    {
      "cell_type": "code",
      "metadata": {
        "id": "MeZnt7NZ7wNl"
      },
      "source": [
        "df = pd.concat([df, dfm], axis = 'columns', sort = False)"
      ],
      "execution_count": 25,
      "outputs": []
    },
    {
      "cell_type": "code",
      "metadata": {
        "id": "DiNQuRNF9jn5"
      },
      "source": [
        "df['TTM'] = df['Maturity_year'] - int(datetime.today().year)\n"
      ],
      "execution_count": 26,
      "outputs": []
    },
    {
      "cell_type": "code",
      "metadata": {
        "id": "v9dH7o95_uop"
      },
      "source": [
        "df.drop(df[df['TTM']==0].index, inplace = True)"
      ],
      "execution_count": 27,
      "outputs": []
    },
    {
      "cell_type": "code",
      "metadata": {
        "id": "gRZeHEAgz3mJ"
      },
      "source": [
        "# This Yiled is not perfect as we are taking TTM(time to maturity): starting of 2021 to end of maturity year\n",
        "df['Yield'] = df.apply(lambda x: compute_irr(x['TTM'], x['face_value'], x['ltp'], (x['coupon']*x['face_value'])/100), axis = 1)"
      ],
      "execution_count": 28,
      "outputs": []
    },
    {
      "cell_type": "code",
      "metadata": {
        "id": "7ZO3_givA4mA"
      },
      "source": [
        "df['After_tax_yield_perc'] = df['Yield']*(1 - df['bond_type_num']*0.3) "
      ],
      "execution_count": 30,
      "outputs": []
    },
    {
      "cell_type": "code",
      "metadata": {
        "id": "YysrfkPzEpbZ",
        "outputId": "86bf19e7-7e18-4cfb-b3e3-d12efde46007",
        "colab": {
          "base_uri": "https://localhost:8080/",
          "height": 360
        }
      },
      "source": [
        "df[(df['After_tax_yield_perc']>=100)  ]"
      ],
      "execution_count": 37,
      "outputs": [
        {
          "output_type": "execute_result",
          "data": {
            "text/html": [
              "<div>\n",
              "<style scoped>\n",
              "    .dataframe tbody tr th:only-of-type {\n",
              "        vertical-align: middle;\n",
              "    }\n",
              "\n",
              "    .dataframe tbody tr th {\n",
              "        vertical-align: top;\n",
              "    }\n",
              "\n",
              "    .dataframe thead th {\n",
              "        text-align: right;\n",
              "    }\n",
              "</style>\n",
              "<table border=\"1\" class=\"dataframe\">\n",
              "  <thead>\n",
              "    <tr style=\"text-align: right;\">\n",
              "      <th></th>\n",
              "      <th>index</th>\n",
              "      <th>symbol</th>\n",
              "      <th>series</th>\n",
              "      <th>bond_type</th>\n",
              "      <th>coupon</th>\n",
              "      <th>face_value</th>\n",
              "      <th>ltp</th>\n",
              "      <th>volume</th>\n",
              "      <th>credit_rating</th>\n",
              "      <th>maturity_date</th>\n",
              "      <th>bond_type_num</th>\n",
              "      <th>Interest_perc</th>\n",
              "      <th>After_tax_interest_perc</th>\n",
              "      <th>Maturity_year</th>\n",
              "      <th>TTM</th>\n",
              "      <th>Yield</th>\n",
              "      <th>After_tax_yield_perc</th>\n",
              "    </tr>\n",
              "  </thead>\n",
              "  <tbody>\n",
              "    <tr>\n",
              "      <th>100</th>\n",
              "      <td>109</td>\n",
              "      <td>SREIBNPNCD</td>\n",
              "      <td>Y2</td>\n",
              "      <td>Regular</td>\n",
              "      <td>9.50</td>\n",
              "      <td>1000.0</td>\n",
              "      <td>320.00</td>\n",
              "      <td>75.0</td>\n",
              "      <td>BWR AA+ Stable</td>\n",
              "      <td>2022-02-27</td>\n",
              "      <td>1</td>\n",
              "      <td>29.687500</td>\n",
              "      <td>20.781250</td>\n",
              "      <td>2022</td>\n",
              "      <td>1</td>\n",
              "      <td>242.187500</td>\n",
              "      <td>169.531250</td>\n",
              "    </tr>\n",
              "    <tr>\n",
              "      <th>108</th>\n",
              "      <td>119</td>\n",
              "      <td>SREIBNPNCD</td>\n",
              "      <td>NL</td>\n",
              "      <td>Regular</td>\n",
              "      <td>9.75</td>\n",
              "      <td>1000.0</td>\n",
              "      <td>345.00</td>\n",
              "      <td>33.0</td>\n",
              "      <td>BWR AA+ STABLE / ACUITE AA STABLE</td>\n",
              "      <td>2022-01-17</td>\n",
              "      <td>1</td>\n",
              "      <td>28.260870</td>\n",
              "      <td>19.782609</td>\n",
              "      <td>2022</td>\n",
              "      <td>1</td>\n",
              "      <td>218.115942</td>\n",
              "      <td>152.681159</td>\n",
              "    </tr>\n",
              "    <tr>\n",
              "      <th>110</th>\n",
              "      <td>121</td>\n",
              "      <td>SREIBNPNCD</td>\n",
              "      <td>NJ</td>\n",
              "      <td>Regular</td>\n",
              "      <td>9.35</td>\n",
              "      <td>1000.0</td>\n",
              "      <td>310.00</td>\n",
              "      <td>31.0</td>\n",
              "      <td>BWR AA+ STABLE / ACUITE AA STABLE</td>\n",
              "      <td>2022-01-17</td>\n",
              "      <td>1</td>\n",
              "      <td>30.161290</td>\n",
              "      <td>21.112903</td>\n",
              "      <td>2022</td>\n",
              "      <td>1</td>\n",
              "      <td>252.741935</td>\n",
              "      <td>176.919355</td>\n",
              "    </tr>\n",
              "    <tr>\n",
              "      <th>114</th>\n",
              "      <td>127</td>\n",
              "      <td>SREIBNPNCD</td>\n",
              "      <td>Y1</td>\n",
              "      <td>Regular</td>\n",
              "      <td>9.12</td>\n",
              "      <td>1000.0</td>\n",
              "      <td>349.98</td>\n",
              "      <td>7.0</td>\n",
              "      <td>BWR AA+ Stable</td>\n",
              "      <td>2022-02-27</td>\n",
              "      <td>1</td>\n",
              "      <td>26.058632</td>\n",
              "      <td>18.241042</td>\n",
              "      <td>2022</td>\n",
              "      <td>1</td>\n",
              "      <td>211.789245</td>\n",
              "      <td>148.252472</td>\n",
              "    </tr>\n",
              "    <tr>\n",
              "      <th>115</th>\n",
              "      <td>129</td>\n",
              "      <td>RHFL</td>\n",
              "      <td>N4</td>\n",
              "      <td>Regular</td>\n",
              "      <td>9.05</td>\n",
              "      <td>1000.0</td>\n",
              "      <td>228.00</td>\n",
              "      <td>6.0</td>\n",
              "      <td>CARE AA+ STABLE / BWR AA+ STABLE</td>\n",
              "      <td>2022-01-03</td>\n",
              "      <td>1</td>\n",
              "      <td>39.692982</td>\n",
              "      <td>27.785088</td>\n",
              "      <td>2022</td>\n",
              "      <td>1</td>\n",
              "      <td>378.289474</td>\n",
              "      <td>264.802632</td>\n",
              "    </tr>\n",
              "  </tbody>\n",
              "</table>\n",
              "</div>"
            ],
            "text/plain": [
              "     index      symbol series  ... TTM       Yield  After_tax_yield_perc\n",
              "100    109  SREIBNPNCD     Y2  ...   1  242.187500            169.531250\n",
              "108    119  SREIBNPNCD     NL  ...   1  218.115942            152.681159\n",
              "110    121  SREIBNPNCD     NJ  ...   1  252.741935            176.919355\n",
              "114    127  SREIBNPNCD     Y1  ...   1  211.789245            148.252472\n",
              "115    129        RHFL     N4  ...   1  378.289474            264.802632\n",
              "\n",
              "[5 rows x 17 columns]"
            ]
          },
          "metadata": {
            "tags": []
          },
          "execution_count": 37
        }
      ]
    }
  ]
}