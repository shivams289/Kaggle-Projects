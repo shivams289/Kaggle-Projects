{
  "nbformat": 4,
  "nbformat_minor": 0,
  "metadata": {
    "colab": {
      "name": "Indian_bonds.ipynb",
      "provenance": [],
      "authorship_tag": "ABX9TyPx+XfpjPHVVrcaxZSk+MyD",
      "include_colab_link": true
    },
    "kernelspec": {
      "name": "python3",
      "display_name": "Python 3"
    },
    "language_info": {
      "name": "python"
    }
  },
  "cells": [
    {
      "cell_type": "markdown",
      "metadata": {
        "id": "view-in-github",
        "colab_type": "text"
      },
      "source": [
        "<a href=\"https://colab.research.google.com/github/shivams289/Projects/blob/main/Indian_bonds.ipynb\" target=\"_parent\"><img src=\"https://colab.research.google.com/assets/colab-badge.svg\" alt=\"Open In Colab\"/></a>"
      ]
    },
    {
      "cell_type": "markdown",
      "metadata": {
        "id": "vsMGEhWNkEsA"
      },
      "source": [
        "#Here we will be comparing after tax return on bonds listed on NSE\n",
        "\n",
        "\n",
        "1.   We reomve unwanted columns\n",
        "2.   we clean the data from extra things\n",
        "1.   We change the datatype of numerical columms to float\n",
        "2.   We use datetime format for maturity dates, so that we can use this in our calculation\n",
        "\n",
        "\n",
        "\n"
      ]
    },
    {
      "cell_type": "code",
      "metadata": {
        "id": "RJfKU06pyp8O"
      },
      "source": [
        "import pandas as pd\n",
        "import numpy as np\n",
        "import seaborn as sns\n",
        "import math\n",
        "from datetime import datetime\n",
        "import tqdm as tqdm"
      ],
      "execution_count": null,
      "outputs": []
    },
    {
      "cell_type": "code",
      "metadata": {
        "colab": {
          "base_uri": "https://localhost:8080/"
        },
        "id": "DahlQAd7yuGq",
        "outputId": "5496c60e-a4f5-49bd-a043-0c8ada38b155"
      },
      "source": [
        "from google.colab import drive\n",
        "drive.mount('/content/drive')"
      ],
      "execution_count": null,
      "outputs": [
        {
          "output_type": "stream",
          "text": [
            "Drive already mounted at /content/drive; to attempt to forcibly remount, call drive.mount(\"/content/drive\", force_remount=True).\n"
          ],
          "name": "stdout"
        }
      ]
    },
    {
      "cell_type": "code",
      "metadata": {
        "id": "qdL-KKKWyvs_"
      },
      "source": [
        "df = pd.read_csv('/content/drive/MyDrive/Data/bonds.csv')"
      ],
      "execution_count": null,
      "outputs": []
    },
    {
      "cell_type": "code",
      "metadata": {
        "colab": {
          "base_uri": "https://localhost:8080/"
        },
        "id": "oXeHNqFOzKB7",
        "outputId": "bfd72f8b-1d54-463f-8782-11a47aaf8e7c"
      },
      "source": [
        "df.columns"
      ],
      "execution_count": null,
      "outputs": [
        {
          "output_type": "execute_result",
          "data": {
            "text/plain": [
              "Index(['SYMBOL \\n', 'SERIES \\n', 'BOND TYPE \\n', 'COUPON RATE \\n',\n",
              "       'FACE VALUE \\n', 'LTP \\n', '%CHNG \\n', 'VOLUME \\n(Shares)', 'VALUE ',\n",
              "       ' \\n', 'CREDIT RATING \\n', 'MATURITY DATE \\n'],\n",
              "      dtype='object')"
            ]
          },
          "metadata": {
            "tags": []
          },
          "execution_count": 4
        }
      ]
    },
    {
      "cell_type": "code",
      "metadata": {
        "colab": {
          "base_uri": "https://localhost:8080/"
        },
        "id": "Tr0_U_6jzvoC",
        "outputId": "0c76a0ab-23a7-4888-8725-a15603ba3a51"
      },
      "source": [
        "df.drop(['%CHNG \\n', ' \\n' , 'VALUE ' ], axis = 1, inplace =True)\n",
        "df.columns"
      ],
      "execution_count": null,
      "outputs": [
        {
          "output_type": "execute_result",
          "data": {
            "text/plain": [
              "Index(['SYMBOL \\n', 'SERIES \\n', 'BOND TYPE \\n', 'COUPON RATE \\n',\n",
              "       'FACE VALUE \\n', 'LTP \\n', 'VOLUME \\n(Shares)', 'CREDIT RATING \\n',\n",
              "       'MATURITY DATE \\n'],\n",
              "      dtype='object')"
            ]
          },
          "metadata": {
            "tags": []
          },
          "execution_count": 5
        }
      ]
    },
    {
      "cell_type": "code",
      "metadata": {
        "id": "iXZEkqTGzU7m"
      },
      "source": [
        "df.columns = ['symbol', 'series', 'bond_type', 'coupon', 'face_value', 'ltp', 'volume', 'credit_rating', 'maturity_date' ]"
      ],
      "execution_count": null,
      "outputs": []
    },
    {
      "cell_type": "code",
      "metadata": {
        "id": "uyi3HLJo00bF"
      },
      "source": [
        "#Dropping commas so that we can change the datatype to float\n",
        "df.replace(',','', regex=True, inplace=True)"
      ],
      "execution_count": null,
      "outputs": []
    },
    {
      "cell_type": "code",
      "metadata": {
        "id": "NZN1xZVJfC7O"
      },
      "source": [
        "#Dropping '-' so that we can convert in datetime format\n",
        "df.drop(df[df['maturity_date'] == '-'].index, inplace = True)"
      ],
      "execution_count": null,
      "outputs": []
    },
    {
      "cell_type": "code",
      "metadata": {
        "id": "Ul3uyCN40SBG"
      },
      "source": [
        "df.drop(df[df['coupon'] == '-'].index, inplace = True)"
      ],
      "execution_count": null,
      "outputs": []
    },
    {
      "cell_type": "code",
      "metadata": {
        "id": "A1e3T_rvlukK"
      },
      "source": [
        "df.drop(df[df['ltp']=='-'].index, inplace = True)"
      ],
      "execution_count": 12,
      "outputs": []
    },
    {
      "cell_type": "code",
      "metadata": {
        "id": "y0bdHNql7Yl-"
      },
      "source": [
        "df[['face_value', 'volume', 'ltp', 'coupon']] = df[['face_value', 'volume', 'ltp', 'coupon']].astype(float)"
      ],
      "execution_count": 13,
      "outputs": []
    },
    {
      "cell_type": "code",
      "metadata": {
        "id": "oQFCN_ax5_7m"
      },
      "source": [
        "df.drop(df[df['volume'] == 0].index, inplace =True)"
      ],
      "execution_count": 14,
      "outputs": []
    },
    {
      "cell_type": "code",
      "metadata": {
        "id": "pbgMgTJ48aXs"
      },
      "source": [
        "df['maturity_date'] = pd.to_datetime(df['maturity_date'], infer_datetime_format = True)"
      ],
      "execution_count": 15,
      "outputs": []
    },
    {
      "cell_type": "code",
      "metadata": {
        "id": "aq4uVAoJi-An",
        "colab": {
          "base_uri": "https://localhost:8080/"
        },
        "outputId": "e041093b-80e6-435c-838e-ba969c6a7ba2"
      },
      "source": [
        "set(df.bond_type)"
      ],
      "execution_count": 17,
      "outputs": [
        {
          "output_type": "execute_result",
          "data": {
            "text/plain": [
              "{'Regular', 'Tax Free', 'Taxable'}"
            ]
          },
          "metadata": {
            "tags": []
          },
          "execution_count": 17
        }
      ]
    },
    {
      "cell_type": "code",
      "metadata": {
        "id": "B9xFE36Cp8hT"
      },
      "source": [
        "#We will assign Bond type num =0 for Tax free bonds so that it will be helpful when we aplly \n",
        "#taxes to calculate our real return\n",
        "df['bond_type_num'] = df['bond_type'].apply(lambda x: 0 if x == \"Tax Free\" else 1)"
      ],
      "execution_count": 21,
      "outputs": []
    },
    {
      "cell_type": "code",
      "metadata": {
        "id": "uKKwjm0ns3cv"
      },
      "source": [
        "df['Interest_perc'] = (df['coupon']*df['face_value'])/df['ltp']"
      ],
      "execution_count": 25,
      "outputs": []
    },
    {
      "cell_type": "code",
      "metadata": {
        "id": "zhV1x4cvvegD"
      },
      "source": [
        "df['After_tax_interest_perc'] =  df['Interest_perc']*(1 - df['bond_type_num']*0.03) "
      ],
      "execution_count": 27,
      "outputs": []
    },
    {
      "cell_type": "code",
      "metadata": {
        "colab": {
          "base_uri": "https://localhost:8080/",
          "height": 1000
        },
        "id": "S-WP0ghLxLB8",
        "outputId": "76a370ff-0dfb-4367-9d85-8c9eb326bf56"
      },
      "source": [
        "df[(df['After_tax_interest_perc']>=9) & (df['volume'] >= 100)]"
      ],
      "execution_count": 36,
      "outputs": [
        {
          "output_type": "execute_result",
          "data": {
            "text/html": [
              "<div>\n",
              "<style scoped>\n",
              "    .dataframe tbody tr th:only-of-type {\n",
              "        vertical-align: middle;\n",
              "    }\n",
              "\n",
              "    .dataframe tbody tr th {\n",
              "        vertical-align: top;\n",
              "    }\n",
              "\n",
              "    .dataframe thead th {\n",
              "        text-align: right;\n",
              "    }\n",
              "</style>\n",
              "<table border=\"1\" class=\"dataframe\">\n",
              "  <thead>\n",
              "    <tr style=\"text-align: right;\">\n",
              "      <th></th>\n",
              "      <th>symbol</th>\n",
              "      <th>series</th>\n",
              "      <th>bond_type</th>\n",
              "      <th>coupon</th>\n",
              "      <th>face_value</th>\n",
              "      <th>ltp</th>\n",
              "      <th>volume</th>\n",
              "      <th>credit_rating</th>\n",
              "      <th>maturity_date</th>\n",
              "      <th>bond_type_num</th>\n",
              "      <th>Interest_perc</th>\n",
              "      <th>After_tax_interest_perc</th>\n",
              "    </tr>\n",
              "  </thead>\n",
              "  <tbody>\n",
              "    <tr>\n",
              "      <th>0</th>\n",
              "      <td>IIHFL</td>\n",
              "      <td>N5</td>\n",
              "      <td>Regular</td>\n",
              "      <td>9.60</td>\n",
              "      <td>1000.0</td>\n",
              "      <td>988.00</td>\n",
              "      <td>5609.0</td>\n",
              "      <td>CRISIL AA Stable / BWR AA+  Negative</td>\n",
              "      <td>2028-11-03</td>\n",
              "      <td>1</td>\n",
              "      <td>9.716599</td>\n",
              "      <td>9.425101</td>\n",
              "    </tr>\n",
              "    <tr>\n",
              "      <th>3</th>\n",
              "      <td>ECLFINANCE</td>\n",
              "      <td>NK</td>\n",
              "      <td>Regular</td>\n",
              "      <td>9.85</td>\n",
              "      <td>1000.0</td>\n",
              "      <td>894.75</td>\n",
              "      <td>2580.0</td>\n",
              "      <td>CRISIL AA STABLE / ICRA AA STABLE</td>\n",
              "      <td>2028-08-06</td>\n",
              "      <td>1</td>\n",
              "      <td>11.008662</td>\n",
              "      <td>10.678402</td>\n",
              "    </tr>\n",
              "    <tr>\n",
              "      <th>6</th>\n",
              "      <td>IIFL</td>\n",
              "      <td>NF</td>\n",
              "      <td>Regular</td>\n",
              "      <td>9.60</td>\n",
              "      <td>1000.0</td>\n",
              "      <td>993.00</td>\n",
              "      <td>1673.0</td>\n",
              "      <td>CRISIL AA Negative / BWR AA+ Negative</td>\n",
              "      <td>2028-06-24</td>\n",
              "      <td>1</td>\n",
              "      <td>9.667674</td>\n",
              "      <td>9.377644</td>\n",
              "    </tr>\n",
              "    <tr>\n",
              "      <th>7</th>\n",
              "      <td>IIHFL</td>\n",
              "      <td>N4</td>\n",
              "      <td>Regular</td>\n",
              "      <td>10.00</td>\n",
              "      <td>1000.0</td>\n",
              "      <td>992.10</td>\n",
              "      <td>1340.0</td>\n",
              "      <td>CRISIL AA Stable / BWR AA+  Negative</td>\n",
              "      <td>2028-11-03</td>\n",
              "      <td>1</td>\n",
              "      <td>10.079629</td>\n",
              "      <td>9.777240</td>\n",
              "    </tr>\n",
              "    <tr>\n",
              "      <th>14</th>\n",
              "      <td>IIFL</td>\n",
              "      <td>N7</td>\n",
              "      <td>Regular</td>\n",
              "      <td>10.50</td>\n",
              "      <td>1000.0</td>\n",
              "      <td>1045.00</td>\n",
              "      <td>895.0</td>\n",
              "      <td>CRISIL AA STABLE / ICRA AA STABLE / BWR AA+ ST...</td>\n",
              "      <td>2029-02-07</td>\n",
              "      <td>1</td>\n",
              "      <td>10.047847</td>\n",
              "      <td>9.746411</td>\n",
              "    </tr>\n",
              "    <tr>\n",
              "      <th>20</th>\n",
              "      <td>IIFL</td>\n",
              "      <td>NE</td>\n",
              "      <td>Regular</td>\n",
              "      <td>10.00</td>\n",
              "      <td>1000.0</td>\n",
              "      <td>994.00</td>\n",
              "      <td>635.0</td>\n",
              "      <td>CRISIL AA Negative / BWR AA+ Negative</td>\n",
              "      <td>2028-06-24</td>\n",
              "      <td>1</td>\n",
              "      <td>10.060362</td>\n",
              "      <td>9.758551</td>\n",
              "    </tr>\n",
              "    <tr>\n",
              "      <th>22</th>\n",
              "      <td>ECLFINANCE</td>\n",
              "      <td>NO</td>\n",
              "      <td>Regular</td>\n",
              "      <td>9.95</td>\n",
              "      <td>1000.0</td>\n",
              "      <td>998.00</td>\n",
              "      <td>626.0</td>\n",
              "      <td>CRISIL AA STABLE / ICRA AA</td>\n",
              "      <td>2024-01-04</td>\n",
              "      <td>1</td>\n",
              "      <td>9.969940</td>\n",
              "      <td>9.670842</td>\n",
              "    </tr>\n",
              "    <tr>\n",
              "      <th>24</th>\n",
              "      <td>EHFLNCD</td>\n",
              "      <td>N6</td>\n",
              "      <td>Regular</td>\n",
              "      <td>10.00</td>\n",
              "      <td>1000.0</td>\n",
              "      <td>940.00</td>\n",
              "      <td>591.0</td>\n",
              "      <td>CARE AA Stable / ICRA AA Stable / BWR AA+ stable</td>\n",
              "      <td>2026-07-19</td>\n",
              "      <td>1</td>\n",
              "      <td>10.638298</td>\n",
              "      <td>10.319149</td>\n",
              "    </tr>\n",
              "    <tr>\n",
              "      <th>25</th>\n",
              "      <td>ECLFINANCE</td>\n",
              "      <td>NR</td>\n",
              "      <td>Regular</td>\n",
              "      <td>10.15</td>\n",
              "      <td>1000.0</td>\n",
              "      <td>1001.50</td>\n",
              "      <td>517.0</td>\n",
              "      <td>CRISIL AA STABLE / ICRA AA</td>\n",
              "      <td>2029-01-04</td>\n",
              "      <td>1</td>\n",
              "      <td>10.134798</td>\n",
              "      <td>9.830754</td>\n",
              "    </tr>\n",
              "    <tr>\n",
              "      <th>32</th>\n",
              "      <td>ECLFINANCE</td>\n",
              "      <td>NS</td>\n",
              "      <td>Regular</td>\n",
              "      <td>10.60</td>\n",
              "      <td>1000.0</td>\n",
              "      <td>1040.00</td>\n",
              "      <td>375.0</td>\n",
              "      <td>CRISIL AA STABLE / ICRA AA</td>\n",
              "      <td>2029-01-04</td>\n",
              "      <td>1</td>\n",
              "      <td>10.192308</td>\n",
              "      <td>9.886538</td>\n",
              "    </tr>\n",
              "    <tr>\n",
              "      <th>37</th>\n",
              "      <td>ECLFINANCE</td>\n",
              "      <td>NG</td>\n",
              "      <td>Regular</td>\n",
              "      <td>9.25</td>\n",
              "      <td>1000.0</td>\n",
              "      <td>981.01</td>\n",
              "      <td>325.0</td>\n",
              "      <td>CRISIL AA STABLE / ICRA AA STABLE</td>\n",
              "      <td>2023-08-06</td>\n",
              "      <td>1</td>\n",
              "      <td>9.429058</td>\n",
              "      <td>9.146186</td>\n",
              "    </tr>\n",
              "    <tr>\n",
              "      <th>43</th>\n",
              "      <td>IIFL</td>\n",
              "      <td>N4</td>\n",
              "      <td>Regular</td>\n",
              "      <td>9.75</td>\n",
              "      <td>1000.0</td>\n",
              "      <td>1018.00</td>\n",
              "      <td>250.0</td>\n",
              "      <td>CRISIL AA STABLE / ICRA AA STABLE / BWR AA+ ST...</td>\n",
              "      <td>2024-02-07</td>\n",
              "      <td>1</td>\n",
              "      <td>9.577603</td>\n",
              "      <td>9.290275</td>\n",
              "    </tr>\n",
              "    <tr>\n",
              "      <th>52</th>\n",
              "      <td>IIFL</td>\n",
              "      <td>N5</td>\n",
              "      <td>Regular</td>\n",
              "      <td>10.20</td>\n",
              "      <td>1000.0</td>\n",
              "      <td>1060.70</td>\n",
              "      <td>210.0</td>\n",
              "      <td>CRISIL AA STABLE / ICRA AA STABLE / BWR AA+ ST...</td>\n",
              "      <td>2024-02-07</td>\n",
              "      <td>1</td>\n",
              "      <td>9.616291</td>\n",
              "      <td>9.327802</td>\n",
              "    </tr>\n",
              "    <tr>\n",
              "      <th>64</th>\n",
              "      <td>ECLFINANCE</td>\n",
              "      <td>NJ</td>\n",
              "      <td>Regular</td>\n",
              "      <td>9.43</td>\n",
              "      <td>1000.0</td>\n",
              "      <td>937.00</td>\n",
              "      <td>180.0</td>\n",
              "      <td>CRISIL AA STABLE / ICRA AA STABLE</td>\n",
              "      <td>2028-08-06</td>\n",
              "      <td>1</td>\n",
              "      <td>10.064034</td>\n",
              "      <td>9.762113</td>\n",
              "    </tr>\n",
              "    <tr>\n",
              "      <th>71</th>\n",
              "      <td>ERFLNCDI</td>\n",
              "      <td>N5</td>\n",
              "      <td>Regular</td>\n",
              "      <td>8.88</td>\n",
              "      <td>1000.0</td>\n",
              "      <td>916.00</td>\n",
              "      <td>150.0</td>\n",
              "      <td>CRISIL AA STABLE / ICRA AA STABLE</td>\n",
              "      <td>2028-03-22</td>\n",
              "      <td>1</td>\n",
              "      <td>9.694323</td>\n",
              "      <td>9.403493</td>\n",
              "    </tr>\n",
              "    <tr>\n",
              "      <th>75</th>\n",
              "      <td>DHANILOANS</td>\n",
              "      <td>N6</td>\n",
              "      <td>Regular</td>\n",
              "      <td>10.50</td>\n",
              "      <td>1000.0</td>\n",
              "      <td>1010.00</td>\n",
              "      <td>115.0</td>\n",
              "      <td>CARE AA STABLE / BWR AA+ STABLE</td>\n",
              "      <td>2024-03-08</td>\n",
              "      <td>1</td>\n",
              "      <td>10.396040</td>\n",
              "      <td>10.084158</td>\n",
              "    </tr>\n",
              "    <tr>\n",
              "      <th>76</th>\n",
              "      <td>DHANILOANS</td>\n",
              "      <td>NC</td>\n",
              "      <td>Regular</td>\n",
              "      <td>9.95</td>\n",
              "      <td>1000.0</td>\n",
              "      <td>960.00</td>\n",
              "      <td>120.0</td>\n",
              "      <td>CARE AA STABLE / BWR AA+ STABLE</td>\n",
              "      <td>2022-06-27</td>\n",
              "      <td>1</td>\n",
              "      <td>10.364583</td>\n",
              "      <td>10.053646</td>\n",
              "    </tr>\n",
              "    <tr>\n",
              "      <th>80</th>\n",
              "      <td>IBUCCREDIT</td>\n",
              "      <td>NB</td>\n",
              "      <td>Regular</td>\n",
              "      <td>8.84</td>\n",
              "      <td>1000.0</td>\n",
              "      <td>921.00</td>\n",
              "      <td>100.0</td>\n",
              "      <td>CRISIL AAA STABLE / CARE AAA STABLE</td>\n",
              "      <td>2028-09-25</td>\n",
              "      <td>1</td>\n",
              "      <td>9.598263</td>\n",
              "      <td>9.310315</td>\n",
              "    </tr>\n",
              "    <tr>\n",
              "      <th>98</th>\n",
              "      <td>SREIBNPNCD</td>\n",
              "      <td>NX</td>\n",
              "      <td>Regular</td>\n",
              "      <td>9.60</td>\n",
              "      <td>1000.0</td>\n",
              "      <td>360.00</td>\n",
              "      <td>130.0</td>\n",
              "      <td>BWR AA+ Stable</td>\n",
              "      <td>2021-10-06</td>\n",
              "      <td>1</td>\n",
              "      <td>26.666667</td>\n",
              "      <td>25.866667</td>\n",
              "    </tr>\n",
              "  </tbody>\n",
              "</table>\n",
              "</div>"
            ],
            "text/plain": [
              "        symbol series  ... Interest_perc  After_tax_interest_perc\n",
              "0        IIHFL     N5  ...      9.716599                 9.425101\n",
              "3   ECLFINANCE     NK  ...     11.008662                10.678402\n",
              "6         IIFL     NF  ...      9.667674                 9.377644\n",
              "7        IIHFL     N4  ...     10.079629                 9.777240\n",
              "14        IIFL     N7  ...     10.047847                 9.746411\n",
              "20        IIFL     NE  ...     10.060362                 9.758551\n",
              "22  ECLFINANCE     NO  ...      9.969940                 9.670842\n",
              "24     EHFLNCD     N6  ...     10.638298                10.319149\n",
              "25  ECLFINANCE     NR  ...     10.134798                 9.830754\n",
              "32  ECLFINANCE     NS  ...     10.192308                 9.886538\n",
              "37  ECLFINANCE     NG  ...      9.429058                 9.146186\n",
              "43        IIFL     N4  ...      9.577603                 9.290275\n",
              "52        IIFL     N5  ...      9.616291                 9.327802\n",
              "64  ECLFINANCE     NJ  ...     10.064034                 9.762113\n",
              "71    ERFLNCDI     N5  ...      9.694323                 9.403493\n",
              "75  DHANILOANS     N6  ...     10.396040                10.084158\n",
              "76  DHANILOANS     NC  ...     10.364583                10.053646\n",
              "80  IBUCCREDIT     NB  ...      9.598263                 9.310315\n",
              "98  SREIBNPNCD     NX  ...     26.666667                25.866667\n",
              "\n",
              "[19 rows x 12 columns]"
            ]
          },
          "metadata": {
            "tags": []
          },
          "execution_count": 36
        }
      ]
    }
  ]
}